{
 "cells": [
  {
   "cell_type": "code",
   "execution_count": 1,
   "metadata": {
    "collapsed": true
   },
   "outputs": [],
   "source": [
    "import numpy as np\n",
    "import pandas as pd\n",
    "from pandas import Series, DataFrame"
   ]
  },
  {
   "cell_type": "markdown",
   "metadata": {},
   "source": [
    "## Series"
   ]
  },
  {
   "cell_type": "code",
   "execution_count": 2,
   "metadata": {
    "collapsed": false
   },
   "outputs": [
    {
     "data": {
      "text/plain": [
       "0     3\n",
       "1     6\n",
       "2     9\n",
       "3    12\n",
       "dtype: int64"
      ]
     },
     "execution_count": 2,
     "metadata": {},
     "output_type": "execute_result"
    }
   ],
   "source": [
    "obj = Series([3,6,9,12])\n",
    "obj"
   ]
  },
  {
   "cell_type": "code",
   "execution_count": 3,
   "metadata": {
    "collapsed": false
   },
   "outputs": [
    {
     "data": {
      "text/plain": [
       "(4,)"
      ]
     },
     "execution_count": 3,
     "metadata": {},
     "output_type": "execute_result"
    }
   ],
   "source": [
    "obj.shape"
   ]
  },
  {
   "cell_type": "code",
   "execution_count": 4,
   "metadata": {
    "collapsed": false
   },
   "outputs": [
    {
     "data": {
      "text/plain": [
       "RangeIndex(start=0, stop=4, step=1)"
      ]
     },
     "execution_count": 4,
     "metadata": {},
     "output_type": "execute_result"
    }
   ],
   "source": [
    "obj.index"
   ]
  },
  {
   "cell_type": "code",
   "execution_count": 5,
   "metadata": {
    "collapsed": false
   },
   "outputs": [
    {
     "data": {
      "text/plain": [
       "array([ 3,  6,  9, 12])"
      ]
     },
     "execution_count": 5,
     "metadata": {},
     "output_type": "execute_result"
    }
   ],
   "source": [
    "obj.values"
   ]
  },
  {
   "cell_type": "code",
   "execution_count": 6,
   "metadata": {
    "collapsed": true
   },
   "outputs": [],
   "source": [
    "ww2_cas = Series([8700000, 4300000, 3000000, 2100000, 400000], index = ['USSR', 'Ger', 'China', 'Japan', 'USA'])"
   ]
  },
  {
   "cell_type": "code",
   "execution_count": 7,
   "metadata": {
    "collapsed": false
   },
   "outputs": [
    {
     "data": {
      "text/plain": [
       "USSR     8700000\n",
       "Ger      4300000\n",
       "China    3000000\n",
       "Japan    2100000\n",
       "USA       400000\n",
       "dtype: int64"
      ]
     },
     "execution_count": 7,
     "metadata": {},
     "output_type": "execute_result"
    }
   ],
   "source": [
    "ww2_cas"
   ]
  },
  {
   "cell_type": "code",
   "execution_count": 8,
   "metadata": {
    "collapsed": false
   },
   "outputs": [
    {
     "data": {
      "text/plain": [
       "400000"
      ]
     },
     "execution_count": 8,
     "metadata": {},
     "output_type": "execute_result"
    }
   ],
   "source": [
    "ww2_cas['USA']"
   ]
  },
  {
   "cell_type": "code",
   "execution_count": 9,
   "metadata": {
    "collapsed": false
   },
   "outputs": [
    {
     "data": {
      "text/plain": [
       "USSR    8700000\n",
       "Ger     4300000\n",
       "dtype: int64"
      ]
     },
     "execution_count": 9,
     "metadata": {},
     "output_type": "execute_result"
    }
   ],
   "source": [
    "# causalties greater than 4 mill\n",
    "ww2_cas[ww2_cas > 4000000]"
   ]
  },
  {
   "cell_type": "code",
   "execution_count": 10,
   "metadata": {
    "collapsed": false
   },
   "outputs": [
    {
     "data": {
      "text/plain": [
       "True"
      ]
     },
     "execution_count": 10,
     "metadata": {},
     "output_type": "execute_result"
    }
   ],
   "source": [
    "'USSR' in ww2_cas"
   ]
  },
  {
   "cell_type": "code",
   "execution_count": 11,
   "metadata": {
    "collapsed": false
   },
   "outputs": [
    {
     "data": {
      "text/plain": [
       "False"
      ]
     },
     "execution_count": 11,
     "metadata": {},
     "output_type": "execute_result"
    }
   ],
   "source": [
    "'IND' in ww2_cas"
   ]
  },
  {
   "cell_type": "code",
   "execution_count": 12,
   "metadata": {
    "collapsed": false
   },
   "outputs": [
    {
     "data": {
      "text/plain": [
       "{'China': 3000000,\n",
       " 'Ger': 4300000,\n",
       " 'Japan': 2100000,\n",
       " 'USA': 400000,\n",
       " 'USSR': 8700000}"
      ]
     },
     "execution_count": 12,
     "metadata": {},
     "output_type": "execute_result"
    }
   ],
   "source": [
    "ww2_dict = ww2_cas.to_dict()\n",
    "\n",
    "ww2_dict"
   ]
  },
  {
   "cell_type": "code",
   "execution_count": 13,
   "metadata": {
    "collapsed": false
   },
   "outputs": [
    {
     "data": {
      "text/plain": [
       "China    3000000\n",
       "Ger      4300000\n",
       "Japan    2100000\n",
       "USA       400000\n",
       "USSR     8700000\n",
       "dtype: int64"
      ]
     },
     "execution_count": 13,
     "metadata": {},
     "output_type": "execute_result"
    }
   ],
   "source": [
    "Series(ww2_dict)"
   ]
  },
  {
   "cell_type": "code",
   "execution_count": 23,
   "metadata": {
    "collapsed": true
   },
   "outputs": [],
   "source": [
    "countries = ['China', 'india', 'USSR', 'pak', 'USA']"
   ]
  },
  {
   "cell_type": "code",
   "execution_count": 24,
   "metadata": {
    "collapsed": false
   },
   "outputs": [],
   "source": [
    "obj2 = Series(ww2_dict, dtype = 'int64', index = countries)"
   ]
  },
  {
   "cell_type": "code",
   "execution_count": 25,
   "metadata": {
    "collapsed": false
   },
   "outputs": [
    {
     "data": {
      "text/plain": [
       "China    3000000.0\n",
       "india          NaN\n",
       "USSR     8700000.0\n",
       "pak            NaN\n",
       "USA       400000.0\n",
       "dtype: float64"
      ]
     },
     "execution_count": 25,
     "metadata": {},
     "output_type": "execute_result"
    }
   ],
   "source": [
    "obj2"
   ]
  },
  {
   "cell_type": "code",
   "execution_count": 26,
   "metadata": {
    "collapsed": false
   },
   "outputs": [
    {
     "data": {
      "text/plain": [
       "China    False\n",
       "india     True\n",
       "USSR     False\n",
       "pak       True\n",
       "USA      False\n",
       "dtype: bool"
      ]
     },
     "execution_count": 26,
     "metadata": {},
     "output_type": "execute_result"
    }
   ],
   "source": [
    "pd.isnull(obj2)"
   ]
  },
  {
   "cell_type": "code",
   "execution_count": 27,
   "metadata": {
    "collapsed": false
   },
   "outputs": [
    {
     "data": {
      "text/plain": [
       "China     True\n",
       "india    False\n",
       "USSR      True\n",
       "pak      False\n",
       "USA       True\n",
       "dtype: bool"
      ]
     },
     "execution_count": 27,
     "metadata": {},
     "output_type": "execute_result"
    }
   ],
   "source": [
    "pd.notnull(obj2)"
   ]
  },
  {
   "cell_type": "code",
   "execution_count": 29,
   "metadata": {
    "collapsed": false
   },
   "outputs": [
    {
     "data": {
      "text/plain": [
       "USSR     8700000\n",
       "Ger      4300000\n",
       "China    3000000\n",
       "Japan    2100000\n",
       "USA       400000\n",
       "dtype: int64"
      ]
     },
     "execution_count": 29,
     "metadata": {},
     "output_type": "execute_result"
    }
   ],
   "source": [
    "ww2_cas"
   ]
  },
  {
   "cell_type": "code",
   "execution_count": 30,
   "metadata": {
    "collapsed": false
   },
   "outputs": [
    {
     "data": {
      "text/plain": [
       "China    3000000.0\n",
       "india          NaN\n",
       "USSR     8700000.0\n",
       "pak            NaN\n",
       "USA       400000.0\n",
       "dtype: float64"
      ]
     },
     "execution_count": 30,
     "metadata": {},
     "output_type": "execute_result"
    }
   ],
   "source": [
    "obj2"
   ]
  },
  {
   "cell_type": "code",
   "execution_count": 31,
   "metadata": {
    "collapsed": false
   },
   "outputs": [
    {
     "data": {
      "text/plain": [
       "China     6000000.0\n",
       "Ger             NaN\n",
       "Japan           NaN\n",
       "USA        800000.0\n",
       "USSR     17400000.0\n",
       "india           NaN\n",
       "pak             NaN\n",
       "dtype: float64"
      ]
     },
     "execution_count": 31,
     "metadata": {},
     "output_type": "execute_result"
    }
   ],
   "source": [
    "ww2_cas + obj2"
   ]
  },
  {
   "cell_type": "code",
   "execution_count": 32,
   "metadata": {
    "collapsed": true
   },
   "outputs": [],
   "source": [
    "obj2.name = 'World War 2 Causalties' "
   ]
  },
  {
   "cell_type": "code",
   "execution_count": 34,
   "metadata": {
    "collapsed": false
   },
   "outputs": [
    {
     "data": {
      "text/plain": [
       "China    3000000.0\n",
       "india          NaN\n",
       "USSR     8700000.0\n",
       "pak            NaN\n",
       "USA       400000.0\n",
       "Name: World War 2 Causalties, dtype: float64"
      ]
     },
     "execution_count": 34,
     "metadata": {},
     "output_type": "execute_result"
    }
   ],
   "source": [
    "obj2"
   ]
  },
  {
   "cell_type": "code",
   "execution_count": 35,
   "metadata": {
    "collapsed": true
   },
   "outputs": [],
   "source": [
    "obj2.index.name = 'Countries'"
   ]
  },
  {
   "cell_type": "code",
   "execution_count": 36,
   "metadata": {
    "collapsed": false
   },
   "outputs": [
    {
     "data": {
      "text/plain": [
       "Countries\n",
       "China    3000000.0\n",
       "india          NaN\n",
       "USSR     8700000.0\n",
       "pak            NaN\n",
       "USA       400000.0\n",
       "Name: World War 2 Causalties, dtype: float64"
      ]
     },
     "execution_count": 36,
     "metadata": {},
     "output_type": "execute_result"
    }
   ],
   "source": [
    "obj2"
   ]
  },
  {
   "cell_type": "markdown",
   "metadata": {},
   "source": [
    "### DataFrames"
   ]
  },
  {
   "cell_type": "code",
   "execution_count": 59,
   "metadata": {
    "collapsed": false
   },
   "outputs": [],
   "source": [
    "nfl_df = pd.read_csv('/resources/data/nfl.csv',sep='\\t', header=0)"
   ]
  },
  {
   "cell_type": "code",
   "execution_count": 60,
   "metadata": {
    "collapsed": false
   },
   "outputs": [
    {
     "data": {
      "text/html": [
       "<div>\n",
       "<table border=\"1\" class=\"dataframe\">\n",
       "  <thead>\n",
       "    <tr style=\"text-align: right;\">\n",
       "      <th></th>\n",
       "      <th>Rank</th>\n",
       "      <th>Team</th>\n",
       "      <th>Won</th>\n",
       "      <th>Lost</th>\n",
       "      <th>Tied</th>\n",
       "      <th>Pct.</th>\n",
       "      <th>First NFL Season</th>\n",
       "      <th>Total Games</th>\n",
       "      <th>Division</th>\n",
       "    </tr>\n",
       "  </thead>\n",
       "  <tbody>\n",
       "    <tr>\n",
       "      <th>0</th>\n",
       "      <td>1</td>\n",
       "      <td>Dallas Cowboys</td>\n",
       "      <td>493</td>\n",
       "      <td>367</td>\n",
       "      <td>6</td>\n",
       "      <td>0.573</td>\n",
       "      <td>1960</td>\n",
       "      <td>866</td>\n",
       "      <td>NFC East</td>\n",
       "    </tr>\n",
       "    <tr>\n",
       "      <th>1</th>\n",
       "      <td>2</td>\n",
       "      <td>Green Bay Packers</td>\n",
       "      <td>730</td>\n",
       "      <td>553</td>\n",
       "      <td>37</td>\n",
       "      <td>0.567</td>\n",
       "      <td>1921</td>\n",
       "      <td>1,320</td>\n",
       "      <td>NFC North</td>\n",
       "    </tr>\n",
       "    <tr>\n",
       "      <th>2</th>\n",
       "      <td>3</td>\n",
       "      <td>Chicago Bears</td>\n",
       "      <td>744</td>\n",
       "      <td>568</td>\n",
       "      <td>42</td>\n",
       "      <td>0.565</td>\n",
       "      <td>1920</td>\n",
       "      <td>1,354</td>\n",
       "      <td>NFC North</td>\n",
       "    </tr>\n",
       "    <tr>\n",
       "      <th>3</th>\n",
       "      <td>4</td>\n",
       "      <td>Miami Dolphins</td>\n",
       "      <td>439</td>\n",
       "      <td>341</td>\n",
       "      <td>4</td>\n",
       "      <td>0.563</td>\n",
       "      <td>1966</td>\n",
       "      <td>784</td>\n",
       "      <td>AFC East</td>\n",
       "    </tr>\n",
       "    <tr>\n",
       "      <th>4</th>\n",
       "      <td>5</td>\n",
       "      <td>New England Patriots</td>\n",
       "      <td>476</td>\n",
       "      <td>383</td>\n",
       "      <td>9</td>\n",
       "      <td>0.554</td>\n",
       "      <td>1960</td>\n",
       "      <td>868</td>\n",
       "      <td>AFC East</td>\n",
       "    </tr>\n",
       "  </tbody>\n",
       "</table>\n",
       "</div>"
      ],
      "text/plain": [
       "   Rank                  Team  Won  Lost  Tied   Pct.  First NFL Season  \\\n",
       "0     1        Dallas Cowboys  493   367     6  0.573              1960   \n",
       "1     2     Green Bay Packers  730   553    37  0.567              1921   \n",
       "2     3         Chicago Bears  744   568    42  0.565              1920   \n",
       "3     4        Miami Dolphins  439   341     4  0.563              1966   \n",
       "4     5  New England Patriots  476   383     9  0.554              1960   \n",
       "\n",
       "  Total Games   Division  \n",
       "0         866   NFC East  \n",
       "1       1,320  NFC North  \n",
       "2       1,354  NFC North  \n",
       "3         784   AFC East  \n",
       "4         868   AFC East  "
      ]
     },
     "execution_count": 60,
     "metadata": {},
     "output_type": "execute_result"
    }
   ],
   "source": [
    "nfl_df"
   ]
  },
  {
   "cell_type": "code",
   "execution_count": 61,
   "metadata": {
    "collapsed": false
   },
   "outputs": [
    {
     "data": {
      "text/plain": [
       "Index(['Rank', 'Team', 'Won', 'Lost', 'Tied', 'Pct.', 'First NFL Season',\n",
       "       'Total Games', 'Division'],\n",
       "      dtype='object')"
      ]
     },
     "execution_count": 61,
     "metadata": {},
     "output_type": "execute_result"
    }
   ],
   "source": [
    "nfl_df.columns"
   ]
  },
  {
   "cell_type": "code",
   "execution_count": 63,
   "metadata": {
    "collapsed": false
   },
   "outputs": [
    {
     "data": {
      "text/plain": [
       "0          Dallas Cowboys\n",
       "1       Green Bay Packers\n",
       "2           Chicago Bears\n",
       "3          Miami Dolphins\n",
       "4    New England Patriots\n",
       "Name: Team, dtype: object"
      ]
     },
     "execution_count": 63,
     "metadata": {},
     "output_type": "execute_result"
    }
   ],
   "source": [
    "nfl_df.Team"
   ]
  },
  {
   "cell_type": "code",
   "execution_count": 65,
   "metadata": {
    "collapsed": false
   },
   "outputs": [
    {
     "data": {
      "text/plain": [
       "0    1960\n",
       "1    1921\n",
       "2    1920\n",
       "3    1966\n",
       "4    1960\n",
       "Name: First NFL Season, dtype: int64"
      ]
     },
     "execution_count": 65,
     "metadata": {},
     "output_type": "execute_result"
    }
   ],
   "source": [
    "nfl_df['First NFL Season']"
   ]
  },
  {
   "cell_type": "code",
   "execution_count": 66,
   "metadata": {
    "collapsed": false
   },
   "outputs": [
    {
     "data": {
      "text/html": [
       "<div>\n",
       "<table border=\"1\" class=\"dataframe\">\n",
       "  <thead>\n",
       "    <tr style=\"text-align: right;\">\n",
       "      <th></th>\n",
       "      <th>Team</th>\n",
       "      <th>First NFL Season</th>\n",
       "      <th>Total Games</th>\n",
       "    </tr>\n",
       "  </thead>\n",
       "  <tbody>\n",
       "    <tr>\n",
       "      <th>0</th>\n",
       "      <td>Dallas Cowboys</td>\n",
       "      <td>1960</td>\n",
       "      <td>866</td>\n",
       "    </tr>\n",
       "    <tr>\n",
       "      <th>1</th>\n",
       "      <td>Green Bay Packers</td>\n",
       "      <td>1921</td>\n",
       "      <td>1,320</td>\n",
       "    </tr>\n",
       "    <tr>\n",
       "      <th>2</th>\n",
       "      <td>Chicago Bears</td>\n",
       "      <td>1920</td>\n",
       "      <td>1,354</td>\n",
       "    </tr>\n",
       "    <tr>\n",
       "      <th>3</th>\n",
       "      <td>Miami Dolphins</td>\n",
       "      <td>1966</td>\n",
       "      <td>784</td>\n",
       "    </tr>\n",
       "    <tr>\n",
       "      <th>4</th>\n",
       "      <td>New England Patriots</td>\n",
       "      <td>1960</td>\n",
       "      <td>868</td>\n",
       "    </tr>\n",
       "  </tbody>\n",
       "</table>\n",
       "</div>"
      ],
      "text/plain": [
       "                   Team  First NFL Season Total Games\n",
       "0        Dallas Cowboys              1960         866\n",
       "1     Green Bay Packers              1921       1,320\n",
       "2         Chicago Bears              1920       1,354\n",
       "3        Miami Dolphins              1966         784\n",
       "4  New England Patriots              1960         868"
      ]
     },
     "execution_count": 66,
     "metadata": {},
     "output_type": "execute_result"
    }
   ],
   "source": [
    "DataFrame(nfl_df,columns = ['Team', 'First NFL Season', 'Total Games'])"
   ]
  },
  {
   "cell_type": "code",
   "execution_count": 67,
   "metadata": {
    "collapsed": false
   },
   "outputs": [
    {
     "data": {
      "text/html": [
       "<div>\n",
       "<table border=\"1\" class=\"dataframe\">\n",
       "  <thead>\n",
       "    <tr style=\"text-align: right;\">\n",
       "      <th></th>\n",
       "      <th>Team</th>\n",
       "      <th>First NFL Season</th>\n",
       "      <th>Total Games</th>\n",
       "      <th>ColumnNotInDF</th>\n",
       "    </tr>\n",
       "  </thead>\n",
       "  <tbody>\n",
       "    <tr>\n",
       "      <th>0</th>\n",
       "      <td>Dallas Cowboys</td>\n",
       "      <td>1960</td>\n",
       "      <td>866</td>\n",
       "      <td>NaN</td>\n",
       "    </tr>\n",
       "    <tr>\n",
       "      <th>1</th>\n",
       "      <td>Green Bay Packers</td>\n",
       "      <td>1921</td>\n",
       "      <td>1,320</td>\n",
       "      <td>NaN</td>\n",
       "    </tr>\n",
       "    <tr>\n",
       "      <th>2</th>\n",
       "      <td>Chicago Bears</td>\n",
       "      <td>1920</td>\n",
       "      <td>1,354</td>\n",
       "      <td>NaN</td>\n",
       "    </tr>\n",
       "    <tr>\n",
       "      <th>3</th>\n",
       "      <td>Miami Dolphins</td>\n",
       "      <td>1966</td>\n",
       "      <td>784</td>\n",
       "      <td>NaN</td>\n",
       "    </tr>\n",
       "    <tr>\n",
       "      <th>4</th>\n",
       "      <td>New England Patriots</td>\n",
       "      <td>1960</td>\n",
       "      <td>868</td>\n",
       "      <td>NaN</td>\n",
       "    </tr>\n",
       "  </tbody>\n",
       "</table>\n",
       "</div>"
      ],
      "text/plain": [
       "                   Team  First NFL Season Total Games  ColumnNotInDF\n",
       "0        Dallas Cowboys              1960         866            NaN\n",
       "1     Green Bay Packers              1921       1,320            NaN\n",
       "2         Chicago Bears              1920       1,354            NaN\n",
       "3        Miami Dolphins              1966         784            NaN\n",
       "4  New England Patriots              1960         868            NaN"
      ]
     },
     "execution_count": 67,
     "metadata": {},
     "output_type": "execute_result"
    }
   ],
   "source": [
    "DataFrame(nfl_df,columns = ['Team', 'First NFL Season', 'Total Games', 'ColumnNotInDF'])"
   ]
  },
  {
   "cell_type": "code",
   "execution_count": 70,
   "metadata": {
    "collapsed": false
   },
   "outputs": [
    {
     "data": {
      "text/html": [
       "<div>\n",
       "<table border=\"1\" class=\"dataframe\">\n",
       "  <thead>\n",
       "    <tr style=\"text-align: right;\">\n",
       "      <th></th>\n",
       "      <th>Rank</th>\n",
       "      <th>Team</th>\n",
       "      <th>Won</th>\n",
       "      <th>Lost</th>\n",
       "      <th>Tied</th>\n",
       "      <th>Pct.</th>\n",
       "      <th>First NFL Season</th>\n",
       "      <th>Total Games</th>\n",
       "      <th>Division</th>\n",
       "    </tr>\n",
       "  </thead>\n",
       "  <tbody>\n",
       "    <tr>\n",
       "      <th>0</th>\n",
       "      <td>1</td>\n",
       "      <td>Dallas Cowboys</td>\n",
       "      <td>493</td>\n",
       "      <td>367</td>\n",
       "      <td>6</td>\n",
       "      <td>0.573</td>\n",
       "      <td>1960</td>\n",
       "      <td>866</td>\n",
       "      <td>NFC East</td>\n",
       "    </tr>\n",
       "    <tr>\n",
       "      <th>1</th>\n",
       "      <td>2</td>\n",
       "      <td>Green Bay Packers</td>\n",
       "      <td>730</td>\n",
       "      <td>553</td>\n",
       "      <td>37</td>\n",
       "      <td>0.567</td>\n",
       "      <td>1921</td>\n",
       "      <td>1,320</td>\n",
       "      <td>NFC North</td>\n",
       "    </tr>\n",
       "  </tbody>\n",
       "</table>\n",
       "</div>"
      ],
      "text/plain": [
       "   Rank               Team  Won  Lost  Tied   Pct.  First NFL Season  \\\n",
       "0     1     Dallas Cowboys  493   367     6  0.573              1960   \n",
       "1     2  Green Bay Packers  730   553    37  0.567              1921   \n",
       "\n",
       "  Total Games   Division  \n",
       "0         866   NFC East  \n",
       "1       1,320  NFC North  "
      ]
     },
     "execution_count": 70,
     "metadata": {},
     "output_type": "execute_result"
    }
   ],
   "source": [
    "nfl_df.head(2)"
   ]
  },
  {
   "cell_type": "code",
   "execution_count": 72,
   "metadata": {
    "collapsed": false
   },
   "outputs": [
    {
     "data": {
      "text/html": [
       "<div>\n",
       "<table border=\"1\" class=\"dataframe\">\n",
       "  <thead>\n",
       "    <tr style=\"text-align: right;\">\n",
       "      <th></th>\n",
       "      <th>Rank</th>\n",
       "      <th>Team</th>\n",
       "      <th>Won</th>\n",
       "      <th>Lost</th>\n",
       "      <th>Tied</th>\n",
       "      <th>Pct.</th>\n",
       "      <th>First NFL Season</th>\n",
       "      <th>Total Games</th>\n",
       "      <th>Division</th>\n",
       "    </tr>\n",
       "  </thead>\n",
       "  <tbody>\n",
       "    <tr>\n",
       "      <th>3</th>\n",
       "      <td>4</td>\n",
       "      <td>Miami Dolphins</td>\n",
       "      <td>439</td>\n",
       "      <td>341</td>\n",
       "      <td>4</td>\n",
       "      <td>0.563</td>\n",
       "      <td>1966</td>\n",
       "      <td>784</td>\n",
       "      <td>AFC East</td>\n",
       "    </tr>\n",
       "    <tr>\n",
       "      <th>4</th>\n",
       "      <td>5</td>\n",
       "      <td>New England Patriots</td>\n",
       "      <td>476</td>\n",
       "      <td>383</td>\n",
       "      <td>9</td>\n",
       "      <td>0.554</td>\n",
       "      <td>1960</td>\n",
       "      <td>868</td>\n",
       "      <td>AFC East</td>\n",
       "    </tr>\n",
       "  </tbody>\n",
       "</table>\n",
       "</div>"
      ],
      "text/plain": [
       "   Rank                  Team  Won  Lost  Tied   Pct.  First NFL Season  \\\n",
       "3     4        Miami Dolphins  439   341     4  0.563              1966   \n",
       "4     5  New England Patriots  476   383     9  0.554              1960   \n",
       "\n",
       "  Total Games  Division  \n",
       "3         784  AFC East  \n",
       "4         868  AFC East  "
      ]
     },
     "execution_count": 72,
     "metadata": {},
     "output_type": "execute_result"
    }
   ],
   "source": [
    "nfl_df.tail(2)\n",
    "# default is 5"
   ]
  },
  {
   "cell_type": "code",
   "execution_count": 74,
   "metadata": {
    "collapsed": false
   },
   "outputs": [
    {
     "data": {
      "text/plain": [
       "Rank                             1\n",
       "Team                Dallas Cowboys\n",
       "Won                            493\n",
       "Lost                           367\n",
       "Tied                             6\n",
       "Pct.                         0.573\n",
       "First NFL Season              1960\n",
       "Total Games                    866\n",
       "Division                  NFC East\n",
       "Name: 0, dtype: object"
      ]
     },
     "execution_count": 74,
     "metadata": {},
     "output_type": "execute_result"
    }
   ],
   "source": [
    "# Grab 1st row\n",
    "nfl_df.ix[0]"
   ]
  },
  {
   "cell_type": "code",
   "execution_count": 77,
   "metadata": {
    "collapsed": false
   },
   "outputs": [
    {
     "data": {
      "text/html": [
       "<div>\n",
       "<table border=\"1\" class=\"dataframe\">\n",
       "  <thead>\n",
       "    <tr style=\"text-align: right;\">\n",
       "      <th></th>\n",
       "      <th>Rank</th>\n",
       "      <th>Team</th>\n",
       "      <th>Won</th>\n",
       "      <th>Lost</th>\n",
       "      <th>Tied</th>\n",
       "      <th>Pct.</th>\n",
       "      <th>First NFL Season</th>\n",
       "      <th>Total Games</th>\n",
       "      <th>Division</th>\n",
       "    </tr>\n",
       "  </thead>\n",
       "  <tbody>\n",
       "    <tr>\n",
       "      <th>0</th>\n",
       "      <td>1</td>\n",
       "      <td>Dallas Cowboys</td>\n",
       "      <td>493</td>\n",
       "      <td>367</td>\n",
       "      <td>6</td>\n",
       "      <td>0.573</td>\n",
       "      <td>1960</td>\n",
       "      <td>866</td>\n",
       "      <td>NFC East</td>\n",
       "    </tr>\n",
       "    <tr>\n",
       "      <th>1</th>\n",
       "      <td>2</td>\n",
       "      <td>Green Bay Packers</td>\n",
       "      <td>730</td>\n",
       "      <td>553</td>\n",
       "      <td>37</td>\n",
       "      <td>0.567</td>\n",
       "      <td>1921</td>\n",
       "      <td>1,320</td>\n",
       "      <td>NFC North</td>\n",
       "    </tr>\n",
       "    <tr>\n",
       "      <th>2</th>\n",
       "      <td>3</td>\n",
       "      <td>Chicago Bears</td>\n",
       "      <td>744</td>\n",
       "      <td>568</td>\n",
       "      <td>42</td>\n",
       "      <td>0.565</td>\n",
       "      <td>1920</td>\n",
       "      <td>1,354</td>\n",
       "      <td>NFC North</td>\n",
       "    </tr>\n",
       "  </tbody>\n",
       "</table>\n",
       "</div>"
      ],
      "text/plain": [
       "   Rank               Team  Won  Lost  Tied   Pct.  First NFL Season  \\\n",
       "0     1     Dallas Cowboys  493   367     6  0.573              1960   \n",
       "1     2  Green Bay Packers  730   553    37  0.567              1921   \n",
       "2     3      Chicago Bears  744   568    42  0.565              1920   \n",
       "\n",
       "  Total Games   Division  \n",
       "0         866   NFC East  \n",
       "1       1,320  NFC North  \n",
       "2       1,354  NFC North  "
      ]
     },
     "execution_count": 77,
     "metadata": {},
     "output_type": "execute_result"
    }
   ],
   "source": [
    "nfl_df.ix[0:2]"
   ]
  },
  {
   "cell_type": "code",
   "execution_count": 81,
   "metadata": {
    "collapsed": false
   },
   "outputs": [],
   "source": [
    "nfl_df['Stadium'] = 'Gachibowli'"
   ]
  },
  {
   "cell_type": "code",
   "execution_count": 82,
   "metadata": {
    "collapsed": false
   },
   "outputs": [
    {
     "data": {
      "text/html": [
       "<div>\n",
       "<table border=\"1\" class=\"dataframe\">\n",
       "  <thead>\n",
       "    <tr style=\"text-align: right;\">\n",
       "      <th></th>\n",
       "      <th>Rank</th>\n",
       "      <th>Team</th>\n",
       "      <th>Won</th>\n",
       "      <th>Lost</th>\n",
       "      <th>Tied</th>\n",
       "      <th>Pct.</th>\n",
       "      <th>First NFL Season</th>\n",
       "      <th>Total Games</th>\n",
       "      <th>Division</th>\n",
       "      <th>Stadium</th>\n",
       "    </tr>\n",
       "  </thead>\n",
       "  <tbody>\n",
       "    <tr>\n",
       "      <th>0</th>\n",
       "      <td>1</td>\n",
       "      <td>Dallas Cowboys</td>\n",
       "      <td>493</td>\n",
       "      <td>367</td>\n",
       "      <td>6</td>\n",
       "      <td>0.573</td>\n",
       "      <td>1960</td>\n",
       "      <td>866</td>\n",
       "      <td>NFC East</td>\n",
       "      <td>Gachibowli</td>\n",
       "    </tr>\n",
       "    <tr>\n",
       "      <th>1</th>\n",
       "      <td>2</td>\n",
       "      <td>Green Bay Packers</td>\n",
       "      <td>730</td>\n",
       "      <td>553</td>\n",
       "      <td>37</td>\n",
       "      <td>0.567</td>\n",
       "      <td>1921</td>\n",
       "      <td>1,320</td>\n",
       "      <td>NFC North</td>\n",
       "      <td>Gachibowli</td>\n",
       "    </tr>\n",
       "    <tr>\n",
       "      <th>2</th>\n",
       "      <td>3</td>\n",
       "      <td>Chicago Bears</td>\n",
       "      <td>744</td>\n",
       "      <td>568</td>\n",
       "      <td>42</td>\n",
       "      <td>0.565</td>\n",
       "      <td>1920</td>\n",
       "      <td>1,354</td>\n",
       "      <td>NFC North</td>\n",
       "      <td>Gachibowli</td>\n",
       "    </tr>\n",
       "    <tr>\n",
       "      <th>3</th>\n",
       "      <td>4</td>\n",
       "      <td>Miami Dolphins</td>\n",
       "      <td>439</td>\n",
       "      <td>341</td>\n",
       "      <td>4</td>\n",
       "      <td>0.563</td>\n",
       "      <td>1966</td>\n",
       "      <td>784</td>\n",
       "      <td>AFC East</td>\n",
       "      <td>Gachibowli</td>\n",
       "    </tr>\n",
       "    <tr>\n",
       "      <th>4</th>\n",
       "      <td>5</td>\n",
       "      <td>New England Patriots</td>\n",
       "      <td>476</td>\n",
       "      <td>383</td>\n",
       "      <td>9</td>\n",
       "      <td>0.554</td>\n",
       "      <td>1960</td>\n",
       "      <td>868</td>\n",
       "      <td>AFC East</td>\n",
       "      <td>Gachibowli</td>\n",
       "    </tr>\n",
       "  </tbody>\n",
       "</table>\n",
       "</div>"
      ],
      "text/plain": [
       "   Rank                  Team  Won  Lost  Tied   Pct.  First NFL Season  \\\n",
       "0     1        Dallas Cowboys  493   367     6  0.573              1960   \n",
       "1     2     Green Bay Packers  730   553    37  0.567              1921   \n",
       "2     3         Chicago Bears  744   568    42  0.565              1920   \n",
       "3     4        Miami Dolphins  439   341     4  0.563              1966   \n",
       "4     5  New England Patriots  476   383     9  0.554              1960   \n",
       "\n",
       "  Total Games   Division     Stadium  \n",
       "0         866   NFC East  Gachibowli  \n",
       "1       1,320  NFC North  Gachibowli  \n",
       "2       1,354  NFC North  Gachibowli  \n",
       "3         784   AFC East  Gachibowli  \n",
       "4         868   AFC East  Gachibowli  "
      ]
     },
     "execution_count": 82,
     "metadata": {},
     "output_type": "execute_result"
    }
   ],
   "source": [
    "nfl_df"
   ]
  },
  {
   "cell_type": "code",
   "execution_count": 83,
   "metadata": {
    "collapsed": true
   },
   "outputs": [],
   "source": [
    "nfl_df['Stadium'] = np.arange(1,6)"
   ]
  },
  {
   "cell_type": "code",
   "execution_count": 84,
   "metadata": {
    "collapsed": false
   },
   "outputs": [
    {
     "data": {
      "text/html": [
       "<div>\n",
       "<table border=\"1\" class=\"dataframe\">\n",
       "  <thead>\n",
       "    <tr style=\"text-align: right;\">\n",
       "      <th></th>\n",
       "      <th>Rank</th>\n",
       "      <th>Team</th>\n",
       "      <th>Won</th>\n",
       "      <th>Lost</th>\n",
       "      <th>Tied</th>\n",
       "      <th>Pct.</th>\n",
       "      <th>First NFL Season</th>\n",
       "      <th>Total Games</th>\n",
       "      <th>Division</th>\n",
       "      <th>Stadium</th>\n",
       "    </tr>\n",
       "  </thead>\n",
       "  <tbody>\n",
       "    <tr>\n",
       "      <th>0</th>\n",
       "      <td>1</td>\n",
       "      <td>Dallas Cowboys</td>\n",
       "      <td>493</td>\n",
       "      <td>367</td>\n",
       "      <td>6</td>\n",
       "      <td>0.573</td>\n",
       "      <td>1960</td>\n",
       "      <td>866</td>\n",
       "      <td>NFC East</td>\n",
       "      <td>1</td>\n",
       "    </tr>\n",
       "    <tr>\n",
       "      <th>1</th>\n",
       "      <td>2</td>\n",
       "      <td>Green Bay Packers</td>\n",
       "      <td>730</td>\n",
       "      <td>553</td>\n",
       "      <td>37</td>\n",
       "      <td>0.567</td>\n",
       "      <td>1921</td>\n",
       "      <td>1,320</td>\n",
       "      <td>NFC North</td>\n",
       "      <td>2</td>\n",
       "    </tr>\n",
       "    <tr>\n",
       "      <th>2</th>\n",
       "      <td>3</td>\n",
       "      <td>Chicago Bears</td>\n",
       "      <td>744</td>\n",
       "      <td>568</td>\n",
       "      <td>42</td>\n",
       "      <td>0.565</td>\n",
       "      <td>1920</td>\n",
       "      <td>1,354</td>\n",
       "      <td>NFC North</td>\n",
       "      <td>3</td>\n",
       "    </tr>\n",
       "    <tr>\n",
       "      <th>3</th>\n",
       "      <td>4</td>\n",
       "      <td>Miami Dolphins</td>\n",
       "      <td>439</td>\n",
       "      <td>341</td>\n",
       "      <td>4</td>\n",
       "      <td>0.563</td>\n",
       "      <td>1966</td>\n",
       "      <td>784</td>\n",
       "      <td>AFC East</td>\n",
       "      <td>4</td>\n",
       "    </tr>\n",
       "    <tr>\n",
       "      <th>4</th>\n",
       "      <td>5</td>\n",
       "      <td>New England Patriots</td>\n",
       "      <td>476</td>\n",
       "      <td>383</td>\n",
       "      <td>9</td>\n",
       "      <td>0.554</td>\n",
       "      <td>1960</td>\n",
       "      <td>868</td>\n",
       "      <td>AFC East</td>\n",
       "      <td>5</td>\n",
       "    </tr>\n",
       "  </tbody>\n",
       "</table>\n",
       "</div>"
      ],
      "text/plain": [
       "   Rank                  Team  Won  Lost  Tied   Pct.  First NFL Season  \\\n",
       "0     1        Dallas Cowboys  493   367     6  0.573              1960   \n",
       "1     2     Green Bay Packers  730   553    37  0.567              1921   \n",
       "2     3         Chicago Bears  744   568    42  0.565              1920   \n",
       "3     4        Miami Dolphins  439   341     4  0.563              1966   \n",
       "4     5  New England Patriots  476   383     9  0.554              1960   \n",
       "\n",
       "  Total Games   Division  Stadium  \n",
       "0         866   NFC East        1  \n",
       "1       1,320  NFC North        2  \n",
       "2       1,354  NFC North        3  \n",
       "3         784   AFC East        4  \n",
       "4         868   AFC East        5  "
      ]
     },
     "execution_count": 84,
     "metadata": {},
     "output_type": "execute_result"
    }
   ],
   "source": [
    "nfl_df"
   ]
  },
  {
   "cell_type": "code",
   "execution_count": 92,
   "metadata": {
    "collapsed": false
   },
   "outputs": [],
   "source": [
    "stadiums = Series([\"Sta1\", \"Sta2\", \"Sta3\", \"Sta4\", \"Sta5\"],index=[0,1,2,3,4])"
   ]
  },
  {
   "cell_type": "code",
   "execution_count": 93,
   "metadata": {
    "collapsed": false
   },
   "outputs": [
    {
     "data": {
      "text/plain": [
       "0    Sta1\n",
       "1    Sta2\n",
       "2    Sta3\n",
       "3    Sta4\n",
       "4    Sta5\n",
       "dtype: object"
      ]
     },
     "execution_count": 93,
     "metadata": {},
     "output_type": "execute_result"
    }
   ],
   "source": [
    "stadiums"
   ]
  },
  {
   "cell_type": "code",
   "execution_count": 94,
   "metadata": {
    "collapsed": true
   },
   "outputs": [],
   "source": [
    "nfl_df['Stadium'] = stadiums"
   ]
  },
  {
   "cell_type": "code",
   "execution_count": 95,
   "metadata": {
    "collapsed": false
   },
   "outputs": [
    {
     "data": {
      "text/html": [
       "<div>\n",
       "<table border=\"1\" class=\"dataframe\">\n",
       "  <thead>\n",
       "    <tr style=\"text-align: right;\">\n",
       "      <th></th>\n",
       "      <th>Rank</th>\n",
       "      <th>Team</th>\n",
       "      <th>Won</th>\n",
       "      <th>Lost</th>\n",
       "      <th>Tied</th>\n",
       "      <th>Pct.</th>\n",
       "      <th>First NFL Season</th>\n",
       "      <th>Total Games</th>\n",
       "      <th>Division</th>\n",
       "      <th>Stadium</th>\n",
       "    </tr>\n",
       "  </thead>\n",
       "  <tbody>\n",
       "    <tr>\n",
       "      <th>0</th>\n",
       "      <td>1</td>\n",
       "      <td>Dallas Cowboys</td>\n",
       "      <td>493</td>\n",
       "      <td>367</td>\n",
       "      <td>6</td>\n",
       "      <td>0.573</td>\n",
       "      <td>1960</td>\n",
       "      <td>866</td>\n",
       "      <td>NFC East</td>\n",
       "      <td>Sta1</td>\n",
       "    </tr>\n",
       "    <tr>\n",
       "      <th>1</th>\n",
       "      <td>2</td>\n",
       "      <td>Green Bay Packers</td>\n",
       "      <td>730</td>\n",
       "      <td>553</td>\n",
       "      <td>37</td>\n",
       "      <td>0.567</td>\n",
       "      <td>1921</td>\n",
       "      <td>1,320</td>\n",
       "      <td>NFC North</td>\n",
       "      <td>Sta2</td>\n",
       "    </tr>\n",
       "    <tr>\n",
       "      <th>2</th>\n",
       "      <td>3</td>\n",
       "      <td>Chicago Bears</td>\n",
       "      <td>744</td>\n",
       "      <td>568</td>\n",
       "      <td>42</td>\n",
       "      <td>0.565</td>\n",
       "      <td>1920</td>\n",
       "      <td>1,354</td>\n",
       "      <td>NFC North</td>\n",
       "      <td>Sta3</td>\n",
       "    </tr>\n",
       "    <tr>\n",
       "      <th>3</th>\n",
       "      <td>4</td>\n",
       "      <td>Miami Dolphins</td>\n",
       "      <td>439</td>\n",
       "      <td>341</td>\n",
       "      <td>4</td>\n",
       "      <td>0.563</td>\n",
       "      <td>1966</td>\n",
       "      <td>784</td>\n",
       "      <td>AFC East</td>\n",
       "      <td>Sta4</td>\n",
       "    </tr>\n",
       "    <tr>\n",
       "      <th>4</th>\n",
       "      <td>5</td>\n",
       "      <td>New England Patriots</td>\n",
       "      <td>476</td>\n",
       "      <td>383</td>\n",
       "      <td>9</td>\n",
       "      <td>0.554</td>\n",
       "      <td>1960</td>\n",
       "      <td>868</td>\n",
       "      <td>AFC East</td>\n",
       "      <td>Sta5</td>\n",
       "    </tr>\n",
       "  </tbody>\n",
       "</table>\n",
       "</div>"
      ],
      "text/plain": [
       "   Rank                  Team  Won  Lost  Tied   Pct.  First NFL Season  \\\n",
       "0     1        Dallas Cowboys  493   367     6  0.573              1960   \n",
       "1     2     Green Bay Packers  730   553    37  0.567              1921   \n",
       "2     3         Chicago Bears  744   568    42  0.565              1920   \n",
       "3     4        Miami Dolphins  439   341     4  0.563              1966   \n",
       "4     5  New England Patriots  476   383     9  0.554              1960   \n",
       "\n",
       "  Total Games   Division Stadium  \n",
       "0         866   NFC East    Sta1  \n",
       "1       1,320  NFC North    Sta2  \n",
       "2       1,354  NFC North    Sta3  \n",
       "3         784   AFC East    Sta4  \n",
       "4         868   AFC East    Sta5  "
      ]
     },
     "execution_count": 95,
     "metadata": {},
     "output_type": "execute_result"
    }
   ],
   "source": [
    "nfl_df"
   ]
  },
  {
   "cell_type": "code",
   "execution_count": 96,
   "metadata": {
    "collapsed": true
   },
   "outputs": [],
   "source": [
    "del nfl_df['Stadium']"
   ]
  },
  {
   "cell_type": "code",
   "execution_count": 97,
   "metadata": {
    "collapsed": false
   },
   "outputs": [
    {
     "data": {
      "text/html": [
       "<div>\n",
       "<table border=\"1\" class=\"dataframe\">\n",
       "  <thead>\n",
       "    <tr style=\"text-align: right;\">\n",
       "      <th></th>\n",
       "      <th>Rank</th>\n",
       "      <th>Team</th>\n",
       "      <th>Won</th>\n",
       "      <th>Lost</th>\n",
       "      <th>Tied</th>\n",
       "      <th>Pct.</th>\n",
       "      <th>First NFL Season</th>\n",
       "      <th>Total Games</th>\n",
       "      <th>Division</th>\n",
       "    </tr>\n",
       "  </thead>\n",
       "  <tbody>\n",
       "    <tr>\n",
       "      <th>0</th>\n",
       "      <td>1</td>\n",
       "      <td>Dallas Cowboys</td>\n",
       "      <td>493</td>\n",
       "      <td>367</td>\n",
       "      <td>6</td>\n",
       "      <td>0.573</td>\n",
       "      <td>1960</td>\n",
       "      <td>866</td>\n",
       "      <td>NFC East</td>\n",
       "    </tr>\n",
       "    <tr>\n",
       "      <th>1</th>\n",
       "      <td>2</td>\n",
       "      <td>Green Bay Packers</td>\n",
       "      <td>730</td>\n",
       "      <td>553</td>\n",
       "      <td>37</td>\n",
       "      <td>0.567</td>\n",
       "      <td>1921</td>\n",
       "      <td>1,320</td>\n",
       "      <td>NFC North</td>\n",
       "    </tr>\n",
       "    <tr>\n",
       "      <th>2</th>\n",
       "      <td>3</td>\n",
       "      <td>Chicago Bears</td>\n",
       "      <td>744</td>\n",
       "      <td>568</td>\n",
       "      <td>42</td>\n",
       "      <td>0.565</td>\n",
       "      <td>1920</td>\n",
       "      <td>1,354</td>\n",
       "      <td>NFC North</td>\n",
       "    </tr>\n",
       "    <tr>\n",
       "      <th>3</th>\n",
       "      <td>4</td>\n",
       "      <td>Miami Dolphins</td>\n",
       "      <td>439</td>\n",
       "      <td>341</td>\n",
       "      <td>4</td>\n",
       "      <td>0.563</td>\n",
       "      <td>1966</td>\n",
       "      <td>784</td>\n",
       "      <td>AFC East</td>\n",
       "    </tr>\n",
       "    <tr>\n",
       "      <th>4</th>\n",
       "      <td>5</td>\n",
       "      <td>New England Patriots</td>\n",
       "      <td>476</td>\n",
       "      <td>383</td>\n",
       "      <td>9</td>\n",
       "      <td>0.554</td>\n",
       "      <td>1960</td>\n",
       "      <td>868</td>\n",
       "      <td>AFC East</td>\n",
       "    </tr>\n",
       "  </tbody>\n",
       "</table>\n",
       "</div>"
      ],
      "text/plain": [
       "   Rank                  Team  Won  Lost  Tied   Pct.  First NFL Season  \\\n",
       "0     1        Dallas Cowboys  493   367     6  0.573              1960   \n",
       "1     2     Green Bay Packers  730   553    37  0.567              1921   \n",
       "2     3         Chicago Bears  744   568    42  0.565              1920   \n",
       "3     4        Miami Dolphins  439   341     4  0.563              1966   \n",
       "4     5  New England Patriots  476   383     9  0.554              1960   \n",
       "\n",
       "  Total Games   Division  \n",
       "0         866   NFC East  \n",
       "1       1,320  NFC North  \n",
       "2       1,354  NFC North  \n",
       "3         784   AFC East  \n",
       "4         868   AFC East  "
      ]
     },
     "execution_count": 97,
     "metadata": {},
     "output_type": "execute_result"
    }
   ],
   "source": [
    "nfl_df"
   ]
  },
  {
   "cell_type": "code",
   "execution_count": 98,
   "metadata": {
    "collapsed": true
   },
   "outputs": [],
   "source": [
    "\n",
    "data = {'City':['SF', 'LA', 'NYC'], 'Pop':[837000, 3880000, 8400000]}"
   ]
  },
  {
   "cell_type": "code",
   "execution_count": 99,
   "metadata": {
    "collapsed": true
   },
   "outputs": [],
   "source": [
    "city_df = DataFrame(data)"
   ]
  },
  {
   "cell_type": "code",
   "execution_count": 100,
   "metadata": {
    "collapsed": false
   },
   "outputs": [
    {
     "data": {
      "text/html": [
       "<div>\n",
       "<table border=\"1\" class=\"dataframe\">\n",
       "  <thead>\n",
       "    <tr style=\"text-align: right;\">\n",
       "      <th></th>\n",
       "      <th>City</th>\n",
       "      <th>Pop</th>\n",
       "    </tr>\n",
       "  </thead>\n",
       "  <tbody>\n",
       "    <tr>\n",
       "      <th>0</th>\n",
       "      <td>SF</td>\n",
       "      <td>837000</td>\n",
       "    </tr>\n",
       "    <tr>\n",
       "      <th>1</th>\n",
       "      <td>LA</td>\n",
       "      <td>3880000</td>\n",
       "    </tr>\n",
       "    <tr>\n",
       "      <th>2</th>\n",
       "      <td>NYC</td>\n",
       "      <td>8400000</td>\n",
       "    </tr>\n",
       "  </tbody>\n",
       "</table>\n",
       "</div>"
      ],
      "text/plain": [
       "  City      Pop\n",
       "0   SF   837000\n",
       "1   LA  3880000\n",
       "2  NYC  8400000"
      ]
     },
     "execution_count": 100,
     "metadata": {},
     "output_type": "execute_result"
    }
   ],
   "source": [
    "city_df"
   ]
  },
  {
   "cell_type": "markdown",
   "metadata": {},
   "source": [
    "# Index Objects"
   ]
  },
  {
   "cell_type": "code",
   "execution_count": null,
   "metadata": {
    "collapsed": true
   },
   "outputs": [],
   "source": []
  }
 ],
 "metadata": {
  "kernelspec": {
   "display_name": "Python 3",
   "language": "python",
   "name": "python3"
  },
  "language_info": {
   "codemirror_mode": {
    "name": "ipython",
    "version": 3
   },
   "file_extension": ".py",
   "mimetype": "text/x-python",
   "name": "python",
   "nbconvert_exporter": "python",
   "pygments_lexer": "ipython3",
   "version": "3.4.3"
  },
  "widgets": {
   "state": {},
   "version": "1.1.2"
  }
 },
 "nbformat": 4,
 "nbformat_minor": 0
}
