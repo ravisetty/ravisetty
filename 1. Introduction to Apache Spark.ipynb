{
 "cells": [
  {
   "cell_type": "markdown",
   "metadata": {
    "collapsed": false
   },
   "source": [
    "# A first example"
   ]
  },
  {
   "cell_type": "code",
   "execution_count": 6,
   "metadata": {
    "collapsed": false
   },
   "outputs": [
    {
     "data": {
      "text/plain": [
       "[0, 1, 2, 3, 4, 5, 6, 7, 8, 9]"
      ]
     },
     "execution_count": 6,
     "metadata": {},
     "output_type": "execute_result"
    }
   ],
   "source": [
    "# Distribute the data set to the workers\n",
    "xs = sc.parallelize(range(10))\n",
    "xs.collect()"
   ]
  },
  {
   "cell_type": "code",
   "execution_count": 7,
   "metadata": {
    "collapsed": false
   },
   "outputs": [
    {
     "data": {
      "text/plain": [
       "16"
      ]
     },
     "execution_count": 7,
     "metadata": {},
     "output_type": "execute_result"
    }
   ],
   "source": [
    "xs.getNumPartitions()"
   ]
  },
  {
   "cell_type": "code",
   "execution_count": 8,
   "metadata": {
    "collapsed": false
   },
   "outputs": [
    {
     "data": {
      "text/plain": [
       "[[], [0], [], [1], [2], [], [3], [4], [], [5], [], [6], [7], [], [8], [9]]"
      ]
     },
     "execution_count": 8,
     "metadata": {},
     "output_type": "execute_result"
    }
   ],
   "source": [
    "# Return all data within each partition as a list.\n",
    "xs.glom().collect()"
   ]
  },
  {
   "cell_type": "code",
   "execution_count": 12,
   "metadata": {
    "collapsed": false
   },
   "outputs": [
    {
     "data": {
      "text/plain": [
       "[0, 2, 4, 6, 8]"
      ]
     },
     "execution_count": 12,
     "metadata": {},
     "output_type": "execute_result"
    }
   ],
   "source": [
    "# Only keep even numbers\n",
    "xs = xs.filter(lambda x: x % 2 == 0)\n",
    "xs.collect()"
   ]
  },
  {
   "cell_type": "code",
   "execution_count": 13,
   "metadata": {
    "collapsed": false
   },
   "outputs": [
    {
     "data": {
      "text/plain": [
       "[0, 4, 16, 36, 64]"
      ]
     },
     "execution_count": 13,
     "metadata": {},
     "output_type": "execute_result"
    }
   ],
   "source": [
    "# Square all elements\n",
    "xs = xs.map(lambda x: x**2)\n",
    "xs.collect()"
   ]
  },
  {
   "cell_type": "code",
   "execution_count": 14,
   "metadata": {
    "collapsed": false
   },
   "outputs": [
    {
     "data": {
      "text/plain": [
       "120"
      ]
     },
     "execution_count": 14,
     "metadata": {},
     "output_type": "execute_result"
    }
   ],
   "source": [
    "xs.reduce(lambda x, y: x+y)"
   ]
  },
  {
   "cell_type": "markdown",
   "metadata": {},
   "source": [
    "## A common Spark idiom chains mutiple functions together"
   ]
  },
  {
   "cell_type": "code",
   "execution_count": 15,
   "metadata": {
    "collapsed": false
   },
   "outputs": [
    {
     "data": {
      "text/plain": [
       "[0, 4, 16, 36, 64]"
      ]
     },
     "execution_count": 15,
     "metadata": {},
     "output_type": "execute_result"
    }
   ],
   "source": [
    "(\n",
    "    sc.parallelize(range(10))\n",
    "    .filter(lambda x: x % 2 == 0)\n",
    "    .map(lambda x: x**2)\n",
    "    .collect()\n",
    ")"
   ]
  },
  {
   "cell_type": "markdown",
   "metadata": {},
   "source": [
    "# Actions and transforms"
   ]
  },
  {
   "cell_type": "code",
   "execution_count": 16,
   "metadata": {
    "collapsed": true
   },
   "outputs": [],
   "source": [
    "# A transform maps an RDD to another RDD - it is a lazy operation. To actually perform any work, we need to apply an action.\n",
    "import numpy as np"
   ]
  },
  {
   "cell_type": "code",
   "execution_count": 76,
   "metadata": {
    "collapsed": true
   },
   "outputs": [],
   "source": [
    "x = sc.parallelize(np.random.randint(1, 6, 10))"
   ]
  },
  {
   "cell_type": "code",
   "execution_count": 77,
   "metadata": {
    "collapsed": false
   },
   "outputs": [
    {
     "data": {
      "text/plain": [
       "[1, 5, 2, 3, 5, 2, 3, 2, 1, 2]"
      ]
     },
     "execution_count": 77,
     "metadata": {},
     "output_type": "execute_result"
    }
   ],
   "source": [
    "x.collect()"
   ]
  },
  {
   "cell_type": "code",
   "execution_count": 78,
   "metadata": {
    "collapsed": false
   },
   "outputs": [
    {
     "data": {
      "text/plain": [
       "[1, 5, 2, 3, 5]"
      ]
     },
     "execution_count": 78,
     "metadata": {},
     "output_type": "execute_result"
    }
   ],
   "source": [
    "x.take(5)"
   ]
  },
  {
   "cell_type": "code",
   "execution_count": 79,
   "metadata": {
    "collapsed": false
   },
   "outputs": [
    {
     "data": {
      "text/plain": [
       "1"
      ]
     },
     "execution_count": 79,
     "metadata": {},
     "output_type": "execute_result"
    }
   ],
   "source": [
    "x.first()"
   ]
  },
  {
   "cell_type": "code",
   "execution_count": 80,
   "metadata": {
    "collapsed": false
   },
   "outputs": [
    {
     "data": {
      "text/plain": [
       "[5, 5, 3, 3, 2]"
      ]
     },
     "execution_count": 80,
     "metadata": {},
     "output_type": "execute_result"
    }
   ],
   "source": [
    "x.top(5)"
   ]
  },
  {
   "cell_type": "code",
   "execution_count": 81,
   "metadata": {
    "collapsed": false
   },
   "outputs": [
    {
     "data": {
      "text/plain": [
       "[1, 1, 2, 3, 1, 1, 1, 1, 5, 3, 2, 3, 5, 2, 1]"
      ]
     },
     "execution_count": 81,
     "metadata": {},
     "output_type": "execute_result"
    }
   ],
   "source": [
    "x.takeSample(True, 15)"
   ]
  },
  {
   "cell_type": "code",
   "execution_count": 82,
   "metadata": {
    "collapsed": false
   },
   "outputs": [
    {
     "data": {
      "text/plain": [
       "10"
      ]
     },
     "execution_count": 82,
     "metadata": {},
     "output_type": "execute_result"
    }
   ],
   "source": [
    "x.count()"
   ]
  },
  {
   "cell_type": "code",
   "execution_count": 83,
   "metadata": {
    "collapsed": false
   },
   "outputs": [
    {
     "data": {
      "text/plain": [
       "defaultdict(int, {1: 2, 2: 4, 3: 2, 5: 2})"
      ]
     },
     "execution_count": 83,
     "metadata": {},
     "output_type": "execute_result"
    }
   ],
   "source": [
    "x.countByValue()"
   ]
  },
  {
   "cell_type": "code",
   "execution_count": 84,
   "metadata": {
    "collapsed": false
   },
   "outputs": [
    {
     "data": {
      "text/plain": [
       "26"
      ]
     },
     "execution_count": 84,
     "metadata": {},
     "output_type": "execute_result"
    }
   ],
   "source": [
    "x.sum()"
   ]
  },
  {
   "cell_type": "code",
   "execution_count": 85,
   "metadata": {
    "collapsed": false
   },
   "outputs": [
    {
     "data": {
      "text/plain": [
       "5"
      ]
     },
     "execution_count": 85,
     "metadata": {},
     "output_type": "execute_result"
    }
   ],
   "source": [
    "x.max()"
   ]
  },
  {
   "cell_type": "code",
   "execution_count": 86,
   "metadata": {
    "collapsed": false
   },
   "outputs": [
    {
     "data": {
      "text/plain": [
       "2.6000000000000001"
      ]
     },
     "execution_count": 86,
     "metadata": {},
     "output_type": "execute_result"
    }
   ],
   "source": [
    "x.mean()"
   ]
  },
  {
   "cell_type": "code",
   "execution_count": 87,
   "metadata": {
    "collapsed": false
   },
   "outputs": [
    {
     "data": {
      "text/plain": [
       "(count: 10, mean: 2.6, stdev: 1.35646599663, max: 5.0, min: 1.0)"
      ]
     },
     "execution_count": 87,
     "metadata": {},
     "output_type": "execute_result"
    }
   ],
   "source": [
    "x.stats()"
   ]
  },
  {
   "cell_type": "code",
   "execution_count": 88,
   "metadata": {
    "collapsed": true
   },
   "outputs": [],
   "source": [
    "import os\n",
    "import shutil\n",
    "if os.path.exists('/resources/data/Datasets/x'):\n",
    "    shutil.rmtree('/resources/data/Datasets/x')\n",
    "x.saveAsTextFile('/resources/data/Datasets/x')"
   ]
  },
  {
   "cell_type": "code",
   "execution_count": 89,
   "metadata": {
    "collapsed": false
   },
   "outputs": [
    {
     "name": "stdout",
     "output_type": "stream",
     "text": [
      "part-00000  part-00003\tpart-00006  part-00009\tpart-00012  part-00015\r\n",
      "part-00001  part-00004\tpart-00007  part-00010\tpart-00013  _SUCCESS\r\n",
      "part-00002  part-00005\tpart-00008  part-00011\tpart-00014\r\n"
     ]
    }
   ],
   "source": [
    "!ls /resources/data/Datasets/x"
   ]
  },
  {
   "cell_type": "code",
   "execution_count": 90,
   "metadata": {
    "collapsed": false
   },
   "outputs": [
    {
     "name": "stdout",
     "output_type": "stream",
     "text": [
      "1\r\n",
      "5\r\n",
      "2\r\n",
      "3\r\n",
      "5\r\n",
      "2\r\n",
      "3\r\n",
      "2\r\n",
      "1\r\n",
      "2\r\n"
     ]
    }
   ],
   "source": [
    "!cat /resources/data/Datasets/x/*"
   ]
  },
  {
   "cell_type": "markdown",
   "metadata": {},
   "source": [
    "# Fold, reduce and aggregate actions"
   ]
  },
  {
   "cell_type": "markdown",
   "metadata": {},
   "source": [
    "### Reduce"
   ]
  },
  {
   "cell_type": "code",
   "execution_count": 91,
   "metadata": {
    "collapsed": false
   },
   "outputs": [
    {
     "data": {
      "text/plain": [
       "5"
      ]
     },
     "execution_count": 91,
     "metadata": {},
     "output_type": "execute_result"
    }
   ],
   "source": [
    "# max using reduce\n",
    "x.reduce(lambda x, y: x if x > y else y)"
   ]
  },
  {
   "cell_type": "code",
   "execution_count": 92,
   "metadata": {
    "collapsed": false
   },
   "outputs": [
    {
     "data": {
      "text/plain": [
       "1"
      ]
     },
     "execution_count": 92,
     "metadata": {},
     "output_type": "execute_result"
    }
   ],
   "source": [
    "# min using reduce\n",
    "x.reduce(lambda x, y: x if x < y else y)"
   ]
  },
  {
   "cell_type": "code",
   "execution_count": 93,
   "metadata": {
    "collapsed": false
   },
   "outputs": [
    {
     "data": {
      "text/plain": [
       "26"
      ]
     },
     "execution_count": 93,
     "metadata": {},
     "output_type": "execute_result"
    }
   ],
   "source": [
    "# sum using reduce\n",
    "x.reduce(lambda x,y: x+y)"
   ]
  },
  {
   "cell_type": "code",
   "execution_count": 94,
   "metadata": {
    "collapsed": false
   },
   "outputs": [
    {
     "data": {
      "text/plain": [
       "3600"
      ]
     },
     "execution_count": 94,
     "metadata": {},
     "output_type": "execute_result"
    }
   ],
   "source": [
    "# prod using reduce\n",
    "x.reduce(lambda x,y: x*y)"
   ]
  },
  {
   "cell_type": "markdown",
   "metadata": {},
   "source": [
    "### Fold"
   ]
  },
  {
   "cell_type": "code",
   "execution_count": 95,
   "metadata": {
    "collapsed": false
   },
   "outputs": [
    {
     "data": {
      "text/plain": [
       "26"
      ]
     },
     "execution_count": 95,
     "metadata": {},
     "output_type": "execute_result"
    }
   ],
   "source": [
    "# sum using fold\n",
    "x.fold(0, lambda x, y: x+y)"
   ]
  },
  {
   "cell_type": "code",
   "execution_count": 96,
   "metadata": {
    "collapsed": false
   },
   "outputs": [
    {
     "data": {
      "text/plain": [
       "3600"
      ]
     },
     "execution_count": 96,
     "metadata": {},
     "output_type": "execute_result"
    }
   ],
   "source": [
    "# product of n numbers using fold\n",
    "x.fold(1, lambda x, y: x*y)"
   ]
  },
  {
   "cell_type": "code",
   "execution_count": 97,
   "metadata": {
    "collapsed": false
   },
   "outputs": [
    {
     "data": {
      "text/plain": [
       "5"
      ]
     },
     "execution_count": 97,
     "metadata": {},
     "output_type": "execute_result"
    }
   ],
   "source": [
    "# max using fold\n",
    "x.fold(0, lambda x, y : x if x > y else y)"
   ]
  },
  {
   "cell_type": "code",
   "execution_count": 98,
   "metadata": {
    "collapsed": false
   },
   "outputs": [
    {
     "data": {
      "text/plain": [
       "1"
      ]
     },
     "execution_count": 98,
     "metadata": {},
     "output_type": "execute_result"
    }
   ],
   "source": [
    "# min using fold\n",
    "x.fold(5, lambda x, y : x if x < y else y) # initial value for comparision is from fold value here 5  "
   ]
  },
  {
   "cell_type": "code",
   "execution_count": 99,
   "metadata": {
    "collapsed": false
   },
   "outputs": [
    {
     "data": {
      "text/plain": [
       "16"
      ]
     },
     "execution_count": 99,
     "metadata": {},
     "output_type": "execute_result"
    }
   ],
   "source": [
    "# count using fold\n",
    "x.fold(0, lambda x,y: x+1)  # wrong "
   ]
  },
  {
   "cell_type": "markdown",
   "metadata": {},
   "source": [
    "### Aggregate"
   ]
  },
  {
   "cell_type": "code",
   "execution_count": 100,
   "metadata": {
    "collapsed": false
   },
   "outputs": [
    {
     "data": {
      "text/plain": [
       "26"
      ]
     },
     "execution_count": 100,
     "metadata": {},
     "output_type": "execute_result"
    }
   ],
   "source": [
    "# sum using aggregate\n",
    "x.aggregate(0, lambda x, y: x + y, lambda x, y: x + y)"
   ]
  },
  {
   "cell_type": "code",
   "execution_count": 101,
   "metadata": {
    "collapsed": false
   },
   "outputs": [
    {
     "data": {
      "text/plain": [
       "10"
      ]
     },
     "execution_count": 101,
     "metadata": {},
     "output_type": "execute_result"
    }
   ],
   "source": [
    "# aggregate - count\n",
    "x.aggregate(0, lambda x, y: x + 1, lambda x, y: x+y)"
   ]
  },
  {
   "cell_type": "code",
   "execution_count": 67,
   "metadata": {
    "collapsed": false
   },
   "outputs": [
    {
     "data": {
      "text/plain": [
       "(31, 10)"
      ]
     },
     "execution_count": 67,
     "metadata": {},
     "output_type": "execute_result"
    }
   ],
   "source": [
    "# aggregate - sum and count\n",
    "(x.aggregate((0,0), \n",
    "             (lambda acc, val: (acc[0]+val, acc[1] + 1 )), \n",
    "             (lambda acc1, acc2: ((acc1[0] + acc2[0]), (acc1[1] + acc2[1])))))   "
   ]
  },
  {
   "cell_type": "code",
   "execution_count": 58,
   "metadata": {
    "collapsed": false
   },
   "outputs": [
    {
     "name": "stdout",
     "output_type": "stream",
     "text": [
      "[5, 3, 1, 4, 2, 2, 2, 2, 2, 3]\n",
      "Number of elements : 26 \n",
      "Sum of elements : 10\n"
     ]
    }
   ],
   "source": [
    "# aggregate - sum and count\n",
    "tup = (x.aggregate((0,0), \n",
    "             (lambda x, y: (x[0]+y, x[1] + 1 )), \n",
    "             (lambda x, y: (x[0] + y[0], x[1] + y[1])))\n",
    ")\n",
    "print(x.collect())\n",
    "print(\"Number of elements : {0} \\nSum of elements : {1}\".format(tup[0],tup[1]))"
   ]
  },
  {
   "cell_type": "code",
   "execution_count": 102,
   "metadata": {
    "collapsed": false
   },
   "outputs": [
    {
     "data": {
      "text/plain": [
       "2.6000000000000001"
      ]
     },
     "execution_count": 102,
     "metadata": {},
     "output_type": "execute_result"
    }
   ],
   "source": [
    "# mean \n",
    "tup[0]/tup[1]"
   ]
  },
  {
   "cell_type": "markdown",
   "metadata": {},
   "source": [
    "# Map"
   ]
  },
  {
   "cell_type": "code",
   "execution_count": 103,
   "metadata": {
    "collapsed": false
   },
   "outputs": [
    {
     "data": {
      "text/plain": [
       "[4, 4, 5, 7]"
      ]
     },
     "execution_count": 103,
     "metadata": {},
     "output_type": "execute_result"
    }
   ],
   "source": [
    "x = sc.parallelize([3,3,4,6])\n",
    "x.map(lambda x: x + 1).collect()"
   ]
  },
  {
   "cell_type": "code",
   "execution_count": 104,
   "metadata": {
    "collapsed": false
   },
   "outputs": [
    {
     "data": {
      "text/plain": [
       "['APPLE', 'BANANA', 'ORANGE']"
      ]
     },
     "execution_count": 104,
     "metadata": {},
     "output_type": "execute_result"
    }
   ],
   "source": [
    "fruits = sc.parallelize([\"apple\", \"banana\", \"orange\"])\n",
    "fruits.map(lambda x: x.upper()).collect()"
   ]
  },
  {
   "cell_type": "code",
   "execution_count": 105,
   "metadata": {
    "collapsed": false
   },
   "outputs": [
    {
     "data": {
      "text/plain": [
       "['A',\n",
       " 'P',\n",
       " 'P',\n",
       " 'L',\n",
       " 'E',\n",
       " 'B',\n",
       " 'A',\n",
       " 'N',\n",
       " 'A',\n",
       " 'N',\n",
       " 'A',\n",
       " 'O',\n",
       " 'R',\n",
       " 'A',\n",
       " 'N',\n",
       " 'G',\n",
       " 'E']"
      ]
     },
     "execution_count": 105,
     "metadata": {},
     "output_type": "execute_result"
    }
   ],
   "source": [
    "# Think of flatmap as a map follwed by a flatten option \n",
    "fruits.flatMap(lambda x: x.upper()).collect()"
   ]
  },
  {
   "cell_type": "code",
   "execution_count": 106,
   "metadata": {
    "collapsed": false
   },
   "outputs": [
    {
     "data": {
      "text/plain": [
       "[3, 3, 6]"
      ]
     },
     "execution_count": 106,
     "metadata": {},
     "output_type": "execute_result"
    }
   ],
   "source": [
    "# filter\n",
    "x.filter(lambda x: x%3 == 0).collect()"
   ]
  },
  {
   "cell_type": "code",
   "execution_count": 113,
   "metadata": {
    "collapsed": false
   },
   "outputs": [
    {
     "data": {
      "text/plain": [
       "[3, 6]"
      ]
     },
     "execution_count": 113,
     "metadata": {},
     "output_type": "execute_result"
    }
   ],
   "source": [
    "x.sample(False, 0.5,1).collect()"
   ]
  },
  {
   "cell_type": "code",
   "execution_count": 114,
   "metadata": {
    "collapsed": false
   },
   "outputs": [
    {
     "data": {
      "text/plain": [
       "['orange']"
      ]
     },
     "execution_count": 114,
     "metadata": {},
     "output_type": "execute_result"
    }
   ],
   "source": [
    "fruits.sample(False, 0.3).collect()"
   ]
  },
  {
   "cell_type": "markdown",
   "metadata": {},
   "source": [
    "### Set-like transforms"
   ]
  },
  {
   "cell_type": "code",
   "execution_count": 115,
   "metadata": {
    "collapsed": false
   },
   "outputs": [],
   "source": [
    "x = sc.parallelize([1,2,3,4])\n",
    "y = sc.parallelize([3,3,4,6])"
   ]
  },
  {
   "cell_type": "code",
   "execution_count": 116,
   "metadata": {
    "collapsed": false
   },
   "outputs": [
    {
     "data": {
      "text/plain": [
       "[3, 4, 6]"
      ]
     },
     "execution_count": 116,
     "metadata": {},
     "output_type": "execute_result"
    }
   ],
   "source": [
    "y.distinct().collect()"
   ]
  },
  {
   "cell_type": "code",
   "execution_count": 117,
   "metadata": {
    "collapsed": false
   },
   "outputs": [
    {
     "data": {
      "text/plain": [
       "[1, 2, 3, 4, 3, 3, 4, 6]"
      ]
     },
     "execution_count": 117,
     "metadata": {},
     "output_type": "execute_result"
    }
   ],
   "source": [
    "x.union(y).collect()"
   ]
  },
  {
   "cell_type": "code",
   "execution_count": 118,
   "metadata": {
    "collapsed": false
   },
   "outputs": [
    {
     "data": {
      "text/plain": [
       "[3, 4]"
      ]
     },
     "execution_count": 118,
     "metadata": {},
     "output_type": "execute_result"
    }
   ],
   "source": [
    "x.intersection(y).collect()"
   ]
  },
  {
   "cell_type": "code",
   "execution_count": 119,
   "metadata": {
    "collapsed": false
   },
   "outputs": [
    {
     "data": {
      "text/plain": [
       "[1, 2]"
      ]
     },
     "execution_count": 119,
     "metadata": {},
     "output_type": "execute_result"
    }
   ],
   "source": [
    "x.subtract(y).collect()"
   ]
  },
  {
   "cell_type": "code",
   "execution_count": 120,
   "metadata": {
    "collapsed": false
   },
   "outputs": [
    {
     "data": {
      "text/plain": [
       "[6]"
      ]
     },
     "execution_count": 120,
     "metadata": {},
     "output_type": "execute_result"
    }
   ],
   "source": [
    "y.subtract(x).collect()"
   ]
  },
  {
   "cell_type": "code",
   "execution_count": 121,
   "metadata": {
    "collapsed": false
   },
   "outputs": [
    {
     "data": {
      "text/plain": [
       "[(1, 3),\n",
       " (1, 3),\n",
       " (1, 4),\n",
       " (1, 6),\n",
       " (2, 3),\n",
       " (2, 3),\n",
       " (2, 4),\n",
       " (2, 6),\n",
       " (3, 3),\n",
       " (3, 3),\n",
       " (3, 4),\n",
       " (3, 6),\n",
       " (4, 3),\n",
       " (4, 3),\n",
       " (4, 4),\n",
       " (4, 6)]"
      ]
     },
     "execution_count": 121,
     "metadata": {},
     "output_type": "execute_result"
    }
   ],
   "source": [
    "x.cartesian(y).collect()"
   ]
  },
  {
   "cell_type": "markdown",
   "metadata": {},
   "source": [
    "# Working with key-value pairs\n",
    "RDDs consissting of key-value pairs are required for many Spark operatinos. They can be created by using a function that returns an RDD composed of tuples."
   ]
  },
  {
   "cell_type": "code",
   "execution_count": 122,
   "metadata": {
    "collapsed": true
   },
   "outputs": [],
   "source": [
    "data = [('google', 1), ('apple', 2)]"
   ]
  },
  {
   "cell_type": "code",
   "execution_count": 123,
   "metadata": {
    "collapsed": true
   },
   "outputs": [],
   "source": [
    "rdd = sc.parallelize(data)"
   ]
  },
  {
   "cell_type": "code",
   "execution_count": 127,
   "metadata": {
    "collapsed": false
   },
   "outputs": [
    {
     "data": {
      "text/plain": [
       "['google', 'apple']"
      ]
     },
     "execution_count": 127,
     "metadata": {},
     "output_type": "execute_result"
    }
   ],
   "source": [
    "rdd.keys().collect()"
   ]
  },
  {
   "cell_type": "code",
   "execution_count": 126,
   "metadata": {
    "collapsed": false
   },
   "outputs": [
    {
     "data": {
      "text/plain": [
       "[1, 2]"
      ]
     },
     "execution_count": 126,
     "metadata": {},
     "output_type": "execute_result"
    }
   ],
   "source": [
    "rdd.values().collect()"
   ]
  },
  {
   "cell_type": "code",
   "execution_count": 128,
   "metadata": {
    "collapsed": true
   },
   "outputs": [],
   "source": [
    "ulysses = sc.textFile('/resources/data/Datasets/Ulysses.txt')"
   ]
  },
  {
   "cell_type": "code",
   "execution_count": 129,
   "metadata": {
    "collapsed": false
   },
   "outputs": [
    {
     "data": {
      "text/plain": [
       "['',\n",
       " '',\n",
       " '',\n",
       " 'The Project Gutenberg EBook of Ulysses, by James Joyce',\n",
       " '',\n",
       " 'This eBook is for the use of anyone anywhere at no cost and with almost',\n",
       " 'no restrictions whatsoever. You may copy it, give it away or re-use',\n",
       " 'it under the terms of the Project Gutenberg License included with this',\n",
       " 'eBook or online at www.gutenberg.org',\n",
       " '']"
      ]
     },
     "execution_count": 129,
     "metadata": {},
     "output_type": "execute_result"
    }
   ],
   "source": [
    "ulysses.take(10)"
   ]
  },
  {
   "cell_type": "code",
   "execution_count": 130,
   "metadata": {
    "collapsed": false
   },
   "outputs": [
    {
     "data": {
      "text/plain": [
       "267938"
      ]
     },
     "execution_count": 130,
     "metadata": {},
     "output_type": "execute_result"
    }
   ],
   "source": [
    "ulysses.flatMap(lambda line: line.lower().split()).count()"
   ]
  },
  {
   "cell_type": "code",
   "execution_count": 152,
   "metadata": {
    "collapsed": false
   },
   "outputs": [
    {
     "data": {
      "text/plain": [
       "[('the', 1), ('project', 1), ('gutenberg', 1), ('ebook', 1), ('of', 1)]"
      ]
     },
     "execution_count": 152,
     "metadata": {},
     "output_type": "execute_result"
    }
   ],
   "source": [
    "import string\n",
    "def tokenize(line):\n",
    "    # ord('a') returns the integer 97\n",
    "    # string.punctuation => It is a constant '!\"#$%&\\'()*+,-./:;<=>?@[\\\\]^_`{|}~'\n",
    "    remove_punc_map = dict.fromkeys(map(lambda x: ord(x), string.punctuation),None) \n",
    "    return line.translate(remove_punc_map).lower().split()\n",
    "\n",
    "words = (ulysses.flatMap(lambda line: tokenize(line))\n",
    "                .map(lambda x: (x, 1))\n",
    "        )\n",
    "words.take(5)"
   ]
  },
  {
   "cell_type": "code",
   "execution_count": 153,
   "metadata": {
    "collapsed": false
   },
   "outputs": [
    {
     "data": {
      "text/plain": [
       "[('kyries', 1),\n",
       " ('mobile', 2),\n",
       " ('rabaiotti’s', 3),\n",
       " ('gasteropod', 1),\n",
       " ('spurt', 1)]"
      ]
     },
     "execution_count": 153,
     "metadata": {},
     "output_type": "execute_result"
    }
   ],
   "source": [
    "counts = words.reduceByKey(lambda x, y: x+y)\n",
    "counts.take(5)"
   ]
  },
  {
   "cell_type": "code",
   "execution_count": 154,
   "metadata": {
    "collapsed": false
   },
   "outputs": [
    {
     "data": {
      "text/plain": [
       "[('the', 15010),\n",
       " ('of', 8251),\n",
       " ('and', 7216),\n",
       " ('a', 6510),\n",
       " ('to', 5029),\n",
       " ('in', 4972),\n",
       " ('he', 3998),\n",
       " ('his', 3326),\n",
       " ('that', 2586),\n",
       " ('with', 2557)]"
      ]
     },
     "execution_count": 154,
     "metadata": {},
     "output_type": "execute_result"
    }
   ],
   "source": [
    "counts.takeOrdered(10, key= lambda x: -x[1])"
   ]
  },
  {
   "cell_type": "code",
   "execution_count": 158,
   "metadata": {
    "collapsed": false
   },
   "outputs": [
    {
     "data": {
      "text/plain": [
       "[('the', 15010),\n",
       " ('of', 8251),\n",
       " ('and', 7216),\n",
       " ('a', 6510),\n",
       " ('to', 5029),\n",
       " ('in', 4972),\n",
       " ('he', 3998),\n",
       " ('his', 3326),\n",
       " ('that', 2586),\n",
       " ('with', 2557)]"
      ]
     },
     "execution_count": 158,
     "metadata": {},
     "output_type": "execute_result"
    }
   ],
   "source": [
    "(\n",
    "ulysses.flatMap(lambda line: tokenize(line))\n",
    "       .map(lambda word: (word, 1))\n",
    "       .reduceByKey(lambda x, y: x + y)\n",
    "       .takeOrdered(10, key=lambda x: -x[1])\n",
    ")"
   ]
  },
  {
   "cell_type": "markdown",
   "metadata": {},
   "source": [
    "# Persisting data"
   ]
  },
  {
   "cell_type": "code",
   "execution_count": 161,
   "metadata": {
    "collapsed": false
   },
   "outputs": [
    {
     "data": {
      "text/plain": [
       "False"
      ]
     },
     "execution_count": 161,
     "metadata": {},
     "output_type": "execute_result"
    }
   ],
   "source": [
    "counts.is_cached"
   ]
  },
  {
   "cell_type": "code",
   "execution_count": 162,
   "metadata": {
    "collapsed": false
   },
   "outputs": [
    {
     "data": {
      "text/plain": [
       "PythonRDD[196] at RDD at PythonRDD.scala:43"
      ]
     },
     "execution_count": 162,
     "metadata": {},
     "output_type": "execute_result"
    }
   ],
   "source": [
    "counts.persist()"
   ]
  },
  {
   "cell_type": "code",
   "execution_count": 163,
   "metadata": {
    "collapsed": false
   },
   "outputs": [
    {
     "data": {
      "text/plain": [
       "True"
      ]
     },
     "execution_count": 163,
     "metadata": {},
     "output_type": "execute_result"
    }
   ],
   "source": [
    "counts.is_cached"
   ]
  },
  {
   "cell_type": "code",
   "execution_count": 164,
   "metadata": {
    "collapsed": false
   },
   "outputs": [
    {
     "data": {
      "text/plain": [
       "[('the', 15010), ('of', 8251), ('and', 7216), ('a', 6510), ('to', 5029)]"
      ]
     },
     "execution_count": 164,
     "metadata": {},
     "output_type": "execute_result"
    }
   ],
   "source": [
    "counts.takeOrdered(5, lambda x: -x[1])"
   ]
  },
  {
   "cell_type": "code",
   "execution_count": 165,
   "metadata": {
    "collapsed": false
   },
   "outputs": [
    {
     "data": {
      "text/plain": [
       "[('kyries', 1),\n",
       " ('mobile', 2),\n",
       " ('rabaiotti’s', 3),\n",
       " ('gasteropod', 1),\n",
       " ('spurt', 1)]"
      ]
     },
     "execution_count": 165,
     "metadata": {},
     "output_type": "execute_result"
    }
   ],
   "source": [
    "counts.take(5)"
   ]
  },
  {
   "cell_type": "code",
   "execution_count": 166,
   "metadata": {
    "collapsed": false
   },
   "outputs": [
    {
     "data": {
      "text/plain": [
       "[('0', 1), ('0—0—1', 5), ('0—0—2', 1), ('0—0—3', 2), ('0—0—4', 3)]"
      ]
     },
     "execution_count": 166,
     "metadata": {},
     "output_type": "execute_result"
    }
   ],
   "source": [
    "counts.takeOrdered(5, lambda x: x[0])"
   ]
  },
  {
   "cell_type": "code",
   "execution_count": 167,
   "metadata": {
    "collapsed": false
   },
   "outputs": [
    {
     "data": {
      "text/plain": [
       "['kyries', 'mobile', 'rabaiotti’s', 'gasteropod', 'spurt']"
      ]
     },
     "execution_count": 167,
     "metadata": {},
     "output_type": "execute_result"
    }
   ],
   "source": [
    "counts.keys().take(5)"
   ]
  },
  {
   "cell_type": "code",
   "execution_count": 168,
   "metadata": {
    "collapsed": false
   },
   "outputs": [
    {
     "data": {
      "text/plain": [
       "[1, 2, 3, 1, 1]"
      ]
     },
     "execution_count": 168,
     "metadata": {},
     "output_type": "execute_result"
    }
   ],
   "source": [
    "counts.values().take(5)"
   ]
  },
  {
   "cell_type": "code",
   "execution_count": 177,
   "metadata": {
    "collapsed": false
   },
   "outputs": [
    {
     "data": {
      "text/plain": [
       "{'eclipses': 2,\n",
       " 'cudgel': 1,\n",
       " 'lose': 16,\n",
       " 'vinery': 1,\n",
       " 'myths': 1,\n",
       " 'needful': 3,\n",
       " 'revengeful': 1,\n",
       " 'clergymen’s': 1,\n",
       " 'spike': 1,\n",
       " 'gipsylike': 1,\n",
       " 'shameface': 1,\n",
       " 'hoping': 5,\n",
       " 'romps': 1,\n",
       " 'hayforks': 1,\n",
       " 'produce': 9,\n",
       " 'glided': 3,\n",
       " 'exhortator': 1,\n",
       " 'abounding': 1,\n",
       " 'cutty': 1,\n",
       " 'foregone': 1,\n",
       " 'o’donoghue': 2,\n",
       " 'fiddling': 1,\n",
       " 'scholastica': 1,\n",
       " 'skirties': 1,\n",
       " 'ozone': 1,\n",
       " 'anxiously': 4,\n",
       " 'bloowhose': 1,\n",
       " 'jeer': 4,\n",
       " 'indispensable': 2,\n",
       " 'garbed': 2,\n",
       " 'diseases': 2,\n",
       " 'courtesies': 1,\n",
       " 'tapped': 9,\n",
       " 'artisans’': 1,\n",
       " 'sometime': 5,\n",
       " 'duke': 14,\n",
       " 'bolt': 6,\n",
       " 'readers': 3,\n",
       " 'gorget': 1,\n",
       " 'pipe': 16,\n",
       " 'darling': 22,\n",
       " 'falls': 13,\n",
       " 'champing': 4,\n",
       " 'm’intosh': 4,\n",
       " 'nullify': 1,\n",
       " 'eh': 49,\n",
       " 'door': 139,\n",
       " 'unmixed': 1,\n",
       " 'howsomever': 1,\n",
       " 'ontario': 4,\n",
       " 'lousy': 2,\n",
       " 'gold': 92,\n",
       " 'peru': 1,\n",
       " 'ferrywash': 1,\n",
       " 'drove': 23,\n",
       " 'haggling': 1,\n",
       " 'tones': 1,\n",
       " 'tinily': 2,\n",
       " 'soak': 1,\n",
       " 'brothers': 16,\n",
       " 'noone': 34,\n",
       " 'ripping': 2,\n",
       " 'drinks': 8,\n",
       " 'philosophised': 1,\n",
       " 'o’callaghan': 2,\n",
       " 'thaumaturgic': 1,\n",
       " 'dilating': 1,\n",
       " 'faltering': 2,\n",
       " 'shift': 12,\n",
       " 'dignity': 8,\n",
       " 'stubbs': 1,\n",
       " 'huit': 1,\n",
       " 'with—what': 1,\n",
       " 'bottleshouldered': 1,\n",
       " 'gummed': 1,\n",
       " 'valley': 4,\n",
       " 'ton': 3,\n",
       " 'egyptian': 6,\n",
       " 'concordance': 1,\n",
       " 'boatpole': 1,\n",
       " 'heavenman': 1,\n",
       " 'monster': 5,\n",
       " 'winedark': 4,\n",
       " 'purgefire': 1,\n",
       " 'glance': 23,\n",
       " 'trailing': 6,\n",
       " 'kismet': 4,\n",
       " 'strangely': 3,\n",
       " 'unlawfully': 1,\n",
       " 'tentationem': 1,\n",
       " 'forgetmenot': 1,\n",
       " 'vitals': 3,\n",
       " 'become': 11,\n",
       " 'flitters': 1,\n",
       " 'ghostcandle': 1,\n",
       " 'master’s': 2,\n",
       " 'paraphenomena': 1,\n",
       " 'corpulent': 1,\n",
       " 'lips': 88,\n",
       " 'amiss': 1,\n",
       " 'desolation': 1,\n",
       " 'motley': 2,\n",
       " 'quella': 1,\n",
       " 'gate': 29,\n",
       " 'best’s': 4,\n",
       " 'volunteer': 1,\n",
       " 'greene': 3,\n",
       " 'collection': 9,\n",
       " '—charley': 1,\n",
       " 'semidetached': 1,\n",
       " 'judaic': 1,\n",
       " 'wineglass': 1,\n",
       " 'pigmy': 1,\n",
       " 'factories': 1,\n",
       " 'savages': 1,\n",
       " 'reproof': 1,\n",
       " 'leaps': 8,\n",
       " 'hatched': 1,\n",
       " '—tell': 8,\n",
       " 'immodest': 3,\n",
       " 'vertigo': 1,\n",
       " 'excitable': 1,\n",
       " 'ilk': 2,\n",
       " 'handing': 3,\n",
       " 'believe': 72,\n",
       " 'sandflats': 1,\n",
       " 'coatpans': 1,\n",
       " 'topnobbers': 1,\n",
       " 'boomblebee': 1,\n",
       " 'superhuman': 1,\n",
       " 'personage': 5,\n",
       " 'phases': 3,\n",
       " 'youngly': 1,\n",
       " 'negroes': 1,\n",
       " 'catchpole': 1,\n",
       " 'compost': 1,\n",
       " 'succurrere': 1,\n",
       " 'gent’s': 1,\n",
       " 'thwarted': 1,\n",
       " 'display': 6,\n",
       " 'entrancing': 1,\n",
       " 'clutched': 1,\n",
       " 'hate': 32,\n",
       " 'breaking': 17,\n",
       " 'masonic': 2,\n",
       " 'lent': 16,\n",
       " 'ram’s': 1,\n",
       " 'linseed': 2,\n",
       " 'authorities': 2,\n",
       " 'hoots': 1,\n",
       " 'pancake': 1,\n",
       " 'trays': 2,\n",
       " 'saith': 9,\n",
       " 'voyage': 4,\n",
       " 'cuprani': 1,\n",
       " 'wallflower': 1,\n",
       " 'rings': 5,\n",
       " 'unbridles': 1,\n",
       " 'fishful': 1,\n",
       " 'anonymous': 4,\n",
       " 'formalities': 1,\n",
       " 'ogling': 3,\n",
       " 'defect': 4,\n",
       " 'watermarked': 1,\n",
       " 'sweetsour': 1,\n",
       " '—pleasure': 1,\n",
       " 'quays': 6,\n",
       " 'acracking': 1,\n",
       " 'giddily': 1,\n",
       " 'you’re': 67,\n",
       " 'accounting': 1,\n",
       " 'threemasted': 1,\n",
       " 'tinderbox': 1,\n",
       " 'splendid': 16,\n",
       " 'vicious': 2,\n",
       " '99712': 1,\n",
       " 'murrain': 1,\n",
       " 'ingram': 1,\n",
       " 'galoptious': 1,\n",
       " 'scorbutic': 2,\n",
       " 'reactivity': 1,\n",
       " 'fifenotes': 1,\n",
       " 'circumpolar': 1,\n",
       " 'surroundings': 2,\n",
       " 'eccles’': 1,\n",
       " 'faded': 12,\n",
       " 'pica': 1,\n",
       " '—il': 1,\n",
       " 'quiverful': 1,\n",
       " 'shaped': 1,\n",
       " 'superintendent': 1,\n",
       " 'unwholesome': 1,\n",
       " 'inflated': 2,\n",
       " 'carrotty': 1,\n",
       " 'muy': 1,\n",
       " 'whitehot': 2,\n",
       " 'repression': 1,\n",
       " 'stoops': 2,\n",
       " 'gouty': 4,\n",
       " 'lettercards': 1,\n",
       " 'libation': 2,\n",
       " '—first': 3,\n",
       " 'furze': 2,\n",
       " 'tschunk': 2,\n",
       " 'dilly’s': 1,\n",
       " 'technically': 2,\n",
       " 'lemony': 1,\n",
       " 'coxcomb': 1,\n",
       " 'existent': 1,\n",
       " '‘twere': 1,\n",
       " 'petted': 1,\n",
       " 'loyalty': 1,\n",
       " 'crumpled': 7,\n",
       " 'inshore': 1,\n",
       " 'lotion': 8,\n",
       " 'chawley': 1,\n",
       " 'swerving': 1,\n",
       " 'alberta': 2,\n",
       " 'treasures': 1,\n",
       " 'dutch': 3,\n",
       " 'hairylegged': 1,\n",
       " 'exceeding': 3,\n",
       " 'obstacle': 1,\n",
       " 'epitle': 1,\n",
       " 'hopeless': 3,\n",
       " 'interpret': 1,\n",
       " 'angus': 2,\n",
       " '—si': 1,\n",
       " 'meat': 29,\n",
       " 'throne': 9,\n",
       " 'fascinating': 1,\n",
       " 'secret': 32,\n",
       " 'intestines': 1,\n",
       " 'museum': 14,\n",
       " 'helmets': 1,\n",
       " 'absolute': 5,\n",
       " 'confessedly': 1,\n",
       " 'riordan': 8,\n",
       " 'tooraloom': 18,\n",
       " 'earn': 1,\n",
       " 'tramcar': 2,\n",
       " 'glassy': 1,\n",
       " 'westmeath': 2,\n",
       " 'thickly': 4,\n",
       " 'diary': 1,\n",
       " 'grogan': 6,\n",
       " 'contemplating': 2,\n",
       " 'trilling': 4,\n",
       " 'opened': 26,\n",
       " 'piper': 6,\n",
       " 'tanta': 1,\n",
       " 'stickyback': 1,\n",
       " 'w': 31,\n",
       " 'quenching': 1,\n",
       " 'unresisting': 3,\n",
       " 'dring': 1,\n",
       " 'soldiers': 14,\n",
       " 'augustine': 3,\n",
       " 'leda': 1,\n",
       " 'inodorous': 1,\n",
       " 'newspaper': 18,\n",
       " 'unreeled': 1,\n",
       " 'thumps': 1,\n",
       " '—breadsoda': 1,\n",
       " 'kern': 1,\n",
       " 'vaunted': 3,\n",
       " 'excompatriots': 1,\n",
       " 'moulding': 1,\n",
       " 'tee': 3,\n",
       " 'removable': 1,\n",
       " 'fitness': 2,\n",
       " 'fleming': 6,\n",
       " 'duces': 1,\n",
       " 'chinks': 1,\n",
       " 'softens': 2,\n",
       " 'nyumnyum': 1,\n",
       " 'em': 8,\n",
       " 'agreement': 19,\n",
       " 'jogjaunty': 1,\n",
       " 'tempo': 1,\n",
       " 'discoloured': 2,\n",
       " 'groceries': 1,\n",
       " 'drily': 3,\n",
       " 'particoloured': 2,\n",
       " 'wallet': 3,\n",
       " 'dying': 35,\n",
       " 'companion’s': 2,\n",
       " 'larks': 1,\n",
       " 'goldseam': 1,\n",
       " 'bleeds': 1,\n",
       " 'suppressed': 5,\n",
       " 'boyes': 1,\n",
       " 'pulls': 4,\n",
       " 'especially': 21,\n",
       " '—sargent': 1,\n",
       " 'hydrochlor': 1,\n",
       " 'ment': 1,\n",
       " '—non': 1,\n",
       " 'intervened': 1,\n",
       " 'carboned': 1,\n",
       " 'hospice': 3,\n",
       " 'fillet': 1,\n",
       " 'pugilist': 1,\n",
       " 'obstetrician': 1,\n",
       " 'causeways': 1,\n",
       " 'swank': 3,\n",
       " 'ars': 2,\n",
       " 'serves': 2,\n",
       " 'warbeck': 1,\n",
       " 'culpepper': 1,\n",
       " 'idealistic': 1,\n",
       " 'sp': 1,\n",
       " 'energy': 5,\n",
       " 'socialiste': 2,\n",
       " 'twicreakingly': 1,\n",
       " 'mount’s': 1,\n",
       " 'eatables': 1,\n",
       " 'treacherous': 1,\n",
       " 'long': 236,\n",
       " 'chi': 1,\n",
       " 'buckle': 1,\n",
       " 'mocassins': 1,\n",
       " 'hied': 1,\n",
       " 'hunched': 1,\n",
       " 'clinch': 1,\n",
       " 'redcoats': 5,\n",
       " 'flowerbeds': 1,\n",
       " 'bachelors': 4,\n",
       " 'imperturbability': 3,\n",
       " 'company’s': 4,\n",
       " 'crestfallen': 1,\n",
       " 'disease': 14,\n",
       " 'bothered': 7,\n",
       " 'pastor': 1,\n",
       " 'gelding': 1,\n",
       " 'cicatrice': 1,\n",
       " 'martian': 1,\n",
       " 'trafalgar': 1,\n",
       " 'blanca': 1,\n",
       " 'largefooted': 1,\n",
       " 'exporting': 1,\n",
       " 'departer': 1,\n",
       " 'tie': 14,\n",
       " 'mule': 2,\n",
       " 'usurping': 1,\n",
       " 'croak': 3,\n",
       " 'puck': 4,\n",
       " 'othermaninthestreet': 1,\n",
       " 'cowered': 1,\n",
       " 'otia': 1,\n",
       " 'prophets': 1,\n",
       " 'apples': 4,\n",
       " 'breastbone': 5,\n",
       " 'christina': 1,\n",
       " 'michaels': 1,\n",
       " 'molesworth': 3,\n",
       " 'notwithstanding': 2,\n",
       " 'initiation': 1,\n",
       " 'cons': 1,\n",
       " '20': 15,\n",
       " 'nightdress': 3,\n",
       " 'transatlantic': 1,\n",
       " 'behold': 8,\n",
       " 'demarcation': 1,\n",
       " 'virtuosos': 1,\n",
       " 'bruce’s': 1,\n",
       " 'saintandrédesarts': 1,\n",
       " 'wimbles': 1,\n",
       " 'tropic': 1,\n",
       " 'scars': 2,\n",
       " 'momentary': 1,\n",
       " 'bond': 2,\n",
       " 'belied': 1,\n",
       " 'sausage': 3,\n",
       " 'blackberry': 1,\n",
       " 'equivalent': 2,\n",
       " 'bellhorses': 1,\n",
       " 'lost': 89,\n",
       " 'beggarly': 1,\n",
       " 'toponomastic': 1,\n",
       " 'heblon’s': 1,\n",
       " 'guffaws': 2,\n",
       " 'ascertained': 3,\n",
       " 'gutenbergtm’s': 1,\n",
       " 'slews': 1,\n",
       " 'lumpy': 2,\n",
       " 'feathering': 1,\n",
       " 'multifarious': 1,\n",
       " 'christ’s': 2,\n",
       " 'druggist': 1,\n",
       " 'hindering': 1,\n",
       " '—twelve': 1,\n",
       " 'he’d': 27,\n",
       " 'overborne': 1,\n",
       " 'ritual': 2,\n",
       " 'simper': 1,\n",
       " 'cruiskeen': 1,\n",
       " 'pitapat': 1,\n",
       " 'owed': 3,\n",
       " 'mantles': 1,\n",
       " '—afterwits': 1,\n",
       " 'bosom’s': 1,\n",
       " 'evidently': 15,\n",
       " 'clohissey’s': 1,\n",
       " 'misprints': 1,\n",
       " 'treason': 1,\n",
       " 'swirls': 2,\n",
       " 'joys': 4,\n",
       " 'b': 46,\n",
       " 'clods': 2,\n",
       " 'whirlpool': 1,\n",
       " 'punctilio': 1,\n",
       " 'failer': 1,\n",
       " 'guarantee': 3,\n",
       " 'hist': 2,\n",
       " 'pence': 7,\n",
       " 'warbling': 6,\n",
       " 'discipline': 3,\n",
       " 'summerhouse': 2,\n",
       " 'place': 134,\n",
       " 'twocolumned': 1,\n",
       " 'tangent': 2,\n",
       " 'flowing': 11,\n",
       " 'scratches': 2,\n",
       " 'motorgoggles': 1,\n",
       " 'pants': 3,\n",
       " 'detour': 1,\n",
       " 'overtones': 1,\n",
       " 'epenthetic': 1,\n",
       " 'himself': 221,\n",
       " 'offering': 8,\n",
       " 'relatively': 1,\n",
       " 'fizz': 3,\n",
       " 'alderman': 8,\n",
       " 'catholic': 14,\n",
       " 'thumping': 7,\n",
       " 'rufous': 1,\n",
       " 'expressions': 6,\n",
       " 'spake': 3,\n",
       " 'ballets': 1,\n",
       " 'sandstrewer': 2,\n",
       " 'begotten': 2,\n",
       " 'dragons': 1,\n",
       " 'cornfield': 2,\n",
       " 'jabber': 1,\n",
       " 'yer': 1,\n",
       " 'artifoni’s': 1,\n",
       " 'pold': 1,\n",
       " 'scribe': 1,\n",
       " 'robes': 2,\n",
       " 'elevation': 2,\n",
       " 'capecoat': 1,\n",
       " 'twentyfour': 3,\n",
       " 'coax': 1,\n",
       " 'modality': 4,\n",
       " 'subjects': 7,\n",
       " 'crackling': 6,\n",
       " 'udderful': 1,\n",
       " 'ut': 7,\n",
       " 'unstruck': 1,\n",
       " 'speedpills': 1,\n",
       " 'euthanasia': 1,\n",
       " 'purposely': 1,\n",
       " 'ascends': 2,\n",
       " 'preposterous': 1,\n",
       " 'cruelty': 4,\n",
       " 'divaricated': 1,\n",
       " 'bluerobed': 1,\n",
       " 'religions': 2,\n",
       " 'furrows': 2,\n",
       " 'possing': 2,\n",
       " 'salts': 2,\n",
       " 'adversion': 1,\n",
       " 'sweating': 4,\n",
       " 'heavyweights': 1,\n",
       " 'dust': 15,\n",
       " 'desiderated': 1,\n",
       " 'thread': 4,\n",
       " 'wipes': 2,\n",
       " 'lovey': 3,\n",
       " 'discreet': 4,\n",
       " 'jinglejaunty': 1,\n",
       " 'mystical': 4,\n",
       " 'titlepage': 2,\n",
       " 'continents': 1,\n",
       " 'quinze': 1,\n",
       " 'capitalistic': 1,\n",
       " 'magistrates': 1,\n",
       " 'te': 11,\n",
       " 'ramping': 1,\n",
       " 'partake': 2,\n",
       " 'devilish': 1,\n",
       " 'caged': 1,\n",
       " 'kissing': 12,\n",
       " 'wicked': 6,\n",
       " 'tummies': 1,\n",
       " 'courcy': 1,\n",
       " 'malefactors': 1,\n",
       " 'patrum': 1,\n",
       " 'jollily': 1,\n",
       " 'biting': 4,\n",
       " 'shavings': 4,\n",
       " 'narrative': 3,\n",
       " 'glands': 4,\n",
       " 'wildgoose': 1,\n",
       " 'vying': 2,\n",
       " 'hentrusion': 1,\n",
       " 'kave': 1,\n",
       " 'entrails': 2,\n",
       " 'edifying': 1,\n",
       " 'sensations': 5,\n",
       " 'hopeful': 1,\n",
       " 'headed': 3,\n",
       " 'vaccination': 1,\n",
       " 'bough': 1,\n",
       " 'brace': 3,\n",
       " 'womens': 1,\n",
       " 'flaskets': 1,\n",
       " 'beelzebub': 1,\n",
       " 'elderflower': 2,\n",
       " 'claffey': 1,\n",
       " 'befall': 1,\n",
       " 'bracket': 1,\n",
       " 'ahumming': 1,\n",
       " 'philosopher': 6,\n",
       " 'gasjet': 5,\n",
       " 'trundled': 1,\n",
       " 'donations': 15,\n",
       " 'harmony': 5,\n",
       " '—jesus': 1,\n",
       " 'menton': 21,\n",
       " 'rashers': 2,\n",
       " 'yahoos': 1,\n",
       " '—thousand': 1,\n",
       " 'moral': 12,\n",
       " 'heresy': 1,\n",
       " 'used': 79,\n",
       " 'semicircular': 1,\n",
       " 'predestination': 1,\n",
       " 'davenant': 1,\n",
       " 'nations': 4,\n",
       " 'sale': 7,\n",
       " 'dwellings': 1,\n",
       " 'schemes': 4,\n",
       " 'askenazim': 1,\n",
       " 'juggle': 1,\n",
       " 'madame': 8,\n",
       " 'mio': 1,\n",
       " 'brothel': 2,\n",
       " 'httpwwwgutenbergorg': 1,\n",
       " 'tanner': 3,\n",
       " 'straits': 3,\n",
       " 'grinned': 2,\n",
       " '—taylor': 1,\n",
       " 'phthailer': 1,\n",
       " 'hunter': 3,\n",
       " 'intestation': 1,\n",
       " 'pores': 3,\n",
       " 'saluted': 16,\n",
       " 'repositories': 1,\n",
       " 'cosmetics': 1,\n",
       " 'desiderate': 1,\n",
       " 'paramour': 1,\n",
       " 'impending': 1,\n",
       " 'promène': 1,\n",
       " 'polla': 1,\n",
       " '—clever': 1,\n",
       " 'rhine': 1,\n",
       " 'insignia': 1,\n",
       " 'whalebone': 1,\n",
       " '—nulla': 1,\n",
       " 'vesture': 2,\n",
       " 'julian': 2,\n",
       " 'photius': 2,\n",
       " 'authors': 1,\n",
       " 'excluding': 1,\n",
       " 'presume': 5,\n",
       " 'ronds': 1,\n",
       " 'perkin': 1,\n",
       " 'palaces': 1,\n",
       " 'oniony': 1,\n",
       " 'turds': 1,\n",
       " 'laissez': 1,\n",
       " 'bulldogs': 1,\n",
       " 'banknote': 1,\n",
       " 'lid': 4,\n",
       " '—decent': 1,\n",
       " 'shekels': 1,\n",
       " 'boodle': 1,\n",
       " 'acted': 3,\n",
       " 'frequently': 8,\n",
       " 'rivetted': 1,\n",
       " 'everard': 1,\n",
       " 'heir': 11,\n",
       " 'abeakuta': 2,\n",
       " 'waken': 1,\n",
       " 'liaison': 1,\n",
       " 'minxi': 1,\n",
       " 'hatten': 1,\n",
       " 'attacked': 1,\n",
       " 'whistled': 2,\n",
       " 'vaseline': 2,\n",
       " 'wought': 1,\n",
       " 'husht': 1,\n",
       " 'surplus': 1,\n",
       " 'perforate': 1,\n",
       " 'exorcism': 1,\n",
       " 'goodfornothing': 1,\n",
       " 'huddled': 1,\n",
       " 'pierce': 3,\n",
       " 'transubstantial': 1,\n",
       " 'shoots': 3,\n",
       " 'conroy’s': 1,\n",
       " 'annihilation': 3,\n",
       " 'notes': 16,\n",
       " 'traceable': 1,\n",
       " 'wouldyousetashoe': 1,\n",
       " 'laqueo': 1,\n",
       " 'specks': 1,\n",
       " 'wherefore': 3,\n",
       " 'portfolio': 4,\n",
       " 'haja': 1,\n",
       " 'clefts': 1,\n",
       " 'hoarse': 11,\n",
       " 'puff': 8,\n",
       " 'soll': 1,\n",
       " 'expiring': 1,\n",
       " 'chace': 1,\n",
       " 'avec': 2,\n",
       " 'sundays': 1,\n",
       " 'cogitation': 1,\n",
       " 'sergeant': 4,\n",
       " 'bam': 1,\n",
       " 'record': 4,\n",
       " 'cousins': 4,\n",
       " 'outsider': 7,\n",
       " 'ethel': 1,\n",
       " 'priests': 12,\n",
       " 'reflective': 1,\n",
       " 'hawkins': 1,\n",
       " 'elbowlength': 1,\n",
       " 'handicapped': 2,\n",
       " 'watchchain': 3,\n",
       " 'pears': 3,\n",
       " '20000': 2,\n",
       " 'drivel': 2,\n",
       " 'adderly': 1,\n",
       " 'jets': 1,\n",
       " 'bespeaks': 1,\n",
       " 'silkette': 1,\n",
       " 'fellows': 31,\n",
       " 'inchoate': 1,\n",
       " 'camera': 2,\n",
       " 'they’d': 11,\n",
       " 'messrs': 18,\n",
       " 'brevier': 2,\n",
       " 'tinsel': 2,\n",
       " 'lowers': 1,\n",
       " 'homer’s': 1,\n",
       " 'sotto': 1,\n",
       " 'unrolled': 3,\n",
       " 'enoch': 1,\n",
       " 'suspending': 1,\n",
       " 'pearcy': 1,\n",
       " 'flowered': 2,\n",
       " 'pommelling': 1,\n",
       " 'symphathy': 1,\n",
       " 'durned': 1,\n",
       " 'blackbird': 1,\n",
       " 'pits': 1,\n",
       " 'steppingstones': 1,\n",
       " 'savage': 5,\n",
       " 'referee': 1,\n",
       " 'souvenir': 1,\n",
       " 'member’s': 1,\n",
       " 'exitu': 1,\n",
       " 'festivities': 1,\n",
       " 'poll': 6,\n",
       " 'braying': 1,\n",
       " 'awned': 1,\n",
       " 'thanksgiving': 3,\n",
       " 'lineaments': 1,\n",
       " 'agelong': 1,\n",
       " 'three': 169,\n",
       " 'properties': 2,\n",
       " 'childish': 1,\n",
       " 'herzog': 4,\n",
       " 'gatherer': 1,\n",
       " 'replaced': 2,\n",
       " 'habits': 5,\n",
       " 'youngun': 1,\n",
       " 'insects': 4,\n",
       " 'acidulous': 1,\n",
       " 'principal': 2,\n",
       " 'pleasing': 2,\n",
       " 'arnott’s': 1,\n",
       " 'home': 116,\n",
       " 'refectory': 1,\n",
       " 'meditation': 2,\n",
       " 'downhill': 1,\n",
       " 'screws': 2,\n",
       " 'bang': 11,\n",
       " 'pearl': 3,\n",
       " 'workmen': 1,\n",
       " 'record—in': 1,\n",
       " 'claimed': 3,\n",
       " 'elizabethan': 1,\n",
       " 'fishgods': 1,\n",
       " 'canvassing': 4,\n",
       " 'midwife': 2,\n",
       " 'maraschino': 1,\n",
       " '—how’s': 3,\n",
       " 'temples': 2,\n",
       " 'disappeared': 6,\n",
       " 'congested': 2,\n",
       " 'jones’': 1,\n",
       " 'grotto': 1,\n",
       " 'paris': 30,\n",
       " 'submersion': 1,\n",
       " 'unexpurgated': 1,\n",
       " 'revolting': 2,\n",
       " 'hazard': 3,\n",
       " 'enlarged': 1,\n",
       " 'whosoever': 1,\n",
       " 'freemans': 1,\n",
       " 'crozier': 2,\n",
       " 'vive': 3,\n",
       " 'stentorian': 1,\n",
       " 'outrageous': 1,\n",
       " 'whatness': 2,\n",
       " 'morbidminded': 1,\n",
       " 'almanac': 3,\n",
       " 'glendalough': 1,\n",
       " 'belfast': 9,\n",
       " 'reads': 9,\n",
       " 'humbleness': 1,\n",
       " 'spatting': 1,\n",
       " 'horseplay': 1,\n",
       " 'naturelles': 1,\n",
       " 'conservation': 1,\n",
       " 'finishing': 1,\n",
       " 'leagues': 2,\n",
       " 'devil’s': 2,\n",
       " 'seriocomic': 1,\n",
       " 'tramline': 6,\n",
       " 'moneyed': 2,\n",
       " 'sacrifice': 5,\n",
       " 'ripped': 1,\n",
       " 'necklace': 2,\n",
       " 'flasks': 1,\n",
       " 'shoulderblade': 2,\n",
       " 'flagellate': 2,\n",
       " '—start': 1,\n",
       " 'head': 222,\n",
       " 'deceitful': 1,\n",
       " 'torches': 2,\n",
       " 'dunne': 3,\n",
       " 'plaguegraves': 1,\n",
       " 'unlink': 1,\n",
       " 'seafire': 1,\n",
       " 'erse': 1,\n",
       " 'what': 834,\n",
       " 'stings': 1,\n",
       " 'professional': 9,\n",
       " 'trampling': 2,\n",
       " 'movements': 7,\n",
       " '1d': 5,\n",
       " '6th': 1,\n",
       " 'woodwork': 1,\n",
       " 'dodder': 2,\n",
       " 'profit': 6,\n",
       " 'unweaving': 1,\n",
       " 'accouchement': 1,\n",
       " 'ghastly': 3,\n",
       " 'gulf': 1,\n",
       " 'athenian': 1,\n",
       " 'abrines': 1,\n",
       " 'nighthag': 1,\n",
       " 'dissectingroom': 1,\n",
       " 'sandow’s': 3,\n",
       " 'merciless': 1,\n",
       " 'perpetuating': 1,\n",
       " 'message': 7,\n",
       " 'exchanged': 3,\n",
       " 'acme': 3,\n",
       " 'shrewd': 5,\n",
       " 'cubicles': 1,\n",
       " 'eustace’s': 1,\n",
       " 'indeterminate': 1,\n",
       " 'blandishments': 1,\n",
       " 'removing': 1,\n",
       " 'lamentation': 1,\n",
       " 'punishment': 5,\n",
       " 'rued': 1,\n",
       " 'dairy': 4,\n",
       " 'monstrance': 1,\n",
       " 'wipe': 6,\n",
       " 'appendage': 1,\n",
       " 'stool': 5,\n",
       " 'timothy': 3,\n",
       " 'fruit': 17,\n",
       " 'shannon': 3,\n",
       " 'roads': 4,\n",
       " 'swearing': 3,\n",
       " 'regal': 1,\n",
       " 'growlers': 1,\n",
       " 'affecting': 3,\n",
       " 'unconquered': 1,\n",
       " 'comers': 2,\n",
       " 'gracious': 4,\n",
       " 'amours': 2,\n",
       " 'unlucky': 2,\n",
       " 'instance': 25,\n",
       " 'larders': 1,\n",
       " 'culotte': 1,\n",
       " 'jetez': 1,\n",
       " 'horsey': 2,\n",
       " 'bassooned': 1,\n",
       " '—say': 3,\n",
       " 'gautama': 2,\n",
       " 'tissues': 8,\n",
       " 'accorded': 2,\n",
       " 'numerically': 1,\n",
       " 'slieve': 4,\n",
       " 'tangier': 2,\n",
       " 'dudley': 8,\n",
       " 'interest': 20,\n",
       " 'quintessential': 1,\n",
       " 'stirrup': 1,\n",
       " 'ergo': 2,\n",
       " 'skinfood': 1,\n",
       " 'opposite': 33,\n",
       " 'spectacles': 8,\n",
       " 'cits': 1,\n",
       " 'slipped': 9,\n",
       " 'coroner’s': 1,\n",
       " 'smirked': 1,\n",
       " 'yacht': 1,\n",
       " 'shapeless': 1,\n",
       " 'nono': 1,\n",
       " 'toppling': 5,\n",
       " 'dearg': 1,\n",
       " 'merrying': 1,\n",
       " 'bumpkin’s': 1,\n",
       " 'soul’s': 3,\n",
       " 'pious': 9,\n",
       " 'rathfarnham': 2,\n",
       " 'nuts': 7,\n",
       " 'ounces': 1,\n",
       " 'precaution': 3,\n",
       " 'artistic': 7,\n",
       " 'stony': 5,\n",
       " 'sillymilly': 1,\n",
       " 'vulnerable': 2,\n",
       " 'viper': 2,\n",
       " '—eight': 1,\n",
       " 'battery': 2,\n",
       " 'lateness': 1,\n",
       " 'sawbones': 1,\n",
       " 'disproportion': 1,\n",
       " 'lir’s': 1,\n",
       " 'play’s': 1,\n",
       " 'acuminated': 1,\n",
       " 'herd': 2,\n",
       " 'jaw': 9,\n",
       " 'harmonically': 1,\n",
       " 'dorothy': 1,\n",
       " 'innately': 1,\n",
       " 'elect': 3,\n",
       " 'theobald': 2,\n",
       " 'matin': 1,\n",
       " 'prayers': 8,\n",
       " 'rushed': 4,\n",
       " 'emptying': 3,\n",
       " 'gros': 1,\n",
       " 'subscribe': 1,\n",
       " 'lath': 3,\n",
       " 'conquer': 1,\n",
       " 'prius': 2,\n",
       " 'frontlet': 1,\n",
       " 'bingham': 1,\n",
       " 'defy': 1,\n",
       " 'fruitcake': 1,\n",
       " 'celestials': 1,\n",
       " 'plops': 1,\n",
       " 'sugary': 2,\n",
       " 'chamber': 15,\n",
       " 'sentinel': 1,\n",
       " 'giver': 3,\n",
       " 'ghost': 26,\n",
       " 'abigail': 1,\n",
       " 'exhausted': 6,\n",
       " 'bugles': 1,\n",
       " 'sixteens': 1,\n",
       " 'pigeonhouse': 2,\n",
       " 'beseeming': 1,\n",
       " 'brightdayler': 1,\n",
       " 'dixon': 20,\n",
       " 'blotchy': 2,\n",
       " 'sidney’s': 2,\n",
       " 'debauchery': 2,\n",
       " 'conveniences': 1,\n",
       " 'verily': 2,\n",
       " 'pettishly': 1,\n",
       " 'efficacies': 1,\n",
       " 'acclamation': 2,\n",
       " 'vartry': 2,\n",
       " 'oldfashioned': 1,\n",
       " 'sank': 12,\n",
       " 'intestated': 1,\n",
       " 'car': 49,\n",
       " 'anne': 5,\n",
       " 'hears': 2,\n",
       " 'joyce': 4,\n",
       " 'suburban': 2,\n",
       " 'shinily': 1,\n",
       " 'influence': 23,\n",
       " 'conundrum': 2,\n",
       " 'vegetative': 1,\n",
       " 'damned': 21,\n",
       " 'outofitnow': 1,\n",
       " 'britannica': 1,\n",
       " 'cornetcy': 1,\n",
       " 'john’s': 1,\n",
       " 'fang': 3,\n",
       " 'says': 473,\n",
       " 'schoolboys': 8,\n",
       " 'immune': 1,\n",
       " 'deacon': 1,\n",
       " 'intensely': 2,\n",
       " 'meant': 22,\n",
       " 'caustic': 1,\n",
       " 'garrison': 3,\n",
       " 'surge': 1,\n",
       " 'trucks': 1,\n",
       " '43': 1,\n",
       " 'reclines': 2,\n",
       " 'tearoom': 1,\n",
       " 'bermudas': 1,\n",
       " 'thered': 2,\n",
       " 'transparencies': 1,\n",
       " 'pressman': 3,\n",
       " 'wanderers': 2,\n",
       " 'rummaging': 1,\n",
       " 'rogerson’s': 2,\n",
       " 'gravel': 4,\n",
       " 'classics': 2,\n",
       " 'nomine': 3,\n",
       " 'yale': 1,\n",
       " 'clogs': 3,\n",
       " '—let’s': 1,\n",
       " 'beseeching': 1,\n",
       " 'alias': 5,\n",
       " 'flora’s': 1,\n",
       " '—huuuh': 1,\n",
       " 'bouncing': 2,\n",
       " 'howbeit': 1,\n",
       " 'darkinbad': 1,\n",
       " 'pissed': 3,\n",
       " 'squealers': 1,\n",
       " 'horizon': 2,\n",
       " 'crimes': 3,\n",
       " 'peachy': 1,\n",
       " 'potteries': 1,\n",
       " 'brangan': 1,\n",
       " '—bergan': 1,\n",
       " 'altitude': 3,\n",
       " 'ounce': 3,\n",
       " 'widger': 2,\n",
       " 'host': 30,\n",
       " 'amusingly': 1,\n",
       " 'cock': 15,\n",
       " 'conceive': 3,\n",
       " 'pasturefields': 1,\n",
       " 'baldynoddle': 1,\n",
       " 'faits': 1,\n",
       " 'verfluchte': 1,\n",
       " 'superman': 1,\n",
       " '—not': 7,\n",
       " 'tidy': 1,\n",
       " 'undo': 2,\n",
       " 'orb': 4,\n",
       " 'witless': 1,\n",
       " 'young': 192,\n",
       " 'bookies': 3,\n",
       " 'upon': 132,\n",
       " 'padlock': 1,\n",
       " 'tennyson': 3,\n",
       " 'hardest': 1,\n",
       " 'daggered': 1,\n",
       " 'beware': 10,\n",
       " 'sodality': 2,\n",
       " 'roguish': 2,\n",
       " 'uneasy': 2,\n",
       " 'tam': 2,\n",
       " 'staggers': 4,\n",
       " 'pannier': 1,\n",
       " 'sizzling': 2,\n",
       " 'skies': 3,\n",
       " 'maintenance': 1,\n",
       " ...}"
      ]
     },
     "execution_count": 177,
     "metadata": {},
     "output_type": "execute_result"
    }
   ],
   "source": [
    "count_dict = counts.collectAsMap()\n",
    "count_dict"
   ]
  },
  {
   "cell_type": "code",
   "execution_count": 178,
   "metadata": {
    "collapsed": false
   },
   "outputs": [
    {
     "data": {
      "text/plain": [
       "20"
      ]
     },
     "execution_count": 178,
     "metadata": {},
     "output_type": "execute_result"
    }
   ],
   "source": [
    "count_dict['circle']"
   ]
  },
  {
   "cell_type": "markdown",
   "metadata": {},
   "source": [
    "# Using cache instead of persist"
   ]
  },
  {
   "cell_type": "code",
   "execution_count": 179,
   "metadata": {
    "collapsed": false
   },
   "outputs": [
    {
     "data": {
      "text/plain": [
       "PythonRDD[196] at RDD at PythonRDD.scala:43"
      ]
     },
     "execution_count": 179,
     "metadata": {},
     "output_type": "execute_result"
    }
   ],
   "source": [
    "counts.unpersist()"
   ]
  },
  {
   "cell_type": "code",
   "execution_count": 180,
   "metadata": {
    "collapsed": false
   },
   "outputs": [
    {
     "data": {
      "text/plain": [
       "False"
      ]
     },
     "execution_count": 180,
     "metadata": {},
     "output_type": "execute_result"
    }
   ],
   "source": [
    "counts.is_cached"
   ]
  },
  {
   "cell_type": "code",
   "execution_count": 181,
   "metadata": {
    "collapsed": false
   },
   "outputs": [
    {
     "data": {
      "text/plain": [
       "PythonRDD[196] at RDD at PythonRDD.scala:43"
      ]
     },
     "execution_count": 181,
     "metadata": {},
     "output_type": "execute_result"
    }
   ],
   "source": [
    "counts.cache()"
   ]
  },
  {
   "cell_type": "code",
   "execution_count": 182,
   "metadata": {
    "collapsed": false
   },
   "outputs": [
    {
     "data": {
      "text/plain": [
       "True"
      ]
     },
     "execution_count": 182,
     "metadata": {},
     "output_type": "execute_result"
    }
   ],
   "source": [
    "counts.is_cached"
   ]
  },
  {
   "cell_type": "markdown",
   "metadata": {},
   "source": [
    "# Merging key, value datasets"
   ]
  },
  {
   "cell_type": "code",
   "execution_count": 183,
   "metadata": {
    "collapsed": true
   },
   "outputs": [],
   "source": [
    "portrait = sc.textFile('/resources/data/Datasets/Portrait.txt')"
   ]
  },
  {
   "cell_type": "code",
   "execution_count": 184,
   "metadata": {
    "collapsed": false
   },
   "outputs": [
    {
     "data": {
      "text/plain": [
       "[\"Project Gutenberg's A Portrait of the Artist as a Young Man, by James Joyce\"]"
      ]
     },
     "execution_count": 184,
     "metadata": {},
     "output_type": "execute_result"
    }
   ],
   "source": [
    "portrait.take(1)"
   ]
  },
  {
   "cell_type": "code",
   "execution_count": 185,
   "metadata": {
    "collapsed": true
   },
   "outputs": [],
   "source": [
    "count1 = (\n",
    "        portrait.flatMap(lambda line: tokenize(line))\n",
    "                .map(lambda word: (word,1))\n",
    "                .reduceByKey(lambda a, b : a + b)\n",
    ")"
   ]
  },
  {
   "cell_type": "code",
   "execution_count": 186,
   "metadata": {
    "collapsed": false
   },
   "outputs": [
    {
     "data": {
      "text/plain": [
       "PythonRDD[214] at RDD at PythonRDD.scala:43"
      ]
     },
     "execution_count": 186,
     "metadata": {},
     "output_type": "execute_result"
    }
   ],
   "source": [
    "count1.persist()"
   ]
  },
  {
   "cell_type": "markdown",
   "metadata": {},
   "source": [
    "# Combine counts for words found in both books"
   ]
  },
  {
   "cell_type": "code",
   "execution_count": 187,
   "metadata": {
    "collapsed": false
   },
   "outputs": [
    {
     "data": {
      "text/plain": [
       "[('mobile', (2, 1)),\n",
       " ('vastness', (1, 1)),\n",
       " ('circle', (20, 1)),\n",
       " ('temptations', (1, 4)),\n",
       " ('withering', (4, 1))]"
      ]
     },
     "execution_count": 187,
     "metadata": {},
     "output_type": "execute_result"
    }
   ],
   "source": [
    "all_counts = counts.join(count1)\n",
    "all_counts.take(5)"
   ]
  },
  {
   "cell_type": "code",
   "execution_count": 189,
   "metadata": {
    "collapsed": false
   },
   "outputs": [
    {
     "data": {
      "text/plain": [
       "[('mobile', 3),\n",
       " ('vastness', 2),\n",
       " ('circle', 21),\n",
       " ('temptations', 5),\n",
       " ('withering', 5),\n",
       " ('spoken', 31),\n",
       " ('belt', 15),\n",
       " ('why', 267),\n",
       " ('shallow', 6),\n",
       " ('preceding', 12)]"
      ]
     },
     "execution_count": 189,
     "metadata": {},
     "output_type": "execute_result"
    }
   ],
   "source": [
    "#sum counts over words\n",
    "all_counts.mapValues(lambda x: x[0] +x[1]).take(10)"
   ]
  },
  {
   "cell_type": "code",
   "execution_count": 188,
   "metadata": {
    "collapsed": false
   },
   "outputs": [
    {
     "data": {
      "text/plain": [
       "[('mobile', 3),\n",
       " ('vastness', 2),\n",
       " ('circle', 21),\n",
       " ('temptations', 5),\n",
       " ('withering', 5),\n",
       " ('spoken', 31),\n",
       " ('belt', 15),\n",
       " ('why', 267),\n",
       " ('shallow', 6),\n",
       " ('preceding', 12)]"
      ]
     },
     "execution_count": 188,
     "metadata": {},
     "output_type": "execute_result"
    }
   ],
   "source": [
    "all_counts.map(lambda x: (x[0], x[1][0] +x[1][1])).take(10)"
   ]
  },
  {
   "cell_type": "code",
   "execution_count": 190,
   "metadata": {
    "collapsed": false
   },
   "outputs": [
    {
     "data": {
      "text/plain": [
       "[('mobile', 1.5),\n",
       " ('vastness', 1.0),\n",
       " ('circle', 10.5),\n",
       " ('temptations', 2.5),\n",
       " ('withering', 2.5)]"
      ]
     },
     "execution_count": 190,
     "metadata": {},
     "output_type": "execute_result"
    }
   ],
   "source": [
    "all_counts.mapValues(lambda x: np.mean(x)).take(5)"
   ]
  },
  {
   "cell_type": "code",
   "execution_count": null,
   "metadata": {
    "collapsed": true
   },
   "outputs": [],
   "source": []
  }
 ],
 "metadata": {
  "kernelspec": {
   "display_name": "Python 3",
   "language": "python",
   "name": "python3"
  },
  "language_info": {
   "codemirror_mode": {
    "name": "ipython",
    "version": 3
   },
   "file_extension": ".py",
   "mimetype": "text/x-python",
   "name": "python",
   "nbconvert_exporter": "python",
   "pygments_lexer": "ipython3",
   "version": "3.4.3"
  },
  "widgets": {
   "state": {},
   "version": "1.1.2"
  }
 },
 "nbformat": 4,
 "nbformat_minor": 0
}
