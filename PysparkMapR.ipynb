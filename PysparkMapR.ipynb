{
 "cells": [
  {
   "cell_type": "code",
   "execution_count": 120,
   "metadata": {
    "collapsed": false
   },
   "outputs": [
    {
     "data": {
      "text/plain": [
       "<pyspark.context.SparkContext at 0x7fbab9460780>"
      ]
     },
     "execution_count": 120,
     "metadata": {},
     "output_type": "execute_result"
    }
   ],
   "source": [
    "sc"
   ]
  },
  {
   "cell_type": "code",
   "execution_count": 121,
   "metadata": {
    "collapsed": false
   },
   "outputs": [
    {
     "data": {
      "text/plain": [
       "'1.6.0'"
      ]
     },
     "execution_count": 121,
     "metadata": {},
     "output_type": "execute_result"
    }
   ],
   "source": [
    "sc.version"
   ]
  },
  {
   "cell_type": "code",
   "execution_count": 63,
   "metadata": {
    "collapsed": false
   },
   "outputs": [
    {
     "data": {
      "text/plain": [
       "'pyspark-shell'"
      ]
     },
     "execution_count": 63,
     "metadata": {},
     "output_type": "execute_result"
    }
   ],
   "source": [
    "sc.appName"
   ]
  },
  {
   "cell_type": "code",
   "execution_count": 64,
   "metadata": {
    "collapsed": false
   },
   "outputs": [
    {
     "data": {
      "text/plain": [
       "'local-1491549814082'"
      ]
     },
     "execution_count": 64,
     "metadata": {},
     "output_type": "execute_result"
    }
   ],
   "source": [
    "sc.applicationId"
   ]
  },
  {
   "cell_type": "code",
   "execution_count": 65,
   "metadata": {
    "collapsed": false
   },
   "outputs": [
    {
     "data": {
      "text/plain": [
       "16"
      ]
     },
     "execution_count": 65,
     "metadata": {},
     "output_type": "execute_result"
    }
   ],
   "source": [
    "sc.defaultParallelism"
   ]
  },
  {
   "cell_type": "code",
   "execution_count": 66,
   "metadata": {
    "collapsed": false
   },
   "outputs": [
    {
     "data": {
      "text/plain": [
       "2"
      ]
     },
     "execution_count": 66,
     "metadata": {},
     "output_type": "execute_result"
    }
   ],
   "source": [
    "sc.defaultMinPartitions"
   ]
  },
  {
   "cell_type": "code",
   "execution_count": 67,
   "metadata": {
    "collapsed": false
   },
   "outputs": [
    {
     "data": {
      "text/plain": [
       "{'PYTHONHASHSEED': '0'}"
      ]
     },
     "execution_count": 67,
     "metadata": {},
     "output_type": "execute_result"
    }
   ],
   "source": [
    "sc.environment"
   ]
  },
  {
   "cell_type": "code",
   "execution_count": 68,
   "metadata": {
    "collapsed": false
   },
   "outputs": [
    {
     "data": {
      "text/plain": [
       "'local[*]'"
      ]
     },
     "execution_count": 68,
     "metadata": {},
     "output_type": "execute_result"
    }
   ],
   "source": [
    "sc.master"
   ]
  },
  {
   "cell_type": "code",
   "execution_count": 69,
   "metadata": {
    "collapsed": false
   },
   "outputs": [
    {
     "data": {
      "text/plain": [
       "1491549810921"
      ]
     },
     "execution_count": 69,
     "metadata": {},
     "output_type": "execute_result"
    }
   ],
   "source": [
    "sc.startTime"
   ]
  },
  {
   "cell_type": "code",
   "execution_count": 70,
   "metadata": {
    "collapsed": false
   },
   "outputs": [
    {
     "data": {
      "text/plain": [
       "'notebook'"
      ]
     },
     "execution_count": 70,
     "metadata": {},
     "output_type": "execute_result"
    }
   ],
   "source": [
    "sc.sparkUser()"
   ]
  },
  {
   "cell_type": "code",
   "execution_count": 71,
   "metadata": {
    "collapsed": false
   },
   "outputs": [
    {
     "data": {
      "text/plain": [
       "'3.4'"
      ]
     },
     "execution_count": 71,
     "metadata": {},
     "output_type": "execute_result"
    }
   ],
   "source": [
    "sc.pythonVer"
   ]
  },
  {
   "cell_type": "code",
   "execution_count": 72,
   "metadata": {
    "collapsed": false
   },
   "outputs": [
    {
     "data": {
      "text/plain": [
       "('.zip', '.egg', '.jar')"
      ]
     },
     "execution_count": 72,
     "metadata": {},
     "output_type": "execute_result"
    }
   ],
   "source": [
    "sc.PACKAGE_EXTENSIONS"
   ]
  },
  {
   "cell_type": "code",
   "execution_count": 73,
   "metadata": {
    "collapsed": false
   },
   "outputs": [
    {
     "data": {
      "text/plain": [
       "'python'"
      ]
     },
     "execution_count": 73,
     "metadata": {},
     "output_type": "execute_result"
    }
   ],
   "source": [
    "sc.pythonExec"
   ]
  },
  {
   "cell_type": "code",
   "execution_count": 74,
   "metadata": {
    "collapsed": true
   },
   "outputs": [],
   "source": [
    "rdd = sc.parallelize(['I', 'will', 'complete', 'learning', 'Spark'])\n",
    "rdd1 = sc.parallelize(['using', 'Jupyter' , 'Notebook', 'in', '20', 'days'],8)"
   ]
  },
  {
   "cell_type": "code",
   "execution_count": 75,
   "metadata": {
    "collapsed": false
   },
   "outputs": [
    {
     "data": {
      "text/plain": [
       "ParallelCollectionRDD[58] at parallelize at PythonRDD.scala:423"
      ]
     },
     "execution_count": 75,
     "metadata": {},
     "output_type": "execute_result"
    }
   ],
   "source": [
    "rdd"
   ]
  },
  {
   "cell_type": "code",
   "execution_count": 76,
   "metadata": {
    "collapsed": false
   },
   "outputs": [
    {
     "data": {
      "text/plain": [
       "ParallelCollectionRDD[59] at parallelize at PythonRDD.scala:423"
      ]
     },
     "execution_count": 76,
     "metadata": {},
     "output_type": "execute_result"
    }
   ],
   "source": [
    "rdd1"
   ]
  },
  {
   "cell_type": "code",
   "execution_count": 77,
   "metadata": {
    "collapsed": false
   },
   "outputs": [
    {
     "data": {
      "text/plain": [
       "16"
      ]
     },
     "execution_count": 77,
     "metadata": {},
     "output_type": "execute_result"
    }
   ],
   "source": [
    "rdd.getNumPartitions()"
   ]
  },
  {
   "cell_type": "code",
   "execution_count": 78,
   "metadata": {
    "collapsed": false
   },
   "outputs": [
    {
     "data": {
      "text/plain": [
       "8"
      ]
     },
     "execution_count": 78,
     "metadata": {},
     "output_type": "execute_result"
    }
   ],
   "source": [
    "rdd1.getNumPartitions()"
   ]
  },
  {
   "cell_type": "code",
   "execution_count": 79,
   "metadata": {
    "collapsed": false
   },
   "outputs": [
    {
     "data": {
      "text/plain": [
       "b'(16) ParallelCollectionRDD[58] at parallelize at PythonRDD.scala:423 []'"
      ]
     },
     "execution_count": 79,
     "metadata": {},
     "output_type": "execute_result"
    }
   ],
   "source": [
    "rdd.toDebugString()"
   ]
  },
  {
   "cell_type": "code",
   "execution_count": 80,
   "metadata": {
    "collapsed": false
   },
   "outputs": [
    {
     "data": {
      "text/plain": [
       "b'(8) ParallelCollectionRDD[59] at parallelize at PythonRDD.scala:423 []'"
      ]
     },
     "execution_count": 80,
     "metadata": {},
     "output_type": "execute_result"
    }
   ],
   "source": [
    "rdd1.toDebugString()"
   ]
  },
  {
   "cell_type": "code",
   "execution_count": 81,
   "metadata": {
    "collapsed": true
   },
   "outputs": [],
   "source": [
    "rdd2 = rdd1.coalesce(2)"
   ]
  },
  {
   "cell_type": "code",
   "execution_count": 82,
   "metadata": {
    "collapsed": false
   },
   "outputs": [
    {
     "data": {
      "text/plain": [
       "2"
      ]
     },
     "execution_count": 82,
     "metadata": {},
     "output_type": "execute_result"
    }
   ],
   "source": [
    "rdd2.getNumPartitions()"
   ]
  },
  {
   "cell_type": "markdown",
   "metadata": {},
   "source": [
    "# Lab 1 : MapR"
   ]
  },
  {
   "cell_type": "code",
   "execution_count": 83,
   "metadata": {
    "collapsed": true
   },
   "outputs": [],
   "source": [
    "# read auction data into an RDD\n",
    "auctionRDD = sc.textFile(\"./data/MaprDataFiles/auctiondata.csv\")"
   ]
  },
  {
   "cell_type": "code",
   "execution_count": 84,
   "metadata": {
    "collapsed": false
   },
   "outputs": [
    {
     "data": {
      "text/plain": [
       "['8213034705,95,2.927373,jake7870,0,95,117.5,xbox,3',\n",
       " '8213034705,115,2.943484,davidbresler2,1,95,117.5,xbox,3',\n",
       " '8213034705,100,2.951285,gladimacowgirl,58,95,117.5,xbox,3',\n",
       " '8213034705,117.5,2.998947,daysrus,10,95,117.5,xbox,3',\n",
       " '8213060420,2,0.065266,donnie4814,5,1,120,xbox,3',\n",
       " '8213060420,15.25,0.123218,myreeceyboy,52,1,120,xbox,3',\n",
       " '8213060420,3,0.186539,parakeet2004,5,1,120,xbox,3',\n",
       " '8213060420,10,0.18669,parakeet2004,5,1,120,xbox,3',\n",
       " '8213060420,24.99,0.187049,parakeet2004,5,1,120,xbox,3',\n",
       " '8213060420,20,0.249491,bluebubbles_1,25,1,120,xbox,3']"
      ]
     },
     "execution_count": 84,
     "metadata": {},
     "output_type": "execute_result"
    }
   ],
   "source": [
    "# explore data in the file by looking at first 10 lines using 'take' command \n",
    "auctionRDD.take(10)"
   ]
  },
  {
   "cell_type": "code",
   "execution_count": 85,
   "metadata": {
    "collapsed": true
   },
   "outputs": [],
   "source": [
    "# if you see above output, we can observe that \n",
    "# 1. Output is a list of elements\n",
    "# 2. each line in the file has become an element\n",
    "\n",
    "# This is not usable for our analysis. We need to split each line into seperate fields based on comma \n",
    "# delimiter\n",
    "\n",
    "auctionsRDD = auctionRDD.map(lambda line: line.split(\",\"))"
   ]
  },
  {
   "cell_type": "code",
   "execution_count": 86,
   "metadata": {
    "collapsed": false
   },
   "outputs": [
    {
     "data": {
      "text/plain": [
       "[['8213034705', '95', '2.927373', 'jake7870', '0', '95', '117.5', 'xbox', '3'],\n",
       " ['8213034705',\n",
       "  '115',\n",
       "  '2.943484',\n",
       "  'davidbresler2',\n",
       "  '1',\n",
       "  '95',\n",
       "  '117.5',\n",
       "  'xbox',\n",
       "  '3'],\n",
       " ['8213034705',\n",
       "  '100',\n",
       "  '2.951285',\n",
       "  'gladimacowgirl',\n",
       "  '58',\n",
       "  '95',\n",
       "  '117.5',\n",
       "  'xbox',\n",
       "  '3']]"
      ]
     },
     "execution_count": 86,
     "metadata": {},
     "output_type": "execute_result"
    }
   ],
   "source": [
    "# lets take a look at data inside auctionsRDD\n",
    "auctionsRDD.take(3)"
   ]
  },
  {
   "cell_type": "code",
   "execution_count": 87,
   "metadata": {
    "collapsed": true
   },
   "outputs": [],
   "source": [
    "# If you see above output, it is a list of lists each list inside the main list represents a line in the file\n",
    "# Each element inside the inner list represents a field or value\n",
    "\n",
    "# Now, declare variables and assign positions so that we can refer various columns in the above RDD using names instead of numbers. \n",
    "# Ex: auctionsRDD[aucid] instead of auctionsRDD[0] \n",
    "# this approach is for best practice as it improves readablility.\n",
    "aucid = 0\n",
    "bid = 1\n",
    "bidtime = 2\n",
    "bidder = 3\n",
    "bidderrate = 4\n",
    "openbid = 5\n",
    "price = 6\n",
    "itemtype = 7\n",
    "dtl = 8"
   ]
  },
  {
   "cell_type": "markdown",
   "metadata": {},
   "source": [
    "#### Lets explore this dataset more !!"
   ]
  },
  {
   "cell_type": "code",
   "execution_count": 88,
   "metadata": {
    "collapsed": false
   },
   "outputs": [
    {
     "data": {
      "text/plain": [
       "['8213034705', '95', '2.927373', 'jake7870', '0', '95', '117.5', 'xbox', '3']"
      ]
     },
     "execution_count": 88,
     "metadata": {},
     "output_type": "execute_result"
    }
   ],
   "source": [
    "# 1. How do you see the first element of the auctionsRDD?\n",
    "auctionsRDD.first()"
   ]
  },
  {
   "cell_type": "code",
   "execution_count": 89,
   "metadata": {
    "collapsed": false
   },
   "outputs": [
    {
     "data": {
      "text/plain": [
       "[['8213034705', '95', '2.927373', 'jake7870', '0', '95', '117.5', 'xbox', '3'],\n",
       " ['8213034705',\n",
       "  '115',\n",
       "  '2.943484',\n",
       "  'davidbresler2',\n",
       "  '1',\n",
       "  '95',\n",
       "  '117.5',\n",
       "  'xbox',\n",
       "  '3'],\n",
       " ['8213034705',\n",
       "  '100',\n",
       "  '2.951285',\n",
       "  'gladimacowgirl',\n",
       "  '58',\n",
       "  '95',\n",
       "  '117.5',\n",
       "  'xbox',\n",
       "  '3'],\n",
       " ['8213034705',\n",
       "  '117.5',\n",
       "  '2.998947',\n",
       "  'daysrus',\n",
       "  '10',\n",
       "  '95',\n",
       "  '117.5',\n",
       "  'xbox',\n",
       "  '3'],\n",
       " ['8213060420', '2', '0.065266', 'donnie4814', '5', '1', '120', 'xbox', '3']]"
      ]
     },
     "execution_count": 89,
     "metadata": {},
     "output_type": "execute_result"
    }
   ],
   "source": [
    "# 2. What do you use to see the first 5 elements of the RDD?\n",
    "auctionsRDD.take(5)"
   ]
  },
  {
   "cell_type": "code",
   "execution_count": 90,
   "metadata": {
    "collapsed": false
   },
   "outputs": [
    {
     "data": {
      "text/plain": [
       "10654"
      ]
     },
     "execution_count": 90,
     "metadata": {},
     "output_type": "execute_result"
    }
   ],
   "source": [
    "# 3. What is the total number of bids?\n",
    "totbids = auctionsRDD.count()\n",
    "totbids"
   ]
  },
  {
   "cell_type": "code",
   "execution_count": 91,
   "metadata": {
    "collapsed": false
   },
   "outputs": [
    {
     "data": {
      "text/plain": [
       "627"
      ]
     },
     "execution_count": 91,
     "metadata": {},
     "output_type": "execute_result"
    }
   ],
   "source": [
    "# 4. What is the total number of distinct items that were auctioned?\n",
    "totitems = auctionsRDD.map(lambda auction: auction[aucid]).distinct().count()\n",
    "totitems"
   ]
  },
  {
   "cell_type": "code",
   "execution_count": 92,
   "metadata": {
    "collapsed": false
   },
   "outputs": [
    {
     "data": {
      "text/plain": [
       "3"
      ]
     },
     "execution_count": 92,
     "metadata": {},
     "output_type": "execute_result"
    }
   ],
   "source": [
    "# 5. What is the total number of item types that were auctioned?\n",
    "totitemtype = auctionsRDD.map(lambda auction:auction[itemtype]).distinct().count()\n",
    "totitemtype"
   ]
  },
  {
   "cell_type": "code",
   "execution_count": 93,
   "metadata": {
    "collapsed": false
   },
   "outputs": [
    {
     "data": {
      "text/plain": [
       "[('xbox', 2784), ('palm', 5917), ('cartier', 1953)]"
      ]
     },
     "execution_count": 93,
     "metadata": {},
     "output_type": "execute_result"
    }
   ],
   "source": [
    "# 6. What is the total number of bids per item type?\n",
    "bids_itemtype = auctionsRDD.map(lambda auction : (auction[itemtype], 1)).reduceByKey(lambda a,b:a+b)\n",
    "bids_itemtype.collect()\n",
    "#otherways\n",
    "# totitemtype = auctionsRDD.map(lambda auction:(auction[itemtype],1)).countByKey()\n",
    "# totitemtype = auctionsRDD.map(lambda auction:auction[itemtype]).countByValue()"
   ]
  },
  {
   "cell_type": "code",
   "execution_count": 94,
   "metadata": {
    "collapsed": false
   },
   "outputs": [
    {
     "data": {
      "text/plain": [
       "75"
      ]
     },
     "execution_count": 94,
     "metadata": {},
     "output_type": "execute_result"
    }
   ],
   "source": [
    "# 8. Across all auctioned items, what is the maximum number of bids?\n",
    "maxbids = auctionsRDD.map(lambda auction: (auction[aucid],1)) \\\n",
    "                            .reduceByKey(lambda x,y:x+y) \\\n",
    "                            .map(lambda x: x[1]).reduce(max)\n",
    "maxbids        "
   ]
  },
  {
   "cell_type": "code",
   "execution_count": 95,
   "metadata": {
    "collapsed": false
   },
   "outputs": [
    {
     "data": {
      "text/plain": [
       "1"
      ]
     },
     "execution_count": 95,
     "metadata": {},
     "output_type": "execute_result"
    }
   ],
   "source": [
    "# 9. Across all auctioned items, what is the minimum number of bids?\n",
    "minbids = auctionsRDD.map(lambda auction: (auction[aucid],1)) \\\n",
    "                            .reduceByKey(lambda x,y:x+y) \\\n",
    "                            .map(lambda x: x[1]).reduce(min)\n",
    "minbids        "
   ]
  },
  {
   "cell_type": "code",
   "execution_count": 96,
   "metadata": {
    "collapsed": false
   },
   "outputs": [
    {
     "data": {
      "text/plain": [
       "16.992025518341308"
      ]
     },
     "execution_count": 96,
     "metadata": {},
     "output_type": "execute_result"
    }
   ],
   "source": [
    "# 10. What is the average number of bids per auction? Hint: totalbids/totalauctions\n",
    "#totalbids = auctionsRDD.map(lambda auction: (auction[aucid],1)).reduceByKey(lambda x,y:x+y).map(lambda x: x[1]).sum()\n",
    "avgbids = totbids/totitems      \n",
    "avgbids"
   ]
  },
  {
   "cell_type": "markdown",
   "metadata": {},
   "source": [
    "# Caching RDDs:"
   ]
  },
  {
   "cell_type": "code",
   "execution_count": 97,
   "metadata": {
    "collapsed": false
   },
   "outputs": [
    {
     "data": {
      "text/plain": [
       "PythonRDD[97] at RDD at PythonRDD.scala:43"
      ]
     },
     "execution_count": 97,
     "metadata": {},
     "output_type": "execute_result"
    }
   ],
   "source": [
    "#7. Create an RDD that contains total bids for each auction.\n",
    "bidsAuctionRDD = auctionsRDD.map(lambda auction: (auction[aucid],1)).reduceByKey(lambda x,y:x+y)\n",
    "bidsAuctionRDD.persist()    "
   ]
  },
  {
   "cell_type": "code",
   "execution_count": 98,
   "metadata": {
    "collapsed": false
   },
   "outputs": [
    {
     "data": {
      "text/plain": [
       "[('3024579522', 7),\n",
       " ('3018964794', 20),\n",
       " ('3014314236', 5),\n",
       " ('8214279576', 4),\n",
       " ('1643136423', 10)]"
      ]
     },
     "execution_count": 98,
     "metadata": {},
     "output_type": "execute_result"
    }
   ],
   "source": [
    "bidsAuctionRDD.take(5)"
   ]
  },
  {
   "cell_type": "code",
   "execution_count": 99,
   "metadata": {
    "collapsed": false
   },
   "outputs": [
    {
     "data": {
      "text/plain": [
       "b'(2) PythonRDD[97] at RDD at PythonRDD.scala:43 [Memory Serialized 1x Replicated]\\n |       CachedPartitions: 1; MemorySize: 4.7 KB; ExternalBlockStoreSize: 0.0 B; DiskSize: 0.0 B\\n |  MapPartitionsRDD[96] at mapPartitions at PythonRDD.scala:374 [Memory Serialized 1x Replicated]\\n |  ShuffledRDD[95] at partitionBy at NativeMethodAccessorImpl.java:-2 [Memory Serialized 1x Replicated]\\n +-(2) PairwiseRDD[94] at reduceByKey at <ipython-input-97-0d8d74e87bfd>:2 [Memory Serialized 1x Replicated]\\n    |  PythonRDD[93] at reduceByKey at <ipython-input-97-0d8d74e87bfd>:2 [Memory Serialized 1x Replicated]\\n    |  MapPartitionsRDD[62] at textFile at NativeMethodAccessorImpl.java:-2 [Memory Serialized 1x Replicated]\\n    |  ./data/MaprDataFiles/auctiondata.csv HadoopRDD[61] at textFile at NativeMethodAccessorImpl.java:-2 [Memory Serialized 1x Replicated]'"
      ]
     },
     "execution_count": 99,
     "metadata": {},
     "output_type": "execute_result"
    }
   ],
   "source": [
    "bidsAuctionRDD.toDebugString()"
   ]
  },
  {
   "cell_type": "code",
   "execution_count": 100,
   "metadata": {
    "collapsed": false
   },
   "outputs": [
    {
     "data": {
      "text/plain": [
       "75"
      ]
     },
     "execution_count": 100,
     "metadata": {},
     "output_type": "execute_result"
    }
   ],
   "source": [
    "maxbids = bidsAuctionRDD.map(lambda bid: bid[1]).reduce(max)\n",
    "maxbids\n",
    "# maxbids = bidsAuctionRDD.map(lambda bid: bid[1]).max()"
   ]
  },
  {
   "cell_type": "code",
   "execution_count": 101,
   "metadata": {
    "collapsed": false
   },
   "outputs": [
    {
     "data": {
      "text/plain": [
       "1"
      ]
     },
     "execution_count": 101,
     "metadata": {},
     "output_type": "execute_result"
    }
   ],
   "source": [
    "minbids = bidsAuctionRDD.map(lambda bid: bid[1]).reduce(min)\n",
    "minbids\n",
    "# minbids = bidsAuctionRDD.map(lambda bid: bid[1]).min()"
   ]
  },
  {
   "cell_type": "code",
   "execution_count": 102,
   "metadata": {
    "collapsed": false
   },
   "outputs": [
    {
     "data": {
      "text/plain": [
       "[['1639672910',\n",
       "  '5200',\n",
       "  '6.291875',\n",
       "  'esmodeus',\n",
       "  '0',\n",
       "  '5000',\n",
       "  '5400',\n",
       "  'cartier',\n",
       "  '7'],\n",
       " ['1639672910',\n",
       "  '5100',\n",
       "  '6.925520833',\n",
       "  'akapson',\n",
       "  '7',\n",
       "  '5000',\n",
       "  '5400',\n",
       "  'cartier',\n",
       "  '7'],\n",
       " ['1639672910',\n",
       "  '5300',\n",
       "  '6.926469907',\n",
       "  'akapson',\n",
       "  '7',\n",
       "  '5000',\n",
       "  '5400',\n",
       "  'cartier',\n",
       "  '7'],\n",
       " ['1639672910',\n",
       "  '5400',\n",
       "  '6.933402778',\n",
       "  'esmodeus',\n",
       "  '0',\n",
       "  '5000',\n",
       "  '5400',\n",
       "  'cartier',\n",
       "  '7']]"
      ]
     },
     "execution_count": 102,
     "metadata": {},
     "output_type": "execute_result"
    }
   ],
   "source": [
    "auctionsRDD.filter(lambda x: '1639672910' in x).collect()"
   ]
  },
  {
   "cell_type": "code",
   "execution_count": 103,
   "metadata": {
    "collapsed": false
   },
   "outputs": [
    {
     "data": {
      "text/plain": [
       "('1639672910', '5400')"
      ]
     },
     "execution_count": 103,
     "metadata": {},
     "output_type": "execute_result"
    }
   ],
   "source": [
    "maxbidamt = auctionsRDD.map(lambda x: (x[0],x[1])).max(key = lambda x : float(x[1]))\n",
    "maxbidamt"
   ]
  },
  {
   "cell_type": "code",
   "execution_count": 104,
   "metadata": {
    "collapsed": false
   },
   "outputs": [
    {
     "data": {
      "text/plain": [
       "[[1, 2, 3, 4, 5, 6],\n",
       " [7, 8, 9, 10, 11, 12],\n",
       " [13, 14, 15, 16, 17, 18],\n",
       " [19, 20, 21, 22, 23, 24],\n",
       " [25, 26, 27, 28, 29, 30],\n",
       " [31, 32, 33, 34, 35, 36, 37],\n",
       " [38, 39, 40, 41, 42, 43],\n",
       " [44, 45, 46, 47, 48, 49],\n",
       " [50, 51, 52, 53, 54, 55],\n",
       " [56, 57, 58, 59, 60, 61],\n",
       " [62, 63, 64, 65, 66, 67, 68],\n",
       " [69, 70, 71, 72, 73, 74],\n",
       " [75, 76, 77, 78, 79, 80],\n",
       " [81, 82, 83, 84, 85, 86],\n",
       " [87, 88, 89, 90, 91, 92],\n",
       " [93, 94, 95, 96, 97, 98, 99]]"
      ]
     },
     "execution_count": 104,
     "metadata": {},
     "output_type": "execute_result"
    }
   ],
   "source": [
    "# COntents of an RDD inside each partition\n",
    "\n",
    "a = sc.parallelize(range(1, 100))\n",
    "# Return an RDD created by coalescing all elements within each partition into a list.\n",
    "a.glom().collect()"
   ]
  },
  {
   "cell_type": "markdown",
   "metadata": {},
   "source": [
    "## Lab 2"
   ]
  },
  {
   "cell_type": "code",
   "execution_count": 105,
   "metadata": {
    "collapsed": false
   },
   "outputs": [
    {
     "data": {
      "text/plain": [
       "<pyspark.sql.context.HiveContext at 0x7fba9e704eb8>"
      ]
     },
     "execution_count": 105,
     "metadata": {},
     "output_type": "execute_result"
    }
   ],
   "source": [
    "sqlContext"
   ]
  },
  {
   "cell_type": "code",
   "execution_count": 106,
   "metadata": {
    "collapsed": false
   },
   "outputs": [
    {
     "data": {
      "text/plain": [
       "pyspark.sql.context.HiveContext"
      ]
     },
     "execution_count": 106,
     "metadata": {},
     "output_type": "execute_result"
    }
   ],
   "source": [
    "type(sqlContext)"
   ]
  },
  {
   "cell_type": "code",
   "execution_count": 107,
   "metadata": {
    "collapsed": false
   },
   "outputs": [],
   "source": [
    "from pyspark.sql import Row"
   ]
  },
  {
   "cell_type": "code",
   "execution_count": 108,
   "metadata": {
    "collapsed": false
   },
   "outputs": [
    {
     "data": {
      "text/plain": [
       "[['8213034705', '95', '2.927373', 'jake7870', '0', '95', '117.5', 'xbox', '3'],\n",
       " ['8213034705',\n",
       "  '115',\n",
       "  '2.943484',\n",
       "  'davidbresler2',\n",
       "  '1',\n",
       "  '95',\n",
       "  '117.5',\n",
       "  'xbox',\n",
       "  '3'],\n",
       " ['8213034705',\n",
       "  '100',\n",
       "  '2.951285',\n",
       "  'gladimacowgirl',\n",
       "  '58',\n",
       "  '95',\n",
       "  '117.5',\n",
       "  'xbox',\n",
       "  '3'],\n",
       " ['8213034705',\n",
       "  '117.5',\n",
       "  '2.998947',\n",
       "  'daysrus',\n",
       "  '10',\n",
       "  '95',\n",
       "  '117.5',\n",
       "  'xbox',\n",
       "  '3'],\n",
       " ['8213060420', '2', '0.065266', 'donnie4814', '5', '1', '120', 'xbox', '3']]"
      ]
     },
     "execution_count": 108,
     "metadata": {},
     "output_type": "execute_result"
    }
   ],
   "source": [
    "# Load a text file and inferring the Schema Using Reflection\n",
    "inputRDD = sc.textFile(\"./data/MaprDataFiles/auctiondata.csv\").map(lambda lines: lines.split(\",\"))\n",
    "inputRDD.take(5)"
   ]
  },
  {
   "cell_type": "code",
   "execution_count": 109,
   "metadata": {
    "collapsed": false
   },
   "outputs": [],
   "source": [
    "# Parse each line and create a row with proper datatypes\n",
    "auctionsRDD = inputRDD.map(lambda line: Row(aucid = int(line[0]), bid = float(line[1]), bidtime = float(line[2]), \\\n",
    "                                            bidder = line[3], bidderate = int(line[4]), openbid = float(line[5]), \\\n",
    "                                            price = float(line[6]), itemtype = line[7], dtl = int(line[8])))\n"
   ]
  },
  {
   "cell_type": "code",
   "execution_count": 110,
   "metadata": {
    "collapsed": false
   },
   "outputs": [
    {
     "data": {
      "text/plain": [
       "pyspark.rdd.PipelinedRDD"
      ]
     },
     "execution_count": 110,
     "metadata": {},
     "output_type": "execute_result"
    }
   ],
   "source": [
    "type(inputRDD)"
   ]
  },
  {
   "cell_type": "code",
   "execution_count": 111,
   "metadata": {
    "collapsed": false
   },
   "outputs": [
    {
     "data": {
      "text/plain": [
       "pyspark.rdd.PipelinedRDD"
      ]
     },
     "execution_count": 111,
     "metadata": {},
     "output_type": "execute_result"
    }
   ],
   "source": [
    "type(auctionsRDD)"
   ]
  },
  {
   "cell_type": "code",
   "execution_count": 112,
   "metadata": {
    "collapsed": false
   },
   "outputs": [
    {
     "data": {
      "text/plain": [
       "b'(2) PythonRDD[108] at RDD at PythonRDD.scala:43 []\\n |  MapPartitionsRDD[106] at textFile at NativeMethodAccessorImpl.java:-2 []\\n |  ./data/MaprDataFiles/auctiondata.csv HadoopRDD[105] at textFile at NativeMethodAccessorImpl.java:-2 []'"
      ]
     },
     "execution_count": 112,
     "metadata": {},
     "output_type": "execute_result"
    }
   ],
   "source": [
    "auctionsRDD.toDebugString()"
   ]
  },
  {
   "cell_type": "code",
   "execution_count": 113,
   "metadata": {
    "collapsed": true
   },
   "outputs": [],
   "source": [
    "xboxRDD = auctionsRDD.map(lambda line : \"xbox\" in line[7])"
   ]
  },
  {
   "cell_type": "code",
   "execution_count": 114,
   "metadata": {
    "collapsed": false
   },
   "outputs": [
    {
     "data": {
      "text/plain": [
       "b'(2) PythonRDD[109] at RDD at PythonRDD.scala:43 []\\n |  MapPartitionsRDD[106] at textFile at NativeMethodAccessorImpl.java:-2 []\\n |  ./data/MaprDataFiles/auctiondata.csv HadoopRDD[105] at textFile at NativeMethodAccessorImpl.java:-2 []'"
      ]
     },
     "execution_count": 114,
     "metadata": {},
     "output_type": "execute_result"
    }
   ],
   "source": [
    "xboxRDD.toDebugString()"
   ]
  },
  {
   "cell_type": "code",
   "execution_count": 115,
   "metadata": {
    "collapsed": false
   },
   "outputs": [],
   "source": [
    "# create a DataFrame for above RDD\n",
    "auctionsDF = sqlContext.createDataFrame(auctionsRDD)"
   ]
  },
  {
   "cell_type": "code",
   "execution_count": 116,
   "metadata": {
    "collapsed": false
   },
   "outputs": [
    {
     "name": "stdout",
     "output_type": "stream",
     "text": [
      "+----------+-----+--------------+---------+--------+---+--------+-------+-----+\n",
      "|     aucid|  bid|        bidder|bidderate| bidtime|dtl|itemtype|openbid|price|\n",
      "+----------+-----+--------------+---------+--------+---+--------+-------+-----+\n",
      "|8213034705| 95.0|      jake7870|        0|2.927373|  3|    xbox|   95.0|117.5|\n",
      "|8213034705|115.0| davidbresler2|        1|2.943484|  3|    xbox|   95.0|117.5|\n",
      "|8213034705|100.0|gladimacowgirl|       58|2.951285|  3|    xbox|   95.0|117.5|\n",
      "|8213034705|117.5|       daysrus|       10|2.998947|  3|    xbox|   95.0|117.5|\n",
      "|8213060420|  2.0|    donnie4814|        5|0.065266|  3|    xbox|    1.0|120.0|\n",
      "|8213060420|15.25|   myreeceyboy|       52|0.123218|  3|    xbox|    1.0|120.0|\n",
      "|8213060420|  3.0|  parakeet2004|        5|0.186539|  3|    xbox|    1.0|120.0|\n",
      "|8213060420| 10.0|  parakeet2004|        5| 0.18669|  3|    xbox|    1.0|120.0|\n",
      "|8213060420|24.99|  parakeet2004|        5|0.187049|  3|    xbox|    1.0|120.0|\n",
      "|8213060420| 20.0| bluebubbles_1|       25|0.249491|  3|    xbox|    1.0|120.0|\n",
      "|8213060420| 22.0| bluebubbles_1|       25| 0.24956|  3|    xbox|    1.0|120.0|\n",
      "|8213060420| 24.0| bluebubbles_1|       25|0.249653|  3|    xbox|    1.0|120.0|\n",
      "|8213060420| 26.0| bluebubbles_1|       25|0.249757|  3|    xbox|    1.0|120.0|\n",
      "|8213060420| 80.0|        sa4741|        3| 0.59059|  3|    xbox|    1.0|120.0|\n",
      "|8213060420| 75.0|     jhnsn2273|       51|0.657384|  3|    xbox|    1.0|120.0|\n",
      "|8213060420| 85.0|     jhnsn2273|       51|0.657917|  3|    xbox|    1.0|120.0|\n",
      "|8213060420| 83.0|        sa4741|        3|0.816447|  3|    xbox|    1.0|120.0|\n",
      "|8213060420|100.0|        sa4741|        3|1.005903|  3|    xbox|    1.0|120.0|\n",
      "|8213060420|100.0|     jhnsn2273|       51|1.012697|  3|    xbox|    1.0|120.0|\n",
      "|8213060420|110.0|     jhnsn2273|       51|1.013056|  3|    xbox|    1.0|120.0|\n",
      "+----------+-----+--------------+---------+--------+---+--------+-------+-----+\n",
      "only showing top 20 rows\n",
      "\n"
     ]
    }
   ],
   "source": [
    "auctionsDF.show()"
   ]
  },
  {
   "cell_type": "code",
   "execution_count": 117,
   "metadata": {
    "collapsed": false
   },
   "outputs": [
    {
     "name": "stdout",
     "output_type": "stream",
     "text": [
      "root\n",
      " |-- aucid: long (nullable = true)\n",
      " |-- bid: double (nullable = true)\n",
      " |-- bidder: string (nullable = true)\n",
      " |-- bidderate: long (nullable = true)\n",
      " |-- bidtime: double (nullable = true)\n",
      " |-- dtl: long (nullable = true)\n",
      " |-- itemtype: string (nullable = true)\n",
      " |-- openbid: double (nullable = true)\n",
      " |-- price: double (nullable = true)\n",
      "\n"
     ]
    }
   ],
   "source": [
    "auctionsDF.printSchema()"
   ]
  },
  {
   "cell_type": "code",
   "execution_count": 118,
   "metadata": {
    "collapsed": false
   },
   "outputs": [],
   "source": [
    "# Register dataframe as a table\n",
    "auctionsDF.registerTempTable(\"auctionTbl\")"
   ]
  },
  {
   "cell_type": "code",
   "execution_count": 119,
   "metadata": {
    "collapsed": false
   },
   "outputs": [
    {
     "ename": "NameError",
     "evalue": "name 'auctionTbl' is not defined",
     "output_type": "error",
     "traceback": [
      "\u001b[0;31m---------------------------------------------------------------------------\u001b[0m",
      "\u001b[0;31mNameError\u001b[0m                                 Traceback (most recent call last)",
      "\u001b[0;32m<ipython-input-119-d6f44a1998c5>\u001b[0m in \u001b[0;36m<module>\u001b[0;34m()\u001b[0m\n\u001b[0;32m----> 1\u001b[0;31m \u001b[0mtype\u001b[0m\u001b[0;34m(\u001b[0m\u001b[0mauctionTbl\u001b[0m\u001b[0;34m)\u001b[0m\u001b[0;34m\u001b[0m\u001b[0m\n\u001b[0m",
      "\u001b[0;31mNameError\u001b[0m: name 'auctionTbl' is not defined"
     ]
    }
   ],
   "source": [
    "type(auctionTbl)"
   ]
  },
  {
   "cell_type": "code",
   "execution_count": null,
   "metadata": {
    "collapsed": false
   },
   "outputs": [],
   "source": [
    "sqlContext.sql(\"show tables\").show()"
   ]
  },
  {
   "cell_type": "code",
   "execution_count": null,
   "metadata": {
    "collapsed": false
   },
   "outputs": [],
   "source": [
    "auctionsDF.count()"
   ]
  },
  {
   "cell_type": "code",
   "execution_count": null,
   "metadata": {
    "collapsed": false
   },
   "outputs": [],
   "source": [
    "auctionsDF.cache()"
   ]
  },
  {
   "cell_type": "code",
   "execution_count": null,
   "metadata": {
    "collapsed": false
   },
   "outputs": [],
   "source": [
    "auctionsDF.describe()"
   ]
  },
  {
   "cell_type": "code",
   "execution_count": null,
   "metadata": {
    "collapsed": false
   },
   "outputs": [],
   "source": [
    "auctionsDF.columns"
   ]
  },
  {
   "cell_type": "code",
   "execution_count": null,
   "metadata": {
    "collapsed": false
   },
   "outputs": [],
   "source": [
    "auctionsDF.groupby(\"itemtype\").count().show()"
   ]
  },
  {
   "cell_type": "code",
   "execution_count": null,
   "metadata": {
    "collapsed": false
   },
   "outputs": [],
   "source": [
    "auctionsDF.select(\"itemtype\").distinct().show()"
   ]
  },
  {
   "cell_type": "markdown",
   "metadata": {},
   "source": [
    "## Lets answer few questions about data in this dataframe"
   ]
  },
  {
   "cell_type": "code",
   "execution_count": null,
   "metadata": {
    "collapsed": false
   },
   "outputs": [],
   "source": [
    "#1. What is the total number of bids?\n",
    "auctionsDF.count()"
   ]
  },
  {
   "cell_type": "code",
   "execution_count": null,
   "metadata": {
    "collapsed": false
   },
   "outputs": [],
   "source": [
    "#2. What is the number of distinct auctions?\n",
    "auctionsDF.select(\"aucid\").distinct().count()"
   ]
  },
  {
   "cell_type": "code",
   "execution_count": null,
   "metadata": {
    "collapsed": false
   },
   "outputs": [],
   "source": [
    "#3. What is the number of distinct itemtypes?\n",
    "auctionsDF.select(\"itemtype\").distinct().count()"
   ]
  },
  {
   "cell_type": "code",
   "execution_count": null,
   "metadata": {
    "collapsed": false
   },
   "outputs": [],
   "source": [
    "#4. We would like a count of bids per auction and the item type (as shown below). How would you do this?\n",
    "auctionsDF.groupBy(\"itemtype\", \"aucid\").count().show()"
   ]
  },
  {
   "cell_type": "code",
   "execution_count": null,
   "metadata": {
    "collapsed": false
   },
   "outputs": [],
   "source": [
    "# 5. For each auction item and item type, we want the max, min and average number of bids.\n",
    "import pyspark.sql.functions as func\n",
    "auctionsDF.groupBy(\"itemtype\",\"aucid\").count().agg(func.max(\"count\").alias(\"Max\"), func.min(\"count\").alias(\"Min\"), func.avg(\"count\").alias(\"Count\")).show()"
   ]
  },
  {
   "cell_type": "code",
   "execution_count": null,
   "metadata": {
    "collapsed": false
   },
   "outputs": [],
   "source": [
    "# 6. For each auction item and item type, we want the max, min and average of a bid:\n",
    "auctionsDF.groupBy(\"itemtype\",\"aucid\").agg(func.max(\"bid\").alias(\"MaximumBid\"), func.min(\"bid\").alias(\"MinimumBid\"), func.avg(\"bid\").alias(\"AvgBid\")).show()"
   ]
  },
  {
   "cell_type": "code",
   "execution_count": null,
   "metadata": {
    "collapsed": false
   },
   "outputs": [],
   "source": [
    "# 7. What is the number of auctions with final price greater than 200?\n",
    "auctionsDF.filter(auctionsDF.price > 200).count()"
   ]
  },
  {
   "cell_type": "code",
   "execution_count": null,
   "metadata": {
    "collapsed": false
   },
   "outputs": [],
   "source": [
    "xboxes = sqlContext.sql(\"select * from auctiontbl where itemtype = 'xbox'\")\n",
    "xboxes.show()"
   ]
  },
  {
   "cell_type": "code",
   "execution_count": null,
   "metadata": {
    "collapsed": false
   },
   "outputs": [],
   "source": [
    "from pyspark.sql.functions import col\n",
    "auctionsDF.select(auctionsDF.aucid.alias(\"Auction ID\"),auctionsDF.bid ).filter(col('bid') > 100).show()"
   ]
  },
  {
   "cell_type": "code",
   "execution_count": null,
   "metadata": {
    "collapsed": false
   },
   "outputs": [],
   "source": [
    "auctionsDF.crosstab(\"itemtype\", \"dtl\").show()"
   ]
  },
  {
   "cell_type": "markdown",
   "metadata": {},
   "source": [
    "# Others"
   ]
  },
  {
   "cell_type": "code",
   "execution_count": null,
   "metadata": {
    "collapsed": false
   },
   "outputs": [],
   "source": [
    "# Multiple Aggregate operations on multiple columns of a spark dataframe\n",
    "\n",
    "from pyspark.sql.functions import mean, sum, max, col\n",
    "\n",
    "groupBy = [\"itemtype\"]\n",
    "aggregate = [\"bid\", \"price\"] \n",
    "funs = [mean, sum, max]\n",
    "\n",
    "exprs = [f(c) for f in funs for c in aggregate]\n",
    "\n",
    "# or equivalent df.groupby(groupBy).agg(*exprs)\n",
    "auctionsDF.groupby(*groupBy).agg(*exprs).show()"
   ]
  },
  {
   "cell_type": "code",
   "execution_count": null,
   "metadata": {
    "collapsed": false
   },
   "outputs": [],
   "source": [
    "# 1. Random Data Generation\n",
    "import pyspark.sql.functions as f\n",
    "df = sqlContext.range(0,10)"
   ]
  },
  {
   "cell_type": "code",
   "execution_count": null,
   "metadata": {
    "collapsed": false
   },
   "outputs": [],
   "source": [
    "type(df)"
   ]
  },
  {
   "cell_type": "code",
   "execution_count": null,
   "metadata": {
    "collapsed": false
   },
   "outputs": [],
   "source": [
    "# Generate two other columns using uniform distribution and normal distribution.\n",
    "df.select(\"id\", f.rand(seed=10).alias(\"uniform\"), f.randn(seed=27).alias(\"normal\")).show()"
   ]
  },
  {
   "cell_type": "code",
   "execution_count": null,
   "metadata": {
    "collapsed": false
   },
   "outputs": [],
   "source": [
    "# A slightly different way to generate the two random columns\n",
    "df = sqlContext.range(0, 10) \\\n",
    "               .withColumn('uniform', f.rand(seed=10)) \\\n",
    "               .withColumn('normal', f.randn(seed=27))"
   ]
  },
  {
   "cell_type": "code",
   "execution_count": null,
   "metadata": {
    "collapsed": false
   },
   "outputs": [],
   "source": [
    "#2. Summary and Descriptive Statistics\n",
    "df.describe().show()"
   ]
  },
  {
   "cell_type": "code",
   "execution_count": null,
   "metadata": {
    "collapsed": false
   },
   "outputs": [],
   "source": [
    "# describe on a subset of the columns\n",
    "df.describe('uniform', 'normal').show()"
   ]
  },
  {
   "cell_type": "code",
   "execution_count": null,
   "metadata": {
    "collapsed": false
   },
   "outputs": [],
   "source": [
    "from pyspark.sql.functions import mean, min, max\n",
    "df.select(mean('uniform'), min('uniform'), max('uniform')).show()"
   ]
  },
  {
   "cell_type": "code",
   "execution_count": null,
   "metadata": {
    "collapsed": false
   },
   "outputs": [],
   "source": [
    "# 3. Sample covariance and correlation.\n",
    "\"\"\"\n",
    "Covariance is a measure of how two variables change with respect to each other. \n",
    "A positive number would mean that there is a tendency that as one variable increases, the other increases as well. \n",
    "A negative number would mean that as one variable increases, the other variable has a tendency to decrease. \n",
    "The sample covariance of two columns of a DataFrame can be calculated as follows:\n",
    "\"\"\"\n",
    "df.stat.cov('uniform', 'normal')"
   ]
  },
  {
   "cell_type": "code",
   "execution_count": null,
   "metadata": {
    "collapsed": false
   },
   "outputs": [],
   "source": [
    "df.stat.cov('id', 'id')"
   ]
  },
  {
   "cell_type": "code",
   "execution_count": null,
   "metadata": {
    "collapsed": false
   },
   "outputs": [],
   "source": [
    "# Correlation is a normalized measure of covariance that is easier to understand,\n",
    "# as it provides quantitative measurements of the statistical dependence between two random variables.\n",
    "df.stat.corr('uniform', 'normal')"
   ]
  },
  {
   "cell_type": "code",
   "execution_count": null,
   "metadata": {
    "collapsed": false
   },
   "outputs": [],
   "source": [
    "df.stat.corr('id', 'id')"
   ]
  },
  {
   "cell_type": "code",
   "execution_count": null,
   "metadata": {
    "collapsed": true
   },
   "outputs": [],
   "source": [
    "# Create a DataFrame with two columns (name, item) \n",
    "names = [\"Alice\", \"Bob\", \"Mike\"]\n",
    "items = [\"milk\", \"bread\", \"butter\", \"apples\", \"oranges\"]\n",
    "df = sqlContext.createDataFrame([(names[i % 3], items[i % 5]) for i in range(100)], [\"name\", \"item\"])"
   ]
  },
  {
   "cell_type": "code",
   "execution_count": null,
   "metadata": {
    "collapsed": false
   },
   "outputs": [],
   "source": [
    "# Take a look at the first 10 rows.\n",
    "df.show(10)"
   ]
  },
  {
   "cell_type": "code",
   "execution_count": null,
   "metadata": {
    "collapsed": false
   },
   "outputs": [],
   "source": [
    "df.stat.crosstab(\"name\", \"item\").show()"
   ]
  },
  {
   "cell_type": "code",
   "execution_count": null,
   "metadata": {
    "collapsed": false
   },
   "outputs": [],
   "source": [
    "freq = df.stat.freqItems([\"name\",\"item\"],0.5)"
   ]
  },
  {
   "cell_type": "code",
   "execution_count": null,
   "metadata": {
    "collapsed": false
   },
   "outputs": [],
   "source": [
    "freq.show()"
   ]
  },
  {
   "cell_type": "markdown",
   "metadata": {},
   "source": [
    "# Supplimentary Mapr"
   ]
  },
  {
   "cell_type": "code",
   "execution_count": null,
   "metadata": {
    "collapsed": false
   },
   "outputs": [],
   "source": [
    "from pyspark.sql import Row\n",
    "sfpdRDD = sc.textFile(\"./data/MaprDataFiles/sfpd.csv\") \\\n",
    "        .map(lambda line:line.split(\",\")) \\\n",
    "        .map(lambda i: Row(IncidentNum = int(i[0]), Category = i[1], Descript = i[2], DayOfWeek = i[3] \\\n",
    "                         , Date = i[4], Time = i[5], PdDistrict = i[6], Resolution = i[7] \\\n",
    "                         , Address = i[8], XCoord = i[9], YCoord = i[10], PdID = int(i[11])))\n",
    "sfpdRDD.take(5)"
   ]
  },
  {
   "cell_type": "code",
   "execution_count": null,
   "metadata": {
    "collapsed": false
   },
   "outputs": [],
   "source": [
    "sfpdDF = sfpdRDD.toDF()"
   ]
  },
  {
   "cell_type": "code",
   "execution_count": null,
   "metadata": {
    "collapsed": false
   },
   "outputs": [],
   "source": [
    "sfpdDF.printSchema()"
   ]
  },
  {
   "cell_type": "code",
   "execution_count": null,
   "metadata": {
    "collapsed": true
   },
   "outputs": [],
   "source": [
    "sfpdDF.registerTempTable(\"sfpdtbl\")"
   ]
  },
  {
   "cell_type": "markdown",
   "metadata": {},
   "source": [
    "### Seeing the first few lines of the DataFrame"
   ]
  },
  {
   "cell_type": "code",
   "execution_count": null,
   "metadata": {
    "collapsed": false
   },
   "outputs": [],
   "source": [
    "sfpdDF.head(5)"
   ]
  },
  {
   "cell_type": "code",
   "execution_count": null,
   "metadata": {
    "collapsed": false
   },
   "outputs": [],
   "source": [
    "sfpdDF.show(5)"
   ]
  },
  {
   "cell_type": "code",
   "execution_count": null,
   "metadata": {
    "collapsed": false
   },
   "outputs": [],
   "source": [
    "sfpdDF.take(5)"
   ]
  },
  {
   "cell_type": "code",
   "execution_count": null,
   "metadata": {
    "collapsed": false
   },
   "outputs": [],
   "source": [
    "sqlContext.sql(\"select * from sfpdtbl limit 5\").show()"
   ]
  },
  {
   "cell_type": "code",
   "execution_count": null,
   "metadata": {
    "collapsed": false
   },
   "outputs": [],
   "source": [
    "# Print the schema in a tree format\n",
    "sfpdDF.printSchema()"
   ]
  },
  {
   "cell_type": "code",
   "execution_count": null,
   "metadata": {
    "collapsed": false
   },
   "outputs": [],
   "source": [
    "# 1. What is the total number of incidents?\n",
    "sfpdRDD.count()"
   ]
  },
  {
   "cell_type": "code",
   "execution_count": null,
   "metadata": {
    "collapsed": false
   },
   "outputs": [],
   "source": [
    "sfpdDF.count()"
   ]
  },
  {
   "cell_type": "code",
   "execution_count": null,
   "metadata": {
    "collapsed": false
   },
   "outputs": [],
   "source": [
    "# 2. How many categories are there?\n",
    "sfpdRDD.map(lambda row: row[1]).distinct().count()"
   ]
  },
  {
   "cell_type": "code",
   "execution_count": null,
   "metadata": {
    "collapsed": false
   },
   "outputs": [],
   "source": [
    "sfpdDF.select(\"Category\").distinct().count()"
   ]
  },
  {
   "cell_type": "code",
   "execution_count": null,
   "metadata": {
    "collapsed": false
   },
   "outputs": [],
   "source": [
    "#3. How many Pd Districts are there?\n",
    "sfpdRDD.map(lambda x:x[6]).distinct().count()"
   ]
  },
  {
   "cell_type": "code",
   "execution_count": null,
   "metadata": {
    "collapsed": false
   },
   "outputs": [],
   "source": [
    "sfpdDF.select(\"PdDistrict\").distinct().count()"
   ]
  },
  {
   "cell_type": "code",
   "execution_count": null,
   "metadata": {
    "collapsed": false
   },
   "outputs": [],
   "source": [
    "# What are the different districts?\n",
    "sfpdRDD.map(lambda x: x[6]).distinct().collect()"
   ]
  },
  {
   "cell_type": "code",
   "execution_count": null,
   "metadata": {
    "collapsed": false
   },
   "outputs": [],
   "source": [
    "sfpdDF.select(\"PdDistrict\").distinct().show()"
   ]
  },
  {
   "cell_type": "code",
   "execution_count": null,
   "metadata": {
    "collapsed": false
   },
   "outputs": [],
   "source": [
    "# How many incidents were there in the Tenderloin district?\n",
    "sfpdRDD.filter(lambda x: \"TENDERLOIN\" in (x[6]).upper()).count()"
   ]
  },
  {
   "cell_type": "code",
   "execution_count": null,
   "metadata": {
    "collapsed": false
   },
   "outputs": [],
   "source": [
    "import pyspark.sql.functions as f\n",
    "sfpdDF.filter(f.upper(sfpdDF.PdDistrict) == 'TENDERLOIN').count()"
   ]
  },
  {
   "cell_type": "code",
   "execution_count": null,
   "metadata": {
    "collapsed": false
   },
   "outputs": [],
   "source": [
    "# How many incidents were there in the Richmond district?\n",
    "sfpdDF.filter(f.lower(sfpdDF.PdDistrict) == 'richmond').count()"
   ]
  },
  {
   "cell_type": "code",
   "execution_count": null,
   "metadata": {
    "collapsed": false
   },
   "outputs": [],
   "source": [
    "# Get all the categories on incidents\n",
    "sfpdDF.select(\"Category\").distinct().show()"
   ]
  },
  {
   "cell_type": "code",
   "execution_count": null,
   "metadata": {
    "collapsed": false
   },
   "outputs": [],
   "source": [
    "sfpdDF.select(sfpdDF.Category.alias(\"CAT\")).distinct().show()"
   ]
  },
  {
   "cell_type": "code",
   "execution_count": null,
   "metadata": {
    "collapsed": false
   },
   "outputs": [],
   "source": [
    "sqlContext.sql(\"\"\"\n",
    "               SELECT DISTINCT Category \n",
    "                 FROM sfpdtbl\n",
    "               \"\"\").show()"
   ]
  },
  {
   "cell_type": "code",
   "execution_count": null,
   "metadata": {
    "collapsed": false
   },
   "outputs": [],
   "source": [
    "sfpdDF.select(sfpdDF[\"Category\"].alias(\"CAT\")).distinct().show()"
   ]
  },
  {
   "cell_type": "code",
   "execution_count": null,
   "metadata": {
    "collapsed": false
   },
   "outputs": [],
   "source": [
    "# Get all the districts\n",
    "from pyspark.sql.functions import col\n",
    "sfpdDF.select(col(\"PdDistrict\").alias(\"District\")).distinct().show()"
   ]
  },
  {
   "cell_type": "markdown",
   "metadata": {},
   "source": [
    "# SFPD Json"
   ]
  },
  {
   "cell_type": "code",
   "execution_count": 131,
   "metadata": {
    "collapsed": false
   },
   "outputs": [
    {
     "data": {
      "text/plain": [
       "pyspark.sql.dataframe.DataFrame"
      ]
     },
     "execution_count": 131,
     "metadata": {},
     "output_type": "execute_result"
    }
   ],
   "source": [
    "sfpdJDF = sqlContext.read.json(\"/resources/data/MaprDataFiles/sfpd.json\")\n",
    "type(sfpdJDF)"
   ]
  },
  {
   "cell_type": "code",
   "execution_count": 132,
   "metadata": {
    "collapsed": false
   },
   "outputs": [
    {
     "name": "stdout",
     "output_type": "stream",
     "text": [
      "root\n",
      " |-- Address: string (nullable = true)\n",
      " |-- Category: string (nullable = true)\n",
      " |-- Date: string (nullable = true)\n",
      " |-- DayOfWeek: string (nullable = true)\n",
      " |-- Descript: string (nullable = true)\n",
      " |-- IncidentNum: string (nullable = true)\n",
      " |-- Location: string (nullable = true)\n",
      " |-- PdDistrict: string (nullable = true)\n",
      " |-- PdId: long (nullable = true)\n",
      " |-- Resolution: string (nullable = true)\n",
      " |-- Time: string (nullable = true)\n",
      " |-- X: double (nullable = true)\n",
      " |-- Y: double (nullable = true)\n",
      "\n"
     ]
    }
   ],
   "source": [
    "sfpdJDF.printSchema()"
   ]
  },
  {
   "cell_type": "code",
   "execution_count": 133,
   "metadata": {
    "collapsed": false
   },
   "outputs": [
    {
     "data": {
      "text/plain": [
       "['Address',\n",
       " 'Category',\n",
       " 'Date',\n",
       " 'DayOfWeek',\n",
       " 'Descript',\n",
       " 'IncidentNum',\n",
       " 'Location',\n",
       " 'PdDistrict',\n",
       " 'PdId',\n",
       " 'Resolution',\n",
       " 'Time',\n",
       " 'X',\n",
       " 'Y']"
      ]
     },
     "execution_count": 133,
     "metadata": {},
     "output_type": "execute_result"
    }
   ],
   "source": [
    "sfpdJDF.columns"
   ]
  },
  {
   "cell_type": "code",
   "execution_count": 134,
   "metadata": {
    "collapsed": false
   },
   "outputs": [
    {
     "data": {
      "text/plain": [
       "DataFrame[Address: string, Category: string, Date: string, DayOfWeek: string, Descript: string, IncidentNum: string, Location: string, PdDistrict: string, PdId: bigint, Resolution: string, Time: string, X: double, Y: double]"
      ]
     },
     "execution_count": 134,
     "metadata": {},
     "output_type": "execute_result"
    }
   ],
   "source": [
    "sfpdJDF.persist()"
   ]
  },
  {
   "cell_type": "code",
   "execution_count": 144,
   "metadata": {
    "collapsed": false
   },
   "outputs": [
    {
     "name": "stdout",
     "output_type": "stream",
     "text": [
      "+-----------+-----------+\n",
      "|   Category|IncidentNum|\n",
      "+-----------+-----------+\n",
      "|WEAPON LAWS|  110058129|\n",
      "|WEAPON LAWS|  110035149|\n",
      "|WEAPON LAWS|  110058129|\n",
      "|WEAPON LAWS|  110062697|\n",
      "|WEAPON LAWS|  110054478|\n",
      "|WEAPON LAWS|  110060403|\n",
      "|WEAPON LAWS|  110054644|\n",
      "|WEAPON LAWS|  110049849|\n",
      "|WEAPON LAWS|  110048835|\n",
      "|WEAPON LAWS|  110061495|\n",
      "|WEAPON LAWS|  110043249|\n",
      "|WEAPON LAWS|  110059597|\n",
      "|WEAPON LAWS|  110041033|\n",
      "|WEAPON LAWS|  110053555|\n",
      "|WEAPON LAWS|  110038331|\n",
      "|WEAPON LAWS|  110052438|\n",
      "|WEAPON LAWS|  110036460|\n",
      "|WEAPON LAWS|  110050711|\n",
      "|WEAPON LAWS|  110036460|\n",
      "|WEAPON LAWS|  110054359|\n",
      "+-----------+-----------+\n",
      "only showing top 20 rows\n",
      "\n"
     ]
    }
   ],
   "source": [
    "# Get incidents and category and sort by category in desc order\n",
    "#sfpdJDF.select(\"Category\", \"IncidentNum\").orderBy(sfpdJDF['Category'].desc()).show()\n",
    "#sfpdJDF.select(\"Category\", \"IncidentNum\").sort(sfpdJDF['Category'].desc()).show()\n",
    "sfpdJDF.select(\"Category\", \"IncidentNum\").orderBy(sfpdJDF[\"Category\"], ascending = False).show()"
   ]
  },
  {
   "cell_type": "code",
   "execution_count": 137,
   "metadata": {
    "collapsed": true
   },
   "outputs": [],
   "source": [
    "sfpdJDF.registerTempTable(\"sfpdtbl\")"
   ]
  },
  {
   "cell_type": "code",
   "execution_count": 138,
   "metadata": {
    "collapsed": false
   },
   "outputs": [
    {
     "name": "stdout",
     "output_type": "stream",
     "text": [
      "+-----------+-----------+\n",
      "|   Category|IncidentNum|\n",
      "+-----------+-----------+\n",
      "|WEAPON LAWS|  110058129|\n",
      "|WEAPON LAWS|  110035149|\n",
      "|WEAPON LAWS|  110058129|\n",
      "|WEAPON LAWS|  110062697|\n",
      "|WEAPON LAWS|  110054478|\n",
      "|WEAPON LAWS|  110060403|\n",
      "|WEAPON LAWS|  110054644|\n",
      "|WEAPON LAWS|  110049849|\n",
      "|WEAPON LAWS|  110048835|\n",
      "|WEAPON LAWS|  110061495|\n",
      "|WEAPON LAWS|  110043249|\n",
      "|WEAPON LAWS|  110059597|\n",
      "|WEAPON LAWS|  110041033|\n",
      "|WEAPON LAWS|  110053555|\n",
      "|WEAPON LAWS|  110038331|\n",
      "|WEAPON LAWS|  110052438|\n",
      "|WEAPON LAWS|  110036460|\n",
      "|WEAPON LAWS|  110050711|\n",
      "|WEAPON LAWS|  110036460|\n",
      "|WEAPON LAWS|  110054359|\n",
      "+-----------+-----------+\n",
      "only showing top 20 rows\n",
      "\n"
     ]
    }
   ],
   "source": [
    "sqlContext.sql(\"SELECT Category, IncidentNum from sfpdtbl order by Category desc\").show()"
   ]
  },
  {
   "cell_type": "code",
   "execution_count": 146,
   "metadata": {
    "collapsed": false
   },
   "outputs": [
    {
     "name": "stdout",
     "output_type": "stream",
     "text": [
      "+-----------+-----------+\n",
      "|   Category|IncidentNum|\n",
      "+-----------+-----------+\n",
      "|WEAPON LAWS|  110058129|\n",
      "|WEAPON LAWS|  110035149|\n",
      "|WEAPON LAWS|  110058129|\n",
      "|WEAPON LAWS|  110062697|\n",
      "|WEAPON LAWS|  110054478|\n",
      "|WEAPON LAWS|  110060403|\n",
      "|WEAPON LAWS|  110054644|\n",
      "|WEAPON LAWS|  110049849|\n",
      "|WEAPON LAWS|  110048835|\n",
      "|WEAPON LAWS|  110061495|\n",
      "|WEAPON LAWS|  110043249|\n",
      "|WEAPON LAWS|  110059597|\n",
      "|WEAPON LAWS|  110041033|\n",
      "|WEAPON LAWS|  110053555|\n",
      "|WEAPON LAWS|  110038331|\n",
      "|WEAPON LAWS|  110052438|\n",
      "|WEAPON LAWS|  110036460|\n",
      "|WEAPON LAWS|  110050711|\n",
      "|WEAPON LAWS|  110036460|\n",
      "|WEAPON LAWS|  110054359|\n",
      "+-----------+-----------+\n",
      "only showing top 20 rows\n",
      "\n"
     ]
    }
   ],
   "source": [
    "from pyspark.sql.functions import col\n",
    "sfpdJDF.select(\"Category\", \"IncidentNum\").sort(col(\"Category\").desc()).show()"
   ]
  },
  {
   "cell_type": "code",
   "execution_count": 153,
   "metadata": {
    "collapsed": false
   },
   "outputs": [
    {
     "name": "stdout",
     "output_type": "stream",
     "text": [
      "+--------------------+------+\n",
      "|            Category| count|\n",
      "+--------------------+------+\n",
      "|       LARCENY/THEFT|150511|\n",
      "|      OTHER OFFENSES| 88176|\n",
      "|        NON-CRIMINAL| 81882|\n",
      "|             ASSAULT| 55700|\n",
      "|           VANDALISM| 32656|\n",
      "|            WARRANTS| 29914|\n",
      "|       DRUG/NARCOTIC| 27999|\n",
      "|       VEHICLE THEFT| 27842|\n",
      "|            BURGLARY| 26339|\n",
      "|      SUSPICIOUS OCC| 25656|\n",
      "|      MISSING PERSON| 20582|\n",
      "|             ROBBERY| 16854|\n",
      "|               FRAUD| 12662|\n",
      "|     SECONDARY CODES|  8587|\n",
      "|         WEAPON LAWS|  6713|\n",
      "|            TRESPASS|  5191|\n",
      "|     STOLEN PROPERTY|  4476|\n",
      "|FORGERY/COUNTERFE...|  3829|\n",
      "|SEX OFFENSES, FOR...|  3513|\n",
      "|        PROSTITUTION|  3269|\n",
      "+--------------------+------+\n",
      "only showing top 20 rows\n",
      "\n"
     ]
    }
   ],
   "source": [
    "# Get number of incidents by category and sort by count desc\n",
    "from pyspark.sql.functions import col\n",
    "sfpdJDF.groupBy(\"Category\").count().sort(col(\"count\").desc()).show()"
   ]
  },
  {
   "cell_type": "code",
   "execution_count": 158,
   "metadata": {
    "collapsed": false
   },
   "outputs": [
    {
     "name": "stdout",
     "output_type": "stream",
     "text": [
      "+--------------------+------+\n",
      "|            Category| count|\n",
      "+--------------------+------+\n",
      "|       LARCENY/THEFT|150511|\n",
      "|      OTHER OFFENSES| 88176|\n",
      "|        NON-CRIMINAL| 81882|\n",
      "|             ASSAULT| 55700|\n",
      "|           VANDALISM| 32656|\n",
      "|            WARRANTS| 29914|\n",
      "|       DRUG/NARCOTIC| 27999|\n",
      "|       VEHICLE THEFT| 27842|\n",
      "|            BURGLARY| 26339|\n",
      "|      SUSPICIOUS OCC| 25656|\n",
      "|      MISSING PERSON| 20582|\n",
      "|             ROBBERY| 16854|\n",
      "|               FRAUD| 12662|\n",
      "|     SECONDARY CODES|  8587|\n",
      "|         WEAPON LAWS|  6713|\n",
      "|            TRESPASS|  5191|\n",
      "|     STOLEN PROPERTY|  4476|\n",
      "|FORGERY/COUNTERFE...|  3829|\n",
      "|SEX OFFENSES, FOR...|  3513|\n",
      "|        PROSTITUTION|  3269|\n",
      "+--------------------+------+\n",
      "only showing top 20 rows\n",
      "\n"
     ]
    }
   ],
   "source": [
    "sfpdJDF.groupBy(\"Category\").count().orderBy(\"count\", ascending = False).show()"
   ]
  },
  {
   "cell_type": "code",
   "execution_count": 160,
   "metadata": {
    "collapsed": false
   },
   "outputs": [
    {
     "name": "stdout",
     "output_type": "stream",
     "text": [
      "+--------------------+-------------+\n",
      "|            Category|IncidentCount|\n",
      "+--------------------+-------------+\n",
      "|       LARCENY/THEFT|       150511|\n",
      "|      OTHER OFFENSES|        88176|\n",
      "|        NON-CRIMINAL|        81882|\n",
      "|             ASSAULT|        55700|\n",
      "|           VANDALISM|        32656|\n",
      "|            WARRANTS|        29914|\n",
      "|       DRUG/NARCOTIC|        27999|\n",
      "|       VEHICLE THEFT|        27842|\n",
      "|            BURGLARY|        26339|\n",
      "|      SUSPICIOUS OCC|        25656|\n",
      "|      MISSING PERSON|        20582|\n",
      "|             ROBBERY|        16854|\n",
      "|               FRAUD|        12662|\n",
      "|     SECONDARY CODES|         8587|\n",
      "|         WEAPON LAWS|         6713|\n",
      "|            TRESPASS|         5191|\n",
      "|     STOLEN PROPERTY|         4476|\n",
      "|FORGERY/COUNTERFE...|         3829|\n",
      "|SEX OFFENSES, FOR...|         3513|\n",
      "|        PROSTITUTION|         3269|\n",
      "+--------------------+-------------+\n",
      "only showing top 20 rows\n",
      "\n"
     ]
    }
   ],
   "source": [
    "import pyspark.sql.functions as f\n",
    "sfpdJDF.groupBy(\"Category\").agg(f.count(\"IncidentNum\").alias(\"IncidentCount\"))\\\n",
    "    .orderBy(\"`IncidentCount`\", ascending = False).show()"
   ]
  },
  {
   "cell_type": "code",
   "execution_count": 162,
   "metadata": {
    "collapsed": false
   },
   "outputs": [
    {
     "name": "stdout",
     "output_type": "stream",
     "text": [
      "+--------------------+-------------+\n",
      "|            Category|IncidentCount|\n",
      "+--------------------+-------------+\n",
      "|       LARCENY/THEFT|       150511|\n",
      "|      OTHER OFFENSES|        88176|\n",
      "|        NON-CRIMINAL|        81882|\n",
      "|             ASSAULT|        55700|\n",
      "|           VANDALISM|        32656|\n",
      "|            WARRANTS|        29914|\n",
      "|       DRUG/NARCOTIC|        27999|\n",
      "|       VEHICLE THEFT|        27842|\n",
      "|            BURGLARY|        26339|\n",
      "|      SUSPICIOUS OCC|        25656|\n",
      "|      MISSING PERSON|        20582|\n",
      "|             ROBBERY|        16854|\n",
      "|               FRAUD|        12662|\n",
      "|     SECONDARY CODES|         8587|\n",
      "|         WEAPON LAWS|         6713|\n",
      "|            TRESPASS|         5191|\n",
      "|     STOLEN PROPERTY|         4476|\n",
      "|FORGERY/COUNTERFE...|         3829|\n",
      "|SEX OFFENSES, FOR...|         3513|\n",
      "|        PROSTITUTION|         3269|\n",
      "+--------------------+-------------+\n",
      "only showing top 20 rows\n",
      "\n"
     ]
    }
   ],
   "source": [
    "sfpdJDF.groupBy(\"Category\").agg(f.count(\"IncidentNum\").alias(\"IncidentCount\"))\\\n",
    "    .sort(col(\"IncidentCount\").desc()).show()"
   ]
  },
  {
   "cell_type": "code",
   "execution_count": 164,
   "metadata": {
    "collapsed": false
   },
   "outputs": [
    {
     "name": "stdout",
     "output_type": "stream",
     "text": [
      "+--------------------+----------+-----+\n",
      "|            Category|PdDistrict|count|\n",
      "+--------------------+----------+-----+\n",
      "|      SUSPICIOUS OCC|   MISSION| 3159|\n",
      "|                TREA|  SOUTHERN|    1|\n",
      "|  DISORDERLY CONDUCT|   TARAVAL|   80|\n",
      "|SEX OFFENSES, FOR...|   MISSION|  602|\n",
      "|        PROSTITUTION|   MISSION| 1763|\n",
      "|         WEAPON LAWS|TENDERLOIN|  603|\n",
      "|     SECONDARY CODES|   CENTRAL|  580|\n",
      "|            GAMBLING|   MISSION|   14|\n",
      "|   RECOVERED VEHICLE|      PARK|   97|\n",
      "|       LARCENY/THEFT|  SOUTHERN|37497|\n",
      "|             ASSAULT|   BAYVIEW| 7194|\n",
      "|             ROBBERY|   TARAVAL|  941|\n",
      "|         DRUNKENNESS|      PARK|  209|\n",
      "|   RECOVERED VEHICLE|  NORTHERN|  209|\n",
      "|PORNOGRAPHY/OBSCE...|      PARK|    1|\n",
      "|         DRUNKENNESS|  NORTHERN|  198|\n",
      "|       VEHICLE THEFT|      PARK| 2050|\n",
      "|DRIVING UNDER THE...| INGLESIDE|  178|\n",
      "|                TREA|   BAYVIEW|    2|\n",
      "|     STOLEN PROPERTY|  RICHMOND|  202|\n",
      "+--------------------+----------+-----+\n",
      "only showing top 20 rows\n",
      "\n"
     ]
    }
   ],
   "source": [
    "# Count of incidents by Category and District\n",
    "sfpdJDF.groupBy(\"Category\",\"PdDistrict\").count().show()"
   ]
  },
  {
   "cell_type": "code",
   "execution_count": 165,
   "metadata": {
    "collapsed": false
   },
   "outputs": [
    {
     "name": "stdout",
     "output_type": "stream",
     "text": [
      "+--------------------+-------+--------+-------+----------+-------+----+-------+--------+---------+--------+\n",
      "| Category_PdDistrict|MISSION|SOUTHERN|TARAVAL|TENDERLOIN|CENTRAL|PARK|BAYVIEW|NORTHERN|INGLESIDE|RICHMOND|\n",
      "+--------------------+-------+--------+-------+----------+-------+----+-------+--------+---------+--------+\n",
      "|           VANDALISM|   3963|    5379|   3252|      1252|   3594|1976|   3729|    3594|     3667|    2250|\n",
      "|                TREA|      1|       1|      2|         0|      2|   0|      2|       1|        0|       0|\n",
      "|     FAMILY OFFENSES|    129|      32|     24|        20|     19|   8|     33|      12|       38|      15|\n",
      "|          BAD CHECKS|     18|      33|     24|         4|     26|   7|     12|      20|       10|      15|\n",
      "|PORNOGRAPHY/OBSCE...|      0|       4|      1|         1|      1|   1|      3|       0|        2|       1|\n",
      "|      OTHER OFFENSES|  12495|   14757|   6713|      7840|   7020|4556|  11981|    8446|     9772|    4596|\n",
      "|             BRIBERY|     64|      43|     15|        12|     17|   9|     53|      14|       32|       6|\n",
      "|            TRESPASS|    672|     975|    303|       844|    719| 225|    374|     642|      255|     182|\n",
      "|           LOITERING|     43|      61|      9|       156|     20|   3|     10|      61|        7|       2|\n",
      "|DRIVING UNDER THE...|    344|     302|    189|        87|    126| 141|    171|     145|      178|     246|\n",
      "|            GAMBLING|     14|       3|      1|         4|      8|   0|     30|       3|       18|       0|\n",
      "|  DISORDERLY CONDUCT|    568|     329|     80|       563|    242| 144|    123|     272|      116|      53|\n",
      "|             RUNAWAY|    286|      70|    142|         8|     28| 272|    206|      31|       87|      55|\n",
      "|      MISSING PERSON|   2769|    3110|   1959|       754|   1208|2302|   3582|    1449|     2450|     999|\n",
      "|       VEHICLE THEFT|   3817|    2268|   2680|       456|   2142|2050|   3669|    3264|     5443|    2053|\n",
      "|     SECONDARY CODES|   1242|    1065|    868|       653|    580| 367|   1469|     789|     1107|     447|\n",
      "|               FRAUD|   1613|    2439|   1237|       906|   1912| 677|    652|    1548|      896|     782|\n",
      "|        EMBEZZLEMENT|     71|     168|     53|        71|    120|  18|     77|      84|       31|      32|\n",
      "|      SUSPICIOUS OCC|   3159|    4388|   2109|      2200|   2452|1351|   3210|    2769|     2282|    1736|\n",
      "|   RECOVERED VEHICLE|    222|     268|    194|       106|    154|  97|    478|     209|      431|      93|\n",
      "+--------------------+-------+--------+-------+----------+-------+----+-------+--------+---------+--------+\n",
      "only showing top 20 rows\n",
      "\n"
     ]
    }
   ],
   "source": [
    "# Counts of all the incidents by category and district\n",
    "sfpdJDF.crosstab(\"Category\", \"PdDistrict\").show()"
   ]
  },
  {
   "cell_type": "code",
   "execution_count": 166,
   "metadata": {
    "collapsed": false
   },
   "outputs": [
    {
     "name": "stdout",
     "output_type": "stream",
     "text": [
      "+----------+--------------+-----+\n",
      "|  District|   Resolutions|count|\n",
      "+----------+--------------+-----+\n",
      "|  SOUTHERN|ARREST, BOOKED|26755|\n",
      "|   BAYVIEW|ARREST, BOOKED|14766|\n",
      "|   MISSION|ARREST, BOOKED|23230|\n",
      "|  NORTHERN|ARREST, BOOKED|14282|\n",
      "|TENDERLOIN|ARREST, BOOKED|23521|\n",
      "|  RICHMOND|ARREST, BOOKED| 5116|\n",
      "|      PARK|ARREST, BOOKED| 7552|\n",
      "|   CENTRAL|ARREST, BOOKED|11000|\n",
      "| INGLESIDE|ARREST, BOOKED|10079|\n",
      "|   TARAVAL|ARREST, BOOKED| 6987|\n",
      "|   BAYVIEW| ARREST, CITED| 6230|\n",
      "|   TARAVAL| ARREST, CITED| 2556|\n",
      "| INGLESIDE| ARREST, CITED| 4509|\n",
      "|  SOUTHERN| ARREST, CITED| 9129|\n",
      "|   CENTRAL| ARREST, CITED| 3802|\n",
      "|   MISSION| ARREST, CITED| 7461|\n",
      "|      PARK| ARREST, CITED| 2749|\n",
      "|  NORTHERN| ARREST, CITED| 4219|\n",
      "|TENDERLOIN| ARREST, CITED| 4831|\n",
      "|  RICHMOND| ARREST, CITED| 1676|\n",
      "+----------+--------------+-----+\n",
      "only showing top 20 rows\n",
      "\n"
     ]
    }
   ],
   "source": [
    "# How many resolutions by type for each district?\n",
    "sfpdJDF.groupBy(sfpdJDF.PdDistrict.alias(\"District\"),sfpdJDF.Resolution.alias(\"Resolutions\")) \\\n",
    "        .count() \\\n",
    "        .orderBy(\"District\",ascending = True) \\\n",
    "        .orderBy(\"Resolutions\", ascending = True) \\\n",
    "        .show()"
   ]
  },
  {
   "cell_type": "code",
   "execution_count": 175,
   "metadata": {
    "collapsed": false
   },
   "outputs": [
    {
     "name": "stdout",
     "output_type": "stream",
     "text": [
      "+--------+--------------------+-----+\n",
      "|District|         Resolutions|count|\n",
      "+--------+--------------------+-----+\n",
      "| BAYVIEW|           UNFOUNDED|  860|\n",
      "| BAYVIEW|   PSYCHOPATHIC CASE|  840|\n",
      "| BAYVIEW|PROSECUTED FOR LE...|    8|\n",
      "| BAYVIEW|PROSECUTED BY OUT...|  108|\n",
      "| BAYVIEW|      NOT PROSECUTED|  147|\n",
      "| BAYVIEW|                NONE|35806|\n",
      "| BAYVIEW|             LOCATED| 2594|\n",
      "| BAYVIEW|   JUVENILE DIVERTED|   58|\n",
      "| BAYVIEW|      JUVENILE CITED|  276|\n",
      "| BAYVIEW|     JUVENILE BOOKED|  748|\n",
      "| BAYVIEW| JUVENILE ADMONISHED|   97|\n",
      "| BAYVIEW|EXCEPTIONAL CLEAR...|  167|\n",
      "| BAYVIEW|DISTRICT ATTORNEY...|  370|\n",
      "| BAYVIEW|COMPLAINANT REFUS...|  955|\n",
      "| BAYVIEW|CLEARED-CONTACT J...|   44|\n",
      "| BAYVIEW|       ARREST, CITED| 6230|\n",
      "| BAYVIEW|      ARREST, BOOKED|14766|\n",
      "| CENTRAL|           UNFOUNDED|  755|\n",
      "| CENTRAL|   PSYCHOPATHIC CASE| 1335|\n",
      "| CENTRAL|PROSECUTED FOR LE...|    1|\n",
      "+--------+--------------------+-----+\n",
      "only showing top 20 rows\n",
      "\n"
     ]
    }
   ],
   "source": [
    "sfpdJDF.groupBy(sfpdJDF.PdDistrict.alias(\"District\"),sfpdJDF.Resolution.alias(\"Resolutions\")) \\\n",
    "        .count() \\\n",
    "        .orderBy(col(\"District\").asc(),col(\"Resolutions\").desc()) \\\n",
    "        .show()"
   ]
  },
  {
   "cell_type": "code",
   "execution_count": 176,
   "metadata": {
    "collapsed": false
   },
   "outputs": [
    {
     "name": "stdout",
     "output_type": "stream",
     "text": [
      "+--------+-----------+-----+\n",
      "|District|Resolutions|count|\n",
      "+--------+-----------+-----+\n",
      "|SOUTHERN|       NONE|76721|\n",
      "|NORTHERN|       NONE|53272|\n",
      "| MISSION|       NONE|48786|\n",
      "| CENTRAL|       NONE|48468|\n",
      "+--------+-----------+-----+\n",
      "\n"
     ]
    }
   ],
   "source": [
    "from pyspark.sql.functions import col\n",
    "\n",
    "(sfpdJDF.groupBy(sfpdJDF.PdDistrict.alias(\"District\"),sfpdJDF.Resolution.alias(\"Resolutions\")) \n",
    "    .count() \n",
    "    .filter(\"`count` >= 40000\")\n",
    "    .sort(col(\"count\").desc()).show())"
   ]
  },
  {
   "cell_type": "code",
   "execution_count": 177,
   "metadata": {
    "collapsed": false
   },
   "outputs": [
    {
     "name": "stdout",
     "output_type": "stream",
     "text": [
      "+--------+-----------+-----+\n",
      "|District|Resolutions|count|\n",
      "+--------+-----------+-----+\n",
      "|SOUTHERN|       NONE|76721|\n",
      "|NORTHERN|       NONE|53272|\n",
      "| MISSION|       NONE|48786|\n",
      "| CENTRAL|       NONE|48468|\n",
      "+--------+-----------+-----+\n",
      "\n"
     ]
    }
   ],
   "source": [
    "from pyspark.sql.functions import desc\n",
    "\n",
    "(sfpdJDF.groupBy(sfpdJDF.PdDistrict.alias(\"District\"),sfpdJDF.Resolution.alias(\"Resolutions\")) \n",
    "    .count()\n",
    "    .filter(\"`count` >= 40000\")\n",
    "    .sort(desc(\"count\")).show())"
   ]
  },
  {
   "cell_type": "code",
   "execution_count": 179,
   "metadata": {
    "collapsed": false
   },
   "outputs": [
    {
     "name": "stdout",
     "output_type": "stream",
     "text": [
      "+--------------------+--------+---------+------+------+------+--------+-------+\n",
      "|  Category_DayOfWeek|Thursday|Wednesday|Friday|Sunday|Monday|Saturday|Tuesday|\n",
      "+--------------------+--------+---------+------+------+------+--------+-------+\n",
      "|           VANDALISM|    4285|     4322|  5127|  4947|  4338|    5343|   4294|\n",
      "|                TREA|       0|        1|     1|     0|     4|       2|      1|\n",
      "|     FAMILY OFFENSES|      41|       50|    66|    31|    45|      41|     56|\n",
      "|          BAD CHECKS|      35|       35|    28|     9|    32|      11|     19|\n",
      "|PORNOGRAPHY/OBSCE...|       1|        1|     2|     2|     3|       1|      4|\n",
      "|      OTHER OFFENSES|   12642|    13496| 13489| 10993| 12334|   12413|  12809|\n",
      "|             BRIBERY|      35|       39|    46|    34|    35|      42|     34|\n",
      "|            TRESPASS|     716|      819|   689|   649|   817|     649|    852|\n",
      "|           LOITERING|      49|       58|    28|    26|    82|      34|     95|\n",
      "|DRIVING UNDER THE...|     224|      203|   287|   410|   223|     387|    195|\n",
      "|            GAMBLING|      12|       13|    13|     8|    10|      17|      8|\n",
      "|  DISORDERLY CONDUCT|     340|      423|   268|   290|   408|     325|    436|\n",
      "|             RUNAWAY|     183|      167|   198|   123|   184|     158|    172|\n",
      "|      MISSING PERSON|    2875|     2869|  3788|  2398|  2874|    3018|   2760|\n",
      "|       VEHICLE THEFT|    3843|     3804|  4511|  3883|  3826|    4201|   3774|\n",
      "|     SECONDARY CODES|    1215|     1211|  1213|  1318|  1220|    1199|   1211|\n",
      "|               FRAUD|    1820|     1891|  2014|  1500|  1856|    1798|   1783|\n",
      "|        EMBEZZLEMENT|      99|      105|   132|    70|   131|      89|     99|\n",
      "|      SUSPICIOUS OCC|    3728|     3899|  3929|  3445|  3617|    3382|   3656|\n",
      "|   RECOVERED VEHICLE|     358|      375|   333|   217|   376|     248|    345|\n",
      "+--------------------+--------+---------+------+------+------+--------+-------+\n",
      "only showing top 20 rows\n",
      "\n"
     ]
    }
   ],
   "source": [
    "sfpdJDF.crosstab(\"Category\", \"DayOfWeek\").show()"
   ]
  },
  {
   "cell_type": "code",
   "execution_count": 180,
   "metadata": {
    "collapsed": false
   },
   "outputs": [
    {
     "name": "stdout",
     "output_type": "stream",
     "text": [
      "+--------------------+---------+------+------+--------+-------+------+--------+\n",
      "|PdDistrict_DayOfWeek|Wednesday|Monday|Friday|Saturday|Tuesday|Sunday|Thursday|\n",
      "+--------------------+---------+------+------+--------+-------+------+--------+\n",
      "|            SOUTHERN|    17750| 16156| 19336|   18574|  16923| 16336|   17457|\n",
      "|           INGLESIDE|     8453|  8247|  8595|    7982|   8220|  7445|    8194|\n",
      "|          TENDERLOIN|     8554|  7645|  7585|    7351|   8142|  6816|    8144|\n",
      "|             MISSION|    12408| 11883| 13161|   12787|  12040| 12070|   12261|\n",
      "|             TARAVAL|     7032|  6825|  7449|    6440|   6815|  6106|    6511|\n",
      "|            RICHMOND|     5018|  4887|  5433|    5045|   4921|  4783|    4989|\n",
      "|            NORTHERN|    10942| 10130| 11951|   11874|  10446| 10583|   10717|\n",
      "|                PARK|     5820|  5528|  5955|    5463|   5353|  5402|    5643|\n",
      "|             CENTRAL|     9261|  8780| 10669|   11196|   8659|  9713|    9072|\n",
      "|             BAYVIEW|     9445|  9036|  9989|    8960|   9075|  8639|    8930|\n",
      "+--------------------+---------+------+------+--------+-------+------+--------+\n",
      "\n"
     ]
    }
   ],
   "source": [
    "sfpdJDF.crosstab(\"PdDistrict\",\"DayOfWeek\").show()"
   ]
  },
  {
   "cell_type": "code",
   "execution_count": 182,
   "metadata": {
    "collapsed": false
   },
   "outputs": [
    {
     "name": "stdout",
     "output_type": "stream",
     "text": [
      "+--------+-----------+--------------+------+\n",
      "|District|Day Of Week|      Category|IncCnt|\n",
      "+--------+-----------+--------------+------+\n",
      "|SOUTHERN|   Saturday| LARCENY/THEFT|  6197|\n",
      "|SOUTHERN|   Saturday|  NON-CRIMINAL|  2383|\n",
      "|SOUTHERN|   Saturday|OTHER OFFENSES|  2227|\n",
      "|SOUTHERN|   Saturday|       ASSAULT|  1443|\n",
      "+--------+-----------+--------------+------+\n",
      "\n"
     ]
    }
   ],
   "source": [
    "(sfpdJDF.filter((sfpdJDF.PdDistrict == \"SOUTHERN\") & (sfpdJDF.DayOfWeek == \"Saturday\"))\n",
    "        .cube(\"PdDistrict\", \"DayOfWeek\", \"Category\")\n",
    "        .count()\n",
    "        .withColumnRenamed(\"count\", \"IncCnt\") \n",
    "        .filter(\"IncCnt > 1000\")\n",
    "        .dropna()\n",
    "        .sort(col(\"IncCnt\").desc())\n",
    "        .withColumnRenamed(\"PdDistrict\", \"District\")\n",
    "        .withColumnRenamed(\"DayOfWeek\", \"Day Of Week\")\n",
    "        .show())"
   ]
  },
  {
   "cell_type": "code",
   "execution_count": 183,
   "metadata": {
    "collapsed": false
   },
   "outputs": [
    {
     "name": "stdout",
     "output_type": "stream",
     "text": [
      "+--------------------+--------+\n",
      "|          resolution|rescount|\n",
      "+--------------------+--------+\n",
      "|                NONE|  403414|\n",
      "|      ARREST, BOOKED|  143288|\n",
      "|       ARREST, CITED|   47162|\n",
      "|   PSYCHOPATHIC CASE|   15141|\n",
      "|             LOCATED|   14628|\n",
      "|           UNFOUNDED|    7055|\n",
      "|COMPLAINANT REFUS...|    5142|\n",
      "|     JUVENILE BOOKED|    4427|\n",
      "|      JUVENILE CITED|    2593|\n",
      "|EXCEPTIONAL CLEAR...|    1892|\n",
      "+--------------------+--------+\n",
      "\n"
     ]
    }
   ],
   "source": [
    "#What are the top 10 Resolutions ?\n",
    "sqlContext.sql(\"SELECT resolution, count(1) as rescount from sfpdtbl group by resolution order by rescount desc limit 10\").show()"
   ]
  },
  {
   "cell_type": "code",
   "execution_count": 184,
   "metadata": {
    "collapsed": false
   },
   "outputs": [
    {
     "name": "stdout",
     "output_type": "stream",
     "text": [
      "+--------------------+---------------+\n",
      "|      ResolutionType|ResolutionCount|\n",
      "+--------------------+---------------+\n",
      "|                NONE|         403414|\n",
      "|      ARREST, BOOKED|         143288|\n",
      "|       ARREST, CITED|          47162|\n",
      "|   PSYCHOPATHIC CASE|          15141|\n",
      "|             LOCATED|          14628|\n",
      "|           UNFOUNDED|           7055|\n",
      "|COMPLAINANT REFUS...|           5142|\n",
      "|     JUVENILE BOOKED|           4427|\n",
      "|      JUVENILE CITED|           2593|\n",
      "|EXCEPTIONAL CLEAR...|           1892|\n",
      "+--------------------+---------------+\n",
      "only showing top 10 rows\n",
      "\n"
     ]
    }
   ],
   "source": [
    "(sfpdJDF\n",
    " .groupBy(\"Resolution\")\n",
    " .count()\n",
    " .withColumnRenamed(\"count\", \"ResolutionCount\")\n",
    " .withColumnRenamed(\"Resolution\", \"ResolutionType\")\n",
    " .orderBy(\"ResolutionCount\", ascending = False)\n",
    " .show(10)\n",
    ")"
   ]
  },
  {
   "cell_type": "code",
   "execution_count": 185,
   "metadata": {
    "collapsed": false
   },
   "outputs": [
    {
     "name": "stdout",
     "output_type": "stream",
     "text": [
      "+--------------+--------+\n",
      "|      category|inccount|\n",
      "+--------------+--------+\n",
      "| LARCENY/THEFT|  150511|\n",
      "|OTHER OFFENSES|   88176|\n",
      "|  NON-CRIMINAL|   81882|\n",
      "|       ASSAULT|   55700|\n",
      "|     VANDALISM|   32656|\n",
      "|      WARRANTS|   29914|\n",
      "| DRUG/NARCOTIC|   27999|\n",
      "| VEHICLE THEFT|   27842|\n",
      "|      BURGLARY|   26339|\n",
      "|SUSPICIOUS OCC|   25656|\n",
      "+--------------+--------+\n",
      "\n"
     ]
    }
   ],
   "source": [
    "# What are the top 10 most incident Categories?\n",
    "sqlContext.sql(\"SELECT category, count(1) as inccount from sfpdtbl group by category order by inccount desc limit 10\").show()"
   ]
  },
  {
   "cell_type": "code",
   "execution_count": 191,
   "metadata": {
    "collapsed": false
   },
   "outputs": [
    {
     "name": "stdout",
     "output_type": "stream",
     "text": [
      "+--------------+------+\n",
      "|      Category| count|\n",
      "+--------------+------+\n",
      "| LARCENY/THEFT|150511|\n",
      "|OTHER OFFENSES| 88176|\n",
      "|  NON-CRIMINAL| 81882|\n",
      "|       ASSAULT| 55700|\n",
      "|     VANDALISM| 32656|\n",
      "|      WARRANTS| 29914|\n",
      "| DRUG/NARCOTIC| 27999|\n",
      "| VEHICLE THEFT| 27842|\n",
      "|      BURGLARY| 26339|\n",
      "|SUSPICIOUS OCC| 25656|\n",
      "+--------------+------+\n",
      "only showing top 10 rows\n",
      "\n"
     ]
    }
   ],
   "source": [
    "sfpdJDF.groupBy(sfpdJDF[\"Category\"]).count().sort(col(\"count\").desc()).show(10)"
   ]
  },
  {
   "cell_type": "code",
   "execution_count": 192,
   "metadata": {
    "collapsed": false
   },
   "outputs": [
    {
     "name": "stdout",
     "output_type": "stream",
     "text": [
      "== Physical Plan ==\n",
      "InMemoryColumnarTableScan [Address#31,Category#32,Date#33,DayOfWeek#34,Descript#35,IncidentNum#36,Location#37,PdDistrict#38,PdId#39L,Resolution#40,Time#41,X#42,Y#43], InMemoryRelation [Address#31,Category#32,Date#33,DayOfWeek#34,Descript#35,IncidentNum#36,Location#37,PdDistrict#38,PdId#39L,Resolution#40,Time#41,X#42,Y#43], true, 10000, StorageLevel(false, true, false, false, 1), Scan JSONRelation[Address#31,Category#32,Date#33,DayOfWeek#34,Descript#35,IncidentNum#36,Location#37,PdDistrict#38,PdId#39L,Resolution#40,Time#41,X#42,Y#43] InputPaths: file:/resources/data/MaprDataFiles/sfpd.json, None\n"
     ]
    }
   ],
   "source": [
    "sfpdJDF.explain()"
   ]
  },
  {
   "cell_type": "code",
   "execution_count": 208,
   "metadata": {
    "collapsed": false
   },
   "outputs": [
    {
     "name": "stdout",
     "output_type": "stream",
     "text": [
      "+------------+\n",
      "|         INC|\n",
      "+------------+\n",
      "|6.01784908E8|\n",
      "|6.01784908E8|\n",
      "|  6.017782E8|\n",
      "|  6.017782E8|\n",
      "+------------+\n",
      "only showing top 4 rows\n",
      "\n"
     ]
    }
   ],
   "source": [
    "sfpdJDF.selectExpr(\"IncidentNum * 4 as INC\").show(4)"
   ]
  },
  {
   "cell_type": "code",
   "execution_count": 210,
   "metadata": {
    "collapsed": false
   },
   "outputs": [
    {
     "data": {
      "text/plain": [
       "[('Address', 'string'),\n",
       " ('Category', 'string'),\n",
       " ('Date', 'string'),\n",
       " ('DayOfWeek', 'string'),\n",
       " ('Descript', 'string'),\n",
       " ('IncidentNum', 'string'),\n",
       " ('Location', 'string'),\n",
       " ('PdDistrict', 'string'),\n",
       " ('PdId', 'bigint'),\n",
       " ('Resolution', 'string'),\n",
       " ('Time', 'string'),\n",
       " ('X', 'double'),\n",
       " ('Y', 'double')]"
      ]
     },
     "execution_count": 210,
     "metadata": {},
     "output_type": "execute_result"
    }
   ],
   "source": [
    "sfpdJDF.dtypes"
   ]
  },
  {
   "cell_type": "code",
   "execution_count": null,
   "metadata": {
    "collapsed": true
   },
   "outputs": [],
   "source": []
  },
  {
   "cell_type": "code",
   "execution_count": null,
   "metadata": {
    "collapsed": true
   },
   "outputs": [],
   "source": []
  },
  {
   "cell_type": "markdown",
   "metadata": {
    "collapsed": true
   },
   "source": [
    "# Supp Lab"
   ]
  },
  {
   "cell_type": "code",
   "execution_count": null,
   "metadata": {
    "collapsed": true
   },
   "outputs": [],
   "source": [
    "#1. We define the mapping for our input variables. While this isn’t a necessary step, it makes it easier to refer to the different fields by names.\n",
    "IncidntNum = 0\n",
    "Category = 1\n",
    "Descript = 2\n",
    "DayOfWeek = 3\n",
    "Date = 4\n",
    "Time = 5\n",
    "PdDistrict = 6\n",
    "Resolution = 7\n",
    "Address = 8\n",
    "X = 9\n",
    "Y = 10\n",
    "PdId = 11"
   ]
  },
  {
   "cell_type": "code",
   "execution_count": null,
   "metadata": {
    "collapsed": true
   },
   "outputs": [],
   "source": [
    "sfpdRDD = sc.textFile(\"/resources/data/MaprDataFiles/sfpd.csv\").map(lambda x: x.split(\",\"))"
   ]
  },
  {
   "cell_type": "code",
   "execution_count": null,
   "metadata": {
    "collapsed": false
   },
   "outputs": [],
   "source": [
    "sfpdRDD.first()"
   ]
  },
  {
   "cell_type": "code",
   "execution_count": null,
   "metadata": {
    "collapsed": false
   },
   "outputs": [],
   "source": [
    "sfpdRDD.take(5)"
   ]
  },
  {
   "cell_type": "code",
   "execution_count": null,
   "metadata": {
    "collapsed": false
   },
   "outputs": [],
   "source": [
    "totincs = sfpdRDD.count()\n",
    "totincs"
   ]
  },
  {
   "cell_type": "code",
   "execution_count": null,
   "metadata": {
    "collapsed": false
   },
   "outputs": [],
   "source": [
    "totres = sfpdRDD.map(lambda inc: inc[Resolution]).distinct().count()\n",
    "totres"
   ]
  },
  {
   "cell_type": "code",
   "execution_count": null,
   "metadata": {
    "collapsed": false
   },
   "outputs": [],
   "source": [
    "PdDistricts = sfpdRDD.map(lambda x: (x[PdDistrict],1)).reduceByKey(lambda v1,v2:v1+v2).map(lambda x: (x[1],x[0])).sortByKey(False)\n",
    "#a =PdDistricts.sortByKey(False, keyfunc=lambda x: x[1])\n",
    "#a.collect()\n",
    "PdDistricts.collect()"
   ]
  },
  {
   "cell_type": "code",
   "execution_count": null,
   "metadata": {
    "collapsed": false
   },
   "outputs": [],
   "source": [
    "PdDistricts = sfpdRDD.map(lambda x: (x[PdDistrict],1)).reduceByKey(lambda v1,v2:v1+v2)\n",
    "#a =PdDistricts.sortByKey(False, keyfunc=lambda x: x[1])\n",
    "#a.collect()\n",
    "PdDistricts.sortBy(lambda x: x[1], False).collect()"
   ]
  },
  {
   "cell_type": "code",
   "execution_count": null,
   "metadata": {
    "collapsed": false
   },
   "outputs": [],
   "source": [
    "PdDistricts = sfpdRDD.map(lambda x: (x[PdDistrict],1)).reduceByKey(lambda v1,v2:v1+v2)\n",
    "#a =PdDistricts.sortByKey(False, keyfunc=lambda x: x[1])\n",
    "#a.collect()\n",
    "PdDistricts.sortByKey(False, lambda x: x[1]).collect()"
   ]
  },
  {
   "cell_type": "markdown",
   "metadata": {
    "collapsed": true
   },
   "source": [
    "# Joins"
   ]
  },
  {
   "cell_type": "code",
   "execution_count": 1,
   "metadata": {
    "collapsed": false
   },
   "outputs": [
    {
     "data": {
      "text/plain": [
       "[('100_Block_of_JEFFERSON_ST', 'EMBEZZLEMENT'),\n",
       " ('SUTTER_ST/MASON_ST', 'EMBEZZLEMENT'),\n",
       " ('0_Block_of_SOUTHPARK_AV', 'BRIBERY'),\n",
       " ('1500_Block_of_15TH_ST', 'EMBEZZLEMENT'),\n",
       " ('200_Block_of_BUSH_ST', 'EMBEZZLEMENT')]"
      ]
     },
     "execution_count": 1,
     "metadata": {},
     "output_type": "execute_result"
    }
   ],
   "source": [
    "addCatRdd = (sc.textFile(\"/resources/data/MaprDataFiles/J_AddCat.csv\")\n",
    "                .map(lambda line : line.split(\",\"))\n",
    "                .map(lambda r: (r[1],r[0])))\n",
    "addCatRdd.take(5)"
   ]
  },
  {
   "cell_type": "code",
   "execution_count": 2,
   "metadata": {
    "collapsed": false
   },
   "outputs": [
    {
     "data": {
      "text/plain": [
       "[('100_Block_of_ROME_ST', 'INGLESIDE'),\n",
       " ('0_Block_of_SOUTHPARK_AV', 'SOUTHERN'),\n",
       " ('1900_Block_of_MISSION_ST', 'MISSION'),\n",
       " ('1400_Block_of_CLEMENT_ST', 'RICHMOND'),\n",
       " ('100_Block_of_BLUXOME_ST', 'SOUTHERN')]"
      ]
     },
     "execution_count": 2,
     "metadata": {},
     "output_type": "execute_result"
    }
   ],
   "source": [
    "addDistRdd = (sc.textFile(\"/resources/data/MaprDataFiles/J_AddDist.csv\")\n",
    "                .map(lambda line : line.split(\",\"))\n",
    "                .map(lambda r: (r[1],r[0])))\n",
    "addDistRdd.take(5)"
   ]
  },
  {
   "cell_type": "code",
   "execution_count": 3,
   "metadata": {
    "collapsed": false
   },
   "outputs": [
    {
     "data": {
      "text/plain": [
       "[('0_Block_of_SOUTHPARK_AV', ('BRIBERY', 'SOUTHERN')),\n",
       " ('1400_Block_of_CLEMENT_ST', ('BRIBERY', 'RICHMOND')),\n",
       " ('100_Block_of_BLUXOME_ST', ('BAD CHECKS', 'SOUTHERN')),\n",
       " ('1400_Block_of_VANDYKE_AV', ('BRIBERY', 'BAYVIEW')),\n",
       " ('1900_Block_of_MISSION_ST', ('BRIBERY', 'MISSION'))]"
      ]
     },
     "execution_count": 3,
     "metadata": {},
     "output_type": "execute_result"
    }
   ],
   "source": [
    "addCatDistRdd = addCatRdd.join(addDistRdd)\n",
    "addCatDistRdd.collect()"
   ]
  },
  {
   "cell_type": "code",
   "execution_count": 4,
   "metadata": {
    "collapsed": false
   },
   "outputs": [
    {
     "data": {
      "text/plain": [
       "[('1600_Block_of_FILLMORE_ST', ('EMBEZZLEMENT', None)),\n",
       " ('SUTTER_ST/MASON_ST', ('EMBEZZLEMENT', None)),\n",
       " ('0_Block_of_SOUTHPARK_AV', ('BRIBERY', 'SOUTHERN')),\n",
       " ('1400_Block_of_CLEMENT_ST', ('BRIBERY', 'RICHMOND')),\n",
       " ('1500_Block_of_15TH_ST', ('EMBEZZLEMENT', None)),\n",
       " ('100_Block_of_BLUXOME_ST', ('BAD CHECKS', 'SOUTHERN')),\n",
       " ('800_Block_of_MARKET_ST', ('EMBEZZLEMENT', None)),\n",
       " ('200_Block_of_BUSH_ST', ('EMBEZZLEMENT', None)),\n",
       " ('1400_Block_of_VANDYKE_AV', ('BRIBERY', 'BAYVIEW')),\n",
       " ('100_Block_of_JEFFERSON_ST', ('EMBEZZLEMENT', None)),\n",
       " ('2000_Block_of_MARKET_ST', ('EMBEZZLEMENT', None)),\n",
       " ('1100_Block_of_SELBY_ST', ('EMBEZZLEMENT', None)),\n",
       " ('1900_Block_of_MISSION_ST', ('BRIBERY', 'MISSION'))]"
      ]
     },
     "execution_count": 4,
     "metadata": {},
     "output_type": "execute_result"
    }
   ],
   "source": [
    "addCatDistRdd = addCatRdd.leftOuterJoin(addDistRdd)\n",
    "addCatDistRdd.collect()"
   ]
  },
  {
   "cell_type": "code",
   "execution_count": 5,
   "metadata": {
    "collapsed": false
   },
   "outputs": [
    {
     "data": {
      "text/plain": [
       "[('300_Block_of_BERRY_ST', (None, 'SOUTHERN')),\n",
       " ('0_Block_of_SOUTHPARK_AV', ('BRIBERY', 'SOUTHERN')),\n",
       " ('1400_Block_of_CLEMENT_ST', ('BRIBERY', 'RICHMOND')),\n",
       " ('100_Block_of_BLUXOME_ST', ('BAD CHECKS', 'SOUTHERN')),\n",
       " ('1100_Block_of_MISSION_ST', (None, 'SOUTHERN')),\n",
       " ('1400_Block_of_VANDYKE_AV', ('BRIBERY', 'BAYVIEW')),\n",
       " ('0_Block_of_CHUMASERO_DR', (None, 'TARAVAL')),\n",
       " ('100_Block_of_ROME_ST', (None, 'INGLESIDE')),\n",
       " ('1900_Block_of_MISSION_ST', ('BRIBERY', 'MISSION'))]"
      ]
     },
     "execution_count": 5,
     "metadata": {},
     "output_type": "execute_result"
    }
   ],
   "source": [
    "addCatDistRdd = addCatRdd.rightOuterJoin(addDistRdd)\n",
    "addCatDistRdd.collect()"
   ]
  },
  {
   "cell_type": "code",
   "execution_count": 6,
   "metadata": {
    "collapsed": false
   },
   "outputs": [
    {
     "data": {
      "text/plain": [
       "[('1600_Block_of_FILLMORE_ST', ('EMBEZZLEMENT', None)),\n",
       " ('300_Block_of_BERRY_ST', (None, 'SOUTHERN')),\n",
       " ('SUTTER_ST/MASON_ST', ('EMBEZZLEMENT', None)),\n",
       " ('0_Block_of_SOUTHPARK_AV', ('BRIBERY', 'SOUTHERN')),\n",
       " ('1400_Block_of_CLEMENT_ST', ('BRIBERY', 'RICHMOND')),\n",
       " ('1500_Block_of_15TH_ST', ('EMBEZZLEMENT', None)),\n",
       " ('100_Block_of_BLUXOME_ST', ('BAD CHECKS', 'SOUTHERN')),\n",
       " ('800_Block_of_MARKET_ST', ('EMBEZZLEMENT', None)),\n",
       " ('1100_Block_of_MISSION_ST', (None, 'SOUTHERN')),\n",
       " ('200_Block_of_BUSH_ST', ('EMBEZZLEMENT', None)),\n",
       " ('1400_Block_of_VANDYKE_AV', ('BRIBERY', 'BAYVIEW')),\n",
       " ('100_Block_of_JEFFERSON_ST', ('EMBEZZLEMENT', None)),\n",
       " ('0_Block_of_CHUMASERO_DR', (None, 'TARAVAL')),\n",
       " ('2000_Block_of_MARKET_ST', ('EMBEZZLEMENT', None)),\n",
       " ('1100_Block_of_SELBY_ST', ('EMBEZZLEMENT', None)),\n",
       " ('100_Block_of_ROME_ST', (None, 'INGLESIDE')),\n",
       " ('1900_Block_of_MISSION_ST', ('BRIBERY', 'MISSION'))]"
      ]
     },
     "execution_count": 6,
     "metadata": {},
     "output_type": "execute_result"
    }
   ],
   "source": [
    "addCatDistRdd = addCatRdd.fullOuterJoin(addDistRdd)\n",
    "addCatDistRdd.collect()"
   ]
  },
  {
   "cell_type": "code",
   "execution_count": 34,
   "metadata": {
    "collapsed": false
   },
   "outputs": [
    {
     "data": {
      "text/plain": [
       "[(('7/9/15', '23:45'),\n",
       "  ('OTHER_OFFENSES',\n",
       "   'POSSESSION_OF_BURGLARY_TOOLS',\n",
       "   'CENTRAL',\n",
       "   'ARREST/BOOKED',\n",
       "   'JACKSON_ST/POWELL_ST')),\n",
       " (('7/9/15', '23:45'),\n",
       "  ('LARCENY/THEFT',\n",
       "   'PETTY_THEFT_OF_PROPERTY',\n",
       "   'CENTRAL',\n",
       "   'NONE',\n",
       "   '300_Block_of_POWELL_ST')),\n",
       " (('7/9/15', '23:45'),\n",
       "  ('OTHER_OFFENSES',\n",
       "   'DRIVERS_LICENSE/SUSPENDED_OR_REVOKED',\n",
       "   'CENTRAL',\n",
       "   'ARREST/BOOKED',\n",
       "   'JACKSON_ST/POWELL_ST'))]"
      ]
     },
     "execution_count": 34,
     "metadata": {},
     "output_type": "execute_result"
    }
   ],
   "source": [
    "from pyspark.sql import Row\n",
    "sfpdRDD = sc.textFile(\"./data/MaprDataFiles/sfpd.csv\") \\\n",
    "        .map(lambda line:line.split(\",\")).map(lambda x: ((x[4],x[5]), (x[1], x[2],x[6], x[7],x[8])))\n",
    "sfpdRDD.take(3)"
   ]
  },
  {
   "cell_type": "code",
   "execution_count": 35,
   "metadata": {
    "collapsed": false
   },
   "outputs": [
    {
     "data": {
      "text/plain": [
       "[(('3/5/14', '11:39'),\n",
       "  (('LARCENY/THEFT',\n",
       "    'GRAND_THEFT_FROM_LOCKED_AUTO',\n",
       "    'CENTRAL',\n",
       "    'NONE',\n",
       "    '400_Block_of_STOCKTON_ST'),\n",
       "   ('LARCENY/THEFT',\n",
       "    'GRAND_THEFT_FROM_LOCKED_AUTO',\n",
       "    'CENTRAL',\n",
       "    'NONE',\n",
       "    '400_Block_of_STOCKTON_ST'))),\n",
       " (('1/22/15', '13:06'),\n",
       "  (('SUSPICIOUS_OCC',\n",
       "    'INVESTIGATIVE_DETENTION',\n",
       "    'NORTHERN',\n",
       "    'UNFOUNDED',\n",
       "    'SANCHEZ_ST/14TH_ST'),\n",
       "   ('SUSPICIOUS_OCC',\n",
       "    'INVESTIGATIVE_DETENTION',\n",
       "    'NORTHERN',\n",
       "    'UNFOUNDED',\n",
       "    'SANCHEZ_ST/14TH_ST'))),\n",
       " (('7/16/13', '11:50'),\n",
       "  (('BURGLARY',\n",
       "    'BURGLARY/STORE_UNDER_CONSTRUCTION/UNLAWFUL_ENTRY',\n",
       "    'SOUTHERN',\n",
       "    'NONE',\n",
       "    '0_Block_of_ZOE_ST'),\n",
       "   ('BURGLARY',\n",
       "    'BURGLARY/STORE_UNDER_CONSTRUCTION/UNLAWFUL_ENTRY',\n",
       "    'SOUTHERN',\n",
       "    'NONE',\n",
       "    '0_Block_of_ZOE_ST'))),\n",
       " (('4/7/14', '13:25'),\n",
       "  (('NON-CRIMINAL',\n",
       "    'AIDED_CASE/MENTAL_DISTURBED',\n",
       "    'MISSION',\n",
       "    'PSYCHOPATHIC_CASE',\n",
       "    '1100_Block_of_POTRERO_AV'),\n",
       "   ('NON-CRIMINAL',\n",
       "    'AIDED_CASE/MENTAL_DISTURBED',\n",
       "    'MISSION',\n",
       "    'PSYCHOPATHIC_CASE',\n",
       "    '1100_Block_of_POTRERO_AV'))),\n",
       " (('4/13/13', '0:08'),\n",
       "  (('WARRANTS',\n",
       "    'WARRANT_ARREST',\n",
       "    'SOUTHERN',\n",
       "    'ARREST/BOOKED',\n",
       "    'MASON_ST/TURK_ST'),\n",
       "   ('WARRANTS',\n",
       "    'WARRANT_ARREST',\n",
       "    'SOUTHERN',\n",
       "    'ARREST/BOOKED',\n",
       "    'MASON_ST/TURK_ST')))]"
      ]
     },
     "execution_count": 35,
     "metadata": {},
     "output_type": "execute_result"
    }
   ],
   "source": [
    "sfpdRDD.join(sfpdRDD).take(5)"
   ]
  },
  {
   "cell_type": "code",
   "execution_count": 48,
   "metadata": {
    "collapsed": false
   },
   "outputs": [],
   "source": [
    "rdd1 =  sc.parallelize(((\"foo\", 1), (\"bar\", 2), (\"baz\", 3)))\n",
    "rdd2 =  sc.parallelize(((\"foo\", 4), (\"bar\", 5), (\"bar\", 6)))"
   ]
  },
  {
   "cell_type": "code",
   "execution_count": 49,
   "metadata": {
    "collapsed": false
   },
   "outputs": [
    {
     "data": {
      "text/plain": [
       "[('bar', (2, 5)), ('bar', (2, 6)), ('foo', (1, 4))]"
      ]
     },
     "execution_count": 49,
     "metadata": {},
     "output_type": "execute_result"
    }
   ],
   "source": [
    "# inner join\n",
    "rdd1.join(rdd2).collect()"
   ]
  },
  {
   "cell_type": "code",
   "execution_count": 39,
   "metadata": {
    "collapsed": false
   },
   "outputs": [
    {
     "data": {
      "text/plain": [
       "[('bar', (2, 5)), ('bar', (2, 6)), ('baz', (3, None)), ('foo', (1, 4))]"
      ]
     },
     "execution_count": 39,
     "metadata": {},
     "output_type": "execute_result"
    }
   ],
   "source": [
    "# left outer\n",
    "rdd1.leftOuterJoin(rdd2).collect()"
   ]
  },
  {
   "cell_type": "code",
   "execution_count": 50,
   "metadata": {
    "collapsed": false
   },
   "outputs": [
    {
     "data": {
      "text/plain": [
       "[('bar', (2, 5)), ('bar', (2, 6)), ('foo', (1, 4))]"
      ]
     },
     "execution_count": 50,
     "metadata": {},
     "output_type": "execute_result"
    }
   ],
   "source": [
    "# right outer\n",
    "rdd1.rightOuterJoin(rdd2).collect()"
   ]
  },
  {
   "cell_type": "code",
   "execution_count": 51,
   "metadata": {
    "collapsed": false
   },
   "outputs": [
    {
     "data": {
      "text/plain": [
       "[('bar', (2, 5)), ('bar', (2, 6)), ('baz', (3, None)), ('foo', (1, 4))]"
      ]
     },
     "execution_count": 51,
     "metadata": {},
     "output_type": "execute_result"
    }
   ],
   "source": [
    "# full outer join\n",
    "rdd1.fullOuterJoin(rdd2).collect()"
   ]
  },
  {
   "cell_type": "code",
   "execution_count": 52,
   "metadata": {
    "collapsed": false
   },
   "outputs": [
    {
     "data": {
      "text/plain": [
       "[(('foo', 1), ('foo', 4)),\n",
       " (('foo', 1), ('bar', 5)),\n",
       " (('foo', 1), ('bar', 6)),\n",
       " (('bar', 2), ('foo', 4)),\n",
       " (('bar', 2), ('bar', 5)),\n",
       " (('bar', 2), ('bar', 6)),\n",
       " (('baz', 3), ('foo', 4)),\n",
       " (('baz', 3), ('bar', 5)),\n",
       " (('baz', 3), ('bar', 6))]"
      ]
     },
     "execution_count": 52,
     "metadata": {},
     "output_type": "execute_result"
    }
   ],
   "source": [
    "# cartesian\n",
    "rdd1.cartesian(rdd2).collect()"
   ]
  },
  {
   "cell_type": "code",
   "execution_count": 69,
   "metadata": {
    "collapsed": false
   },
   "outputs": [],
   "source": [
    "# cogroup\n",
    "rdd3 = rdd1.cogroup(rdd2)"
   ]
  },
  {
   "cell_type": "code",
   "execution_count": 81,
   "metadata": {
    "collapsed": false
   },
   "outputs": [
    {
     "data": {
      "text/plain": [
       "[('bar', (2,), (5, 6)), ('baz', (3,), ()), ('foo', (1,), (4,))]"
      ]
     },
     "execution_count": 81,
     "metadata": {},
     "output_type": "execute_result"
    }
   ],
   "source": [
    "[(k[0],tuple(k[1][0]),tuple(k[1][1])) for k in rdd3.collect()]"
   ]
  },
  {
   "cell_type": "code",
   "execution_count": 92,
   "metadata": {
    "collapsed": false
   },
   "outputs": [
    {
     "data": {
      "text/plain": [
       "defaultdict(int,\n",
       "            {('11/28/13', '10:30'): 1,\n",
       "             ('6/12/14', '17:30'): 8,\n",
       "             ('11/25/13', '20:30'): 1,\n",
       "             ('1/8/13', '4:00'): 5,\n",
       "             ('6/7/13', '15:45'): 2,\n",
       "             ('1/8/14', '18:01'): 1,\n",
       "             ('2/19/15', '16:55'): 1,\n",
       "             ('3/27/15', '13:08'): 1,\n",
       "             ('3/3/15', '18:40'): 2,\n",
       "             ('2/15/13', '9:24'): 1,\n",
       "             ('1/27/15', '8:50'): 2,\n",
       "             ('6/11/13', '11:10'): 3,\n",
       "             ('7/10/13', '2:30'): 1,\n",
       "             ('1/18/15', '19:30'): 4,\n",
       "             ('6/28/15', '22:41'): 2,\n",
       "             ('6/26/15', '8:30'): 4,\n",
       "             ('12/7/13', '19:47'): 2,\n",
       "             ('5/23/14', '12:59'): 1,\n",
       "             ('9/29/13', '16:22'): 1,\n",
       "             ('10/13/14', '0:01'): 5,\n",
       "             ('1/9/15', '10:35'): 2,\n",
       "             ('7/12/14', '23:45'): 2,\n",
       "             ('9/25/14', '12:38'): 1,\n",
       "             ('12/1/14', '9:05'): 2,\n",
       "             ('2/8/13', '17:05'): 1,\n",
       "             ('3/11/15', '18:14'): 1,\n",
       "             ('2/25/14', '20:30'): 5,\n",
       "             ('10/27/13', '3:50'): 1,\n",
       "             ('1/11/13', '19:30'): 2,\n",
       "             ('7/25/14', '16:45'): 1,\n",
       "             ('2/8/15', '23:50'): 3,\n",
       "             ('11/8/13', '14:11'): 2,\n",
       "             ('7/1/13', '17:40'): 2,\n",
       "             ('3/1/15', '9:15'): 2,\n",
       "             ('11/3/14', '17:25'): 1,\n",
       "             ('7/21/14', '2:30'): 1,\n",
       "             ('7/25/13', '1:40'): 1,\n",
       "             ('1/15/15', '20:00'): 4,\n",
       "             ('4/6/14', '0:14'): 1,\n",
       "             ('11/15/14', '0:56'): 1,\n",
       "             ('7/19/13', '1:17'): 1,\n",
       "             ('7/3/15', '11:00'): 6,\n",
       "             ('9/18/14', '7:26'): 1,\n",
       "             ('11/26/14', '9:05'): 1,\n",
       "             ('8/11/14', '0:56'): 2,\n",
       "             ('12/1/13', '22:10'): 2,\n",
       "             ('5/10/14', '19:00'): 6,\n",
       "             ('8/19/13', '12:12'): 3,\n",
       "             ('1/6/15', '13:49'): 1,\n",
       "             ('9/5/14', '12:30'): 9,\n",
       "             ('4/23/15', '6:45'): 1,\n",
       "             ('4/18/14', '16:54'): 1,\n",
       "             ('7/23/13', '1:10'): 1,\n",
       "             ('10/16/14', '12:20'): 1,\n",
       "             ('9/19/13', '15:46'): 1,\n",
       "             ('3/14/15', '1:01'): 1,\n",
       "             ('4/3/14', '21:01'): 1,\n",
       "             ('5/11/15', '19:30'): 8,\n",
       "             ('7/6/15', '1:58'): 3,\n",
       "             ('8/22/13', '15:10'): 1,\n",
       "             ('8/26/14', '9:15'): 1,\n",
       "             ('9/5/13', '10:15'): 6,\n",
       "             ('12/29/14', '22:00'): 5,\n",
       "             ('7/12/14', '21:55'): 2,\n",
       "             ('9/28/14', '20:04'): 1,\n",
       "             ('6/12/13', '15:08'): 1,\n",
       "             ('6/23/15', '10:15'): 1,\n",
       "             ('8/30/14', '22:36'): 1,\n",
       "             ('10/28/13', '12:20'): 1,\n",
       "             ('7/21/14', '16:45'): 2,\n",
       "             ('5/1/13', '2:33'): 4,\n",
       "             ('4/10/15', '19:00'): 11,\n",
       "             ('2/2/15', '10:30'): 1,\n",
       "             ('12/8/14', '9:36'): 1,\n",
       "             ('8/1/14', '18:40'): 2,\n",
       "             ('2/4/14', '2:00'): 3,\n",
       "             ('5/1/13', '17:45'): 2,\n",
       "             ('1/13/15', '19:42'): 2,\n",
       "             ('3/8/14', '19:10'): 1,\n",
       "             ('8/1/13', '13:10'): 1,\n",
       "             ('6/6/13', '15:30'): 1,\n",
       "             ('10/17/14', '1:08'): 1,\n",
       "             ('4/20/13', '17:30'): 2,\n",
       "             ('10/18/14', '9:45'): 1,\n",
       "             ('5/18/13', '22:00'): 8,\n",
       "             ('12/8/14', '20:19'): 1,\n",
       "             ('7/23/13', '13:35'): 1,\n",
       "             ('5/4/14', '23:50'): 3,\n",
       "             ('9/30/13', '14:35'): 1,\n",
       "             ('7/10/13', '14:44'): 2,\n",
       "             ('12/20/14', '9:00'): 5,\n",
       "             ('9/11/13', '17:52'): 3,\n",
       "             ('12/29/13', '17:15'): 1,\n",
       "             ('2/27/15', '11:30'): 3,\n",
       "             ('7/19/13', '19:20'): 4,\n",
       "             ('5/19/15', '21:50'): 1,\n",
       "             ('5/3/13', '11:16'): 5,\n",
       "             ('7/23/14', '14:50'): 1,\n",
       "             ('5/16/13', '20:38'): 1,\n",
       "             ('12/6/14', '13:40'): 2,\n",
       "             ('3/26/13', '22:38'): 1,\n",
       "             ('11/4/13', '17:24'): 1,\n",
       "             ('3/30/14', '15:05'): 2,\n",
       "             ('4/23/13', '0:46'): 1,\n",
       "             ('5/25/13', '0:16'): 1,\n",
       "             ('1/6/14', '20:30'): 2,\n",
       "             ('8/30/14', '14:16'): 1,\n",
       "             ('3/11/13', '18:15'): 1,\n",
       "             ('4/12/14', '2:30'): 1,\n",
       "             ('11/27/13', '12:45'): 2,\n",
       "             ('7/10/13', '19:30'): 1,\n",
       "             ('11/13/13', '18:28'): 1,\n",
       "             ('7/12/13', '8:33'): 2,\n",
       "             ('12/23/14', '16:50'): 2,\n",
       "             ('10/3/14', '20:10'): 2,\n",
       "             ('3/4/15', '1:00'): 1,\n",
       "             ('7/25/14', '16:35'): 1,\n",
       "             ('4/19/13', '21:45'): 1,\n",
       "             ('10/9/13', '8:44'): 1,\n",
       "             ('11/9/14', '22:30'): 1,\n",
       "             ('9/12/13', '15:57'): 3,\n",
       "             ('6/14/13', '2:00'): 5,\n",
       "             ('7/3/14', '13:00'): 11,\n",
       "             ('5/17/15', '13:01'): 1,\n",
       "             ('8/1/13', '19:30'): 8,\n",
       "             ('10/5/13', '20:06'): 2,\n",
       "             ('3/1/14', '8:10'): 1,\n",
       "             ('4/12/13', '14:20'): 1,\n",
       "             ('2/28/14', '0:05'): 1,\n",
       "             ('4/19/14', '14:56'): 1,\n",
       "             ('8/27/14', '14:45'): 3,\n",
       "             ('4/20/14', '9:00'): 1,\n",
       "             ('8/24/14', '16:30'): 1,\n",
       "             ('9/7/14', '21:18'): 3,\n",
       "             ('6/4/13', '12:15'): 1,\n",
       "             ('12/17/14', '17:50'): 2,\n",
       "             ('4/21/14', '17:39'): 1,\n",
       "             ('4/8/13', '17:30'): 4,\n",
       "             ('2/21/14', '11:15'): 1,\n",
       "             ('4/12/13', '17:57'): 1,\n",
       "             ('10/1/14', '19:40'): 1,\n",
       "             ('3/1/15', '13:15'): 1,\n",
       "             ('7/27/13', '17:50'): 3,\n",
       "             ('4/29/15', '14:40'): 1,\n",
       "             ('1/12/14', '17:29'): 2,\n",
       "             ('7/14/14', '1:06'): 1,\n",
       "             ('6/17/14', '21:35'): 1,\n",
       "             ('12/8/13', '3:00'): 3,\n",
       "             ('4/30/14', '20:43'): 1,\n",
       "             ('3/17/15', '2:48'): 1,\n",
       "             ('12/5/14', '23:59'): 1,\n",
       "             ('7/2/15', '2:40'): 2,\n",
       "             ('2/15/15', '20:40'): 1,\n",
       "             ('5/6/15', '2:03'): 1,\n",
       "             ('3/25/13', '21:30'): 2,\n",
       "             ('1/1/14', '3:09'): 1,\n",
       "             ('11/6/14', '20:00'): 8,\n",
       "             ('2/6/14', '16:38'): 1,\n",
       "             ('6/24/14', '7:56'): 1,\n",
       "             ('4/22/15', '18:07'): 1,\n",
       "             ('1/31/15', '22:10'): 1,\n",
       "             ('2/26/15', '13:10'): 1,\n",
       "             ('7/6/14', '18:30'): 3,\n",
       "             ('7/2/13', '21:09'): 1,\n",
       "             ('7/5/14', '6:50'): 1,\n",
       "             ('4/23/13', '9:00'): 3,\n",
       "             ('4/17/13', '10:23'): 2,\n",
       "             ('12/3/13', '20:39'): 1,\n",
       "             ('2/28/13', '6:39'): 1,\n",
       "             ('8/22/14', '21:12'): 2,\n",
       "             ('6/22/14', '22:30'): 1,\n",
       "             ('7/6/14', '8:30'): 3,\n",
       "             ('8/21/14', '23:47'): 1,\n",
       "             ('2/5/14', '14:34'): 2,\n",
       "             ('1/23/15', '22:30'): 6,\n",
       "             ('9/15/14', '13:30'): 2,\n",
       "             ('9/20/13', '21:40'): 3,\n",
       "             ('4/28/14', '15:30'): 5,\n",
       "             ('4/25/13', '19:45'): 1,\n",
       "             ('3/9/13', '15:20'): 2,\n",
       "             ('5/4/13', '18:42'): 1,\n",
       "             ('1/26/15', '14:40'): 2,\n",
       "             ('10/15/14', '13:03'): 2,\n",
       "             ('2/11/13', '14:10'): 3,\n",
       "             ('2/22/15', '1:00'): 6,\n",
       "             ('1/1/15', '2:10'): 1,\n",
       "             ('4/10/14', '9:42'): 1,\n",
       "             ('3/4/15', '1:30'): 2,\n",
       "             ('5/13/14', '23:45'): 1,\n",
       "             ('3/14/14', '13:38'): 2,\n",
       "             ('1/16/13', '7:45'): 4,\n",
       "             ('2/2/14', '22:07'): 2,\n",
       "             ('9/7/14', '3:21'): 1,\n",
       "             ('12/13/13', '0:30'): 2,\n",
       "             ('10/23/14', '22:50'): 1,\n",
       "             ('1/6/15', '15:14'): 1,\n",
       "             ('10/27/13', '3:14'): 2,\n",
       "             ('2/10/15', '12:30'): 6,\n",
       "             ('4/4/14', '22:03'): 1,\n",
       "             ('4/17/13', '21:43'): 2,\n",
       "             ('1/27/15', '3:39'): 3,\n",
       "             ('3/18/14', '18:20'): 1,\n",
       "             ('12/9/14', '7:41'): 1,\n",
       "             ('5/25/14', '2:48'): 1,\n",
       "             ('1/7/15', '9:47'): 1,\n",
       "             ('7/14/14', '22:35'): 1,\n",
       "             ('3/17/13', '23:30'): 1,\n",
       "             ('8/21/14', '22:00'): 7,\n",
       "             ('4/19/13', '18:13'): 1,\n",
       "             ('11/20/13', '12:05'): 1,\n",
       "             ('5/28/14', '11:36'): 1,\n",
       "             ('9/29/13', '22:43'): 1,\n",
       "             ('5/13/13', '11:30'): 5,\n",
       "             ('4/4/13', '14:41'): 1,\n",
       "             ('4/5/13', '7:26'): 1,\n",
       "             ('2/9/13', '23:54'): 3,\n",
       "             ('7/2/13', '17:55'): 1,\n",
       "             ('12/9/14', '20:20'): 1,\n",
       "             ('1/5/14', '1:50'): 2,\n",
       "             ('4/1/13', '9:00'): 13,\n",
       "             ('5/7/15', '7:30'): 1,\n",
       "             ('4/3/15', '11:30'): 1,\n",
       "             ('12/6/13', '23:08'): 1,\n",
       "             ('1/2/13', '15:30'): 5,\n",
       "             ('7/15/13', '20:50'): 1,\n",
       "             ('3/1/15', '14:30'): 3,\n",
       "             ('11/20/13', '11:15'): 1,\n",
       "             ('12/22/13', '17:19'): 2,\n",
       "             ('1/31/14', '9:30'): 3,\n",
       "             ('10/14/13', '19:20'): 2,\n",
       "             ('5/15/15', '0:10'): 2,\n",
       "             ('1/19/13', '0:30'): 2,\n",
       "             ('8/8/14', '11:51'): 5,\n",
       "             ('1/16/14', '3:10'): 1,\n",
       "             ('12/30/14', '15:55'): 1,\n",
       "             ('3/26/14', '15:02'): 1,\n",
       "             ('4/9/13', '10:11'): 1,\n",
       "             ('6/22/13', '14:30'): 3,\n",
       "             ('3/4/13', '18:30'): 4,\n",
       "             ('2/24/14', '0:20'): 1,\n",
       "             ('9/17/13', '3:42'): 2,\n",
       "             ('6/14/14', '0:10'): 1,\n",
       "             ('3/18/14', '15:53'): 2,\n",
       "             ('10/8/13', '18:40'): 2,\n",
       "             ('5/28/15', '9:50'): 1,\n",
       "             ('4/6/15', '11:30'): 2,\n",
       "             ('5/1/14', '23:30'): 4,\n",
       "             ('3/11/15', '21:49'): 1,\n",
       "             ('12/8/13', '16:55'): 1,\n",
       "             ('4/1/14', '19:15'): 2,\n",
       "             ('8/19/13', '21:45'): 1,\n",
       "             ('1/13/14', '14:50'): 1,\n",
       "             ('6/30/15', '13:43'): 2,\n",
       "             ('10/25/13', '22:41'): 2,\n",
       "             ('11/13/13', '19:46'): 1,\n",
       "             ('7/8/14', '19:30'): 5,\n",
       "             ('4/5/14', '16:32'): 1,\n",
       "             ('8/21/14', '9:19'): 3,\n",
       "             ('3/16/15', '11:05'): 4,\n",
       "             ('7/9/13', '9:50'): 1,\n",
       "             ('4/14/15', '18:00'): 6,\n",
       "             ('1/19/14', '18:50'): 1,\n",
       "             ('8/20/14', '15:27'): 1,\n",
       "             ('6/27/14', '22:39'): 1,\n",
       "             ('6/19/13', '23:13'): 1,\n",
       "             ('9/24/13', '10:30'): 1,\n",
       "             ('3/4/15', '18:00'): 8,\n",
       "             ('6/24/15', '18:35'): 2,\n",
       "             ('10/1/13', '19:10'): 1,\n",
       "             ('9/7/13', '21:33'): 2,\n",
       "             ('9/20/14', '9:40'): 3,\n",
       "             ('2/24/15', '16:30'): 5,\n",
       "             ('11/22/14', '2:10'): 1,\n",
       "             ('6/2/13', '22:15'): 1,\n",
       "             ('10/21/13', '11:20'): 1,\n",
       "             ('6/6/15', '7:00'): 1,\n",
       "             ('1/15/15', '8:00'): 9,\n",
       "             ('10/5/14', '20:00'): 7,\n",
       "             ('12/9/14', '16:25'): 1,\n",
       "             ('6/2/15', '16:34'): 1,\n",
       "             ('7/5/13', '3:00'): 9,\n",
       "             ('6/17/15', '2:35'): 1,\n",
       "             ('4/12/15', '18:00'): 8,\n",
       "             ('5/3/13', '18:10'): 1,\n",
       "             ('3/9/15', '18:47'): 1,\n",
       "             ('2/7/14', '9:55'): 3,\n",
       "             ('5/15/15', '11:20'): 1,\n",
       "             ('6/2/15', '17:55'): 1,\n",
       "             ('12/15/13', '16:15'): 1,\n",
       "             ('4/29/15', '4:09'): 2,\n",
       "             ('3/7/13', '9:48'): 1,\n",
       "             ('9/3/14', '3:00'): 3,\n",
       "             ('4/12/13', '6:30'): 2,\n",
       "             ('8/31/13', '15:55'): 1,\n",
       "             ('11/28/14', '18:55'): 1,\n",
       "             ('12/11/14', '23:04'): 1,\n",
       "             ('5/19/14', '12:05'): 3,\n",
       "             ('1/5/14', '4:19'): 1,\n",
       "             ('10/23/13', '11:30'): 2,\n",
       "             ('8/20/14', '10:28'): 3,\n",
       "             ('7/6/15', '1:43'): 1,\n",
       "             ('2/2/15', '16:55'): 3,\n",
       "             ('7/28/13', '16:19'): 1,\n",
       "             ('5/28/13', '2:56'): 1,\n",
       "             ('4/7/15', '19:31'): 1,\n",
       "             ('5/20/13', '2:58'): 1,\n",
       "             ('1/9/14', '0:24'): 4,\n",
       "             ('5/18/13', '19:05'): 1,\n",
       "             ('3/4/15', '2:25'): 1,\n",
       "             ('9/22/14', '12:00'): 11,\n",
       "             ('2/18/14', '6:42'): 1,\n",
       "             ('4/30/15', '10:28'): 1,\n",
       "             ('7/27/14', '8:13'): 1,\n",
       "             ('1/4/13', '21:20'): 2,\n",
       "             ('11/17/14', '0:30'): 2,\n",
       "             ('5/18/13', '12:30'): 4,\n",
       "             ('2/2/13', '22:30'): 2,\n",
       "             ('4/29/14', '20:56'): 6,\n",
       "             ('3/28/14', '3:25'): 1,\n",
       "             ('4/27/14', '22:31'): 3,\n",
       "             ('9/4/13', '8:23'): 2,\n",
       "             ('4/30/14', '16:59'): 1,\n",
       "             ('8/16/14', '16:36'): 1,\n",
       "             ('10/29/14', '10:48'): 1,\n",
       "             ('10/26/13', '5:09'): 4,\n",
       "             ('3/31/15', '18:15'): 2,\n",
       "             ('3/11/13', '11:52'): 1,\n",
       "             ('3/3/14', '17:52'): 1,\n",
       "             ('2/28/14', '23:30'): 1,\n",
       "             ('4/30/13', '11:06'): 2,\n",
       "             ('9/18/13', '11:30'): 2,\n",
       "             ('9/25/14', '20:45'): 1,\n",
       "             ('4/14/15', '16:19'): 1,\n",
       "             ('11/2/14', '23:15'): 1,\n",
       "             ('1/15/14', '21:00'): 13,\n",
       "             ('5/31/13', '15:38'): 1,\n",
       "             ('8/14/13', '11:45'): 1,\n",
       "             ('2/27/13', '10:15'): 2,\n",
       "             ('5/1/13', '10:42'): 1,\n",
       "             ('6/5/15', '16:27'): 2,\n",
       "             ('7/10/13', '21:30'): 1,\n",
       "             ('6/17/13', '12:47'): 1,\n",
       "             ('1/27/13', '23:25'): 1,\n",
       "             ('6/30/15', '18:50'): 1,\n",
       "             ('3/22/14', '19:29'): 2,\n",
       "             ('10/26/13', '4:35'): 1,\n",
       "             ('5/16/15', '6:40'): 1,\n",
       "             ('1/12/15', '13:00'): 4,\n",
       "             ('7/25/13', '15:10'): 2,\n",
       "             ('1/6/15', '20:05'): 1,\n",
       "             ('10/2/14', '18:00'): 6,\n",
       "             ('7/8/14', '2:30'): 1,\n",
       "             ('4/17/13', '19:09'): 1,\n",
       "             ('3/11/13', '19:14'): 1,\n",
       "             ('12/5/13', '22:05'): 1,\n",
       "             ('12/19/14', '0:09'): 2,\n",
       "             ('6/8/13', '13:55'): 1,\n",
       "             ('10/30/14', '23:30'): 1,\n",
       "             ('4/26/14', '10:24'): 1,\n",
       "             ('11/27/14', '1:23'): 1,\n",
       "             ('3/1/13', '0:01'): 42,\n",
       "             ('6/5/13', '11:24'): 1,\n",
       "             ('2/13/13', '0:07'): 1,\n",
       "             ('8/2/14', '16:24'): 1,\n",
       "             ('1/22/15', '16:00'): 6,\n",
       "             ('5/6/14', '21:26'): 4,\n",
       "             ('4/10/14', '17:27'): 1,\n",
       "             ('12/27/13', '12:12'): 1,\n",
       "             ('7/15/14', '21:30'): 6,\n",
       "             ('4/3/14', '1:17'): 1,\n",
       "             ('3/24/15', '18:25'): 1,\n",
       "             ('2/14/14', '0:04'): 1,\n",
       "             ('9/29/14', '18:45'): 1,\n",
       "             ('2/3/15', '9:38'): 1,\n",
       "             ('10/30/14', '18:10'): 1,\n",
       "             ('1/31/13', '19:55'): 1,\n",
       "             ('11/11/13', '1:00'): 3,\n",
       "             ('9/4/14', '16:49'): 1,\n",
       "             ('2/26/15', '20:00'): 6,\n",
       "             ('3/7/13', '11:50'): 5,\n",
       "             ('6/2/15', '13:57'): 2,\n",
       "             ('5/17/15', '2:02'): 1,\n",
       "             ('2/14/15', '0:18'): 3,\n",
       "             ('3/6/14', '8:30'): 4,\n",
       "             ('1/8/14', '9:29'): 2,\n",
       "             ('1/21/15', '6:40'): 1,\n",
       "             ('6/28/15', '14:47'): 1,\n",
       "             ('9/24/14', '6:20'): 1,\n",
       "             ('5/9/14', '23:21'): 3,\n",
       "             ('5/24/13', '23:20'): 3,\n",
       "             ('8/13/13', '14:56'): 1,\n",
       "             ('11/14/13', '17:47'): 2,\n",
       "             ('2/16/13', '22:00'): 12,\n",
       "             ('6/19/13', '23:15'): 3,\n",
       "             ('3/27/15', '9:42'): 1,\n",
       "             ('2/16/14', '22:11'): 1,\n",
       "             ('6/15/14', '17:35'): 2,\n",
       "             ('11/17/14', '23:55'): 1,\n",
       "             ('11/21/13', '20:38'): 2,\n",
       "             ('9/24/14', '2:55'): 2,\n",
       "             ('1/23/14', '22:29'): 1,\n",
       "             ('12/17/13', '0:34'): 1,\n",
       "             ('11/18/13', '14:35'): 1,\n",
       "             ('4/8/14', '22:58'): 1,\n",
       "             ('4/20/14', '17:24'): 1,\n",
       "             ('9/2/14', '12:05'): 1,\n",
       "             ('7/9/14', '19:11'): 1,\n",
       "             ('4/12/14', '12:01'): 3,\n",
       "             ('2/4/14', '8:59'): 1,\n",
       "             ('6/6/13', '8:53'): 1,\n",
       "             ('4/7/14', '0:34'): 1,\n",
       "             ('1/21/15', '22:55'): 1,\n",
       "             ('8/29/14', '22:30'): 4,\n",
       "             ('6/12/13', '11:28'): 1,\n",
       "             ('11/1/13', '6:50'): 1,\n",
       "             ('3/22/14', '9:10'): 1,\n",
       "             ('1/31/13', '13:53'): 1,\n",
       "             ('11/4/14', '14:38'): 2,\n",
       "             ('12/6/13', '13:01'): 1,\n",
       "             ('7/6/14', '22:23'): 2,\n",
       "             ('3/24/14', '19:20'): 1,\n",
       "             ('4/11/14', '8:20'): 2,\n",
       "             ('2/13/14', '21:47'): 2,\n",
       "             ('1/4/15', '7:30'): 2,\n",
       "             ('1/7/15', '16:55'): 1,\n",
       "             ('1/14/14', '12:36'): 1,\n",
       "             ('2/27/15', '23:51'): 1,\n",
       "             ('12/6/13', '0:30'): 5,\n",
       "             ('2/18/15', '20:21'): 3,\n",
       "             ('10/6/13', '11:39'): 1,\n",
       "             ('1/6/15', '12:52'): 1,\n",
       "             ('8/18/14', '12:15'): 1,\n",
       "             ('5/28/13', '20:53'): 1,\n",
       "             ('4/16/13', '9:00'): 1,\n",
       "             ('6/20/15', '19:25'): 1,\n",
       "             ('6/30/15', '2:00'): 1,\n",
       "             ('2/10/13', '12:55'): 1,\n",
       "             ('10/31/14', '13:40'): 1,\n",
       "             ('11/26/13', '16:40'): 1,\n",
       "             ('12/13/13', '17:45'): 4,\n",
       "             ('2/20/14', '14:00'): 10,\n",
       "             ('10/26/14', '8:45'): 2,\n",
       "             ('2/2/15', '10:53'): 1,\n",
       "             ('6/23/15', '20:50'): 1,\n",
       "             ('2/4/15', '18:40'): 4,\n",
       "             ('9/23/14', '11:30'): 2,\n",
       "             ('10/20/13', '15:51'): 1,\n",
       "             ('12/31/14', '7:40'): 2,\n",
       "             ('10/9/13', '20:45'): 4,\n",
       "             ('1/2/15', '13:00'): 5,\n",
       "             ('10/3/13', '17:45'): 3,\n",
       "             ('4/16/13', '16:15'): 3,\n",
       "             ('3/6/14', '15:21'): 1,\n",
       "             ('3/28/13', '12:19'): 7,\n",
       "             ('8/23/13', '5:08'): 1,\n",
       "             ('9/25/14', '17:40'): 1,\n",
       "             ('6/20/15', '21:25'): 1,\n",
       "             ('11/3/14', '0:01'): 10,\n",
       "             ('2/21/14', '10:15'): 5,\n",
       "             ('6/4/13', '20:05'): 1,\n",
       "             ('3/22/14', '18:15'): 3,\n",
       "             ('6/1/15', '10:15'): 2,\n",
       "             ('5/1/15', '11:45'): 2,\n",
       "             ('6/9/15', '9:50'): 3,\n",
       "             ('4/27/15', '22:15'): 3,\n",
       "             ('10/1/13', '13:03'): 3,\n",
       "             ('2/20/13', '14:20'): 1,\n",
       "             ('3/20/15', '10:40'): 2,\n",
       "             ('3/7/15', '12:28'): 1,\n",
       "             ('4/29/14', '19:19'): 1,\n",
       "             ('4/6/15', '2:41'): 1,\n",
       "             ('9/3/13', '20:45'): 1,\n",
       "             ('5/17/14', '21:44'): 1,\n",
       "             ('6/3/15', '18:50'): 1,\n",
       "             ('1/5/15', '3:36'): 1,\n",
       "             ('2/4/15', '19:19'): 2,\n",
       "             ('4/3/14', '5:09'): 1,\n",
       "             ('7/20/14', '9:45'): 3,\n",
       "             ('2/20/15', '16:23'): 1,\n",
       "             ('3/25/13', '8:30'): 3,\n",
       "             ('9/25/14', '5:25'): 1,\n",
       "             ('10/3/13', '20:55'): 1,\n",
       "             ('1/12/15', '14:45'): 2,\n",
       "             ('2/23/13', '18:10'): 2,\n",
       "             ('5/5/15', '0:25'): 1,\n",
       "             ('5/30/15', '19:45'): 3,\n",
       "             ('11/14/13', '2:30'): 4,\n",
       "             ('12/5/13', '9:50'): 1,\n",
       "             ('1/1/13', '2:10'): 4,\n",
       "             ('2/13/14', '9:43'): 2,\n",
       "             ('4/29/15', '8:32'): 2,\n",
       "             ('2/11/15', '21:09'): 2,\n",
       "             ('5/18/14', '17:30'): 4,\n",
       "             ('7/23/13', '21:48'): 3,\n",
       "             ('10/2/14', '19:10'): 3,\n",
       "             ('5/1/14', '7:21'): 3,\n",
       "             ('4/24/14', '14:35'): 1,\n",
       "             ('12/11/13', '23:00'): 5,\n",
       "             ('7/16/13', '9:45'): 1,\n",
       "             ('5/28/14', '7:00'): 1,\n",
       "             ('5/23/14', '19:33'): 1,\n",
       "             ('11/28/14', '17:50'): 2,\n",
       "             ('3/14/13', '7:15'): 1,\n",
       "             ('8/21/14', '9:53'): 1,\n",
       "             ('4/11/13', '14:15'): 4,\n",
       "             ('8/29/13', '7:43'): 2,\n",
       "             ('12/16/14', '16:09'): 3,\n",
       "             ('9/7/14', '17:20'): 1,\n",
       "             ('9/15/13', '13:25'): 4,\n",
       "             ('9/24/14', '16:00'): 3,\n",
       "             ('4/21/14', '10:06'): 1,\n",
       "             ('7/25/13', '15:41'): 1,\n",
       "             ('10/22/13', '18:20'): 2,\n",
       "             ('4/24/14', '9:50'): 2,\n",
       "             ('7/9/14', '17:23'): 1,\n",
       "             ('2/5/15', '11:38'): 3,\n",
       "             ('5/24/14', '8:12'): 1,\n",
       "             ('2/24/14', '20:20'): 3,\n",
       "             ('6/16/15', '23:15'): 3,\n",
       "             ('3/3/14', '17:32'): 1,\n",
       "             ('1/22/14', '15:15'): 4,\n",
       "             ('11/22/13', '13:50'): 2,\n",
       "             ('8/10/13', '0:18'): 1,\n",
       "             ('8/2/13', '12:56'): 2,\n",
       "             ('3/21/13', '13:30'): 5,\n",
       "             ('10/1/14', '11:30'): 3,\n",
       "             ('10/7/13', '4:48'): 1,\n",
       "             ('5/21/15', '9:45'): 1,\n",
       "             ('6/15/14', '18:57'): 3,\n",
       "             ('4/24/15', '13:49'): 1,\n",
       "             ('9/12/14', '10:45'): 2,\n",
       "             ('4/29/15', '14:16'): 3,\n",
       "             ('7/9/14', '17:24'): 1,\n",
       "             ('2/27/13', '8:09'): 2,\n",
       "             ('9/7/14', '23:30'): 4,\n",
       "             ('11/25/13', '15:49'): 1,\n",
       "             ('9/9/14', '12:13'): 1,\n",
       "             ('4/29/14', '17:40'): 2,\n",
       "             ('3/28/15', '5:20'): 1,\n",
       "             ('1/23/13', '11:00'): 5,\n",
       "             ('6/29/15', '12:53'): 4,\n",
       "             ('12/15/14', '12:20'): 1,\n",
       "             ('3/15/13', '12:23'): 1,\n",
       "             ('11/1/14', '1:30'): 10,\n",
       "             ('4/14/15', '23:20'): 1,\n",
       "             ('1/12/14', '17:15'): 2,\n",
       "             ('4/13/14', '1:22'): 1,\n",
       "             ('7/27/13', '1:15'): 3,\n",
       "             ('4/9/14', '14:59'): 2,\n",
       "             ('6/24/13', '4:15'): 1,\n",
       "             ('1/24/13', '17:23'): 4,\n",
       "             ('3/25/15', '18:58'): 1,\n",
       "             ('9/10/13', '17:15'): 2,\n",
       "             ('9/22/13', '7:41'): 2,\n",
       "             ('2/16/15', '6:25'): 4,\n",
       "             ('4/9/14', '21:02'): 1,\n",
       "             ('5/7/15', '21:48'): 1,\n",
       "             ('6/29/14', '23:59'): 1,\n",
       "             ('9/17/13', '18:00'): 13,\n",
       "             ('5/28/14', '0:33'): 1,\n",
       "             ('10/22/14', '23:00'): 4,\n",
       "             ('1/28/15', '14:45'): 2,\n",
       "             ('10/11/13', '9:05'): 1,\n",
       "             ('2/21/15', '9:50'): 2,\n",
       "             ('9/26/14', '11:28'): 1,\n",
       "             ('2/18/14', '8:39'): 1,\n",
       "             ('4/28/14', '17:29'): 2,\n",
       "             ('7/17/13', '12:41'): 1,\n",
       "             ('7/21/14', '21:00'): 15,\n",
       "             ('3/25/14', '15:00'): 8,\n",
       "             ('7/2/13', '21:30'): 5,\n",
       "             ('10/25/14', '16:40'): 1,\n",
       "             ('6/22/13', '3:15'): 3,\n",
       "             ('5/2/15', '1:05'): 1,\n",
       "             ('10/23/14', '14:55'): 2,\n",
       "             ('10/1/14', '7:00'): 2,\n",
       "             ('9/14/14', '15:45'): 2,\n",
       "             ('12/13/13', '13:10'): 1,\n",
       "             ('11/24/14', '9:51'): 2,\n",
       "             ('9/22/13', '20:20'): 2,\n",
       "             ('6/5/13', '16:35'): 3,\n",
       "             ('3/11/13', '22:20'): 1,\n",
       "             ('11/17/14', '11:10'): 1,\n",
       "             ('8/6/14', '17:15'): 2,\n",
       "             ('6/3/13', '19:52'): 1,\n",
       "             ('11/23/13', '11:45'): 1,\n",
       "             ('2/10/14', '13:30'): 3,\n",
       "             ('7/24/14', '6:12'): 1,\n",
       "             ('8/20/14', '11:15'): 2,\n",
       "             ('12/8/13', '16:40'): 2,\n",
       "             ('3/30/13', '21:55'): 1,\n",
       "             ('5/25/13', '15:30'): 1,\n",
       "             ('10/3/14', '10:20'): 1,\n",
       "             ('1/17/14', '0:50'): 1,\n",
       "             ('11/6/14', '13:30'): 1,\n",
       "             ('6/29/15', '23:00'): 2,\n",
       "             ('3/13/15', '4:00'): 1,\n",
       "             ('2/1/14', '2:04'): 1,\n",
       "             ('6/19/15', '14:15'): 3,\n",
       "             ('3/28/13', '3:45'): 1,\n",
       "             ('10/22/14', '1:30'): 1,\n",
       "             ('8/31/13', '14:28'): 2,\n",
       "             ('5/19/13', '21:00'): 7,\n",
       "             ('3/13/14', '12:25'): 1,\n",
       "             ('1/4/15', '20:45'): 1,\n",
       "             ('10/20/14', '5:00'): 1,\n",
       "             ('10/1/14', '17:46'): 1,\n",
       "             ('3/27/13', '9:01'): 1,\n",
       "             ('12/30/14', '22:00'): 1,\n",
       "             ('9/15/14', '21:50'): 4,\n",
       "             ('3/13/15', '0:01'): 10,\n",
       "             ('3/26/14', '15:00'): 4,\n",
       "             ('10/8/13', '22:49'): 1,\n",
       "             ('8/5/13', '4:10'): 1,\n",
       "             ('7/1/15', '16:50'): 3,\n",
       "             ('4/10/15', '5:48'): 2,\n",
       "             ('5/24/14', '0:05'): 1,\n",
       "             ('12/27/14', '16:45'): 1,\n",
       "             ('10/14/13', '9:30'): 3,\n",
       "             ('1/28/15', '18:15'): 2,\n",
       "             ('12/10/14', '23:05'): 1,\n",
       "             ('4/30/13', '2:37'): 1,\n",
       "             ('6/24/15', '18:45'): 2,\n",
       "             ('6/7/15', '0:50'): 1,\n",
       "             ('8/3/14', '0:50'): 2,\n",
       "             ('3/26/14', '9:01'): 1,\n",
       "             ('9/20/14', '16:10'): 5,\n",
       "             ('2/20/13', '6:30'): 5,\n",
       "             ('11/23/14', '10:45'): 2,\n",
       "             ('3/14/15', '8:12'): 2,\n",
       "             ('1/29/14', '20:20'): 1,\n",
       "             ('10/11/13', '22:40'): 1,\n",
       "             ('2/20/15', '19:20'): 1,\n",
       "             ('7/23/14', '22:06'): 1,\n",
       "             ('2/26/15', '7:55'): 1,\n",
       "             ('5/11/14', '9:00'): 1,\n",
       "             ('5/11/13', '0:45'): 1,\n",
       "             ('9/22/13', '9:20'): 1,\n",
       "             ('3/10/14', '22:30'): 6,\n",
       "             ('10/11/13', '3:00'): 2,\n",
       "             ('1/15/14', '10:11'): 1,\n",
       "             ('10/20/14', '1:05'): 3,\n",
       "             ('10/15/14', '9:31'): 2,\n",
       "             ('2/28/14', '13:05'): 2,\n",
       "             ('2/27/13', '8:03'): 1,\n",
       "             ('3/1/15', '9:16'): 1,\n",
       "             ('6/2/13', '7:54'): 1,\n",
       "             ('3/28/15', '19:38'): 1,\n",
       "             ('5/27/15', '8:00'): 1,\n",
       "             ('10/26/14', '22:30'): 6,\n",
       "             ('7/24/13', '12:58'): 2,\n",
       "             ('5/12/13', '18:12'): 1,\n",
       "             ('4/14/14', '11:09'): 1,\n",
       "             ('1/9/14', '1:34'): 1,\n",
       "             ('7/18/13', '19:02'): 3,\n",
       "             ('2/6/14', '10:35'): 1,\n",
       "             ('11/2/14', '17:10'): 2,\n",
       "             ('3/6/15', '22:35'): 3,\n",
       "             ('4/3/13', '2:45'): 1,\n",
       "             ('1/14/15', '13:56'): 2,\n",
       "             ('7/28/14', '11:40'): 1,\n",
       "             ('2/1/14', '18:30'): 3,\n",
       "             ('7/1/15', '8:35'): 4,\n",
       "             ('2/23/14', '23:45'): 2,\n",
       "             ('1/31/15', '10:00'): 3,\n",
       "             ('11/11/13', '2:45'): 1,\n",
       "             ('12/28/13', '12:26'): 1,\n",
       "             ('11/25/14', '8:00'): 5,\n",
       "             ('10/11/14', '21:57'): 1,\n",
       "             ('3/21/13', '8:30'): 2,\n",
       "             ('3/4/15', '23:42'): 1,\n",
       "             ('1/31/14', '8:30'): 1,\n",
       "             ('2/10/14', '6:50'): 1,\n",
       "             ('2/4/14', '19:48'): 3,\n",
       "             ('7/8/14', '19:32'): 2,\n",
       "             ('9/27/13', '9:05'): 1,\n",
       "             ('6/8/15', '3:00'): 3,\n",
       "             ('8/15/14', '17:30'): 4,\n",
       "             ('5/17/15', '15:56'): 1,\n",
       "             ('1/26/13', '14:41'): 1,\n",
       "             ('7/10/13', '4:49'): 2,\n",
       "             ('1/2/14', '20:16'): 2,\n",
       "             ('4/19/14', '16:00'): 6,\n",
       "             ('11/27/14', '9:00'): 3,\n",
       "             ('11/13/14', '6:40'): 1,\n",
       "             ('5/24/14', '21:00'): 7,\n",
       "             ('3/14/14', '19:11'): 2,\n",
       "             ('9/14/13', '19:45'): 1,\n",
       "             ('2/3/14', '8:21'): 1,\n",
       "             ('4/4/14', '17:15'): 2,\n",
       "             ('6/22/13', '11:21'): 2,\n",
       "             ('4/8/15', '20:12'): 1,\n",
       "             ('6/30/15', '1:00'): 4,\n",
       "             ('2/23/13', '9:51'): 2,\n",
       "             ('10/6/14', '14:44'): 2,\n",
       "             ('3/4/15', '22:46'): 3,\n",
       "             ('10/29/14', '7:50'): 1,\n",
       "             ('1/28/15', '17:20'): 2,\n",
       "             ('6/7/14', '12:00'): 7,\n",
       "             ('4/19/13', '12:00'): 9,\n",
       "             ('11/25/14', '17:30'): 4,\n",
       "             ('7/7/15', '22:15'): 1,\n",
       "             ('8/22/13', '2:54'): 1,\n",
       "             ('9/2/13', '13:06'): 1,\n",
       "             ('8/3/13', '11:10'): 1,\n",
       "             ('1/18/14', '22:42'): 1,\n",
       "             ('9/15/13', '2:16'): 1,\n",
       "             ('6/8/15', '22:44'): 1,\n",
       "             ('12/2/13', '21:29'): 1,\n",
       "             ('2/12/13', '10:37'): 1,\n",
       "             ('2/14/14', '12:45'): 1,\n",
       "             ('9/15/13', '11:00'): 4,\n",
       "             ('1/25/13', '4:00'): 4,\n",
       "             ('8/5/14', '16:11'): 1,\n",
       "             ('4/10/15', '11:33'): 1,\n",
       "             ('1/24/15', '17:49'): 1,\n",
       "             ('2/4/15', '23:45'): 1,\n",
       "             ('11/1/13', '0:03'): 1,\n",
       "             ('6/28/13', '16:45'): 1,\n",
       "             ('3/5/14', '5:14'): 1,\n",
       "             ('7/2/14', '16:40'): 1,\n",
       "             ('4/18/14', '11:53'): 1,\n",
       "             ('3/22/13', '10:45'): 2,\n",
       "             ('1/20/15', '9:04'): 2,\n",
       "             ('2/11/14', '5:40'): 3,\n",
       "             ('7/31/13', '7:36'): 1,\n",
       "             ('12/25/13', '13:45'): 1,\n",
       "             ('2/24/15', '0:48'): 1,\n",
       "             ('1/4/14', '17:35'): 2,\n",
       "             ('11/9/14', '1:30'): 4,\n",
       "             ('3/31/15', '5:43'): 1,\n",
       "             ('5/9/15', '13:38'): 2,\n",
       "             ('4/16/15', '17:14'): 1,\n",
       "             ('5/15/14', '11:50'): 1,\n",
       "             ('12/29/14', '14:27'): 1,\n",
       "             ('12/9/14', '13:20'): 1,\n",
       "             ('7/27/14', '22:08'): 2,\n",
       "             ('3/9/15', '0:09'): 3,\n",
       "             ('1/31/13', '20:50'): 1,\n",
       "             ('1/10/14', '18:25'): 2,\n",
       "             ('4/17/14', '21:40'): 3,\n",
       "             ('3/20/15', '1:03'): 2,\n",
       "             ('2/28/15', '15:40'): 1,\n",
       "             ('4/23/14', '22:00'): 10,\n",
       "             ('11/26/14', '9:18'): 1,\n",
       "             ('4/28/13', '23:30'): 4,\n",
       "             ('2/22/14', '8:30'): 1,\n",
       "             ('5/18/13', '4:00'): 3,\n",
       "             ('5/5/13', '21:04'): 1,\n",
       "             ('12/25/14', '23:40'): 1,\n",
       "             ('9/21/13', '16:00'): 2,\n",
       "             ('7/1/15', '8:30'): 2,\n",
       "             ('7/26/14', '2:15'): 1,\n",
       "             ('8/23/14', '6:15'): 2,\n",
       "             ('4/27/13', '19:00'): 9,\n",
       "             ('7/9/15', '18:30'): 5,\n",
       "             ('12/1/14', '1:57'): 1,\n",
       "             ('2/11/13', '15:55'): 1,\n",
       "             ('8/16/14', '15:00'): 1,\n",
       "             ('10/17/14', '14:55'): 3,\n",
       "             ('9/29/14', '5:00'): 1,\n",
       "             ('3/4/15', '11:24'): 1,\n",
       "             ('5/9/14', '11:30'): 4,\n",
       "             ('3/1/15', '2:50'): 5,\n",
       "             ('4/24/15', '21:14'): 1,\n",
       "             ('11/9/13', '6:00'): 2,\n",
       "             ('2/4/13', '6:20'): 1,\n",
       "             ('5/16/14', '6:00'): 2,\n",
       "             ('6/1/14', '7:20'): 1,\n",
       "             ('10/11/14', '7:50'): 3,\n",
       "             ('3/13/15', '0:30'): 3,\n",
       "             ('11/23/13', '7:20'): 2,\n",
       "             ('8/23/14', '18:20'): 2,\n",
       "             ('2/6/14', '12:11'): 1,\n",
       "             ('7/28/14', '2:32'): 1,\n",
       "             ('3/27/14', '10:44'): 3,\n",
       "             ('7/4/15', '22:01'): 1,\n",
       "             ('8/6/14', '8:04'): 3,\n",
       "             ('10/17/14', '9:00'): 5,\n",
       "             ('10/14/13', '18:53'): 2,\n",
       "             ('9/20/13', '18:00'): 14,\n",
       "             ('8/13/13', '11:10'): 1,\n",
       "             ('3/20/14', '15:05'): 4,\n",
       "             ('10/2/14', '17:32'): 1,\n",
       "             ('9/24/13', '23:00'): 5,\n",
       "             ('10/2/14', '5:25'): 2,\n",
       "             ('10/6/14', '7:30'): 2,\n",
       "             ('7/17/13', '18:15'): 1,\n",
       "             ('1/7/15', '7:18'): 3,\n",
       "             ('9/21/14', '23:56'): 1,\n",
       "             ('4/3/14', '4:18'): 1,\n",
       "             ('1/7/15', '15:30'): 2,\n",
       "             ('1/28/13', '17:30'): 5,\n",
       "             ('9/7/14', '15:55'): 1,\n",
       "             ('4/5/14', '13:01'): 2,\n",
       "             ('4/11/14', '16:37'): 2,\n",
       "             ('5/2/15', '13:20'): 3,\n",
       "             ('8/31/13', '9:20'): 1,\n",
       "             ('12/2/14', '9:18'): 1,\n",
       "             ('5/29/13', '7:00'): 3,\n",
       "             ('12/17/13', '19:40'): 2,\n",
       "             ('3/18/14', '19:24'): 2,\n",
       "             ('9/14/14', '21:26'): 1,\n",
       "             ('3/20/13', '13:45'): 3,\n",
       "             ('6/17/14', '9:04'): 2,\n",
       "             ('6/30/15', '19:25'): 1,\n",
       "             ('9/6/14', '16:37'): 1,\n",
       "             ('5/11/15', '13:29'): 1,\n",
       "             ('8/18/14', '18:27'): 1,\n",
       "             ('12/3/13', '7:10'): 1,\n",
       "             ('3/24/13', '14:45'): 1,\n",
       "             ('12/2/14', '11:15'): 1,\n",
       "             ('2/8/15', '23:24'): 1,\n",
       "             ('5/25/15', '21:30'): 1,\n",
       "             ('2/3/15', '16:20'): 2,\n",
       "             ('6/7/13', '22:15'): 1,\n",
       "             ('5/7/13', '13:45'): 1,\n",
       "             ('9/21/13', '5:09'): 1,\n",
       "             ('6/3/15', '23:32'): 4,\n",
       "             ('6/20/13', '10:40'): 1,\n",
       "             ('12/2/13', '10:50'): 1,\n",
       "             ('5/4/15', '9:45'): 1,\n",
       "             ('2/15/15', '17:45'): 3,\n",
       "             ('2/25/14', '7:17'): 2,\n",
       "             ('2/5/15', '23:50'): 1,\n",
       "             ('8/18/14', '21:04'): 1,\n",
       "             ('7/1/13', '22:00'): 5,\n",
       "             ('4/19/13', '5:30'): 1,\n",
       "             ('4/3/15', '21:00'): 14,\n",
       "             ('6/26/15', '21:45'): 1,\n",
       "             ('1/15/14', '11:36'): 2,\n",
       "             ('12/19/14', '9:20'): 1,\n",
       "             ('7/28/13', '15:25'): 2,\n",
       "             ('8/22/14', '22:04'): 1,\n",
       "             ('6/21/13', '11:50'): 1,\n",
       "             ('12/1/14', '21:00'): 11,\n",
       "             ('2/6/13', '8:05'): 1,\n",
       "             ('7/24/14', '14:00'): 4,\n",
       "             ('5/20/14', '23:10'): 1,\n",
       "             ('8/13/13', '2:43'): 1,\n",
       "             ('4/30/15', '22:09'): 1,\n",
       "             ('8/10/13', '17:25'): 1,\n",
       "             ('1/15/13', '9:30'): 4,\n",
       "             ('1/4/14', '19:47'): 1,\n",
       "             ('12/4/14', '12:07'): 1,\n",
       "             ('5/28/13', '11:41'): 1,\n",
       "             ('11/12/13', '8:00'): 9,\n",
       "             ('5/10/13', '20:48'): 4,\n",
       "             ('5/14/15', '0:40'): 2,\n",
       "             ('5/30/14', '18:30'): 3,\n",
       "             ('6/27/15', '20:26'): 1,\n",
       "             ('5/24/14', '16:12'): 1,\n",
       "             ('4/19/13', '2:00'): 2,\n",
       "             ('9/3/13', '19:37'): 2,\n",
       "             ('6/11/13', '16:42'): 2,\n",
       "             ('10/4/14', '16:30'): 3,\n",
       "             ('9/11/14', '18:30'): 6,\n",
       "             ('11/14/13', '14:20'): 2,\n",
       "             ('11/10/14', '9:11'): 5,\n",
       "             ('10/22/13', '14:41'): 2,\n",
       "             ('12/3/13', '1:13'): 1,\n",
       "             ('2/19/13', '21:27'): 1,\n",
       "             ('1/27/15', '16:15'): 1,\n",
       "             ('6/20/14', '18:30'): 1,\n",
       "             ('3/9/15', '5:56'): 1,\n",
       "             ('4/15/13', '13:11'): 2,\n",
       "             ('8/24/13', '17:50'): 1,\n",
       "             ('11/12/14', '14:00'): 2,\n",
       "             ('12/6/14', '9:28'): 1,\n",
       "             ('5/2/15', '14:21'): 1,\n",
       "             ('6/10/13', '8:40'): 2,\n",
       "             ('2/10/15', '4:00'): 4,\n",
       "             ('1/19/14', '16:45'): 1,\n",
       "             ('9/15/14', '22:35'): 2,\n",
       "             ('2/25/13', '7:15'): 3,\n",
       "             ('11/17/13', '1:42'): 3,\n",
       "             ('7/13/14', '10:45'): 1,\n",
       "             ('5/22/15', '16:59'): 1,\n",
       "             ('5/26/13', '21:32'): 1,\n",
       "             ('3/15/13', '19:00'): 12,\n",
       "             ('4/10/14', '20:48'): 1,\n",
       "             ('1/5/15', '18:26'): 1,\n",
       "             ('4/25/14', '10:59'): 1,\n",
       "             ('1/4/13', '7:30'): 1,\n",
       "             ('6/5/15', '4:50'): 1,\n",
       "             ('2/16/13', '6:30'): 3,\n",
       "             ('7/3/15', '12:31'): 1,\n",
       "             ('3/6/15', '11:57'): 1,\n",
       "             ('10/31/14', '10:15'): 2,\n",
       "             ('2/23/14', '10:20'): 1,\n",
       "             ('11/22/14', '10:26'): 1,\n",
       "             ('3/13/14', '16:17'): 1,\n",
       "             ('11/27/13', '12:10'): 2,\n",
       "             ('9/16/13', '13:35'): 2,\n",
       "             ('1/26/13', '16:40'): 1,\n",
       "             ('3/18/15', '5:24'): 1,\n",
       "             ('3/3/15', '10:30'): 4,\n",
       "             ('5/12/15', '10:30'): 3,\n",
       "             ('9/14/14', '3:20'): 1,\n",
       "             ('12/26/14', '14:40'): 2,\n",
       "             ('7/20/13', '18:17'): 1,\n",
       "             ('8/27/13', '20:01'): 1,\n",
       "             ('1/20/15', '8:45'): 1,\n",
       "             ('8/6/13', '16:25'): 1,\n",
       "             ('12/30/14', '21:09'): 1,\n",
       "             ('1/15/15', '21:10'): 1,\n",
       "             ('12/12/14', '22:37'): 2,\n",
       "             ('3/2/15', '5:00'): 1,\n",
       "             ('4/22/15', '9:34'): 9,\n",
       "             ('7/4/13', '15:00'): 8,\n",
       "             ('7/3/15', '11:42'): 2,\n",
       "             ('7/21/13', '13:48'): 1,\n",
       "             ('6/1/14', '1:20'): 2,\n",
       "             ('2/18/13', '21:17'): 1,\n",
       "             ('5/5/14', '19:57'): 1,\n",
       "             ('7/9/15', '13:53'): 1,\n",
       "             ('1/2/13', '22:07'): 2,\n",
       "             ('8/24/14', '17:04'): 1,\n",
       "             ('8/27/14', '6:30'): 4,\n",
       "             ('2/10/15', '8:45'): 1,\n",
       "             ('7/13/14', '13:46'): 1,\n",
       "             ('1/5/13', '12:20'): 1,\n",
       "             ('6/3/14', '2:05'): 1,\n",
       "             ('8/22/14', '7:30'): 4,\n",
       "             ('5/7/15', '0:30'): 2,\n",
       "             ('6/3/13', '15:39'): 1,\n",
       "             ('7/19/14', '7:14'): 1,\n",
       "             ('4/26/13', '18:35'): 1,\n",
       "             ('8/23/13', '20:15'): 1,\n",
       "             ('5/15/14', '13:20'): 2,\n",
       "             ('1/15/13', '12:59'): 1,\n",
       "             ('12/20/13', '14:34'): 1,\n",
       "             ('11/9/14', '19:16'): 1,\n",
       "             ('1/23/15', '1:00'): 4,\n",
       "             ('1/7/13', '13:00'): 8,\n",
       "             ('10/5/14', '16:57'): 6,\n",
       "             ('5/20/14', '11:40'): 2,\n",
       "             ('2/15/13', '7:00'): 2,\n",
       "             ('8/6/13', '12:31'): 6,\n",
       "             ('8/30/14', '17:40'): 1,\n",
       "             ('12/9/14', '5:00'): 5,\n",
       "             ('6/22/13', '22:30'): 3,\n",
       "             ('10/20/14', '22:10'): 1,\n",
       "             ('12/17/13', '0:30'): 1,\n",
       "             ('5/6/14', '14:55'): 1,\n",
       "             ('5/6/14', '6:37'): 1,\n",
       "             ('8/5/14', '17:47'): 1,\n",
       "             ('8/20/13', '21:35'): 1,\n",
       "             ('1/5/15', '11:30'): 1,\n",
       "             ('4/29/15', '20:50'): 1,\n",
       "             ('5/10/14', '12:08'): 1,\n",
       "             ('8/20/13', '15:45'): 3,\n",
       "             ('6/30/15', '16:43'): 3,\n",
       "             ('1/6/13', '18:11'): 1,\n",
       "             ('6/29/14', '12:45'): 1,\n",
       "             ('11/25/14', '21:15'): 2,\n",
       "             ('10/27/14', '20:30'): 4,\n",
       "             ('7/3/13', '9:50'): 6,\n",
       "             ('11/13/13', '13:25'): 1,\n",
       "             ('7/14/13', '1:55'): 2,\n",
       "             ('12/1/13', '16:00'): 7,\n",
       "             ('4/16/14', '0:01'): 3,\n",
       "             ('5/15/14', '13:00'): 8,\n",
       "             ('11/16/14', '2:20'): 1,\n",
       "             ('6/8/15', '10:05'): 1,\n",
       "             ('5/14/15', '11:03'): 1,\n",
       "             ('4/8/13', '0:20'): 2,\n",
       "             ('3/28/15', '4:30'): 1,\n",
       "             ('2/8/13', '22:59'): 1,\n",
       "             ('4/22/14', '5:00'): 1,\n",
       "             ('2/7/14', '8:07'): 2,\n",
       "             ('7/9/14', '16:12'): 2,\n",
       "             ('5/16/15', '4:50'): 1,\n",
       "             ('3/11/14', '18:00'): 5,\n",
       "             ('9/21/13', '8:10'): 1,\n",
       "             ('4/4/14', '19:10'): 1,\n",
       "             ('6/12/14', '9:31'): 1,\n",
       "             ('4/30/15', '10:46'): 1,\n",
       "             ('7/17/13', '19:15'): 3,\n",
       "             ('6/11/13', '15:55'): 2,\n",
       "             ('4/4/14', '15:40'): 3,\n",
       "             ('8/24/13', '12:00'): 10,\n",
       "             ('11/9/14', '20:30'): 3,\n",
       "             ('4/24/14', '18:35'): 1,\n",
       "             ('2/4/15', '9:30'): 3,\n",
       "             ('6/18/13', '18:34'): 1,\n",
       "             ('9/23/13', '8:30'): 2,\n",
       "             ('3/10/15', '18:02'): 1,\n",
       "             ('5/15/13', '13:43'): 1,\n",
       "             ('6/24/15', '7:36'): 2,\n",
       "             ('10/25/13', '16:41'): 1,\n",
       "             ('4/17/13', '15:12'): 4,\n",
       "             ('1/10/15', '20:40'): 1,\n",
       "             ('4/10/14', '21:50'): 1,\n",
       "             ('4/11/15', '6:45'): 1,\n",
       "             ('3/4/13', '22:15'): 1,\n",
       "             ('1/31/13', '9:10'): 1,\n",
       "             ('3/3/15', '11:40'): 1,\n",
       "             ('7/1/15', '11:07'): 1,\n",
       "             ('4/17/14', '9:32'): 1,\n",
       "             ...})"
      ]
     },
     "execution_count": 92,
     "metadata": {},
     "output_type": "execute_result"
    }
   ],
   "source": [
    "sfpdRDD.countByKey()"
   ]
  },
  {
   "cell_type": "code",
   "execution_count": 93,
   "metadata": {
    "collapsed": false
   },
   "outputs": [
    {
     "data": {
      "text/plain": [
       "defaultdict(int,\n",
       "            {(('5/8/14', '9:55'),\n",
       "              ('STOLEN_PROPERTY',\n",
       "               'STOLEN_PROPERTY/POSSESSION_WITH_KNOWLEDGE/RECEIVING',\n",
       "               'BAYVIEW',\n",
       "               'ARREST/BOOKED',\n",
       "               '200_Block_of_GAVEN_ST')): 1,\n",
       "             (('3/22/15', '20:20'),\n",
       "              ('LARCENY/THEFT',\n",
       "               'PETTY_THEFT_FROM_UNLOCKED_AUTO',\n",
       "               'TARAVAL',\n",
       "               'NONE',\n",
       "               '1100_Block_of_JUNIPERO_SERRA_BL')): 1,\n",
       "             (('7/7/13', '21:30'),\n",
       "              ('VANDALISM',\n",
       "               'MALICIOUS_MISCHIEF/VANDALISM',\n",
       "               'CENTRAL',\n",
       "               'NONE',\n",
       "               '400_Block_of_GEARY_ST')): 1,\n",
       "             (('2/23/13', '11:00'),\n",
       "              ('LARCENY/THEFT',\n",
       "               'GRAND_THEFT_FROM_LOCKED_AUTO',\n",
       "               'NORTHERN',\n",
       "               'NONE',\n",
       "               '0_Block_of_LAGUNA_ST')): 1,\n",
       "             (('8/31/13', '14:00'),\n",
       "              ('LARCENY/THEFT',\n",
       "               'GRAND_THEFT_FROM_A_BUILDING',\n",
       "               'MISSION',\n",
       "               'NONE',\n",
       "               '3300_Block_of_CESAR_CHAVEZ_ST')): 1,\n",
       "             (('4/15/14', '18:30'),\n",
       "              ('LARCENY/THEFT',\n",
       "               'GRAND_THEFT_FROM_LOCKED_AUTO',\n",
       "               'INGLESIDE',\n",
       "               'NONE',\n",
       "               'RAYMOND_AV/ELLIOT_ST')): 1,\n",
       "             (('7/26/14', '22:20'),\n",
       "              ('DRIVING_UNDER_THE_INFLUENCE',\n",
       "               'DRIVING_WHILE_UNDER_THE_INFLUENCE_OF_ALCOHOL',\n",
       "               'RICHMOND',\n",
       "               'ARREST/BOOKED',\n",
       "               '5000_Block_of_FULTON_ST')): 1,\n",
       "             (('12/21/14', '0:30'),\n",
       "              ('LARCENY/THEFT',\n",
       "               'GRAND_THEFT_FROM_LOCKED_AUTO',\n",
       "               'NORTHERN',\n",
       "               'NONE',\n",
       "               '1400_Block_of_PINE_ST')): 1,\n",
       "             (('3/27/15', '17:30'),\n",
       "              ('FORGERY/COUNTERFEITING',\n",
       "               'CHECKS/MAKE_OR_PASS_FICTITIOUS',\n",
       "               'MISSION',\n",
       "               'NONE',\n",
       "               '2200_Block_of_BRYANT_ST')): 1,\n",
       "             (('10/14/14', '2:05'),\n",
       "              ('ROBBERY',\n",
       "               'ROBBERY_ON_THE_STREET/STRONGARM',\n",
       "               'TENDERLOIN',\n",
       "               'NONE',\n",
       "               '100_Block_of_EDDY_ST')): 1,\n",
       "             (('10/9/14', '18:00'),\n",
       "              ('BURGLARY',\n",
       "               'BURGLARY_OF_RESIDENCE/UNLAWFUL_ENTRY',\n",
       "               'TARAVAL',\n",
       "               'NONE',\n",
       "               '1800_Block_of_48TH_AV')): 1,\n",
       "             (('4/29/14', '12:00'),\n",
       "              ('LARCENY/THEFT',\n",
       "               'GRAND_THEFT_FROM_LOCKED_AUTO',\n",
       "               'SOUTHERN',\n",
       "               'NONE',\n",
       "               'MISSION_ST/5TH_ST')): 1,\n",
       "             (('11/6/13', '14:15'),\n",
       "              ('DRUG/NARCOTIC',\n",
       "               'POSSESSION_OF_NARCOTICS_PARAPHERNALIA',\n",
       "               'MISSION',\n",
       "               'ARREST/BOOKED',\n",
       "               '18TH_ST/CHURCH_ST')): 1,\n",
       "             (('2/8/13', '17:30'),\n",
       "              ('ASSAULT',\n",
       "               'THREATS_AGAINST_LIFE',\n",
       "               'INGLESIDE',\n",
       "               'NONE',\n",
       "               '3900_Block_of_MISSION_ST')): 1,\n",
       "             (('6/5/15', '15:30'),\n",
       "              ('LARCENY/THEFT',\n",
       "               'PETTY_THEFT_BICYCLE',\n",
       "               'RICHMOND',\n",
       "               'NONE',\n",
       "               '6100_Block_of_GEARY_BL')): 1,\n",
       "             (('4/9/13', '6:30'),\n",
       "              ('NON-CRIMINAL',\n",
       "               'CASE_CLOSURE',\n",
       "               'TARAVAL',\n",
       "               'ARREST/BOOKED',\n",
       "               '1200_Block_of_24TH_AV')): 1,\n",
       "             (('3/20/13', '3:38'),\n",
       "              ('NON-CRIMINAL',\n",
       "               'AIDED_CASE/MENTAL_DISTURBED',\n",
       "               'INGLESIDE',\n",
       "               'PSYCHOPATHIC_CASE',\n",
       "               '300_Block_of_SENECA_AV')): 1,\n",
       "             (('7/12/13', '17:30'),\n",
       "              ('NON-CRIMINAL',\n",
       "               'LOST_PROPERTY',\n",
       "               'CENTRAL',\n",
       "               'NONE',\n",
       "               'NORTHPOINT_ST/JONES_ST')): 1,\n",
       "             (('1/17/15', '10:57'),\n",
       "              ('NON-CRIMINAL',\n",
       "               'AIDED_CASE/MENTAL_DISTURBED',\n",
       "               'NORTHERN',\n",
       "               'NONE',\n",
       "               '1600_Block_of_SACRAMENTO_ST')): 1,\n",
       "             (('6/7/13', '21:00'),\n",
       "              ('BURGLARY',\n",
       "               'BURGLARY_OF_RESIDENCE/FORCIBLE_ENTRY',\n",
       "               'SOUTHERN',\n",
       "               'NONE',\n",
       "               '1600_Block_of_MISSION_ST')): 1,\n",
       "             (('1/3/15', '23:55'),\n",
       "              ('ASSAULT',\n",
       "               'THREATS_AGAINST_LIFE',\n",
       "               'TENDERLOIN',\n",
       "               'NONE',\n",
       "               '300_Block_of_EDDY_ST')): 1,\n",
       "             (('5/30/14', '7:54'),\n",
       "              ('OTHER_OFFENSES',\n",
       "               'VIOLATION_OF_RESTRAINING_ORDER',\n",
       "               'MISSION',\n",
       "               'ARREST/BOOKED',\n",
       "               '1200_Block_of_CHURCH_ST')): 1,\n",
       "             (('8/3/13', '19:45'),\n",
       "              ('NON-CRIMINAL',\n",
       "               'LOST_PROPERTY',\n",
       "               'CENTRAL',\n",
       "               'NONE',\n",
       "               '2800_Block_of_TAYLOR_ST')): 1,\n",
       "             (('9/11/14', '18:07'),\n",
       "              ('NON-CRIMINAL',\n",
       "               'SEARCH_WARRANT_SERVICE',\n",
       "               'PARK',\n",
       "               'ARREST/BOOKED',\n",
       "               '800_Block_of_SHRADER_ST')): 1,\n",
       "             (('9/29/14', '20:00'),\n",
       "              ('VEHICLE_THEFT',\n",
       "               'STOLEN_AUTOMOBILE',\n",
       "               'INGLESIDE',\n",
       "               'NONE',\n",
       "               'ALEMANY_BL/ONONDAGA_AV')): 1,\n",
       "             (('12/21/14', '1:50'),\n",
       "              ('ROBBERY',\n",
       "               'ROBBERY/BODILY_FORCE',\n",
       "               'MISSION',\n",
       "               'NONE',\n",
       "               '19TH_ST/HARTFORD_ST')): 1,\n",
       "             (('11/22/13', '19:02'),\n",
       "              ('ASSAULT',\n",
       "               'BATTERY',\n",
       "               'SOUTHERN',\n",
       "               'ARREST/BOOKED',\n",
       "               '800_Block_of_MARKET_ST')): 1,\n",
       "             (('9/2/14', '8:25'),\n",
       "              ('LARCENY/THEFT',\n",
       "               'GRAND_THEFT_FROM_PERSON',\n",
       "               'CENTRAL',\n",
       "               'NONE',\n",
       "               'COLUMBUS_AV/UNION_ST')): 1,\n",
       "             (('4/9/15', '9:30'),\n",
       "              ('LARCENY/THEFT',\n",
       "               'GRAND_THEFT_FROM_LOCKED_AUTO',\n",
       "               'SOUTHERN',\n",
       "               'NONE',\n",
       "               'HARRISON_ST/6TH_ST')): 1,\n",
       "             (('4/16/14', '10:29'),\n",
       "              ('LIQUOR_LAWS',\n",
       "               'CONSUMING_ALCOHOL_IN_PUBLIC_VIEW',\n",
       "               'PARK',\n",
       "               'ARREST/BOOKED',\n",
       "               'HAIGHT_ST/STANYAN_ST')): 1,\n",
       "             (('2/28/13', '0:29'),\n",
       "              ('NON-CRIMINAL',\n",
       "               'LOST_PROPERTY',\n",
       "               'NORTHERN',\n",
       "               'NONE',\n",
       "               'PIERCE_ST/TOLEDO_WY')): 1,\n",
       "             (('6/18/14', '18:00'),\n",
       "              ('OTHER_OFFENSES',\n",
       "               'LOST/STOLEN_LICENSE_PLATE',\n",
       "               'INGLESIDE',\n",
       "               'NONE',\n",
       "               '200_Block_of_PUTNAM_ST')): 1,\n",
       "             (('4/5/13', '0:15'),\n",
       "              ('NON-CRIMINAL',\n",
       "               'AIDED_CASE/MENTAL_DISTURBED',\n",
       "               'BAYVIEW',\n",
       "               'LOCATED',\n",
       "               '100_Block_of_APOLLO_ST')): 1,\n",
       "             (('2/14/14', '0:20'),\n",
       "              ('FRAUD',\n",
       "               'FALSE_ID_TO_PEACE_OFFICER',\n",
       "               'RICHMOND',\n",
       "               'ARREST/CITED',\n",
       "               '4100_Block_of_GEARY_BL')): 1,\n",
       "             (('5/27/13', '11:00'),\n",
       "              ('MISSING_PERSON',\n",
       "               'MISSING_ADULT',\n",
       "               'SOUTHERN',\n",
       "               'LOCATED',\n",
       "               '800_Block_of_BRYANT_ST')): 1,\n",
       "             (('9/2/13', '14:15'),\n",
       "              ('LARCENY/THEFT',\n",
       "               'GRAND_THEFT_FROM_A_BUILDING',\n",
       "               'CENTRAL',\n",
       "               'NONE',\n",
       "               '300_Block_of_STOCKTON_ST')): 1,\n",
       "             (('9/26/13', '20:00'),\n",
       "              ('LARCENY/THEFT',\n",
       "               'GRAND_THEFT_FROM_PERSON',\n",
       "               'BAYVIEW',\n",
       "               'NONE',\n",
       "               'PALOU_AV/3RD_ST')): 1,\n",
       "             (('1/9/15', '15:50'),\n",
       "              ('NON-CRIMINAL',\n",
       "               'LOST_PROPERTY',\n",
       "               'TARAVAL',\n",
       "               'NONE',\n",
       "               'TARAVAL_ST/19TH_AV')): 1,\n",
       "             (('8/8/14', '8:00'),\n",
       "              ('NON-CRIMINAL',\n",
       "               'FOUND_PROPERTY',\n",
       "               'MISSION',\n",
       "               'NONE',\n",
       "               '23RD_ST/VERMONT_ST')): 1,\n",
       "             (('2/16/15', '9:20'),\n",
       "              ('NON-CRIMINAL',\n",
       "               'AIDED_CASE/MENTAL_DISTURBED',\n",
       "               'SOUTHERN',\n",
       "               'NONE',\n",
       "               '1100_Block_of_MARKET_ST')): 1,\n",
       "             (('5/22/13', '19:40'),\n",
       "              ('VANDALISM',\n",
       "               'MALICIOUS_MISCHIEF/ADULT_SUSPECT',\n",
       "               'MISSION',\n",
       "               'ARREST/CITED',\n",
       "               '2800_Block_of_MISSION_ST')): 1,\n",
       "             (('3/11/14', '17:13'),\n",
       "              ('WARRANTS',\n",
       "               'WARRANT_ARREST',\n",
       "               'SOUTHERN',\n",
       "               'ARREST/BOOKED',\n",
       "               '800_Block_of_BRYANT_ST')): 1,\n",
       "             (('7/21/14', '0:01'),\n",
       "              ('OTHER_OFFENSES',\n",
       "               'FALSE_PERSONATION_TO_RECEIVE_MONEY_OR_PROPERTY',\n",
       "               'BAYVIEW',\n",
       "               'NONE',\n",
       "               'CHANNEL_ST/4TH_ST')): 1,\n",
       "             (('5/11/13', '12:00'),\n",
       "              ('LARCENY/THEFT',\n",
       "               'LOST_PROPERTY/GRAND_THEFT',\n",
       "               'SOUTHERN',\n",
       "               'NONE',\n",
       "               '800_Block_of_BRYANT_ST')): 1,\n",
       "             (('11/14/14', '17:00'),\n",
       "              ('FRAUD',\n",
       "               'CREDIT_CARD/THEFT_BY_USE_OF',\n",
       "               'TARAVAL',\n",
       "               'NONE',\n",
       "               '1800_Block_of_OCEAN_AV')): 1,\n",
       "             (('10/28/13', '5:00'),\n",
       "              ('ROBBERY',\n",
       "               'ATTEMPTED_ROBBERY_ON_THE_STREET_WITH_A_GUN',\n",
       "               'CENTRAL',\n",
       "               'NONE',\n",
       "               '1000_Block_of_WASHINGTON_ST')): 1,\n",
       "             (('12/10/14', '3:10'),\n",
       "              ('ASSAULT',\n",
       "               'BATTERY',\n",
       "               'TARAVAL',\n",
       "               'ARREST/BOOKED',\n",
       "               '1300_Block_of_46TH_AV')): 1,\n",
       "             (('10/10/14', '14:00'),\n",
       "              ('BURGLARY',\n",
       "               'BURGLARY_OF_RESIDENCE/UNLAWFUL_ENTRY',\n",
       "               'TARAVAL',\n",
       "               'NONE',\n",
       "               '400_Block_of_PLYMOUTH_AV')): 1,\n",
       "             (('2/22/14', '17:00'),\n",
       "              ('LARCENY/THEFT',\n",
       "               'PETTY_THEFT_FROM_UNLOCKED_AUTO',\n",
       "               'CENTRAL',\n",
       "               'NONE',\n",
       "               '900_Block_of_NORTHPOINT_ST')): 1,\n",
       "             (('6/9/13', '19:34'),\n",
       "              ('DRUG/NARCOTIC',\n",
       "               'POSSESSION_OF_BASE/ROCK_COCAINE_FOR_SALE',\n",
       "               'SOUTHERN',\n",
       "               'ARREST/BOOKED',\n",
       "               '100_Block_of_6TH_ST')): 1,\n",
       "             (('3/24/14', '20:00'),\n",
       "              ('BURGLARY',\n",
       "               'BURGLARY_OF_APARTMENT_HOUSE/UNLAWFUL_ENTRY',\n",
       "               'TENDERLOIN',\n",
       "               'NONE',\n",
       "               '300_Block_of_HYDE_ST')): 1,\n",
       "             (('11/1/14', '23:30'),\n",
       "              ('BURGLARY',\n",
       "               'BURGLARY_OF_STORE/UNLAWFUL_ENTRY',\n",
       "               'TARAVAL',\n",
       "               'NONE',\n",
       "               '2900_Block_of_YORBA_ST')): 1,\n",
       "             (('9/24/13', '14:10'),\n",
       "              ('DRUG/NARCOTIC',\n",
       "               'SALE_OF_CONTROLLED_SUBSTANCE',\n",
       "               'TENDERLOIN',\n",
       "               'NONE',\n",
       "               'GOLDEN_GATE_AV/LEAVENWORTH_ST')): 1,\n",
       "             (('7/2/15', '19:20'),\n",
       "              ('ASSAULT',\n",
       "               'AGGRAVATED_ASSAULT_WITH_A_DEADLY_WEAPON',\n",
       "               'CENTRAL',\n",
       "               'NONE',\n",
       "               '800_Block_of_GREENWICH_ST')): 1,\n",
       "             (('1/15/15', '18:30'),\n",
       "              ('LARCENY/THEFT',\n",
       "               'GRAND_THEFT_FROM_LOCKED_AUTO',\n",
       "               'MISSION',\n",
       "               'NONE',\n",
       "               'SAN_JOSE_AV/22ND_ST')): 1,\n",
       "             (('4/27/14', '14:00'),\n",
       "              ('LARCENY/THEFT',\n",
       "               'GRAND_THEFT_OF_PROPERTY',\n",
       "               'NORTHERN',\n",
       "               'NONE',\n",
       "               '100_Block_of_GROVE_ST')): 1,\n",
       "             (('10/13/13', '17:06'),\n",
       "              ('OTHER_OFFENSES',\n",
       "               'PROBATION_VIOLATION',\n",
       "               'NORTHERN',\n",
       "               'ARREST/BOOKED',\n",
       "               'POLK_ST/HAYES_ST')): 1,\n",
       "             (('1/15/15', '16:42'),\n",
       "              ('OTHER_OFFENSES',\n",
       "               'PROBATION_VIOLATION',\n",
       "               'PARK',\n",
       "               'NONE',\n",
       "               'HAYES_ST/CENTRAL_AV')): 1,\n",
       "             (('3/19/14', '10:35'),\n",
       "              ('LARCENY/THEFT',\n",
       "               'GRAND_THEFT_FROM_A_BUILDING',\n",
       "               'SOUTHERN',\n",
       "               'NONE',\n",
       "               '100_Block_of_1ST_ST')): 1,\n",
       "             (('8/22/13', '9:15'),\n",
       "              ('RUNAWAY',\n",
       "               'RUNAWAY',\n",
       "               'BAYVIEW',\n",
       "               'LOCATED',\n",
       "               '1700_Block_of_CESAR_CHAVEZ_ST')): 1,\n",
       "             (('3/3/13', '15:00'),\n",
       "              ('NON-CRIMINAL',\n",
       "               'AIDED_CASE/MENTAL_DISTURBED',\n",
       "               'TARAVAL',\n",
       "               'PSYCHOPATHIC_CASE',\n",
       "               '20TH_AV/QUINTARA_ST')): 1,\n",
       "             (('2/27/15', '23:30'),\n",
       "              ('VEHICLE_THEFT',\n",
       "               'STOLEN_AUTOMOBILE',\n",
       "               'SOUTHERN',\n",
       "               'NONE',\n",
       "               '800_Block_of_MISSION_ST')): 1,\n",
       "             (('8/24/13', '12:30'),\n",
       "              ('LARCENY/THEFT',\n",
       "               'GRAND_THEFT_FROM_UNLOCKED_AUTO',\n",
       "               'CENTRAL',\n",
       "               'NONE',\n",
       "               'BUSH_ST/KEARNY_ST')): 1,\n",
       "             (('1/27/15', '11:04'),\n",
       "              ('LARCENY/THEFT',\n",
       "               'GRAND_THEFT_FROM_PERSON',\n",
       "               'CENTRAL',\n",
       "               'NONE',\n",
       "               '100_Block_of_KEARNY_ST')): 1,\n",
       "             (('6/7/13', '5:00'),\n",
       "              ('KIDNAPPING',\n",
       "               'KIDNAPPING_DURING_CARJACKING',\n",
       "               'BAYVIEW',\n",
       "               'NONE',\n",
       "               '300_Block_of_BAY_SHORE_BL')): 1,\n",
       "             (('11/25/14', '2:23'),\n",
       "              ('LARCENY/THEFT',\n",
       "               'GRAND_THEFT_FROM_UNLOCKED_AUTO',\n",
       "               'CENTRAL',\n",
       "               'NONE',\n",
       "               '200_Block_of_GREEN_ST')): 1,\n",
       "             (('3/30/15', '23:35'),\n",
       "              ('LARCENY/THEFT',\n",
       "               'GRAND_THEFT_FROM_UNLOCKED_AUTO',\n",
       "               'NORTHERN',\n",
       "               'NONE',\n",
       "               '3700_Block_of_WEBSTER_ST')): 1,\n",
       "             (('5/27/15', '12:00'),\n",
       "              ('LARCENY/THEFT',\n",
       "               'EMBEZZLEMENT_FROM_DEPENDENT_OR_ELDER_ADULT_BY_CARETAKER',\n",
       "               'RICHMOND',\n",
       "               'NONE',\n",
       "               '400_Block_of_31ST_AV')): 1,\n",
       "             (('6/21/14', '15:30'),\n",
       "              ('NON-CRIMINAL',\n",
       "               'FOUND_PROPERTY',\n",
       "               'SOUTHERN',\n",
       "               'NONE',\n",
       "               'MARKET_ST/7TH_ST')): 1,\n",
       "             (('11/12/13', '15:24'),\n",
       "              ('LARCENY/THEFT',\n",
       "               'PETTY_THEFT_SHOPLIFTING',\n",
       "               'CENTRAL',\n",
       "               'NONE',\n",
       "               '200_Block_of_STOCKTON_ST')): 1,\n",
       "             (('5/30/14', '14:15'),\n",
       "              ('OTHER_OFFENSES',\n",
       "               'DRIVERS_LICENSE/SUSPENDED_OR_REVOKED',\n",
       "               'RICHMOND',\n",
       "               'ARREST/CITED',\n",
       "               '700_Block_of_BALBOA_ST')): 1,\n",
       "             (('10/6/13', '23:16'),\n",
       "              ('LARCENY/THEFT',\n",
       "               'ATTEMPTED_PETTY_THEFT_OF_PROPERTY',\n",
       "               'MISSION',\n",
       "               'ARREST/BOOKED',\n",
       "               '24TH_ST/VALENCIA_ST')): 1,\n",
       "             (('2/19/13', '8:40'),\n",
       "              ('DRUG/NARCOTIC',\n",
       "               'POSSESSION_OF_MARIJUANA',\n",
       "               'TARAVAL',\n",
       "               'NONE',\n",
       "               '2100_Block_of_24TH_AV')): 1,\n",
       "             (('8/13/13', '2:10'),\n",
       "              ('VANDALISM',\n",
       "               'MALICIOUS_MISCHIEF/VANDALISM_OF_VEHICLES',\n",
       "               'TARAVAL',\n",
       "               'NONE',\n",
       "               '200_Block_of_FAXON_AV')): 1,\n",
       "             (('10/23/14', '17:04'),\n",
       "              ('WARRANTS',\n",
       "               'WARRANT_ARREST',\n",
       "               'PARK',\n",
       "               'ARREST/BOOKED',\n",
       "               'WALLER_ST/BUENAVISTAWEST_AV')): 1,\n",
       "             (('2/15/15', '17:47'),\n",
       "              ('OTHER_OFFENSES',\n",
       "               'RESISTING_ARREST',\n",
       "               'TENDERLOIN',\n",
       "               'ARREST/BOOKED',\n",
       "               '100_Block_of_EDDY_ST')): 1,\n",
       "             (('6/30/13', '1:14'),\n",
       "              ('OTHER_OFFENSES',\n",
       "               'RESISTING_ARREST',\n",
       "               'NORTHERN',\n",
       "               'ARREST/CITED',\n",
       "               'FRANKLIN_ST/HICKORY_ST')): 1,\n",
       "             (('5/25/13', '19:28'),\n",
       "              ('WARRANTS',\n",
       "               'ENROUTE_TO_OUTSIDE_JURISDICTION',\n",
       "               'MISSION',\n",
       "               'ARREST/BOOKED',\n",
       "               '800_Block_of_SOUTH_VAN_NESS_AV')): 1,\n",
       "             (('5/25/13', '15:13'),\n",
       "              ('WARRANTS',\n",
       "               'ENROUTE_TO_OUTSIDE_JURISDICTION',\n",
       "               'TARAVAL',\n",
       "               'ARREST/BOOKED',\n",
       "               '1000_Block_of_LINCOLN_WY')): 1,\n",
       "             (('5/30/15', '16:05'),\n",
       "              ('LARCENY/THEFT',\n",
       "               'PETTY_THEFT_SHOPLIFTING',\n",
       "               'NORTHERN',\n",
       "               'ARREST/BOOKED',\n",
       "               '0_Block_of_MARINA_BL')): 1,\n",
       "             (('10/1/14', '12:19'),\n",
       "              ('FRAUD',\n",
       "               'CREDIT_CARD/THEFT_BY_USE_OF',\n",
       "               'MISSION',\n",
       "               'NONE',\n",
       "               '3900_Block_of_19TH_ST')): 1,\n",
       "             (('4/10/14', '18:40'),\n",
       "              ('ASSAULT',\n",
       "               'BATTERY',\n",
       "               'BAYVIEW',\n",
       "               'NONE',\n",
       "               '1000_Block_of_CONNECTICUT_ST')): 1,\n",
       "             (('2/8/13', '15:43'),\n",
       "              ('NON-CRIMINAL',\n",
       "               'AIDED_CASE/MENTAL_DISTURBED',\n",
       "               'INGLESIDE',\n",
       "               'PSYCHOPATHIC_CASE',\n",
       "               '1400_Block_of_CHURCH_ST')): 1,\n",
       "             (('1/21/15', '19:30'),\n",
       "              ('LARCENY/THEFT',\n",
       "               'GRAND_THEFT_FROM_LOCKED_AUTO',\n",
       "               'CENTRAL',\n",
       "               'NONE',\n",
       "               'GREEN_ST/HYDE_ST')): 1,\n",
       "             (('10/14/13', '2:00'),\n",
       "              ('LARCENY/THEFT',\n",
       "               'GRAND_THEFT_FROM_LOCKED_AUTO',\n",
       "               'TARAVAL',\n",
       "               'NONE',\n",
       "               '1800_Block_of_ORTEGA_ST')): 1,\n",
       "             (('6/6/13', '17:00'),\n",
       "              ('NON-CRIMINAL',\n",
       "               'LOST_PROPERTY',\n",
       "               'CENTRAL',\n",
       "               'NONE',\n",
       "               'STOCKTON_ST/JACKSON_ST')): 1,\n",
       "             (('12/16/14', '18:59'),\n",
       "              ('LARCENY/THEFT',\n",
       "               'THEFT_FROM_MERCHANT_OR_LIBRARY',\n",
       "               'CENTRAL',\n",
       "               'ARREST/BOOKED',\n",
       "               '300_Block_of_POWELL_ST')): 1,\n",
       "             (('7/3/13', '17:18'),\n",
       "              ('OTHER_OFFENSES',\n",
       "               'RESISTING_ARREST',\n",
       "               'MISSION',\n",
       "               'ARREST/BOOKED',\n",
       "               '21ST_ST/FOLSOM_ST')): 1,\n",
       "             (('3/21/13', '10:10'),\n",
       "              ('DRUG/NARCOTIC',\n",
       "               'POSSESSION_OF_NARCOTICS_PARAPHERNALIA',\n",
       "               'TENDERLOIN',\n",
       "               'ARREST/CITED',\n",
       "               '0_Block_of_TURK_ST')): 1,\n",
       "             (('2/6/15', '22:47'),\n",
       "              ('NON-CRIMINAL',\n",
       "               'AIDED_CASE/MENTAL_DISTURBED',\n",
       "               'CENTRAL',\n",
       "               'NONE',\n",
       "               '1600_Block_of_THE_EMBARCADERONORTH_ST')): 1,\n",
       "             (('12/30/14', '12:24'),\n",
       "              ('ASSAULT',\n",
       "               'BATTERY/FORMER_SPOUSE_OR_DATING_RELATIONSHIP',\n",
       "               'TENDERLOIN',\n",
       "               'NONE',\n",
       "               '300_Block_of_TAYLOR_ST')): 1,\n",
       "             (('6/21/14', '0:10'),\n",
       "              ('VEHICLE_THEFT',\n",
       "               'STOLEN_AUTOMOBILE',\n",
       "               'INGLESIDE',\n",
       "               'NONE',\n",
       "               '1200_Block_of_ATHENS_ST')): 1,\n",
       "             (('6/14/15', '21:03'),\n",
       "              ('MISSING_PERSON',\n",
       "               'FOUND_PERSON',\n",
       "               'TENDERLOIN',\n",
       "               'NONE',\n",
       "               '0_Block_of_OFARRELL_ST')): 1,\n",
       "             (('5/8/15', '14:18'),\n",
       "              ('FRAUD',\n",
       "               'CREDIT_CARD/THEFT_BY_USE_OF',\n",
       "               'MISSION',\n",
       "               'NONE',\n",
       "               'BRYANT_ST/24TH_ST')): 1,\n",
       "             (('2/5/13', '8:20'),\n",
       "              ('NON-CRIMINAL',\n",
       "               'AIDED_CASE/MENTAL_DISTURBED',\n",
       "               'TENDERLOIN',\n",
       "               'PSYCHOPATHIC_CASE',\n",
       "               '100_Block_of_HYDE_ST')): 1,\n",
       "             (('3/24/15', '13:30'),\n",
       "              ('LARCENY/THEFT',\n",
       "               'LOST_PROPERTY/PETTY_THEFT',\n",
       "               'NORTHERN',\n",
       "               'NONE',\n",
       "               '3500_Block_of_FILLMORE_ST')): 1,\n",
       "             (('9/29/14', '15:07'),\n",
       "              ('PROSTITUTION',\n",
       "               'LOITERING_FOR_PURPOSE_OF_PROSTITUTION',\n",
       "               'MISSION',\n",
       "               'ARREST/CITED',\n",
       "               'CAPP_ST/19TH_ST')): 1,\n",
       "             (('9/17/14', '5:10'),\n",
       "              ('ROBBERY',\n",
       "               'ROBBERY/BODILY_FORCE',\n",
       "               'MISSION',\n",
       "               'NONE',\n",
       "               '200_Block_of_CAPP_ST')): 1,\n",
       "             (('9/1/13', '13:00'),\n",
       "              ('SEX_OFFENSES/FORCIBLE',\n",
       "               'SEXUAL_ASSAULT/AGGRAVATED/OF_CHILD',\n",
       "               'TARAVAL',\n",
       "               'NONE',\n",
       "               '2200_Block_of_LAWTON_ST')): 1,\n",
       "             (('3/24/15', '21:45'),\n",
       "              ('LARCENY/THEFT',\n",
       "               'ATTEMPTED_THEFT_FROM_A_BUILDING',\n",
       "               'TARAVAL',\n",
       "               'NONE',\n",
       "               '1200_Block_of_19TH_AV')): 1,\n",
       "             (('2/7/15', '13:00'),\n",
       "              ('LARCENY/THEFT',\n",
       "               'GRAND_THEFT_FROM_LOCKED_AUTO',\n",
       "               'PARK',\n",
       "               'NONE',\n",
       "               '500_Block_of_TWINPEAKS_BL')): 1,\n",
       "             (('9/3/13', '5:15'),\n",
       "              ('BURGLARY',\n",
       "               'BURGLARY_OF_RESIDENCE/FORCIBLE_ENTRY',\n",
       "               'MISSION',\n",
       "               'NONE',\n",
       "               '200_Block_of_HARTFORD_ST')): 1,\n",
       "             (('4/28/14', '13:32'),\n",
       "              ('NON-CRIMINAL',\n",
       "               'CIVIL_SIDEWALKS/WARNING',\n",
       "               'PARK',\n",
       "               'NONE',\n",
       "               'HAIGHT_ST/STANYAN_ST')): 1,\n",
       "             (('12/30/14', '5:30'),\n",
       "              ('VEHICLE_THEFT',\n",
       "               'STOLEN_AUTOMOBILE',\n",
       "               'INGLESIDE',\n",
       "               'NONE',\n",
       "               '400_Block_of_BOSWORTH_ST')): 1,\n",
       "             (('1/10/15', '12:30'),\n",
       "              ('LARCENY/THEFT',\n",
       "               'PETTY_THEFT_FROM_LOCKED_AUTO',\n",
       "               'INGLESIDE',\n",
       "               'NONE',\n",
       "               '200_Block_of_JOHNFSHELLEY_DR')): 1,\n",
       "             (('6/23/14', '21:45'),\n",
       "              ('FRAUD',\n",
       "               'FALSE_ID_TO_PEACE_OFFICER',\n",
       "               'RICHMOND',\n",
       "               'ARREST/CITED',\n",
       "               '500_Block_of_36TH_AV')): 1,\n",
       "             (('9/20/14', '10:00'),\n",
       "              ('MISSING_PERSON',\n",
       "               'FOUND_PERSON',\n",
       "               'BAYVIEW',\n",
       "               'NONE',\n",
       "               '1200_Block_of_FAIRFAX_AV')): 1,\n",
       "             (('3/28/14', '3:05'),\n",
       "              ('BURGLARY',\n",
       "               'BURGLARY_OF_APARTMENT_HOUSE/UNLAWFUL_ENTRY',\n",
       "               'INGLESIDE',\n",
       "               'NONE',\n",
       "               '3800_Block_of_MISSION_ST')): 1,\n",
       "             (('8/19/14', '13:00'),\n",
       "              ('FRAUD',\n",
       "               'CREDIT_CARD/THEFT_BY_USE_OF',\n",
       "               'TENDERLOIN',\n",
       "               'NONE',\n",
       "               '200_Block_of_OFARRELL_ST')): 1,\n",
       "             (('10/22/14', '8:30'),\n",
       "              ('OTHER_OFFENSES',\n",
       "               'RESTRAINING_ORDER_NOTIFICATION/SERVICE_OF_RESTRAINING_ORDER',\n",
       "               'TARAVAL',\n",
       "               'NONE',\n",
       "               '600_Block_of_BROTHERHOOD_WAY')): 1,\n",
       "             (('3/12/14', '8:15'),\n",
       "              ('ASSAULT',\n",
       "               'INFLICT_INJURY_ON_COHABITEE',\n",
       "               'BAYVIEW',\n",
       "               'ARREST/BOOKED',\n",
       "               '0_Block_of_OSCEOLA_LN')): 1,\n",
       "             (('1/12/13', '19:27'),\n",
       "              ('LARCENY/THEFT',\n",
       "               'GRAND_THEFT_FROM_LOCKED_AUTO',\n",
       "               'NORTHERN',\n",
       "               'NONE',\n",
       "               'MCALLISTER_ST/FRANKLIN_ST')): 1,\n",
       "             (('9/21/14', '0:01'),\n",
       "              ('LARCENY/THEFT',\n",
       "               'GRAND_THEFT_FROM_LOCKED_AUTO',\n",
       "               'CENTRAL',\n",
       "               'NONE',\n",
       "               '800_Block_of_CHESTNUT_ST')): 1,\n",
       "             (('10/29/14', '18:00'),\n",
       "              ('VEHICLE_THEFT',\n",
       "               'STOLEN_AUTOMOBILE',\n",
       "               'MISSION',\n",
       "               'ARREST/BOOKED',\n",
       "               '3900_Block_of_CESAR_CHAVEZ_ST')): 1,\n",
       "             (('9/22/13', '19:30'),\n",
       "              ('LARCENY/THEFT',\n",
       "               'PETTY_THEFT_OF_PROPERTY',\n",
       "               'NORTHERN',\n",
       "               'NONE',\n",
       "               'POLK_ST/UNION_ST')): 1,\n",
       "             (('7/9/14', '10:20'),\n",
       "              ('OTHER_OFFENSES',\n",
       "               'PROBATION_VIOLATION',\n",
       "               'RICHMOND',\n",
       "               'ARREST/CITED',\n",
       "               '0_Block_of_ROSSI_AV')): 1,\n",
       "             (('3/11/15', '8:50'),\n",
       "              ('ASSAULT',\n",
       "               'CHILD_ABUSE_(PHYSICAL)',\n",
       "               'INGLESIDE',\n",
       "               'ARREST/BOOKED',\n",
       "               '0_Block_of_MAYNARD_ST')): 1,\n",
       "             (('2/28/15', '1:30'),\n",
       "              ('LARCENY/THEFT',\n",
       "               'PETTY_THEFT_OF_PROPERTY',\n",
       "               'SOUTHERN',\n",
       "               'NONE',\n",
       "               '1000_Block_of_FOLSOM_ST')): 1,\n",
       "             (('9/5/14', '19:30'),\n",
       "              ('VEHICLE_THEFT',\n",
       "               'STOLEN_TRUCK',\n",
       "               'TARAVAL',\n",
       "               'NONE',\n",
       "               '32ND_AV/IRVING_ST')): 1,\n",
       "             (('3/16/13', '14:00'),\n",
       "              ('LARCENY/THEFT',\n",
       "               'GRAND_THEFT_FROM_LOCKED_AUTO',\n",
       "               'PARK',\n",
       "               'NONE',\n",
       "               '1900_Block_of_GEARY_BL')): 1,\n",
       "             (('7/19/13', '4:55'),\n",
       "              ('ROBBERY',\n",
       "               'ROBBERY_OF_A_CHAIN_STORE_WITH_BODILY_FORCE',\n",
       "               'CENTRAL',\n",
       "               'ARREST/BOOKED',\n",
       "               '400_Block_of_POWELL_ST')): 1,\n",
       "             (('1/25/13', '21:27'),\n",
       "              ('LARCENY/THEFT',\n",
       "               'GRAND_THEFT_FROM_A_BUILDING',\n",
       "               'SOUTHERN',\n",
       "               'ARREST/BOOKED',\n",
       "               '100_Block_of_3RD_ST')): 1,\n",
       "             (('2/24/14', '14:05'),\n",
       "              ('ASSAULT',\n",
       "               'BATTERY',\n",
       "               'SOUTHERN',\n",
       "               'ARREST/CITED',\n",
       "               '3RD_ST/TOWNSEND_ST')): 1,\n",
       "             (('11/20/14', '18:40'),\n",
       "              ('LARCENY/THEFT',\n",
       "               'GRAND_THEFT_FROM_UNLOCKED_AUTO',\n",
       "               'SOUTHERN',\n",
       "               'NONE',\n",
       "               'THE_EMBARCADEROSOUTH_ST/HOWARD_ST')): 1,\n",
       "             (('3/15/15', '2:00'),\n",
       "              ('SUSPICIOUS_OCC',\n",
       "               'INVESTIGATIVE_DETENTION',\n",
       "               'CENTRAL',\n",
       "               'NONE',\n",
       "               'LEAVENWORTH_ST/BEACH_ST')): 1,\n",
       "             (('4/24/14', '15:41'),\n",
       "              ('NON-CRIMINAL',\n",
       "               'AIDED_CASE/MENTAL_DISTURBED',\n",
       "               'TENDERLOIN',\n",
       "               'PSYCHOPATHIC_CASE',\n",
       "               '100_Block_of_TURK_ST')): 1,\n",
       "             (('12/26/14', '15:30'),\n",
       "              ('LARCENY/THEFT',\n",
       "               'GRAND_THEFT_FROM_LOCKED_AUTO',\n",
       "               'PARK',\n",
       "               'NONE',\n",
       "               '100_Block_of_JOHNFKENNEDY_DR')): 1,\n",
       "             (('7/30/14', '18:00'),\n",
       "              ('LARCENY/THEFT',\n",
       "               'GRAND_THEFT_AUTO_STRIP',\n",
       "               'INGLESIDE',\n",
       "               'NONE',\n",
       "               '300_Block_of_GUTTENBERG_ST')): 1,\n",
       "             (('3/26/14', '12:00'),\n",
       "              ('FRAUD',\n",
       "               'CREDIT_CARD/THEFT_BY_USE_OF',\n",
       "               'SOUTHERN',\n",
       "               'NONE',\n",
       "               '800_Block_of_BRYANT_ST')): 1,\n",
       "             (('1/13/15', '22:45'),\n",
       "              ('NON-CRIMINAL',\n",
       "               'FOUND_PROPERTY',\n",
       "               'TENDERLOIN',\n",
       "               'NONE',\n",
       "               '300_Block_of_EDDY_ST')): 1,\n",
       "             (('6/19/15', '9:15'),\n",
       "              ('VEHICLE_THEFT',\n",
       "               'STOLEN_TRUCK',\n",
       "               'RICHMOND',\n",
       "               'UNFOUNDED',\n",
       "               'BALBOA_ST/10TH_AV')): 1,\n",
       "             (('12/4/14', '14:00'),\n",
       "              ('LARCENY/THEFT',\n",
       "               'PETTY_THEFT_OF_PROPERTY',\n",
       "               'SOUTHERN',\n",
       "               'NONE',\n",
       "               '200_Block_of_SPEAR_ST')): 1,\n",
       "             (('5/4/14', '17:49'),\n",
       "              ('WARRANTS',\n",
       "               'WARRANT_ARREST',\n",
       "               'TENDERLOIN',\n",
       "               'ARREST/BOOKED',\n",
       "               '100_Block_of_HYDE_ST')): 1,\n",
       "             (('7/14/13', '21:49'),\n",
       "              ('WARRANTS',\n",
       "               'WARRANT_ARREST',\n",
       "               'CENTRAL',\n",
       "               'ARREST/BOOKED',\n",
       "               'STOCKTON_ST/CLAY_ST')): 1,\n",
       "             (('12/10/13', '10:16'),\n",
       "              ('FRAUD',\n",
       "               'TRICK_AND_DEVICE/GRAND_THEFT',\n",
       "               'BAYVIEW',\n",
       "               'NONE',\n",
       "               '1000_Block_of_22ND_ST')): 1,\n",
       "             (('6/25/14', '16:00'),\n",
       "              ('LARCENY/THEFT',\n",
       "               'GRAND_THEFT_FROM_UNLOCKED_AUTO',\n",
       "               'BAYVIEW',\n",
       "               'NONE',\n",
       "               '19TH_ST/TENNESSEE_ST')): 1,\n",
       "             (('2/14/13', '12:31'),\n",
       "              ('ASSAULT',\n",
       "               'RESISTING_PEACE_OFFICER/CAUSING_THEIR_SERIOUS_INJURY_OR_DEATH',\n",
       "               'SOUTHERN',\n",
       "               'ARREST/CITED',\n",
       "               '0_Block_of_SOUTH_VAN_NESS_AV')): 1,\n",
       "             (('7/19/14', '22:00'),\n",
       "              ('LARCENY/THEFT',\n",
       "               'GRAND_THEFT_FROM_LOCKED_AUTO',\n",
       "               'CENTRAL',\n",
       "               'NONE',\n",
       "               '1700_Block_of_JONES_ST')): 1,\n",
       "             (('4/11/15', '17:44'),\n",
       "              ('LARCENY/THEFT',\n",
       "               'GRAND_THEFT_FROM_LOCKED_AUTO',\n",
       "               'SOUTHERN',\n",
       "               'NONE',\n",
       "               '800_Block_of_BRYANT_ST')): 1,\n",
       "             (('5/23/15', '5:26'),\n",
       "              ('OTHER_OFFENSES',\n",
       "               'TRAFFIC_VIOLATION',\n",
       "               'SOUTHERN',\n",
       "               'ARREST/BOOKED',\n",
       "               'MARKET_ST/10TH_ST')): 1,\n",
       "             (('4/30/15', '15:23'),\n",
       "              ('NON-CRIMINAL',\n",
       "               'LOST_PROPERTY',\n",
       "               'SOUTHERN',\n",
       "               'NONE',\n",
       "               'MARKET_ST/MONTGOMERY_ST')): 1,\n",
       "             (('8/31/13', '9:30'),\n",
       "              ('LARCENY/THEFT',\n",
       "               'PETTY_THEFT_FROM_A_BUILDING',\n",
       "               'TARAVAL',\n",
       "               'ARREST/CITED',\n",
       "               '0_Block_of_RHINE_ST')): 1,\n",
       "             (('2/23/15', '11:18'),\n",
       "              ('OTHER_OFFENSES',\n",
       "               'TRAFFIC_VIOLATION_ARREST',\n",
       "               'TARAVAL',\n",
       "               'ARREST/BOOKED',\n",
       "               '500_Block_of_GONZALEZ_DR')): 1,\n",
       "             (('3/27/15', '17:58'),\n",
       "              ('ASSAULT',\n",
       "               'BATTERY',\n",
       "               'CENTRAL',\n",
       "               'NONE',\n",
       "               '500_Block_of_GREEN_ST')): 1,\n",
       "             (('8/25/13', '20:00'),\n",
       "              ('LARCENY/THEFT',\n",
       "               'ATTEMPTED_THEFT_FROM_LOCKED_VEHICLE',\n",
       "               'INGLESIDE',\n",
       "               'NONE',\n",
       "               '0_Block_of_DIGBY_ST')): 1,\n",
       "             (('2/13/13', '1:00'),\n",
       "              ('FRAUD',\n",
       "               'CREDIT_CARD/THEFT_BY_USE_OF',\n",
       "               'PARK',\n",
       "               'NONE',\n",
       "               '4500_Block_of_17TH_ST')): 1,\n",
       "             (('11/2/14', '14:00'),\n",
       "              ('NON-CRIMINAL',\n",
       "               'LOST_PROPERTY',\n",
       "               'TARAVAL',\n",
       "               'NONE',\n",
       "               'TARAVAL_ST/22ND_AV')): 1,\n",
       "             (('4/18/14', '23:00'),\n",
       "              ('LARCENY/THEFT',\n",
       "               'PETTY_THEFT_FROM_LOCKED_AUTO',\n",
       "               'NORTHERN',\n",
       "               'NONE',\n",
       "               'GEARY_BL/STEINER_ST')): 1,\n",
       "             (('1/1/13', '14:00'),\n",
       "              ('LARCENY/THEFT',\n",
       "               'PETTY_THEFT_OF_PROPERTY',\n",
       "               'SOUTHERN',\n",
       "               'NONE',\n",
       "               'BERRY_ST/7TH_ST')): 1,\n",
       "             (('8/21/14', '18:00'),\n",
       "              ('VANDALISM',\n",
       "               'MALICIOUS_MISCHIEF/VANDALISM',\n",
       "               'RICHMOND',\n",
       "               'NONE',\n",
       "               '600_Block_of_16TH_AV')): 1,\n",
       "             (('3/17/13', '5:40'),\n",
       "              ('BURGLARY',\n",
       "               'BURGLARY_OF_RESIDENCE/FORCIBLE_ENTRY',\n",
       "               'RICHMOND',\n",
       "               'NONE',\n",
       "               '2500_Block_of_POST_ST')): 1,\n",
       "             (('6/6/13', '22:52'),\n",
       "              ('OTHER_OFFENSES',\n",
       "               'TRAFFIC_VIOLATION',\n",
       "               'BAYVIEW',\n",
       "               'JUVENILE_CITED',\n",
       "               'INGALLS_ST/VANDYKE_AV')): 1,\n",
       "             (('3/19/13', '11:45'),\n",
       "              ('LARCENY/THEFT',\n",
       "               'GRAND_THEFT_FROM_LOCKED_AUTO',\n",
       "               'SOUTHERN',\n",
       "               'NONE',\n",
       "               '1100_Block_of_FOLSOM_ST')): 1,\n",
       "             (('4/11/15', '1:34'),\n",
       "              ('OTHER_OFFENSES',\n",
       "               'VIOLATION_OF_RESTRAINING_ORDER',\n",
       "               'BAYVIEW',\n",
       "               'NONE',\n",
       "               '4000_Block_of_3RD_ST')): 1,\n",
       "             (('6/1/15', '12:00'),\n",
       "              ('NON-CRIMINAL',\n",
       "               'LOST_PROPERTY',\n",
       "               'RICHMOND',\n",
       "               'NONE',\n",
       "               '3000_Block_of_ANZA_ST')): 1,\n",
       "             (('6/4/14', '7:00'),\n",
       "              ('ASSAULT',\n",
       "               'BATTERY/FORMER_SPOUSE_OR_DATING_RELATIONSHIP',\n",
       "               'BAYVIEW',\n",
       "               'ARREST/BOOKED',\n",
       "               '800_Block_of_JAMESTOWN_AV')): 1,\n",
       "             (('4/19/14', '13:30'),\n",
       "              ('VEHICLE_THEFT',\n",
       "               'STOLEN_AUTOMOBILE',\n",
       "               'MISSION',\n",
       "               'NONE',\n",
       "               '21ST_ST/TREAT_AV')): 1,\n",
       "             (('3/29/13', '15:00'),\n",
       "              ('LARCENY/THEFT',\n",
       "               'PETTY_THEFT_FROM_UNLOCKED_AUTO',\n",
       "               'SOUTHERN',\n",
       "               'NONE',\n",
       "               '600_Block_of_4TH_ST')): 1,\n",
       "             (('4/5/14', '20:10'),\n",
       "              ('BURGLARY',\n",
       "               'BURGLARY/UNLAWFUL_ENTRY',\n",
       "               'MISSION',\n",
       "               'NONE',\n",
       "               '1200_Block_of_VALENCIA_ST')): 1,\n",
       "             (('6/20/15', '21:30'),\n",
       "              ('VEHICLE_THEFT',\n",
       "               'STOLEN_MOTORCYCLE',\n",
       "               'RICHMOND',\n",
       "               'NONE',\n",
       "               '300_Block_of_2ND_AV')): 1,\n",
       "             (('4/11/13', '23:55'),\n",
       "              ('VEHICLE_THEFT',\n",
       "               'STOLEN_AUTOMOBILE',\n",
       "               'RICHMOND',\n",
       "               'NONE',\n",
       "               'MAYFAIR_DR/IRIS_AV')): 1,\n",
       "             (('7/9/13', '13:00'),\n",
       "              ('LARCENY/THEFT',\n",
       "               'PETTY_THEFT_OF_PROPERTY',\n",
       "               'TENDERLOIN',\n",
       "               'NONE',\n",
       "               'LEAVENWORTH_ST/GOLDEN_GATE_AV')): 1,\n",
       "             (('2/18/13', '13:19'),\n",
       "              ('NON-CRIMINAL',\n",
       "               'CIVIL_SIDEWALKS/WARNING',\n",
       "               'MISSION',\n",
       "               'NONE',\n",
       "               '3100_Block_of_19TH_ST')): 1,\n",
       "             (('4/3/15', '16:00'),\n",
       "              ('OTHER_OFFENSES',\n",
       "               'LOST/STOLEN_LICENSE_PLATE',\n",
       "               'BAYVIEW',\n",
       "               'NONE',\n",
       "               'FITZGERALD_AV/JENNINGS_ST')): 1,\n",
       "             (('8/27/14', '8:28'),\n",
       "              ('LARCENY/THEFT',\n",
       "               'GRAND_THEFT_FROM_LOCKED_AUTO',\n",
       "               'SOUTHERN',\n",
       "               'NONE',\n",
       "               '800_Block_of_MISSION_ST')): 1,\n",
       "             (('1/28/14', '16:05'),\n",
       "              ('MISSING_PERSON',\n",
       "               'MISSING_ADULT',\n",
       "               'SOUTHERN',\n",
       "               'PSYCHOPATHIC_CASE',\n",
       "               '800_Block_of_BRYANT_ST')): 1,\n",
       "             (('9/5/13', '12:20'),\n",
       "              ('LARCENY/THEFT',\n",
       "               'GRAND_THEFT_FROM_LOCKED_AUTO',\n",
       "               'NORTHERN',\n",
       "               'NONE',\n",
       "               '0_Block_of_MARINA_BL')): 1,\n",
       "             (('11/20/14', '12:15'),\n",
       "              ('NON-CRIMINAL',\n",
       "               'AIDED_CASE/MENTAL_DISTURBED',\n",
       "               'SOUTHERN',\n",
       "               'NONE',\n",
       "               '1100_Block_of_MARKET_ST')): 1,\n",
       "             (('2/27/13', '10:00'),\n",
       "              ('NON-CRIMINAL',\n",
       "               'LOST_PROPERTY',\n",
       "               'BAYVIEW',\n",
       "               'NONE',\n",
       "               '600_Block_of_16TH_ST')): 1,\n",
       "             (('4/8/14', '12:30'),\n",
       "              ('LARCENY/THEFT',\n",
       "               'PETTY_THEFT_OF_PROPERTY',\n",
       "               'SOUTHERN',\n",
       "               'NONE',\n",
       "               '800_Block_of_MARKET_ST')): 1,\n",
       "             (('7/2/14', '17:28'),\n",
       "              ('DRUG/NARCOTIC',\n",
       "               'POSSESSION_OF_METH-AMPHETAMINE',\n",
       "               'PARK',\n",
       "               'ARREST/BOOKED',\n",
       "               'PAGE_ST/STANYAN_ST')): 1,\n",
       "             (('8/10/13', '13:30'),\n",
       "              ('NON-CRIMINAL',\n",
       "               'LOST_PROPERTY',\n",
       "               'RICHMOND',\n",
       "               'NONE',\n",
       "               'FULTON_ST/30TH_AV')): 1,\n",
       "             (('5/24/13', '20:00'),\n",
       "              ('WARRANTS',\n",
       "               'WARRANT_ARREST',\n",
       "               'BAYVIEW',\n",
       "               'ARREST/BOOKED',\n",
       "               'CRISP_RD/REVERE_AV')): 1,\n",
       "             (('9/24/14', '20:46'),\n",
       "              ('WARRANTS',\n",
       "               'ENROUTE_TO_DEPARTMENT_OF_CORRECTIONS',\n",
       "               'TENDERLOIN',\n",
       "               'ARREST/BOOKED',\n",
       "               'GROVE_ST/LARKIN_ST')): 1,\n",
       "             (('4/13/15', '1:30'),\n",
       "              ('SUSPICIOUS_OCC',\n",
       "               'SUSPICIOUS_OCCURRENCE',\n",
       "               'SOUTHERN',\n",
       "               'NONE',\n",
       "               '0_Block_of_GUERRERO_ST')): 1,\n",
       "             (('5/3/15', '0:09'),\n",
       "              ('DRUNKENNESS',\n",
       "               'UNDER_INFLUENCE_OF_ALCOHOL_IN_A_PUBLIC_PLACE',\n",
       "               'TARAVAL',\n",
       "               'ARREST/BOOKED',\n",
       "               '200_Block_of_ARBALLO_DR')): 1,\n",
       "             (('5/23/13', '13:00'),\n",
       "              ('VEHICLE_THEFT',\n",
       "               'STOLEN_AUTOMOBILE',\n",
       "               'RICHMOND',\n",
       "               'NONE',\n",
       "               '34TH_AV/GEARY_BL')): 1,\n",
       "             (('1/3/15', '14:58'),\n",
       "              ('LARCENY/THEFT',\n",
       "               'GRAND_THEFT_OF_PROPERTY',\n",
       "               'CENTRAL',\n",
       "               'NONE',\n",
       "               '1200_Block_of_PINE_ST')): 1,\n",
       "             (('5/5/15', '19:00'),\n",
       "              ('WARRANTS',\n",
       "               'WARRANT_ARREST',\n",
       "               'MISSION',\n",
       "               'ARREST/BOOKED',\n",
       "               'ALABAMA_ST/16TH_ST')): 1,\n",
       "             (('6/7/13', '12:10'),\n",
       "              ('NON-CRIMINAL',\n",
       "               'AIDED_CASE',\n",
       "               'MISSION',\n",
       "               'NONE',\n",
       "               '500_Block_of_14TH_ST')): 1,\n",
       "             (('5/31/14', '16:55'),\n",
       "              ('LARCENY/THEFT',\n",
       "               'GRAND_THEFT_FROM_LOCKED_AUTO',\n",
       "               'TARAVAL',\n",
       "               'NONE',\n",
       "               'KIRKHAM_ST/16TH_AV')): 1,\n",
       "             (('5/22/15', '21:00'),\n",
       "              ('LARCENY/THEFT',\n",
       "               'GRAND_THEFT_OF_PROPERTY',\n",
       "               'CENTRAL',\n",
       "               'NONE',\n",
       "               'CLAY_ST/FRONT_ST')): 1,\n",
       "             (('4/2/14', '21:00'),\n",
       "              ('BURGLARY',\n",
       "               'BURGLARY_OF_RESIDENCE/UNLAWFUL_ENTRY',\n",
       "               'BAYVIEW',\n",
       "               'ARREST/BOOKED',\n",
       "               '300_Block_of_CAMBRIDGE_ST')): 1,\n",
       "             (('2/17/15', '17:40'),\n",
       "              ('DRUG/NARCOTIC',\n",
       "               'POSSESSION_OF_METH-AMPHETAMINE',\n",
       "               'CENTRAL',\n",
       "               'ARREST/BOOKED',\n",
       "               '0_Block_of_MONTGOMERY_ST')): 1,\n",
       "             (('3/28/14', '12:10'),\n",
       "              ('ASSAULT',\n",
       "               'AGGRAVATED_ASSAULT_WITH_BODILY_FORCE',\n",
       "               'CENTRAL',\n",
       "               'ARREST/BOOKED',\n",
       "               'POST_ST/POWELL_ST')): 1,\n",
       "             (('6/9/15', '3:13'),\n",
       "              ('OTHER_OFFENSES',\n",
       "               'POSSESSION_OF_BURGLARY_TOOLS',\n",
       "               'TARAVAL',\n",
       "               'ARREST/BOOKED',\n",
       "               '1800_Block_of_VICENTE_ST')): 1,\n",
       "             (('1/11/13', '11:25'),\n",
       "              ('TRESPASS',\n",
       "               'TRESPASSING',\n",
       "               'PARK',\n",
       "               'NONE',\n",
       "               '1800_Block_of_FELL_ST')): 1,\n",
       "             (('3/19/13', '19:30'),\n",
       "              ('SEX_OFFENSES/FORCIBLE',\n",
       "               'SEXUAL_BATTERY',\n",
       "               'INGLESIDE',\n",
       "               'JUVENILE_BOOKED',\n",
       "               '3300_Block_of_MISSION_ST')): 1,\n",
       "             (('8/10/13', '2:18'),\n",
       "              ('NON-CRIMINAL',\n",
       "               'AIDED_CASE/MENTAL_DISTURBED',\n",
       "               'PARK',\n",
       "               'PSYCHOPATHIC_CASE',\n",
       "               '100_Block_of_FREDERICK_ST')): 1,\n",
       "             (('1/11/14', '17:39'),\n",
       "              ('WARRANTS',\n",
       "               'ENROUTE_TO_PROBATION_OFFICER',\n",
       "               'SOUTHERN',\n",
       "               'ARREST/BOOKED',\n",
       "               '100_Block_of_6TH_ST')): 1,\n",
       "             (('3/29/14', '20:12'),\n",
       "              ('LARCENY/THEFT',\n",
       "               'PETTY_THEFT_SHOPLIFTING',\n",
       "               'TENDERLOIN',\n",
       "               'ARREST/BOOKED',\n",
       "               '100_Block_of_POWELL_ST')): 1,\n",
       "             (('5/6/14', '4:52'),\n",
       "              ('BURGLARY',\n",
       "               'BURGLARY_OF_APARTMENT_HOUSE/UNLAWFUL_ENTRY',\n",
       "               'RICHMOND',\n",
       "               'ARREST/BOOKED',\n",
       "               '200_Block_of_8TH_AV')): 1,\n",
       "             (('4/19/15', '15:00'),\n",
       "              ('LARCENY/THEFT',\n",
       "               'GRAND_THEFT_FROM_LOCKED_AUTO',\n",
       "               'CENTRAL',\n",
       "               'NONE',\n",
       "               '300_Block_of_BEACH_ST')): 1,\n",
       "             (('5/16/13', '2:16'),\n",
       "              ('WARRANTS',\n",
       "               'WARRANT_ARREST',\n",
       "               'TARAVAL',\n",
       "               'ARREST/BOOKED',\n",
       "               '1300_Block_of_46TH_AV')): 1,\n",
       "             (('10/23/13', '16:00'),\n",
       "              ('NON-CRIMINAL',\n",
       "               'AIDED_CASE/MENTAL_DISTURBED',\n",
       "               'TENDERLOIN',\n",
       "               'PSYCHOPATHIC_CASE',\n",
       "               '0_Block_of_TURK_ST')): 1,\n",
       "             (('10/8/14', '22:30'),\n",
       "              ('OTHER_OFFENSES',\n",
       "               'DRIVERS_LICENSE/SUSPENDED_OR_REVOKED',\n",
       "               'TENDERLOIN',\n",
       "               'ARREST/CITED',\n",
       "               'HYDE_ST/TURK_ST')): 1,\n",
       "             (('1/1/13', '23:00'),\n",
       "              ('OTHER_OFFENSES',\n",
       "               'RESTRAINING_ORDER_NOTIFICATION/SERVICE_OF_RESTRAINING_ORDER',\n",
       "               'TARAVAL',\n",
       "               'PSYCHOPATHIC_CASE',\n",
       "               '300_Block_of_BRIGHT_ST')): 1,\n",
       "             (('7/16/13', '10:17'),\n",
       "              ('NON-CRIMINAL',\n",
       "               'FOUND_PROPERTY',\n",
       "               'SOUTHERN',\n",
       "               'ARREST/BOOKED',\n",
       "               '100_Block_of_6TH_ST')): 1,\n",
       "             (('12/27/14', '13:00'),\n",
       "              ('SECONDARY_CODES',\n",
       "               'DOMESTIC_VIOLENCE',\n",
       "               'TENDERLOIN',\n",
       "               'NONE',\n",
       "               '300_Block_of_TURK_ST')): 1,\n",
       "             (('12/4/14', '20:00'),\n",
       "              ('LARCENY/THEFT',\n",
       "               'GRAND_THEFT_FROM_LOCKED_AUTO',\n",
       "               'CENTRAL',\n",
       "               'NONE',\n",
       "               '0_Block_of_GREEN_ST')): 1,\n",
       "             (('5/22/13', '2:30'),\n",
       "              ('LARCENY/THEFT',\n",
       "               'GRAND_THEFT_BY_PROSTITUTE',\n",
       "               'CENTRAL',\n",
       "               'NONE',\n",
       "               '700_Block_of_KEARNY_ST')): 1,\n",
       "             (('1/4/14', '3:18'),\n",
       "              ('ASSAULT',\n",
       "               'SHOOTING_INTO_INHABITED_DWELLING_OR_OCCUPIED_VEHICLE',\n",
       "               'MISSION',\n",
       "               'NONE',\n",
       "               '1300_Block_of_NATOMA_ST')): 1,\n",
       "             (('6/3/14', '23:06'),\n",
       "              ('WARRANTS',\n",
       "               'PROBATION_SEARCH',\n",
       "               'CENTRAL',\n",
       "               'ARREST/CITED',\n",
       "               '0_Block_of_DRUMM_ST')): 1,\n",
       "             (('5/26/15', '22:00'),\n",
       "              ('LARCENY/THEFT',\n",
       "               'GRAND_THEFT_FROM_LOCKED_AUTO',\n",
       "               'INGLESIDE',\n",
       "               'NONE',\n",
       "               '1700_Block_of_ALABAMA_ST')): 1,\n",
       "             (('3/3/14', '12:11'),\n",
       "              ('NON-CRIMINAL',\n",
       "               'AIDED_CASE/MENTAL_DISTURBED',\n",
       "               'SOUTHERN',\n",
       "               'PSYCHOPATHIC_CASE',\n",
       "               '300_Block_of_FOLSOM_ST')): 1,\n",
       "             (('2/20/13', '19:30'),\n",
       "              ('VEHICLE_THEFT',\n",
       "               'STOLEN_TRUCK',\n",
       "               'TARAVAL',\n",
       "               'NONE',\n",
       "               '1600_Block_of_PACHECO_ST')): 1,\n",
       "             (('1/7/14', '10:18'),\n",
       "              ('WEAPON_LAWS',\n",
       "               'CARRYING_A_CONCEALED_WEAPON',\n",
       "               'INGLESIDE',\n",
       "               'ARREST/BOOKED',\n",
       "               '300_Block_of_BOCANA_ST')): 1,\n",
       "             (('6/21/14', '21:00'),\n",
       "              ('LARCENY/THEFT',\n",
       "               'GRAND_THEFT_OF_PROPERTY',\n",
       "               'SOUTHERN',\n",
       "               'NONE',\n",
       "               '800_Block_of_BRYANT_ST')): 1,\n",
       "             (('9/29/13', '9:30'),\n",
       "              ('OTHER_OFFENSES',\n",
       "               'LOST/STOLEN_LICENSE_PLATE',\n",
       "               'RICHMOND',\n",
       "               'NONE',\n",
       "               '600_Block_of_7TH_AV')): 1,\n",
       "             (('7/25/14', '16:18'),\n",
       "              ('OTHER_OFFENSES',\n",
       "               'PROBATION_VIOLATION',\n",
       "               'MISSION',\n",
       "               'ARREST/BOOKED',\n",
       "               '2000_Block_of_MARKET_ST')): 1,\n",
       "             (('6/30/14', '23:00'),\n",
       "              ('VEHICLE_THEFT',\n",
       "               'STOLEN_AUTOMOBILE',\n",
       "               'INGLESIDE',\n",
       "               'NONE',\n",
       "               '0_Block_of_NEWMAN_ST')): 1,\n",
       "             (('11/16/14', '11:30'),\n",
       "              ('OTHER_OFFENSES',\n",
       "               'LOST/STOLEN_LICENSE_PLATE',\n",
       "               'TARAVAL',\n",
       "               'NONE',\n",
       "               '1400_Block_of_40TH_AV')): 2,\n",
       "             (('3/24/15', '11:28'),\n",
       "              ('LARCENY/THEFT',\n",
       "               'PETTY_THEFT_FROM_A_BUILDING',\n",
       "               'TENDERLOIN',\n",
       "               'NONE',\n",
       "               '100_Block_of_POWELL_ST')): 1,\n",
       "             (('9/28/13', '23:00'),\n",
       "              ('LARCENY/THEFT',\n",
       "               'GRAND_THEFT_FROM_LOCKED_AUTO',\n",
       "               'MISSION',\n",
       "               'NONE',\n",
       "               'DOLORES_ST/17TH_ST')): 1,\n",
       "             (('10/9/13', '12:15'),\n",
       "              ('ASSAULT',\n",
       "               'BATTERY',\n",
       "               'PARK',\n",
       "               'NONE',\n",
       "               '1400_Block_of_SCOTT_ST')): 1,\n",
       "             (('2/19/15', '18:28'),\n",
       "              ('SUSPICIOUS_OCC',\n",
       "               'SUSPICIOUS_OCCURRENCE',\n",
       "               'TENDERLOIN',\n",
       "               'UNFOUNDED',\n",
       "               '400_Block_of_ELLIS_ST')): 1,\n",
       "             (('7/2/13', '13:59'),\n",
       "              ('WARRANTS',\n",
       "               'WARRANT_ARREST',\n",
       "               'SOUTHERN',\n",
       "               'NONE',\n",
       "               '6TH_ST/MINNA_ST')): 1,\n",
       "             (('2/25/15', '20:00'),\n",
       "              ('VEHICLE_THEFT',\n",
       "               'STOLEN_AUTOMOBILE',\n",
       "               'MISSION',\n",
       "               'NONE',\n",
       "               '26TH_ST/HAMPSHIRE_ST')): 1,\n",
       "             (('11/21/13', '4:00'),\n",
       "              ('BURGLARY',\n",
       "               'BURGLARY/RESIDENCE_UNDER_CONSTRT/ATT._FORCIBLE',\n",
       "               'NORTHERN',\n",
       "               'NONE',\n",
       "               '2600_Block_of_GREEN_ST')): 1,\n",
       "             (('9/29/14', '5:35'),\n",
       "              ('OTHER_OFFENSES',\n",
       "               'POSSESSION_OF_BURGLARY_TOOLS',\n",
       "               'NORTHERN',\n",
       "               'ARREST/BOOKED',\n",
       "               '700_Block_of_POLK_ST')): 1,\n",
       "             (('1/30/15', '22:35'),\n",
       "              ('NON-CRIMINAL',\n",
       "               'LOST_PROPERTY',\n",
       "               'SOUTHERN',\n",
       "               'NONE',\n",
       "               'MARKET_ST/SOUTH_VAN_NESS_AV')): 1,\n",
       "             (('5/23/15', '23:45'),\n",
       "              ('OTHER_OFFENSES',\n",
       "               'DRIVERS_LICENSE/SUSPENDED_OR_REVOKED',\n",
       "               'BAYVIEW',\n",
       "               'ARREST/BOOKED',\n",
       "               'CESAR_CHAVEZ_ST/MINNESOTA_ST')): 1,\n",
       "             (('6/10/15', '19:30'),\n",
       "              ('LARCENY/THEFT',\n",
       "               'GRAND_THEFT_FROM_LOCKED_AUTO',\n",
       "               'TENDERLOIN',\n",
       "               'NONE',\n",
       "               'ELLIS_ST/MASON_ST')): 1,\n",
       "             (('10/3/13', '15:00'),\n",
       "              ('FRAUD',\n",
       "               'CREDIT_CARD/THEFT_BY_USE_OF',\n",
       "               'CENTRAL',\n",
       "               'NONE',\n",
       "               'JACKSON_ST/STOCKTON_ST')): 1,\n",
       "             (('8/1/14', '8:00'),\n",
       "              ('EMBEZZLEMENT',\n",
       "               'EMBEZZLEMENT/GRAND_THEFT_BY_EMPLOYEE',\n",
       "               'SOUTHERN',\n",
       "               'ARREST/BOOKED',\n",
       "               '800_Block_of_MARKET_ST')): 1,\n",
       "             (('12/27/14', '15:15'),\n",
       "              ('OTHER_OFFENSES',\n",
       "               'DRIVERS_LICENSE/SUSPENDED_OR_REVOKED',\n",
       "               'RICHMOND',\n",
       "               'NONE',\n",
       "               'PARKPRESIDIO_BL/LAKE_ST')): 1,\n",
       "             (('12/23/14', '11:30'),\n",
       "              ('MISSING_PERSON',\n",
       "               'MISSING_JUVENILE',\n",
       "               'BAYVIEW',\n",
       "               'NONE',\n",
       "               '1200_Block_of_QUESADA_AV')): 1,\n",
       "             (('6/30/13', '0:58'),\n",
       "              ('OTHER_OFFENSES',\n",
       "               'PAROLE_VIOLATION',\n",
       "               'TENDERLOIN',\n",
       "               'ARREST/BOOKED',\n",
       "               '0_Block_of_GOLDEN_GATE_AV')): 1,\n",
       "             (('11/27/13', '22:27'),\n",
       "              ('OTHER_OFFENSES',\n",
       "               'PROBATION_VIOLATION',\n",
       "               'MISSION',\n",
       "               'ARREST/BOOKED',\n",
       "               '2000_Block_of_MISSION_ST')): 1,\n",
       "             (('1/12/14', '9:00'),\n",
       "              ('WARRANTS',\n",
       "               'ENROUTE_TO_ADULT_AUTHORITY',\n",
       "               'CENTRAL',\n",
       "               'ARREST/BOOKED',\n",
       "               '100_Block_of_QUINCY_ST')): 1,\n",
       "             (('7/15/14', '13:50'),\n",
       "              ('LARCENY/THEFT',\n",
       "               'PETTY_THEFT_FROM_A_BUILDING',\n",
       "               'SOUTHERN',\n",
       "               'ARREST/CITED',\n",
       "               '800_Block_of_MARKET_ST')): 1,\n",
       "             (('7/16/14', '22:30'),\n",
       "              ('ASSAULT',\n",
       "               'BATTERY',\n",
       "               'RICHMOND',\n",
       "               'NONE',\n",
       "               '400_Block_of_29TH_AV')): 1,\n",
       "             (('9/11/14', '18:00'),\n",
       "              ('BURGLARY',\n",
       "               'BURGLARY/UNLAWFUL_ENTRY',\n",
       "               'NORTHERN',\n",
       "               'NONE',\n",
       "               '2200_Block_of_FRANCISCO_ST')): 1,\n",
       "             (('3/11/14', '4:35'),\n",
       "              ('DRUG/NARCOTIC',\n",
       "               'POSSESSION_OF_METH-AMPHETAMINE',\n",
       "               'CENTRAL',\n",
       "               'ARREST/BOOKED',\n",
       "               'JACKSON_ST/HYDE_ST')): 1,\n",
       "             (('9/17/14', '22:00'),\n",
       "              ('VEHICLE_THEFT',\n",
       "               'STOLEN_AUTOMOBILE',\n",
       "               'SOUTHERN',\n",
       "               'NONE',\n",
       "               '800_Block_of_BRYANT_ST')): 1,\n",
       "             (('6/2/14', '1:49'),\n",
       "              ('OTHER_OFFENSES',\n",
       "               'RESISTING_ARREST',\n",
       "               'TENDERLOIN',\n",
       "               'ARREST/BOOKED',\n",
       "               '500_Block_of_OFARRELL_ST')): 1,\n",
       "             (('5/15/15', '11:10'),\n",
       "              ('NON-CRIMINAL',\n",
       "               'FOUND_PROPERTY',\n",
       "               'INGLESIDE',\n",
       "               'NONE',\n",
       "               '400_Block_of_RAYMOND_AV')): 1,\n",
       "             (('4/15/13', '18:00'),\n",
       "              ('VEHICLE_THEFT',\n",
       "               'STOLEN_AUTOMOBILE',\n",
       "               'RICHMOND',\n",
       "               'NONE',\n",
       "               '0_Block_of_PARKER_AV')): 1,\n",
       "             (('8/20/14', '12:40'),\n",
       "              ('LARCENY/THEFT',\n",
       "               'GRAND_THEFT_SHOPLIFTING',\n",
       "               'TENDERLOIN',\n",
       "               'ARREST/BOOKED',\n",
       "               '100_Block_of_OFARRELL_ST')): 1,\n",
       "             (('4/29/14', '7:00'),\n",
       "              ('OTHER_OFFENSES',\n",
       "               'LOST/STOLEN_LICENSE_PLATE',\n",
       "               'SOUTHERN',\n",
       "               'NONE',\n",
       "               '400_Block_of_BERRY_ST')): 1,\n",
       "             (('7/25/14', '23:58'),\n",
       "              ('SUSPICIOUS_OCC',\n",
       "               'INVESTIGATIVE_DETENTION',\n",
       "               'NORTHERN',\n",
       "               'NONE',\n",
       "               '700_Block_of_LAGUNA_ST')): 1,\n",
       "             (('5/3/15', '1:45'),\n",
       "              ('ASSAULT',\n",
       "               'AGGRAVATED_ASSAULT_WITH_BODILY_FORCE',\n",
       "               'SOUTHERN',\n",
       "               'NONE',\n",
       "               '100_Block_of_6TH_ST')): 1,\n",
       "             (('5/17/13', '5:32'),\n",
       "              ('NON-CRIMINAL',\n",
       "               'AIDED_CASE/MENTAL_DISTURBED',\n",
       "               'SOUTHERN',\n",
       "               'PSYCHOPATHIC_CASE',\n",
       "               '1200_Block_of_MARKET_ST')): 1,\n",
       "             (('2/4/15', '16:00'),\n",
       "              ('OTHER_OFFENSES',\n",
       "               'FALSE_PERSONATION',\n",
       "               'MISSION',\n",
       "               'ARREST/BOOKED',\n",
       "               '15TH_ST/FOLSOM_ST')): 1,\n",
       "             (('3/17/15', '20:45'),\n",
       "              ('OTHER_OFFENSES',\n",
       "               'CONSPIRACY',\n",
       "               'SOUTHERN',\n",
       "               'JUVENILE_BOOKED',\n",
       "               '200_Block_of_FREMONT_ST')): 1,\n",
       "             (('9/19/14', '17:45'),\n",
       "              ('DRUG/NARCOTIC',\n",
       "               'POSSESSION_OF_MARIJUANA',\n",
       "               'SOUTHERN',\n",
       "               'ARREST/CITED',\n",
       "               '1000_Block_of_MARKET_ST')): 1,\n",
       "             (('9/2/14', '19:00'),\n",
       "              ('OTHER_OFFENSES',\n",
       "               'VIOLATION_OF_STAY_AWAY_ORDER',\n",
       "               'INGLESIDE',\n",
       "               'NONE',\n",
       "               '0_Block_of_CORDOVA_ST')): 1,\n",
       "             (('10/20/13', '18:29'),\n",
       "              ('FORGERY/COUNTERFEITING',\n",
       "               'FORGERY/NOTES',\n",
       "               'SOUTHERN',\n",
       "               'NONE',\n",
       "               '1000_Block_of_MARKET_ST')): 1,\n",
       "             (('9/23/13', '12:15'),\n",
       "              ('LARCENY/THEFT',\n",
       "               'LOST_PROPERTY/GRAND_THEFT',\n",
       "               'SOUTHERN',\n",
       "               'NONE',\n",
       "               '700_Block_of_HOWARD_ST')): 1,\n",
       "             (('5/18/14', '2:40'),\n",
       "              ('NON-CRIMINAL',\n",
       "               'AIDED_CASE',\n",
       "               'CENTRAL',\n",
       "               'NONE',\n",
       "               'PACIFIC_AV/STOCKTON_ST')): 1,\n",
       "             (('5/8/15', '3:30'),\n",
       "              ('NON-CRIMINAL',\n",
       "               'COURTESY_REPORT',\n",
       "               'BAYVIEW',\n",
       "               'UNFOUNDED',\n",
       "               '300_Block_of_BAY_SHORE_BL')): 1,\n",
       "             (('4/25/15', '16:50'),\n",
       "              ('LARCENY/THEFT',\n",
       "               'PETTY_THEFT_SHOPLIFTING',\n",
       "               'NORTHERN',\n",
       "               'NONE',\n",
       "               '500_Block_of_HAYES_ST')): 1,\n",
       "             (('5/30/13', '18:00'),\n",
       "              ('LARCENY/THEFT',\n",
       "               'GRAND_THEFT_FROM_LOCKED_AUTO',\n",
       "               'RICHMOND',\n",
       "               'NONE',\n",
       "               '2700_Block_of_GEARY_BL')): 1,\n",
       "             (('6/15/13', '12:42'),\n",
       "              ('WARRANTS',\n",
       "               'ENROUTE_TO_DEPARTMENT_OF_CORRECTIONS',\n",
       "               'SOUTHERN',\n",
       "               'ARREST/BOOKED',\n",
       "               'MARKET_ST/MASON_ST')): 1,\n",
       "             (('9/11/13', '9:30'),\n",
       "              ('LARCENY/THEFT',\n",
       "               'GRAND_THEFT_FROM_LOCKED_AUTO',\n",
       "               'CENTRAL',\n",
       "               'NONE',\n",
       "               'BROADWAY_ST/HYDE_ST')): 1,\n",
       "             (('6/12/14', '13:00'),\n",
       "              ('OTHER_OFFENSES',\n",
       "               'FRAUDULENT_GAME_OR_TRICK/OBTAINING_MONEY_OR_PROPERTY',\n",
       "               'NORTHERN',\n",
       "               'NONE',\n",
       "               '1900_Block_of_JACKSON_ST')): 1,\n",
       "             (('6/3/14', '20:03'),\n",
       "              ('ASSAULT',\n",
       "               'BATTERY',\n",
       "               'TENDERLOIN',\n",
       "               'NONE',\n",
       "               'TURK_ST/JONES_ST')): 1,\n",
       "             (('7/7/15', '12:57'),\n",
       "              ('WARRANTS',\n",
       "               'ENROUTE_TO_OUTSIDE_JURISDICTION',\n",
       "               'SOUTHERN',\n",
       "               'ARREST/BOOKED',\n",
       "               '100_Block_of_VALENCIA_ST')): 1,\n",
       "             (('1/10/15', '17:00'),\n",
       "              ('LARCENY/THEFT',\n",
       "               'PETTY_THEFT_BICYCLE',\n",
       "               'MISSION',\n",
       "               'NONE',\n",
       "               '1000_Block_of_POTRERO_AV')): 1,\n",
       "             (('4/1/14', '7:00'),\n",
       "              ('FORGERY/COUNTERFEITING',\n",
       "               'CHECKS/POSSESSION_WITH_INTENT_TO_PASS',\n",
       "               'PARK',\n",
       "               'NONE',\n",
       "               '700_Block_of_PAGE_ST')): 1,\n",
       "             (('2/15/15', '18:00'),\n",
       "              ('ASSAULT',\n",
       "               'THREATS_AGAINST_LIFE',\n",
       "               'NORTHERN',\n",
       "               'ARREST/BOOKED',\n",
       "               '1500_Block_of_EDDY_ST')): 1,\n",
       "             (('7/9/13', '20:00'),\n",
       "              ('LARCENY/THEFT',\n",
       "               'PETTY_THEFT_OF_PROPERTY',\n",
       "               'CENTRAL',\n",
       "               'NONE',\n",
       "               '600_Block_of_JONES_ST')): 1,\n",
       "             (('5/6/13', '14:30'),\n",
       "              ('NON-CRIMINAL',\n",
       "               'CASE_CLOSURE',\n",
       "               'CENTRAL',\n",
       "               'ARREST/BOOKED',\n",
       "               '500_Block_of_MONTGOMERY_ST')): 1,\n",
       "             (('1/4/15', '21:45'),\n",
       "              ('LARCENY/THEFT',\n",
       "               'PETTY_THEFT_FROM_LOCKED_AUTO',\n",
       "               'TENDERLOIN',\n",
       "               'NONE',\n",
       "               '0_Block_of_TAYLOR_ST')): 1,\n",
       "             (('11/6/13', '14:40'),\n",
       "              ('NON-CRIMINAL',\n",
       "               'LOST_PROPERTY',\n",
       "               'MISSION',\n",
       "               'NONE',\n",
       "               '1800_Block_of_MISSION_ST')): 1,\n",
       "             (('4/19/15', '20:20'),\n",
       "              ('NON-CRIMINAL',\n",
       "               'AIDED_CASE/MENTAL_DISTURBED',\n",
       "               'SOUTHERN',\n",
       "               'NONE',\n",
       "               '0_Block_of_THE_EMBARCADERONORTH_ST')): 1,\n",
       "             (('5/10/14', '23:00'),\n",
       "              ('LARCENY/THEFT',\n",
       "               'GRAND_THEFT_PICKPOCKET',\n",
       "               'MISSION',\n",
       "               'NONE',\n",
       "               '600_Block_of_VALENCIA_ST')): 1,\n",
       "             (('3/23/15', '0:30'),\n",
       "              ('LARCENY/THEFT',\n",
       "               'PETTY_THEFT_FROM_LOCKED_AUTO',\n",
       "               'MISSION',\n",
       "               'NONE',\n",
       "               '600_Block_of_ALVARADO_ST')): 1,\n",
       "             (('8/14/13', '22:00'),\n",
       "              ('NON-CRIMINAL',\n",
       "               'FOUND_PROPERTY',\n",
       "               'NORTHERN',\n",
       "               'NONE',\n",
       "               '800_Block_of_ELLIS_ST')): 1,\n",
       "             (('2/16/14', '0:30'),\n",
       "              ('LARCENY/THEFT',\n",
       "               'PETTY_THEFT_OF_PROPERTY',\n",
       "               'SOUTHERN',\n",
       "               'NONE',\n",
       "               '800_Block_of_BRYANT_ST')): 1,\n",
       "             (('1/10/15', '10:30'),\n",
       "              ('LARCENY/THEFT',\n",
       "               'GRAND_THEFT_FROM_LOCKED_AUTO',\n",
       "               'PARK',\n",
       "               'NONE',\n",
       "               '500_Block_of_BURNETT_AV')): 1,\n",
       "             (('1/26/15', '14:55'),\n",
       "              ('LARCENY/THEFT',\n",
       "               'PETTY_THEFT_SHOPLIFTING',\n",
       "               'TARAVAL',\n",
       "               'NONE',\n",
       "               '200_Block_of_WESTPORTAL_AV')): 1,\n",
       "             (('8/6/14', '12:23'),\n",
       "              ('KIDNAPPING',\n",
       "               'FALSE_IMPRISONMENT',\n",
       "               'BAYVIEW',\n",
       "               'ARREST/BOOKED',\n",
       "               '1400_Block_of_DEHARO_ST')): 1,\n",
       "             (('2/11/15', '15:48'),\n",
       "              ('LARCENY/THEFT',\n",
       "               'GRAND_THEFT_FROM_PERSON',\n",
       "               'CENTRAL',\n",
       "               'NONE',\n",
       "               '700_Block_of_SACRAMENTO_ST')): 1,\n",
       "             (('1/15/14', '12:30'),\n",
       "              ('LARCENY/THEFT',\n",
       "               'PETTY_THEFT_OF_PROPERTY',\n",
       "               'CENTRAL',\n",
       "               'NONE',\n",
       "               'SANSOME_ST/BUSH_ST')): 1,\n",
       "             (('5/19/14', '13:35'),\n",
       "              ('WARRANTS',\n",
       "               'ENROUTE_TO_OUTSIDE_JURISDICTION',\n",
       "               'TENDERLOIN',\n",
       "               'ARREST/BOOKED',\n",
       "               'TURK_ST/LEAVENWORTH_ST')): 1,\n",
       "             (('8/10/13', '22:41'),\n",
       "              ('OTHER_OFFENSES',\n",
       "               'FAILURE_TO_REGISTER_AS_SEX_OFFENDER',\n",
       "               'BAYVIEW',\n",
       "               'ARREST/BOOKED',\n",
       "               '2300_Block_of_LANE_ST')): 1,\n",
       "             (('9/15/14', '12:00'),\n",
       "              ('OTHER_OFFENSES',\n",
       "               'FALSE_PERSONATION_TO_RECEIVE_MONEY_OR_PROPERTY',\n",
       "               'CENTRAL',\n",
       "               'NONE',\n",
       "               '1300_Block_of_JACKSON_ST')): 1,\n",
       "             (('4/1/14', '15:53'),\n",
       "              ('WARRANTS',\n",
       "               'WARRANT_ARREST',\n",
       "               'NORTHERN',\n",
       "               'ARREST/BOOKED',\n",
       "               'LARKIN_ST/OFARRELL_ST')): 1,\n",
       "             (('3/15/15', '13:30'),\n",
       "              ('NON-CRIMINAL',\n",
       "               'FOUND_PROPERTY',\n",
       "               'SOUTHERN',\n",
       "               'NONE',\n",
       "               '800_Block_of_BRYANT_ST')): 1,\n",
       "             (('7/10/13', '7:00'),\n",
       "              ('LARCENY/THEFT',\n",
       "               'GRAND_THEFT_FROM_UNLOCKED_AUTO',\n",
       "               'CENTRAL',\n",
       "               'NONE',\n",
       "               '800_Block_of_BATTERY_ST')): 1,\n",
       "             (('8/24/14', '19:00'),\n",
       "              ('ASSAULT',\n",
       "               'INFLICT_INJURY_ON_COHABITEE',\n",
       "               'INGLESIDE',\n",
       "               'NONE',\n",
       "               '0_Block_of_THERESA_ST')): 1,\n",
       "             (('12/19/13', '13:38'),\n",
       "              ('ASSAULT',\n",
       "               'BATTERY',\n",
       "               'SOUTHERN',\n",
       "               'NONE',\n",
       "               '1ST_ST/MISSION_ST')): 1,\n",
       "             (('1/13/13', '13:20'),\n",
       "              ('ROBBERY',\n",
       "               'ROBBERY_ON_THE_STREET/STRONGARM',\n",
       "               'TARAVAL',\n",
       "               'JUVENILE_BOOKED',\n",
       "               'BROAD_ST/CAPITOL_AV')): 1,\n",
       "             (('11/22/13', '18:30'),\n",
       "              ('MISSING_PERSON',\n",
       "               'FOUND_PERSON',\n",
       "               'INGLESIDE',\n",
       "               'LOCATED',\n",
       "               '100_Block_of_PERSIA_AV')): 1,\n",
       "             (('10/10/13', '22:30'),\n",
       "              ('LARCENY/THEFT',\n",
       "               'PETTY_THEFT_FROM_LOCKED_AUTO',\n",
       "               'SOUTHERN',\n",
       "               'NONE',\n",
       "               'TURK_ST/MASON_ST')): 1,\n",
       "             (('7/31/13', '21:00'),\n",
       "              ('LARCENY/THEFT',\n",
       "               'PETTY_THEFT_FROM_UNLOCKED_AUTO',\n",
       "               'TARAVAL',\n",
       "               'NONE',\n",
       "               '2000_Block_of_21ST_AV')): 1,\n",
       "             (('3/13/13', '11:30'),\n",
       "              ('SECONDARY_CODES',\n",
       "               'GANG_ACTIVITY',\n",
       "               'SOUTHERN',\n",
       "               'NONE',\n",
       "               '800_Block_of_BRYANT_ST')): 1,\n",
       "             (('3/27/13', '12:36'),\n",
       "              ('OTHER_OFFENSES',\n",
       "               'RESISTING_ARREST',\n",
       "               'SOUTHERN',\n",
       "               'ARREST/BOOKED',\n",
       "               '800_Block_of_BRYANT_ST')): 1,\n",
       "             (('1/2/14', '6:00'),\n",
       "              ('NON-CRIMINAL',\n",
       "               'SEARCH_WARRANT_SERVICE',\n",
       "               'BAYVIEW',\n",
       "               'NONE',\n",
       "               '4400_Block_of_3RD_ST')): 1,\n",
       "             (('4/30/15', '16:00'),\n",
       "              ('NON-CRIMINAL',\n",
       "               'AIDED_CASE/MENTAL_DISTURBED',\n",
       "               'MISSION',\n",
       "               'NONE',\n",
       "               '2200_Block_of_MARKET_ST')): 1,\n",
       "             (('1/26/14', '22:00'),\n",
       "              ('LARCENY/THEFT',\n",
       "               'GRAND_THEFT_FROM_LOCKED_AUTO',\n",
       "               'BAYVIEW',\n",
       "               'NONE',\n",
       "               '1500_Block_of_INNES_AV')): 1,\n",
       "             (('8/23/13', '19:30'),\n",
       "              ('LARCENY/THEFT',\n",
       "               'PETTY_THEFT_OF_PROPERTY',\n",
       "               'NORTHERN',\n",
       "               'NONE',\n",
       "               'GEARY_BL/FILLMORE_ST')): 1,\n",
       "             (('11/1/13', '19:55'),\n",
       "              ('LARCENY/THEFT',\n",
       "               'GRAND_THEFT_OF_PROPERTY',\n",
       "               'SOUTHERN',\n",
       "               'NONE',\n",
       "               '700_Block_of_MARKET_ST')): 1,\n",
       "             (('8/3/13', '17:00'),\n",
       "              ('LARCENY/THEFT',\n",
       "               'GRAND_THEFT_FROM_LOCKED_AUTO',\n",
       "               'CENTRAL',\n",
       "               'NONE',\n",
       "               'LOMBARD_ST/SANSOME_ST')): 1,\n",
       "             (('6/1/13', '1:50'),\n",
       "              ('LARCENY/THEFT',\n",
       "               'PETTY_THEFT_OF_PROPERTY',\n",
       "               'CENTRAL',\n",
       "               'NONE',\n",
       "               '400_Block_of_MASON_ST')): 1,\n",
       "             (('4/9/15', '10:53'),\n",
       "              ('NON-CRIMINAL',\n",
       "               'FOUND_PROPERTY',\n",
       "               'SOUTHERN',\n",
       "               'NONE',\n",
       "               '0_Block_of_UNITEDNATIONS_PZ')): 1,\n",
       "             (('2/23/15', '4:00'),\n",
       "              ('OTHER_OFFENSES',\n",
       "               'POSSESSION_OF_BURGLARY_TOOLS',\n",
       "               'PARK',\n",
       "               'NONE',\n",
       "               '300_Block_of_ROOSEVELT_WY')): 1,\n",
       "             (('10/8/13', '10:10'),\n",
       "              ('LARCENY/THEFT',\n",
       "               'THEFT_OF_COMPUTERS_OR_CELL_PHONES',\n",
       "               'NORTHERN',\n",
       "               'NONE',\n",
       "               '1100_Block_of_FRANCISCO_ST')): 1,\n",
       "             (('1/29/15', '23:28'),\n",
       "              ('NON-CRIMINAL',\n",
       "               'FIRE_REPORT',\n",
       "               'CENTRAL',\n",
       "               'NONE',\n",
       "               '600_Block_of_HYDE_ST')): 1,\n",
       "             (('1/26/14', '16:20'),\n",
       "              ('LARCENY/THEFT',\n",
       "               'PETTY_THEFT_SHOPLIFTING',\n",
       "               'TARAVAL',\n",
       "               'JUVENILE_CITED',\n",
       "               '3200_Block_of_20TH_AV')): 1,\n",
       "             (('9/18/13', '0:01'),\n",
       "              ('NON-CRIMINAL',\n",
       "               'LOST_PROPERTY',\n",
       "               'RICHMOND',\n",
       "               'NONE',\n",
       "               '4200_Block_of_GEARY_BL')): 2,\n",
       "             (('7/24/14', '4:59'),\n",
       "              ('NON-CRIMINAL',\n",
       "               'FOUND_PROPERTY',\n",
       "               'SOUTHERN',\n",
       "               'NONE',\n",
       "               '0_Block_of_SUMNER_ST')): 1,\n",
       "             (('6/30/13', '17:00'),\n",
       "              ('LARCENY/THEFT',\n",
       "               'PETTY_THEFT_OF_PROPERTY',\n",
       "               'SOUTHERN',\n",
       "               'NONE',\n",
       "               '800_Block_of_MARKET_ST')): 1,\n",
       "             (('4/8/13', '13:30'),\n",
       "              ('LARCENY/THEFT',\n",
       "               'PETTY_THEFT_OF_PROPERTY',\n",
       "               'MISSION',\n",
       "               'NONE',\n",
       "               '400_Block_of_VALENCIA_ST')): 1,\n",
       "             (('4/5/13', '1:10'),\n",
       "              ('VEHICLE_THEFT',\n",
       "               'STOLEN_TRUCK',\n",
       "               'TARAVAL',\n",
       "               'NONE',\n",
       "               '3800_Block_of_19TH_AV')): 1,\n",
       "             (('2/10/13', '15:19'),\n",
       "              ('ASSAULT',\n",
       "               'SHOOTING_INTO_INHABITED_DWELLING_OR_OCCUPIED_VEHICLE',\n",
       "               'SOUTHERN',\n",
       "               'NONE',\n",
       "               '800_Block_of_BRYANT_ST')): 1,\n",
       "             (('10/11/13', '2:45'),\n",
       "              ('NON-CRIMINAL',\n",
       "               'AIDED_CASE/MENTAL_DISTURBED',\n",
       "               'MISSION',\n",
       "               'PSYCHOPATHIC_CASE',\n",
       "               '900_Block_of_POTRERO_AV')): 1,\n",
       "             (('9/25/14', '14:36'),\n",
       "              ('TRESPASS',\n",
       "               'TRESPASSING',\n",
       "               'MISSION',\n",
       "               'NONE',\n",
       "               '300_Block_of_LEXINGTON_ST')): 1,\n",
       "             (('1/22/15', '10:45'),\n",
       "              ('NON-CRIMINAL',\n",
       "               'AIDED_CASE_-PROPERTY_FOR_DESTRUCTION',\n",
       "               'RICHMOND',\n",
       "               'NONE',\n",
       "               '400_Block_of_6TH_AV')): 1,\n",
       "             (('1/31/13', '19:44'),\n",
       "              ('SUSPICIOUS_OCC',\n",
       "               'INVESTIGATIVE_DETENTION',\n",
       "               'BAYVIEW',\n",
       "               'NONE',\n",
       "               '1500_Block_of_LANE_ST')): 1,\n",
       "             (('3/4/14', '19:20'),\n",
       "              ('DRUG/NARCOTIC',\n",
       "               'FURNISHING_MARIJUANA',\n",
       "               'SOUTHERN',\n",
       "               'ARREST/BOOKED',\n",
       "               '900_Block_of_MARKET_ST')): 1,\n",
       "             (('3/22/14', '10:30'),\n",
       "              ('ASSAULT',\n",
       "               'THREATS_AGAINST_LIFE',\n",
       "               'BAYVIEW',\n",
       "               'NONE',\n",
       "               'BAY_SHORE_BL/OAKDALE_AV')): 1,\n",
       "             (('3/18/14', '15:00'),\n",
       "              ('ASSAULT', 'BATTERY', 'BAYVIEW', 'NONE', '3RD_ST/22ND_ST')): 1,\n",
       "             (('2/12/14', '22:47'),\n",
       "              ('DRUG/NARCOTIC',\n",
       "               'POSSESSION_OF_MARIJUANA',\n",
       "               'BAYVIEW',\n",
       "               'ARREST/BOOKED',\n",
       "               '2400_Block_of_SAN_BRUNO_AV')): 1,\n",
       "             (('2/10/13', '13:54'),\n",
       "              ('ASSAULT',\n",
       "               'BATTERY',\n",
       "               'RICHMOND',\n",
       "               'NONE',\n",
       "               '3500_Block_of_GEARY_BL')): 1,\n",
       "             (('5/21/14', '12:20'),\n",
       "              ('ASSAULT',\n",
       "               'BATTERY',\n",
       "               'MISSION',\n",
       "               'NONE',\n",
       "               '900_Block_of_DOUGLASS_ST')): 1,\n",
       "             (('3/9/13', '23:30'),\n",
       "              ('NON-CRIMINAL',\n",
       "               'LOST_PROPERTY',\n",
       "               'CENTRAL',\n",
       "               'NONE',\n",
       "               '500_Block_of_GEARY_ST')): 1,\n",
       "             (('1/31/13', '15:30'),\n",
       "              ('OTHER_OFFENSES',\n",
       "               'FRAUDULENT_GAME_OR_TRICK/OBTAINING_MONEY_OR_PROPERTY',\n",
       "               'BAYVIEW',\n",
       "               'NONE',\n",
       "               '100_Block_of_MIDDLEPOINT_RD')): 1,\n",
       "             (('8/24/14', '10:45'),\n",
       "              ('ROBBERY',\n",
       "               'ATTEMPTED_ROBBERY_WITH_A_KNIFE',\n",
       "               'SOUTHERN',\n",
       "               'NONE',\n",
       "               '600_Block_of_MARKET_ST')): 1,\n",
       "             (('10/8/13', '21:45'),\n",
       "              ('LARCENY/THEFT',\n",
       "               'GRAND_THEFT_FROM_LOCKED_AUTO',\n",
       "               'NORTHERN',\n",
       "               'NONE',\n",
       "               '1300_Block_of_SUTTER_ST')): 1,\n",
       "             (('11/6/14', '17:30'),\n",
       "              ('VANDALISM',\n",
       "               'MALICIOUS_MISCHIEF/VANDALISM',\n",
       "               'SOUTHERN',\n",
       "               'NONE',\n",
       "               '1200_Block_of_MARKET_ST')): 1,\n",
       "             (('4/7/14', '19:25'),\n",
       "              ('SUSPICIOUS_OCC',\n",
       "               'SUSPICIOUS_OCCURRENCE',\n",
       "               'INGLESIDE',\n",
       "               'NONE',\n",
       "               '0_Block_of_SGTJOHNVYOUNG_LN')): 1,\n",
       "             (('6/22/14', '10:20'),\n",
       "              ('NON-CRIMINAL',\n",
       "               'FOUND_PROPERTY',\n",
       "               'PARK',\n",
       "               'NONE',\n",
       "               'HAIGHT_ST/COLE_ST')): 1,\n",
       "             (('7/1/14', '10:21'),\n",
       "              ('SUSPICIOUS_OCC',\n",
       "               'INVESTIGATIVE_DETENTION',\n",
       "               'MISSION',\n",
       "               'NONE',\n",
       "               '100_Block_of_CAPP_ST')): 1,\n",
       "             (('3/7/14', '15:00'),\n",
       "              ('LARCENY/THEFT',\n",
       "               'PETTY_THEFT_FROM_A_BUILDING',\n",
       "               'NORTHERN',\n",
       "               'NONE',\n",
       "               '2200_Block_of_JACKSON_ST')): 1,\n",
       "             (('4/20/13', '0:20'),\n",
       "              ('VEHICLE_THEFT',\n",
       "               'STOLEN_AUTOMOBILE',\n",
       "               'MISSION',\n",
       "               'ARREST/BOOKED',\n",
       "               '100_Block_of_UTAH_ST')): 1,\n",
       "             (('11/13/14', '21:10'),\n",
       "              ('OTHER_OFFENSES',\n",
       "               'LOST/STOLEN_LICENSE_PLATE',\n",
       "               'SOUTHERN',\n",
       "               'NONE',\n",
       "               '7TH_ST/HOWARD_ST')): 1,\n",
       "             (('10/30/13', '0:01'),\n",
       "              ('BURGLARY',\n",
       "               'BURGLARY/FORCIBLE_ENTRY',\n",
       "               'TARAVAL',\n",
       "               'NONE',\n",
       "               '3600_Block_of_TARAVAL_ST')): 1,\n",
       "             (('4/20/13', '23:07'),\n",
       "              ('VANDALISM',\n",
       "               'MALICIOUS_MISCHIEF/BREAKING_WINDOWS',\n",
       "               'PARK',\n",
       "               'NONE',\n",
       "               'OAK_ST/CENTRAL_AV')): 1,\n",
       "             (('5/18/15', '6:30'),\n",
       "              ('SECONDARY_CODES',\n",
       "               'DOMESTIC_VIOLENCE',\n",
       "               'TARAVAL',\n",
       "               'NONE',\n",
       "               '100_Block_of_MONTICELLO_ST')): 1,\n",
       "             (('2/10/15', '23:11'),\n",
       "              ('NON-CRIMINAL',\n",
       "               'AIDED_CASE',\n",
       "               'SOUTHERN',\n",
       "               'NONE',\n",
       "               '0_Block_of_DORE_ST')): 1,\n",
       "             (('11/11/14', '0:29'),\n",
       "              ('ASSAULT',\n",
       "               'BATTERY_OF_A_POLICE_OFFICER',\n",
       "               'MISSION',\n",
       "               'ARREST/BOOKED',\n",
       "               '2900_Block_of_HARRISON_ST')): 1,\n",
       "             (('1/10/13', '13:40'),\n",
       "              ('LARCENY/THEFT',\n",
       "               'PETTY_THEFT_SHOPLIFTING',\n",
       "               'CENTRAL',\n",
       "               'ARREST/CITED',\n",
       "               '100_Block_of_JACKSON_ST')): 1,\n",
       "             (('2/13/15', '22:15'),\n",
       "              ('NON-CRIMINAL',\n",
       "               'AIDED_CASE',\n",
       "               'CENTRAL',\n",
       "               'UNFOUNDED',\n",
       "               '200_Block_of_JEFFERSON_ST')): 1,\n",
       "             (('6/14/15', '19:43'),\n",
       "              ('ROBBERY',\n",
       "               'ROBBERY/BODILY_FORCE',\n",
       "               'TARAVAL',\n",
       "               'NONE',\n",
       "               '2400_Block_of_26TH_AV')): 1,\n",
       "             (('10/26/14', '20:38'),\n",
       "              ('BURGLARY',\n",
       "               'BURGLARY/VEHICLE_(ARREST_MADE)',\n",
       "               'SOUTHERN',\n",
       "               'ARREST/BOOKED',\n",
       "               '7TH_ST/HOWARD_ST')): 1,\n",
       "             (('5/21/13', '8:15'),\n",
       "              ('LARCENY/THEFT',\n",
       "               'THEFT_OF_COMPUTERS_OR_CELL_PHONES',\n",
       "               'TARAVAL',\n",
       "               'NONE',\n",
       "               '2100_Block_of_24TH_AV')): 1,\n",
       "             (('4/20/14', '13:00'),\n",
       "              ('LARCENY/THEFT',\n",
       "               'PETTY_THEFT_OF_PROPERTY',\n",
       "               'PARK',\n",
       "               'NONE',\n",
       "               '1200_Block_of_PAGE_ST')): 1,\n",
       "             (('6/3/13', '2:31'),\n",
       "              ('ASSAULT',\n",
       "               'CHILD_ABUSE_(PHYSICAL)',\n",
       "               'TARAVAL',\n",
       "               'COMPLAINANT_REFUSES_TO_PROSECUTE',\n",
       "               '1900_Block_of_20TH_AV')): 1,\n",
       "             (('4/17/14', '20:45'),\n",
       "              ('LARCENY/THEFT',\n",
       "               'PETTY_THEFT_FROM_LOCKED_AUTO',\n",
       "               'SOUTHERN',\n",
       "               'NONE',\n",
       "               '800_Block_of_BRYANT_ST')): 1,\n",
       "             (('2/16/15', '2:00'),\n",
       "              ('ROBBERY',\n",
       "               'ROBBERY/ARMED_WITH_A_KNIFE',\n",
       "               'TENDERLOIN',\n",
       "               'NONE',\n",
       "               '0_Block_of_UNITEDNATIONS_PZ')): 1,\n",
       "             (('1/14/15', '22:00'),\n",
       "              ('ASSAULT',\n",
       "               'BATTERY',\n",
       "               'TENDERLOIN',\n",
       "               'ARREST/BOOKED',\n",
       "               '200_Block_of_GOLDEN_GATE_AV')): 1,\n",
       "             (('2/20/13', '23:00'),\n",
       "              ('VEHICLE_THEFT',\n",
       "               'STOLEN_AUTOMOBILE',\n",
       "               'BAYVIEW',\n",
       "               'NONE',\n",
       "               '300_Block_of_CAMBRIDGE_ST')): 1,\n",
       "             (('11/18/13', '21:18'),\n",
       "              ('STOLEN_PROPERTY',\n",
       "               'RECEIVING_STOLEN_PROPERTY',\n",
       "               'MISSION',\n",
       "               'ARREST/BOOKED',\n",
       "               '1000_Block_of_POTRERO_AV')): 1,\n",
       "             (('12/8/14', '14:15'),\n",
       "              ('LARCENY/THEFT',\n",
       "               'GRAND_THEFT_OF_PROPERTY',\n",
       "               'CENTRAL',\n",
       "               'NONE',\n",
       "               '400_Block_of_SUTTER_ST')): 1,\n",
       "             (('10/17/13', '8:20'),\n",
       "              ('ROBBERY',\n",
       "               'ROBBERY_OF_A_COMMERCIAL_ESTABLISHMENT_WITH_A_GUN',\n",
       "               'NORTHERN',\n",
       "               'NONE',\n",
       "               '1300_Block_of_FRANKLIN_ST')): 1,\n",
       "             (('8/1/14', '15:30'),\n",
       "              ('BURGLARY',\n",
       "               'BURGLARY/STORE_UNDER_CONSTRUCTION/UNLAWFUL_ENTRY',\n",
       "               'SOUTHERN',\n",
       "               'ARREST/BOOKED',\n",
       "               '100_Block_of_8TH_ST')): 1,\n",
       "             (('6/20/14', '9:00'),\n",
       "              ('ROBBERY',\n",
       "               'ROBBERY_ON_THE_STREET/STRONGARM',\n",
       "               'CENTRAL',\n",
       "               'NONE',\n",
       "               'SUTTER_ST/MONTGOMERY_ST')): 1,\n",
       "             (('8/1/14', '21:05'),\n",
       "              ('WARRANTS',\n",
       "               'WARRANT_ARREST',\n",
       "               'MISSION',\n",
       "               'ARREST/BOOKED',\n",
       "               '1100_Block_of_SOUTH_VAN_NESS_AV')): 1,\n",
       "             (('12/29/14', '8:40'),\n",
       "              ('KIDNAPPING',\n",
       "               'CHILD_STEALING',\n",
       "               'BAYVIEW',\n",
       "               'NONE',\n",
       "               '5400_Block_of_3RD_ST')): 1,\n",
       "             (('8/9/13', '6:48'),\n",
       "              ('BURGLARY',\n",
       "               'BURGLARY/STORE_UNDER_CONSTRUCTION/UNLAWFUL_ENTRY',\n",
       "               'SOUTHERN',\n",
       "               'NONE',\n",
       "               '800_Block_of_MARKET_ST')): 1,\n",
       "             (('8/11/14', '22:00'),\n",
       "              ('KIDNAPPING',\n",
       "               'FALSE_IMPRISONMENT',\n",
       "               'BAYVIEW',\n",
       "               'ARREST/BOOKED',\n",
       "               '800_Block_of_JAMESTOWN_AV')): 1,\n",
       "             (('2/24/14', '0:12'),\n",
       "              ('OTHER_OFFENSES',\n",
       "               'DRIVERS_LICENSE/SUSPENDED_OR_REVOKED',\n",
       "               'CENTRAL',\n",
       "               'ARREST/CITED',\n",
       "               'SANSOME_ST/BROADWAY_ST')): 1,\n",
       "             (('4/15/13', '22:01'),\n",
       "              ('OTHER_OFFENSES',\n",
       "               'DRIVERS_LICENSE/SUSPENDED_OR_REVOKED',\n",
       "               'BAYVIEW',\n",
       "               'ARREST/BOOKED',\n",
       "               'BACON_ST/BOWDOIN_ST')): 1,\n",
       "             (('11/22/13', '0:15'),\n",
       "              ('ASSAULT',\n",
       "               'AGGRAVATED_ASSAULT_WITH_A_DEADLY_WEAPON',\n",
       "               'SOUTHERN',\n",
       "               'NONE',\n",
       "               '0_Block_of_5TH_ST')): 1,\n",
       "             (('6/27/13', '7:10'),\n",
       "              ('NON-CRIMINAL',\n",
       "               'CIVIL_SIDEWALKS/CITATION',\n",
       "               'PARK',\n",
       "               'NONE',\n",
       "               'PAGE_ST/MASONIC_AV')): 2,\n",
       "             (('2/28/15', '22:40'),\n",
       "              ('ROBBERY',\n",
       "               'ROBBERY/ARMED_WITH_A_DANGEROUS_WEAPON',\n",
       "               'BAYVIEW',\n",
       "               'ARREST/BOOKED',\n",
       "               'KEITH_ST/ARMSTRONG_AV')): 1,\n",
       "             (('3/17/13', '13:53'),\n",
       "              ('DRUG/NARCOTIC',\n",
       "               'POSSESSION_OF_HALLUCINOGENIC',\n",
       "               'PARK',\n",
       "               'ARREST/BOOKED',\n",
       "               '1700_Block_of_HAIGHT_ST')): 1,\n",
       "             (('9/30/14', '10:50'),\n",
       "              ('MISSING_PERSON',\n",
       "               'MISSING_ADULT',\n",
       "               'NORTHERN',\n",
       "               'NONE',\n",
       "               '1500_Block_of_SUTTER_ST')): 1,\n",
       "             (('2/17/14', '13:30'),\n",
       "              ('LARCENY/THEFT',\n",
       "               'PETTY_THEFT_FROM_LOCKED_AUTO',\n",
       "               'SOUTHERN',\n",
       "               'NONE',\n",
       "               '100_Block_of_SOUTHPARK_AV')): 1,\n",
       "             (('1/4/15', '1:30'),\n",
       "              ('LARCENY/THEFT',\n",
       "               'GRAND_THEFT_FROM_PERSON',\n",
       "               'RICHMOND',\n",
       "               'NONE',\n",
       "               'GEARY_BL/MASONIC_AV')): 1,\n",
       "             (('1/21/15', '9:24'),\n",
       "              ('SECONDARY_CODES',\n",
       "               'GANG_ACTIVITY',\n",
       "               'INGLESIDE',\n",
       "               'ARREST/BOOKED',\n",
       "               '400_Block_of_FRANCE_AV')): 1,\n",
       "             (('2/14/14', '16:36'),\n",
       "              ('SUSPICIOUS_OCC',\n",
       "               'INVESTIGATIVE_DETENTION',\n",
       "               'TENDERLOIN',\n",
       "               'NONE',\n",
       "               '400_Block_of_TURK_ST')): 1,\n",
       "             (('1/8/13', '11:00'),\n",
       "              ('NON-CRIMINAL',\n",
       "               'LOST_PROPERTY',\n",
       "               'RICHMOND',\n",
       "               'NONE',\n",
       "               '3200_Block_of_CALIFORNIA_ST')): 1,\n",
       "             (('4/17/13', '9:25'),\n",
       "              ('LARCENY/THEFT',\n",
       "               'PETTY_THEFT_SHOPLIFTING',\n",
       "               'SOUTHERN',\n",
       "               'ARREST/BOOKED',\n",
       "               '0_Block_of_3RD_ST')): 1,\n",
       "             (('10/14/14', '6:00'),\n",
       "              ('OTHER_OFFENSES',\n",
       "               'LOST/STOLEN_LICENSE_PLATE',\n",
       "               'INGLESIDE',\n",
       "               'NONE',\n",
       "               '3RD_ST/BAY_SHORE_BL')): 1,\n",
       "             (('9/23/13', '20:26'),\n",
       "              ('WARRANTS',\n",
       "               'WARRANT_ARREST',\n",
       "               'SOUTHERN',\n",
       "               'ARREST/BOOKED',\n",
       "               'MARKET_ST/SPEAR_ST')): 1,\n",
       "             (('10/2/14', '10:30'),\n",
       "              ('MISSING_PERSON',\n",
       "               'MISSING_ADULT',\n",
       "               'SOUTHERN',\n",
       "               'NONE',\n",
       "               '0_Block_of_DORE_ST')): 1,\n",
       "             (('11/24/14', '15:00'),\n",
       "              ('OTHER_OFFENSES',\n",
       "               'VIOLATION_OF_RESTRAINING_ORDER',\n",
       "               'BAYVIEW',\n",
       "               'EXCEPTIONAL_CLEARANCE',\n",
       "               '1600_Block_of_OAKDALE_AV')): 1,\n",
       "             (('1/26/13', '0:01'),\n",
       "              ('LARCENY/THEFT',\n",
       "               'GRAND_THEFT_FROM_PERSON',\n",
       "               'CENTRAL',\n",
       "               'NONE',\n",
       "               '0_Block_of_POST_ST')): 1,\n",
       "             (('4/19/13', '11:00'),\n",
       "              ('FRAUD',\n",
       "               'CREDIT_CARD/THEFT_BY_USE_OF',\n",
       "               'INGLESIDE',\n",
       "               'NONE',\n",
       "               '100_Block_of_MORELAND_ST')): 1,\n",
       "             (('2/20/14', '13:56'),\n",
       "              ('NON-CRIMINAL',\n",
       "               'FOUND_PROPERTY',\n",
       "               'TENDERLOIN',\n",
       "               'NONE',\n",
       "               '0_Block_of_POWELL_ST')): 1,\n",
       "             (('6/22/13', '20:00'),\n",
       "              ('LARCENY/THEFT',\n",
       "               'GRAND_THEFT_OF_PROPERTY',\n",
       "               'CENTRAL',\n",
       "               'NONE',\n",
       "               'GEARY_ST/STOCKTON_ST')): 1,\n",
       "             (('12/1/13', '21:59'),\n",
       "              ('LARCENY/THEFT',\n",
       "               'GRAND_THEFT_FROM_A_BUILDING',\n",
       "               'CENTRAL',\n",
       "               'NONE',\n",
       "               '300_Block_of_POST_ST')): 1,\n",
       "             (('6/19/14', '15:00'),\n",
       "              ('FRAUD',\n",
       "               'CREDIT_CARD/THEFT_BY_USE_OF',\n",
       "               'TARAVAL',\n",
       "               'NONE',\n",
       "               '2600_Block_of_25TH_AV')): 1,\n",
       "             (('2/24/15', '14:50'),\n",
       "              ('LARCENY/THEFT',\n",
       "               'PETTY_THEFT_OF_PROPERTY',\n",
       "               'TARAVAL',\n",
       "               'NONE',\n",
       "               '1400_Block_of_19TH_AV')): 1,\n",
       "             (('9/29/14', '15:00'),\n",
       "              ('LARCENY/THEFT',\n",
       "               'PETTY_THEFT_FROM_LOCKED_AUTO',\n",
       "               'PARK',\n",
       "               'NONE',\n",
       "               'FULTON_ST/PIERCE_ST')): 1,\n",
       "             (('6/28/13', '13:50'),\n",
       "              ('OTHER_OFFENSES',\n",
       "               'PAROLE_VIOLATION',\n",
       "               'TENDERLOIN',\n",
       "               'ARREST/BOOKED',\n",
       "               '100_Block_of_EDDY_ST')): 1,\n",
       "             (('12/7/13', '13:00'),\n",
       "              ('VANDALISM',\n",
       "               'MALICIOUS_MISCHIEF/VANDALISM',\n",
       "               'INGLESIDE',\n",
       "               'NONE',\n",
       "               '400_Block_of_GENEVA_AV')): 1,\n",
       "             (('11/3/14', '11:49'),\n",
       "              ('WARRANTS',\n",
       "               'WARRANT_ARREST',\n",
       "               'SOUTHERN',\n",
       "               'ARREST/BOOKED',\n",
       "               '100_Block_of_6TH_ST')): 1,\n",
       "             (('7/8/15', '18:16'),\n",
       "              ('OTHER_OFFENSES',\n",
       "               'TRAFFIC_VIOLATION',\n",
       "               'RICHMOND',\n",
       "               'ARREST/BOOKED',\n",
       "               'CALIFORNIA_ST/SPRUCE_ST')): 1,\n",
       "             (('11/24/14', '21:00'),\n",
       "              ('LARCENY/THEFT',\n",
       "               'GRAND_THEFT_FROM_LOCKED_AUTO',\n",
       "               'INGLESIDE',\n",
       "               'NONE',\n",
       "               '600_Block_of_MORSE_ST')): 1,\n",
       "             (('4/19/15', '16:30'),\n",
       "              ('LARCENY/THEFT',\n",
       "               'PETTY_THEFT_OF_PROPERTY',\n",
       "               'SOUTHERN',\n",
       "               'NONE',\n",
       "               'MARKET_ST/SUTTER_ST')): 1,\n",
       "             (('1/30/14', '8:00'),\n",
       "              ('VEHICLE_THEFT',\n",
       "               'STOLEN_AUTOMOBILE',\n",
       "               'TARAVAL',\n",
       "               'NONE',\n",
       "               '3500_Block_of_VICENTE_ST')): 1,\n",
       "             (('7/27/14', '9:45'),\n",
       "              ('LARCENY/THEFT',\n",
       "               'PETTY_THEFT_OF_PROPERTY',\n",
       "               'CENTRAL',\n",
       "               'NONE',\n",
       "               '600_Block_of_COLUMBUS_AV')): 1,\n",
       "             (('4/7/15', '9:00'),\n",
       "              ('BURGLARY',\n",
       "               'BURGLARY_OF_HOTEL_ROOM/UNLAWFUL_ENTRY',\n",
       "               'NORTHERN',\n",
       "               'NONE',\n",
       "               '1400_Block_of_LOMBARD_ST')): 1,\n",
       "             (('8/27/13', '17:50'),\n",
       "              ('SEX_OFFENSES/FORCIBLE',\n",
       "               'ANNOY_OR_MOLEST_CHILDREN',\n",
       "               'MISSION',\n",
       "               'ARREST/BOOKED',\n",
       "               '24TH_ST/MISSION_ST')): 1,\n",
       "             (('10/26/14', '8:05'),\n",
       "              ('ASSAULT',\n",
       "               'BATTERY/FORMER_SPOUSE_OR_DATING_RELATIONSHIP',\n",
       "               'INGLESIDE',\n",
       "               'ARREST/BOOKED',\n",
       "               '1000_Block_of_VISITACION_AV')): 1,\n",
       "             (('6/5/13', '17:45'),\n",
       "              ('LARCENY/THEFT',\n",
       "               'GRAND_THEFT_FROM_LOCKED_AUTO',\n",
       "               'RICHMOND',\n",
       "               'NONE',\n",
       "               '500_Block_of_SPRUCE_ST')): 1,\n",
       "             (('12/28/14', '18:40'),\n",
       "              ('LARCENY/THEFT',\n",
       "               'PETTY_THEFT_OF_PROPERTY',\n",
       "               'TARAVAL',\n",
       "               'NONE',\n",
       "               '2300_Block_of_24TH_AV')): 1,\n",
       "             (('6/23/13', '14:30'),\n",
       "              ('LARCENY/THEFT',\n",
       "               'GRAND_THEFT_FROM_LOCKED_AUTO',\n",
       "               'SOUTHERN',\n",
       "               'NONE',\n",
       "               '800_Block_of_BRYANT_ST')): 1,\n",
       "             (('4/3/15', '23:25'),\n",
       "              ('OTHER_OFFENSES',\n",
       "               'TAMPERING_WITH_A_VEHICLE',\n",
       "               'SOUTHERN',\n",
       "               'ARREST/BOOKED',\n",
       "               '100_Block_of_CLARA_ST')): 1,\n",
       "             (('2/6/14', '11:30'),\n",
       "              ('MISSING_PERSON',\n",
       "               'FOUND_PERSON',\n",
       "               'INGLESIDE',\n",
       "               'LOCATED',\n",
       "               '100_Block_of_BLYTHDALE_AV')): 1,\n",
       "             (('6/11/13', '18:13'),\n",
       "              ('WARRANTS',\n",
       "               'WARRANT_ARREST',\n",
       "               'NORTHERN',\n",
       "               'ARREST/BOOKED',\n",
       "               'POLK_ST/CEDAR_ST')): 1,\n",
       "             (('1/1/13', '15:30'),\n",
       "              ('LARCENY/THEFT',\n",
       "               'GRAND_THEFT_FROM_PERSON',\n",
       "               'SOUTHERN',\n",
       "               'NONE',\n",
       "               'FOLSOM_ST/4TH_ST')): 1,\n",
       "             (('10/20/14', '12:05'),\n",
       "              ('ASSAULT',\n",
       "               'INFLICT_INJURY_ON_COHABITEE',\n",
       "               'TENDERLOIN',\n",
       "               'ARREST/BOOKED',\n",
       "               '400_Block_of_ELLIS_ST')): 1,\n",
       "             (('4/9/14', '19:00'),\n",
       "              ('LARCENY/THEFT',\n",
       "               'GRAND_THEFT_FROM_LOCKED_AUTO',\n",
       "               'SOUTHERN',\n",
       "               'NONE',\n",
       "               'BRYANT_ST/BEALE_ST')): 1,\n",
       "             (('11/3/13', '13:30'),\n",
       "              ('FRAUD',\n",
       "               'CREDIT_CARD/THEFT_BY_USE_OF',\n",
       "               'NORTHERN',\n",
       "               'NONE',\n",
       "               '500_Block_of_HAYES_ST')): 1,\n",
       "             (('10/17/14', '14:55'),\n",
       "              ('SECONDARY_CODES',\n",
       "               'JUVENILE_INVOLVED',\n",
       "               'TARAVAL',\n",
       "               'NONE',\n",
       "               '2100_Block_of_24TH_AV')): 1,\n",
       "             (('1/8/14', '20:57'),\n",
       "              ('WARRANTS',\n",
       "               'WARRANT_ARREST',\n",
       "               'MISSION',\n",
       "               'ARREST/BOOKED',\n",
       "               '24TH_ST/MISSION_ST')): 1,\n",
       "             (('6/14/14', '21:19'),\n",
       "              ('OTHER_OFFENSES',\n",
       "               'TRAFFIC_VIOLATION_ARREST',\n",
       "               'SOUTHERN',\n",
       "               'ARREST/CITED',\n",
       "               '4TH_ST/BERRY_ST')): 1,\n",
       "             (('12/29/14', '18:43'),\n",
       "              ('FRAUD',\n",
       "               'CREDIT_CARD/THEFT_BY_USE_OF',\n",
       "               'TENDERLOIN',\n",
       "               'NONE',\n",
       "               '0_Block_of_POWELL_ST')): 1,\n",
       "             (('4/25/15', '19:00'),\n",
       "              ('LARCENY/THEFT',\n",
       "               'GRAND_THEFT_FROM_LOCKED_AUTO',\n",
       "               'CENTRAL',\n",
       "               'NONE',\n",
       "               'MASON_ST/BAY_ST')): 1,\n",
       "             (('1/4/15', '14:10'),\n",
       "              ('LARCENY/THEFT',\n",
       "               'GRAND_THEFT_FROM_LOCKED_AUTO',\n",
       "               'BAYVIEW',\n",
       "               'NONE',\n",
       "               '200_Block_of_AUGUSTA_ST')): 1,\n",
       "             (('8/27/13', '12:43'),\n",
       "              ('STOLEN_PROPERTY',\n",
       "               'STOLEN_PROPERTY/POSSESSION_WITH_KNOWLEDGE/RECEIVING',\n",
       "               'MISSION',\n",
       "               'ARREST/BOOKED',\n",
       "               '4200_Block_of_21ST_ST')): 1,\n",
       "             (('1/22/15', '21:25'),\n",
       "              ('NON-CRIMINAL',\n",
       "               'LOST_PROPERTY',\n",
       "               'SOUTHERN',\n",
       "               'NONE',\n",
       "               '400_Block_of_1ST_ST')): 1,\n",
       "             (('10/19/14', '0:32'),\n",
       "              ('LARCENY/THEFT',\n",
       "               'GRAND_THEFT_FROM_LOCKED_AUTO',\n",
       "               'RICHMOND',\n",
       "               'NONE',\n",
       "               '500_Block_of_9TH_AV')): 1,\n",
       "             (('2/25/14', '20:06'),\n",
       "              ('WARRANTS',\n",
       "               'WARRANT_ARREST',\n",
       "               'PARK',\n",
       "               'ARREST/BOOKED',\n",
       "               '17TH_ST/MARKET_ST')): 1,\n",
       "             (('12/22/14', '6:40'),\n",
       "              ('VANDALISM',\n",
       "               'MALICIOUS_MISCHIEF/BREAKING_WINDOWS',\n",
       "               'SOUTHERN',\n",
       "               'NONE',\n",
       "               '1700_Block_of_MARKET_ST')): 1,\n",
       "             (('8/30/13', '0:01'),\n",
       "              ('LARCENY/THEFT',\n",
       "               'GRAND_THEFT_FROM_PERSON',\n",
       "               'TENDERLOIN',\n",
       "               'NONE',\n",
       "               '300_Block_of_ELLIS_ST')): 1,\n",
       "             (('11/1/13', '0:01'),\n",
       "              ('FORGERY/COUNTERFEITING',\n",
       "               'CHECKS/FORGERY_(FELONY)',\n",
       "               'BAYVIEW',\n",
       "               'NONE',\n",
       "               '100_Block_of_THORNTON_AV')): 1,\n",
       "             (('6/13/13', '8:05'),\n",
       "              ('ASSAULT',\n",
       "               'THREATS_AGAINST_LIFE',\n",
       "               'NORTHERN',\n",
       "               'ARREST/BOOKED',\n",
       "               'MARKET_ST/LARKIN_ST')): 1,\n",
       "             (('3/13/14', '7:35'),\n",
       "              ('DRUG/NARCOTIC',\n",
       "               'POSSESSION_OF_MARIJUANA_FOR_SALES',\n",
       "               'BAYVIEW',\n",
       "               'ARREST/BOOKED',\n",
       "               '1500_Block_of_UNDERWOOD_AV')): 1,\n",
       "             (('6/2/14', '11:00'),\n",
       "              ('NON-CRIMINAL',\n",
       "               'FOUND_PROPERTY',\n",
       "               'TARAVAL',\n",
       "               'NONE',\n",
       "               '48TH_AV/LINCOLN_WY')): 1,\n",
       "             (('9/13/14', '11:16'),\n",
       "              ('OTHER_OFFENSES',\n",
       "               'CONSPIRACY',\n",
       "               'SOUTHERN',\n",
       "               'ARREST/BOOKED',\n",
       "               '800_Block_of_BRYANT_ST')): 1,\n",
       "             (('10/19/13', '12:05'),\n",
       "              ('OTHER_OFFENSES',\n",
       "               'DRIVERS_LICENSE/SUSPENDED_OR_REVOKED',\n",
       "               'MISSION',\n",
       "               'ARREST/CITED',\n",
       "               '16TH_ST/MISSION_ST')): 1,\n",
       "             (('4/25/13', '6:00'),\n",
       "              ('LARCENY/THEFT',\n",
       "               'GRAND_THEFT_FROM_LOCKED_AUTO',\n",
       "               'SOUTHERN',\n",
       "               'NONE',\n",
       "               '7TH_ST/NATOMA_ST')): 1,\n",
       "             (('5/28/13', '12:06'),\n",
       "              ('ASSAULT',\n",
       "               'BATTERY',\n",
       "               'TARAVAL',\n",
       "               'NONE',\n",
       "               '24TH_AV/SANTIAGO_ST')): 1,\n",
       "             (('1/7/15', '21:30'),\n",
       "              ('ROBBERY',\n",
       "               'ROBBERY_ON_THE_STREET/STRONGARM',\n",
       "               'INGLESIDE',\n",
       "               'NONE',\n",
       "               'MISSION_ST/RICHLAND_AV')): 1,\n",
       "             (('10/22/14', '16:30'),\n",
       "              ('BURGLARY',\n",
       "               'BURGLARY/RESIDENCE_UNDER_CONSTRT/FORCIBLE_ENTRY',\n",
       "               'INGLESIDE',\n",
       "               'NONE',\n",
       "               '0_Block_of_28TH_ST')): 1,\n",
       "             (('4/14/15', '23:00'),\n",
       "              ('LARCENY/THEFT',\n",
       "               'GRAND_THEFT_FROM_LOCKED_AUTO',\n",
       "               'CENTRAL',\n",
       "               'NONE',\n",
       "               '300_Block_of_THE_EMBARCADERONORTH_ST')): 1,\n",
       "             (('1/9/15', '21:28'),\n",
       "              ('LARCENY/THEFT',\n",
       "               'PETTY_THEFT_SHOPLIFTING',\n",
       "               'TARAVAL',\n",
       "               'ARREST/BOOKED',\n",
       "               '1700_Block_of_NORIEGA_ST')): 1,\n",
       "             (('8/3/14', '14:30'),\n",
       "              ('LARCENY/THEFT',\n",
       "               'PETTY_THEFT_FROM_LOCKED_AUTO',\n",
       "               'CENTRAL',\n",
       "               'NONE',\n",
       "               'CHESTNUT_ST/LEAVENWORTH_ST')): 1,\n",
       "             (('2/27/15', '13:00'),\n",
       "              ('WEAPON_LAWS',\n",
       "               'POSS_OF_FIREARM_BY_CONVICTED_FELON/ADDICT/ALIEN',\n",
       "               'INGLESIDE',\n",
       "               'ARREST/BOOKED',\n",
       "               '0_Block_of_BROOKDALE_AV')): 1,\n",
       "             (('1/21/14', '12:00'),\n",
       "              ('NON-CRIMINAL',\n",
       "               'LOST_PROPERTY',\n",
       "               'MISSION',\n",
       "               'NONE',\n",
       "               '600_Block_of_VALENCIA_ST')): 1,\n",
       "             (('2/12/14', '15:10'),\n",
       "              ('WARRANTS',\n",
       "               'ENROUTE_TO_OUTSIDE_JURISDICTION',\n",
       "               'NORTHERN',\n",
       "               'ARREST/BOOKED',\n",
       "               '1900_Block_of_UNION_ST')): 1,\n",
       "             (('7/20/13', '21:00'),\n",
       "              ('VANDALISM',\n",
       "               'MALICIOUS_MISCHIEF/VANDALISM',\n",
       "               'CENTRAL',\n",
       "               'NONE',\n",
       "               'POLK_ST/BEACH_ST')): 1,\n",
       "             (('10/28/14', '14:02'),\n",
       "              ('SUSPICIOUS_OCC',\n",
       "               'SUSPICIOUS_OCCURRENCE',\n",
       "               'RICHMOND',\n",
       "               'NONE',\n",
       "               '500_Block_of_2ND_AV')): 1,\n",
       "             (('8/18/13', '19:10'),\n",
       "              ('STOLEN_PROPERTY',\n",
       "               'STOLEN_PROPERTY/POSSESSION_WITH_KNOWLEDGE/RECEIVING',\n",
       "               'TENDERLOIN',\n",
       "               'ARREST/BOOKED',\n",
       "               '100_Block_of_MASON_ST')): 1,\n",
       "             (('1/30/15', '15:17'),\n",
       "              ('WARRANTS',\n",
       "               'WARRANT_ARREST',\n",
       "               'NORTHERN',\n",
       "               'ARREST/BOOKED',\n",
       "               'EDDY_ST/BUCHANAN_ST')): 1,\n",
       "             (('3/15/13', '19:00'),\n",
       "              ('OTHER_OFFENSES',\n",
       "               'LOST/STOLEN_LICENSE_PLATE',\n",
       "               'NORTHERN',\n",
       "               'NONE',\n",
       "               '1800_Block_of_GREENWICH_ST')): 1,\n",
       "             (('6/2/15', '22:15'),\n",
       "              ('BURGLARY',\n",
       "               'BURGLARY_OF_RESIDENCE/UNLAWFUL_ENTRY',\n",
       "               'TARAVAL',\n",
       "               'NONE',\n",
       "               '100_Block_of_LEE_AV')): 1,\n",
       "             (('8/8/14', '18:30'),\n",
       "              ('VEHICLE_THEFT',\n",
       "               'STOLEN_AUTOMOBILE',\n",
       "               'BAYVIEW',\n",
       "               'NONE',\n",
       "               'LANE_ST/THOMAS_AV')): 1,\n",
       "             (('2/16/15', '12:21'),\n",
       "              ('LARCENY/THEFT',\n",
       "               'GRAND_THEFT_FROM_LOCKED_AUTO',\n",
       "               'CENTRAL',\n",
       "               'NONE',\n",
       "               'WASHINGTON_ST/TAYLOR_ST')): 1,\n",
       "             (('10/9/14', '1:20'),\n",
       "              ('ASSAULT',\n",
       "               'BATTERY/FORMER_SPOUSE_OR_DATING_RELATIONSHIP',\n",
       "               'SOUTHERN',\n",
       "               'NONE',\n",
       "               '500_Block_of_MINNA_ST')): 1,\n",
       "             (('6/12/13', '22:00'),\n",
       "              ('NON-CRIMINAL',\n",
       "               'AIDED_CASE',\n",
       "               'TARAVAL',\n",
       "               'NONE',\n",
       "               '100_Block_of_MAJESTIC_AV')): 1,\n",
       "             (('1/25/15', '11:00'),\n",
       "              ('LARCENY/THEFT',\n",
       "               'PETTY_THEFT_BICYCLE',\n",
       "               'CENTRAL',\n",
       "               'NONE',\n",
       "               '0_Block_of_JEFFERSON_ST')): 1,\n",
       "             (('6/16/14', '8:10'),\n",
       "              ('LARCENY/THEFT',\n",
       "               'GRAND_THEFT_FROM_UNLOCKED_AUTO',\n",
       "               'CENTRAL',\n",
       "               'NONE',\n",
       "               '0_Block_of_FRANCISCO_ST')): 1,\n",
       "             (('6/25/13', '22:40'),\n",
       "              ('OTHER_OFFENSES',\n",
       "               'DRIVERS_LICENSE/SUSPENDED_OR_REVOKED',\n",
       "               'BAYVIEW',\n",
       "               'ARREST/CITED',\n",
       "               '3RD_ST/LECONTE_AV')): 1,\n",
       "             (('4/14/13', '20:00'),\n",
       "              ('SUSPICIOUS_OCC',\n",
       "               'SUSPICIOUS_OCCURRENCE',\n",
       "               'SOUTHERN',\n",
       "               'NONE',\n",
       "               '800_Block_of_BRYANT_ST')): 1,\n",
       "             (('6/30/13', '22:55'),\n",
       "              ('ASSAULT',\n",
       "               'BATTERY_WITH_SERIOUS_INJURIES',\n",
       "               'SOUTHERN',\n",
       "               'NONE',\n",
       "               '5TH_ST/MARKET_ST')): 1,\n",
       "             (('10/29/14', '2:08'),\n",
       "              ('ASSAULT',\n",
       "               'BATTERY',\n",
       "               'MISSION',\n",
       "               'ARREST/BOOKED',\n",
       "               'MISSION_ST/16TH_ST')): 1,\n",
       "             (('7/25/13', '15:00'),\n",
       "              ('BURGLARY',\n",
       "               'BURGLARY/APT_UNDER_CONSTRUCTION/UNLAWFUL_ENTRY',\n",
       "               'BAYVIEW',\n",
       "               'NONE',\n",
       "               '1100_Block_of_FAIRFAX_AV')): 1,\n",
       "             (('4/7/13', '13:00'),\n",
       "              ('NON-CRIMINAL',\n",
       "               'FOUND_PROPERTY',\n",
       "               'TENDERLOIN',\n",
       "               'NONE',\n",
       "               '100_Block_of_OFARRELL_ST')): 1,\n",
       "             (('8/29/14', '13:00'),\n",
       "              ('OTHER_OFFENSES',\n",
       "               'FRAUDULENT_GAME_OR_TRICK/OBTAINING_MONEY_OR_PROPERTY',\n",
       "               'RICHMOND',\n",
       "               'NONE',\n",
       "               '500_Block_of_47TH_AV')): 1,\n",
       "             (('1/26/13', '16:00'),\n",
       "              ('LARCENY/THEFT',\n",
       "               'GRAND_THEFT_FROM_LOCKED_AUTO',\n",
       "               'NORTHERN',\n",
       "               'NONE',\n",
       "               '1500_Block_of_LOMBARD_ST')): 1,\n",
       "             (('4/8/15', '20:40'),\n",
       "              ('LARCENY/THEFT',\n",
       "               'GRAND_THEFT_FROM_UNLOCKED_AUTO',\n",
       "               'MISSION',\n",
       "               'NONE',\n",
       "               '1800_Block_of_FOLSOM_ST')): 1,\n",
       "             (('2/23/14', '18:16'),\n",
       "              ('OTHER_OFFENSES',\n",
       "               'FALSE_PERSONATION',\n",
       "               'BAYVIEW',\n",
       "               'ARREST/BOOKED',\n",
       "               'INDIANA_ST/25TH_ST')): 1,\n",
       "             (('4/14/15', '16:13'),\n",
       "              ('SUSPICIOUS_OCC',\n",
       "               'SUSPICIOUS_OCCURRENCE',\n",
       "               'INGLESIDE',\n",
       "               'NONE',\n",
       "               '900_Block_of_ROCKDALE_DR')): 1,\n",
       "             (('11/11/13', '21:25'),\n",
       "              ('NON-CRIMINAL',\n",
       "               'AIDED_CASE/MENTAL_DISTURBED',\n",
       "               'CENTRAL',\n",
       "               'PSYCHOPATHIC_CASE',\n",
       "               'POST_ST/STOCKTON_ST')): 1,\n",
       "             (('2/14/14', '17:00'),\n",
       "              ('NON-CRIMINAL',\n",
       "               'CIVIL_SIDEWALKS/CITATION',\n",
       "               'PARK',\n",
       "               'ARREST/CITED',\n",
       "               '1100_Block_of_MASONIC_AV')): 1,\n",
       "             (('5/27/14', '16:28'),\n",
       "              ('DRUG/NARCOTIC',\n",
       "               'POSSESSION_OF_BASE/ROCK_COCAINE',\n",
       "               'MISSION',\n",
       "               'ARREST/BOOKED',\n",
       "               'MISSION_ST/17TH_ST')): 1,\n",
       "             (('6/6/13', '15:40'),\n",
       "              ('SUSPICIOUS_OCC',\n",
       "               'INVESTIGATIVE_DETENTION',\n",
       "               'SOUTHERN',\n",
       "               'NONE',\n",
       "               '1100_Block_of_MARKET_ST')): 1,\n",
       "             (('2/4/15', '3:52'),\n",
       "              ('OTHER_OFFENSES',\n",
       "               'DRIVERS_LICENSE/SUSPENDED_OR_REVOKED',\n",
       "               'INGLESIDE',\n",
       "               'ARREST/CITED',\n",
       "               'SAN_JOSE_AV/MIGUEL_ST')): 1,\n",
       "             (('3/28/15', '13:20'),\n",
       "              ('SUSPICIOUS_OCC',\n",
       "               'INVESTIGATIVE_DETENTION',\n",
       "               'SOUTHERN',\n",
       "               'NONE',\n",
       "               '0_Block_of_4TH_ST')): 1,\n",
       "             (('6/10/15', '18:03'),\n",
       "              ('LARCENY/THEFT',\n",
       "               'PETTY_THEFT_FROM_LOCKED_AUTO',\n",
       "               'NORTHERN',\n",
       "               'NONE',\n",
       "               'CALIFORNIA_ST/STEINER_ST')): 1,\n",
       "             (('6/17/14', '15:50'),\n",
       "              ('DRUG/NARCOTIC',\n",
       "               'POSSESSION_OF_METH-AMPHETAMINE',\n",
       "               'TENDERLOIN',\n",
       "               'ARREST/BOOKED',\n",
       "               'HYDE_ST/TURK_ST')): 1,\n",
       "             (('5/30/15', '13:20'),\n",
       "              ('SUSPICIOUS_OCC',\n",
       "               'UNUSUAL_OCCURENCE',\n",
       "               'MISSION',\n",
       "               'NONE',\n",
       "               '1000_Block_of_POTRERO_AV')): 1,\n",
       "             (('4/24/13', '9:00'),\n",
       "              ('OTHER_OFFENSES',\n",
       "               'FALSE_PERSONATION_TO_RECEIVE_MONEY_OR_PROPERTY',\n",
       "               'TARAVAL',\n",
       "               'NONE',\n",
       "               '1400_Block_of_38TH_AV')): 1,\n",
       "             (('5/18/14', '16:00'),\n",
       "              ('NON-CRIMINAL',\n",
       "               'LOST_PROPERTY',\n",
       "               'SOUTHERN',\n",
       "               'NONE',\n",
       "               '700_Block_of_CLEMENTINA_ST')): 1,\n",
       "             (('2/4/14', '14:40'),\n",
       "              ('BURGLARY',\n",
       "               'BURGLARY_OF_STORE/UNLAWFUL_ENTRY',\n",
       "               'RICHMOND',\n",
       "               'NONE',\n",
       "               '3700_Block_of_CALIFORNIA_ST')): 1,\n",
       "             (('1/28/14', '19:45'),\n",
       "              ('ARSON',\n",
       "               'ARSON_OF_A_VEHICLE',\n",
       "               'BAYVIEW',\n",
       "               'UNFOUNDED',\n",
       "               '2600_Block_of_INGALLS_ST')): 1,\n",
       "             (('5/9/14', '19:00'),\n",
       "              ('SUICIDE',\n",
       "               'ATTEMPTED_SUICIDE_BY_INGESTION',\n",
       "               'MISSION',\n",
       "               'PSYCHOPATHIC_CASE',\n",
       "               '2300_Block_of_MISSION_ST')): 1,\n",
       "             (('5/18/15', '3:08'),\n",
       "              ('OTHER_OFFENSES',\n",
       "               'TRAFFIC_VIOLATION',\n",
       "               'NORTHERN',\n",
       "               'ARREST/BOOKED',\n",
       "               'FRANKLIN_ST/FELL_ST')): 1,\n",
       "             (('2/22/15', '21:30'),\n",
       "              ('LARCENY/THEFT',\n",
       "               'GRAND_THEFT_FROM_LOCKED_AUTO',\n",
       "               'NORTHERN',\n",
       "               'NONE',\n",
       "               'MARKET_ST/LARKIN_ST')): 1,\n",
       "             (('2/9/15', '22:00'),\n",
       "              ('VEHICLE_THEFT',\n",
       "               'STOLEN_AUTOMOBILE',\n",
       "               'BAYVIEW',\n",
       "               'NONE',\n",
       "               'DWIGHT_ST/HAMILTON_ST')): 1,\n",
       "             (('2/27/14', '6:50'),\n",
       "              ('NON-CRIMINAL',\n",
       "               'TARASOFF_REPORT',\n",
       "               'MISSION',\n",
       "               'NONE',\n",
       "               '900_Block_of_POTRERO_AV')): 1,\n",
       "             (('12/8/13', '22:59'),\n",
       "              ('ASSAULT',\n",
       "               'BATTERY',\n",
       "               'MISSION',\n",
       "               'ARREST/BOOKED',\n",
       "               '2300_Block_of_MARKET_ST')): 1,\n",
       "             (('6/20/15', '21:40'),\n",
       "              ('LARCENY/THEFT',\n",
       "               'GRAND_THEFT_FROM_LOCKED_AUTO',\n",
       "               'SOUTHERN',\n",
       "               'NONE',\n",
       "               'HARRISON_ST/5TH_ST')): 1,\n",
       "             (('6/20/14', '0:30'),\n",
       "              ('SUSPICIOUS_OCC',\n",
       "               'SUSPICIOUS_ACT_TOWARDS_FEMALE',\n",
       "               'NORTHERN',\n",
       "               'NONE',\n",
       "               'LOMBARD_ST/WEBSTER_ST')): 1,\n",
       "             (('3/14/15', '18:05'),\n",
       "              ('LARCENY/THEFT',\n",
       "               'GRAND_THEFT_FROM_LOCKED_AUTO',\n",
       "               'TENDERLOIN',\n",
       "               'NONE',\n",
       "               '600_Block_of_OFARRELL_ST')): 1,\n",
       "             (('9/3/13', '23:29'),\n",
       "              ('SUSPICIOUS_OCC',\n",
       "               'INVESTIGATIVE_DETENTION',\n",
       "               'SOUTHERN',\n",
       "               'NONE',\n",
       "               '100_Block_of_LANGTON_ST')): 1,\n",
       "             (('8/15/13', '14:00'),\n",
       "              ('LARCENY/THEFT',\n",
       "               'PETTY_THEFT_SHOPLIFTING',\n",
       "               'SOUTHERN',\n",
       "               'ARREST/CITED',\n",
       "               '700_Block_of_MISSION_ST')): 1,\n",
       "             (('4/12/14', '18:00'),\n",
       "              ('NON-CRIMINAL',\n",
       "               'LOST_PROPERTY',\n",
       "               'CENTRAL',\n",
       "               'NONE',\n",
       "               'JACKSON_ST/POWELL_ST')): 1,\n",
       "             (('4/22/13', '17:30'),\n",
       "              ('LARCENY/THEFT',\n",
       "               'GRAND_THEFT_FROM_LOCKED_AUTO',\n",
       "               'TARAVAL',\n",
       "               'NONE',\n",
       "               '3200_Block_of_20TH_AV')): 1,\n",
       "             (('5/25/13', '23:58'),\n",
       "              ('ASSAULT',\n",
       "               'AGGRAVATED_ASSAULT_WITH_BODILY_FORCE',\n",
       "               'MISSION',\n",
       "               'NONE',\n",
       "               '3000_Block_of_16TH_ST')): 1,\n",
       "             (('5/17/13', '13:40'),\n",
       "              ('WARRANTS',\n",
       "               'ENROUTE_TO_ADULT_AUTHORITY',\n",
       "               'INGLESIDE',\n",
       "               'ARREST/BOOKED',\n",
       "               '4900_Block_of_MISSION_ST')): 1,\n",
       "             (('3/9/15', '13:16'),\n",
       "              ('BURGLARY',\n",
       "               'BURGLARY/UNLAWFUL_ENTRY',\n",
       "               'NORTHERN',\n",
       "               'ARREST/BOOKED',\n",
       "               '1500_Block_of_VANNESS_AV')): 1,\n",
       "             (('2/13/15', '0:01'),\n",
       "              ('LARCENY/THEFT',\n",
       "               'PETTY_THEFT_OF_PROPERTY',\n",
       "               'CENTRAL',\n",
       "               'NONE',\n",
       "               '2800_Block_of_LEAVENWORTH_ST')): 1,\n",
       "             (('11/16/14', '20:33'),\n",
       "              ('WARRANTS',\n",
       "               'WARRANT_ARREST',\n",
       "               'RICHMOND',\n",
       "               'ARREST/BOOKED',\n",
       "               '7TH_AV/CABRILLO_ST')): 1,\n",
       "             (('3/8/13', '19:29'),\n",
       "              ('DRUG/NARCOTIC',\n",
       "               'POSSESSION_OF_CONTROLLED_SUBSTANCE',\n",
       "               'TENDERLOIN',\n",
       "               'ARREST/BOOKED',\n",
       "               '100_Block_of_GOLDEN_GATE_AV')): 1,\n",
       "             (('3/20/15', '14:30'),\n",
       "              ('BURGLARY',\n",
       "               'BURGLARY_OF_HOTEL_ROOM/UNLAWFUL_ENTRY',\n",
       "               'MISSION',\n",
       "               'NONE',\n",
       "               '400_Block_of_VALENCIA_ST')): 1,\n",
       "             (('8/4/14', '18:05'),\n",
       "              ('ROBBERY',\n",
       "               'ATTEMPTED_ROBBERY_ON_THE_STREET_WITH_BODILY_FORCE',\n",
       "               'INGLESIDE',\n",
       "               'NONE',\n",
       "               'PRECITA_AV/ALABAMA_ST')): 1,\n",
       "             (('9/7/14', '16:30'),\n",
       "              ('LARCENY/THEFT',\n",
       "               'GRAND_THEFT_FROM_LOCKED_AUTO',\n",
       "               'NORTHERN',\n",
       "               'NONE',\n",
       "               'GOUGH_ST/HICKORY_ST')): 1,\n",
       "             (('6/2/15', '12:40'),\n",
       "              ('WARRANTS',\n",
       "               'WARRANT_ARREST',\n",
       "               'CENTRAL',\n",
       "               'ARREST/BOOKED',\n",
       "               '2700_Block_of_HYDE_ST')): 1,\n",
       "             (('3/6/15', '0:19'),\n",
       "              ('WARRANTS',\n",
       "               'WARRANT_ARREST',\n",
       "               'MISSION',\n",
       "               'ARREST/BOOKED',\n",
       "               '1200_Block_of_HAMPSHIRE_ST')): 1,\n",
       "             (('8/12/14', '22:53'),\n",
       "              ('OTHER_OFFENSES',\n",
       "               'DRIVERS_LICENSE/SUSPENDED_OR_REVOKED',\n",
       "               'NORTHERN',\n",
       "               'ARREST/CITED',\n",
       "               'BROADWAY_ST/LARKIN_ST')): 1,\n",
       "             (('5/3/13', '11:33'),\n",
       "              ('NON-CRIMINAL',\n",
       "               'LOST_PROPERTY',\n",
       "               'BAYVIEW',\n",
       "               'NONE',\n",
       "               '2100_Block_of_CARROLL_AV')): 1,\n",
       "             (('4/5/14', '18:07'),\n",
       "              ('OTHER_OFFENSES',\n",
       "               'PAROLE_VIOLATION',\n",
       "               'SOUTHERN',\n",
       "               'ARREST/BOOKED',\n",
       "               'MARKET_ST/JONES_ST')): 1,\n",
       "             (('11/1/14', '1:05'),\n",
       "              ('SEX_OFFENSES/FORCIBLE',\n",
       "               'SEXUAL_BATTERY',\n",
       "               'CENTRAL',\n",
       "               'NONE',\n",
       "               '500_Block_of_JACKSON_ST')): 1,\n",
       "             (('8/13/13', '9:30'),\n",
       "              ('NON-CRIMINAL',\n",
       "               'LOST_PROPERTY',\n",
       "               'SOUTHERN',\n",
       "               'UNFOUNDED',\n",
       "               '800_Block_of_BRYANT_ST')): 1,\n",
       "             (('1/26/14', '16:46'),\n",
       "              ('WARRANTS',\n",
       "               'ENROUTE_TO_OUTSIDE_JURISDICTION',\n",
       "               'PARK',\n",
       "               'ARREST/BOOKED',\n",
       "               '100_Block_of_ALMA_ST')): 1,\n",
       "             (('8/13/13', '12:05'),\n",
       "              ('OTHER_OFFENSES',\n",
       "               'HARASSING_PHONE_CALLS',\n",
       "               'SOUTHERN',\n",
       "               'NONE',\n",
       "               '100_Block_of_HOWARD_ST')): 1,\n",
       "             (('5/23/15', '12:00'),\n",
       "              ('NON-CRIMINAL',\n",
       "               'FOUND_PROPERTY',\n",
       "               'SOUTHERN',\n",
       "               'NONE',\n",
       "               '7TH_ST/BRYANT_ST')): 1,\n",
       "             (('1/23/15', '11:15'),\n",
       "              ('MISSING_PERSON',\n",
       "               'MISSING_ADULT',\n",
       "               'RICHMOND',\n",
       "               'LOCATED',\n",
       "               '2200_Block_of_BAKER_ST')): 1,\n",
       "             (('2/21/15', '16:28'),\n",
       "              ('LARCENY/THEFT',\n",
       "               'PETTY_THEFT_SHOPLIFTING',\n",
       "               'SOUTHERN',\n",
       "               'NONE',\n",
       "               '700_Block_of_MARKET_ST')): 1,\n",
       "             (('6/3/14', '15:00'),\n",
       "              ('TRESPASS',\n",
       "               'TRESPASSING',\n",
       "               'MISSION',\n",
       "               'NONE',\n",
       "               '1000_Block_of_FLORIDA_ST')): 1,\n",
       "             (('6/12/15', '18:04'),\n",
       "              ('DRUG/NARCOTIC',\n",
       "               'POSSESSION_OF_BASE/ROCK_COCAINE_FOR_SALE',\n",
       "               'TENDERLOIN',\n",
       "               'ARREST/BOOKED',\n",
       "               'LEAVENWORTH_ST/GOLDEN_GATE_AV')): 1,\n",
       "             (('4/25/15', '7:46'),\n",
       "              ('LARCENY/THEFT',\n",
       "               'GRAND_THEFT_FROM_LOCKED_AUTO',\n",
       "               'NORTHERN',\n",
       "               'NONE',\n",
       "               'VANNESS_AV/FELL_ST')): 1,\n",
       "             (('3/1/15', '18:30'),\n",
       "              ('LARCENY/THEFT',\n",
       "               'PETTY_THEFT_SHOPLIFTING',\n",
       "               'TARAVAL',\n",
       "               'ARREST/BOOKED',\n",
       "               '1200_Block_of_IRVING_ST')): 1,\n",
       "             (('11/11/13', '12:39'),\n",
       "              ('KIDNAPPING',\n",
       "               'FALSE_IMPRISONMENT',\n",
       "               'INGLESIDE',\n",
       "               'ARREST/BOOKED',\n",
       "               '0_Block_of_ROTTECK_ST')): 1,\n",
       "             (('2/13/14', '1:00'),\n",
       "              ('LARCENY/THEFT',\n",
       "               'GRAND_THEFT_FROM_LOCKED_AUTO',\n",
       "               'SOUTHERN',\n",
       "               'NONE',\n",
       "               '0_Block_of_RAUSCH_ST')): 1,\n",
       "             (('9/29/14', '10:07'),\n",
       "              ('NON-CRIMINAL',\n",
       "               'CIVIL_SIDEWALKS/CITATION',\n",
       "               'PARK',\n",
       "               'NONE',\n",
       "               '1700_Block_of_HAIGHT_ST')): 1,\n",
       "             (('4/3/14', '7:00'),\n",
       "              ('LARCENY/THEFT',\n",
       "               'PETTY_THEFT_FROM_LOCKED_AUTO',\n",
       "               'TARAVAL',\n",
       "               'NONE',\n",
       "               '1400_Block_of_43RD_AV')): 1,\n",
       "             (('4/18/13', '20:30'),\n",
       "              ('BURGLARY',\n",
       "               'BURGLARY/FORCIBLE_ENTRY',\n",
       "               'BAYVIEW',\n",
       "               'NONE',\n",
       "               '2600_Block_of_SAN_BRUNO_AV')): 1,\n",
       "             (('12/5/13', '12:04'),\n",
       "              ('OTHER_OFFENSES',\n",
       "               'DRIVERS_LICENSE/SUSPENDED_OR_REVOKED',\n",
       "               'NORTHERN',\n",
       "               'ARREST/CITED',\n",
       "               '1500_Block_of_EDDY_ST')): 1,\n",
       "             (('6/13/15', '10:00'),\n",
       "              ('BURGLARY',\n",
       "               'BURGLARY_OF_RESIDENCE/UNLAWFUL_ENTRY',\n",
       "               'BAYVIEW',\n",
       "               'NONE',\n",
       "               '2100_Block_of_3RD_ST')): 1,\n",
       "             (('7/11/13', '19:20'),\n",
       "              ('ASSAULT',\n",
       "               'BATTERY/FORMER_SPOUSE_OR_DATING_RELATIONSHIP',\n",
       "               'INGLESIDE',\n",
       "               'ARREST/BOOKED',\n",
       "               '100_Block_of_BRITTON_ST')): 1,\n",
       "             (('6/3/15', '11:20'),\n",
       "              ('LARCENY/THEFT',\n",
       "               'GRAND_THEFT_FROM_LOCKED_AUTO',\n",
       "               'TARAVAL',\n",
       "               'NONE',\n",
       "               'SLOAT_BL/43RD_AV')): 1,\n",
       "             (('1/14/13', '16:30'),\n",
       "              ('LARCENY/THEFT',\n",
       "               'PETTY_THEFT_OF_PROPERTY',\n",
       "               'NORTHERN',\n",
       "               'NONE',\n",
       "               'CHESTNUT_ST/BUCHANAN_ST')): 1,\n",
       "             (('6/3/13', '21:39'),\n",
       "              ('SUSPICIOUS_OCC',\n",
       "               'INVESTIGATIVE_DETENTION',\n",
       "               'BAYVIEW',\n",
       "               'NONE',\n",
       "               '1300_Block_of_25TH_ST')): 1,\n",
       "             (('9/17/14', '15:50'),\n",
       "              ('NON-CRIMINAL',\n",
       "               'AIDED_CASE/MENTAL_DISTURBED',\n",
       "               'INGLESIDE',\n",
       "               'PSYCHOPATHIC_CASE',\n",
       "               'DELTA_ST/ARLETA_AV')): 1,\n",
       "             (('4/2/14', '9:48'),\n",
       "              ('NON-CRIMINAL',\n",
       "               'AIDED_CASE',\n",
       "               'TENDERLOIN',\n",
       "               'PSYCHOPATHIC_CASE',\n",
       "               '400_Block_of_TURK_ST')): 1,\n",
       "             (('12/26/13', '21:30'),\n",
       "              ('OTHER_OFFENSES',\n",
       "               'LOST/STOLEN_LICENSE_PLATE',\n",
       "               'BAYVIEW',\n",
       "               'NONE',\n",
       "               'GRIFFITH_ST/OAKDALE_AV')): 1,\n",
       "             (('10/5/14', '12:00'),\n",
       "              ('VEHICLE_THEFT',\n",
       "               'STOLEN_MOTORCYCLE',\n",
       "               'CENTRAL',\n",
       "               'NONE',\n",
       "               'TAYLOR_ST/BUSH_ST')): 1,\n",
       "             (('8/31/13', '15:20'),\n",
       "              ('WARRANTS',\n",
       "               'WARRANT_ARREST',\n",
       "               'CENTRAL',\n",
       "               'ARREST/BOOKED',\n",
       "               '300_Block_of_POWELL_ST')): 1,\n",
       "             (('10/22/14', '11:49'),\n",
       "              ('NON-CRIMINAL',\n",
       "               'AIDED_CASE',\n",
       "               'TENDERLOIN',\n",
       "               'NONE',\n",
       "               '300_Block_of_ELLIS_ST')): 1,\n",
       "             (('6/28/13', '21:30'),\n",
       "              ('NON-CRIMINAL',\n",
       "               'FOUND_PROPERTY',\n",
       "               'NORTHERN',\n",
       "               'NONE',\n",
       "               'ELLIS_ST/LARKIN_ST')): 1,\n",
       "             (('4/8/14', '18:53'),\n",
       "              ('WARRANTS',\n",
       "               'ENROUTE_TO_PAROLE_OFFICER',\n",
       "               'TENDERLOIN',\n",
       "               'ARREST/BOOKED',\n",
       "               '400_Block_of_JONES_ST')): 1,\n",
       "             (('1/3/14', '20:25'),\n",
       "              ('BURGLARY',\n",
       "               'BURGLARY_OF_APARTMENT_HOUSE/UNLAWFUL_ENTRY',\n",
       "               'SOUTHERN',\n",
       "               'ARREST/BOOKED',\n",
       "               '0_Block_of_DORE_ST')): 1,\n",
       "             (('6/3/14', '18:30'),\n",
       "              ('LARCENY/THEFT',\n",
       "               'PETTY_THEFT_FROM_LOCKED_AUTO',\n",
       "               'PARK',\n",
       "               'NONE',\n",
       "               '0_Block_of_BEIDEMAN_ST')): 1,\n",
       "             (('1/21/14', '12:00'),\n",
       "              ('NON-CRIMINAL',\n",
       "               'LOST_PROPERTY',\n",
       "               'RICHMOND',\n",
       "               'NONE',\n",
       "               '600_Block_of_32ND_AV')): 1,\n",
       "             (('1/31/15', '21:30'),\n",
       "              ('MISSING_PERSON',\n",
       "               'MISSING_JUVENILE',\n",
       "               'SOUTHERN',\n",
       "               'NONE',\n",
       "               '0_Block_of_MOSS_ST')): 1,\n",
       "             (('3/25/15', '20:15'),\n",
       "              ('VANDALISM',\n",
       "               'MALICIOUS_MISCHIEF/VANDALISM_OF_VEHICLES',\n",
       "               'MISSION',\n",
       "               'NONE',\n",
       "               'MARKET_ST/DUBOCE_AV')): 1,\n",
       "             (('2/15/13', '16:30'),\n",
       "              ('ASSAULT',\n",
       "               'BATTERY',\n",
       "               'BAYVIEW',\n",
       "               'NONE',\n",
       "               '300_Block_of_GIRARD_ST')): 1,\n",
       "             (('6/5/15', '9:00'),\n",
       "              ('MISSING_PERSON',\n",
       "               'MISSING_ADULT',\n",
       "               'MISSION',\n",
       "               'ARREST/BOOKED',\n",
       "               '1100_Block_of_VALENCIA_ST')): 1,\n",
       "             (('4/23/15', '22:45'),\n",
       "              ('OTHER_OFFENSES',\n",
       "               'MISCELLANEOUS_INVESTIGATION',\n",
       "               'INGLESIDE',\n",
       "               'NONE',\n",
       "               '0_Block_of_PATTON_ST')): 1,\n",
       "             (('3/27/15', '19:00'),\n",
       "              ('LARCENY/THEFT',\n",
       "               'GRAND_THEFT_FROM_UNLOCKED_AUTO',\n",
       "               'CENTRAL',\n",
       "               'NONE',\n",
       "               'GREEN_ST/THE_EMBARCADERONORTH_ST')): 1,\n",
       "             (('8/18/14', '9:00'),\n",
       "              ('OTHER_OFFENSES',\n",
       "               'THROWING_SUBSTANCE_AT_VEHICLE',\n",
       "               'INGLESIDE',\n",
       "               'NONE',\n",
       "               'PORTOLA_DR/TERESITA_BL')): 1,\n",
       "             (('4/10/14', '9:38'),\n",
       "              ('OTHER_OFFENSES',\n",
       "               'SCHOOL/PUBLIC/TRESPASS',\n",
       "               'PARK',\n",
       "               'ARREST/BOOKED',\n",
       "               '1400_Block_of_SCOTT_ST')): 1,\n",
       "             (('2/26/13', '19:30'),\n",
       "              ('VEHICLE_THEFT',\n",
       "               'STOLEN_TRUCK',\n",
       "               'INGLESIDE',\n",
       "               'NONE',\n",
       "               'JARBOE_AV/ELLSWORTH_ST')): 1,\n",
       "             (('6/2/14', '12:33'),\n",
       "              ('SECONDARY_CODES',\n",
       "               'JUVENILE_INVOLVED',\n",
       "               'RICHMOND',\n",
       "               'NONE',\n",
       "               '200_Block_of_26TH_AV')): 1,\n",
       "             (('2/20/15', '11:30'),\n",
       "              ('LARCENY/THEFT',\n",
       "               'PETTY_THEFT_FROM_LOCKED_AUTO',\n",
       "               'TARAVAL',\n",
       "               'NONE',\n",
       "               '1800_Block_of_OCEAN_AV')): 1,\n",
       "             (('7/10/14', '0:10'),\n",
       "              ('OTHER_OFFENSES',\n",
       "               'FRAUDULENT_GAME_OR_TRICK/OBTAINING_MONEY_OR_PROPERTY',\n",
       "               'PARK',\n",
       "               'NONE',\n",
       "               '2000_Block_of_GROVE_ST')): 1,\n",
       "             (('8/21/13', '23:13'),\n",
       "              ('OTHER_OFFENSES',\n",
       "               'VIOLATION_OF_MUNICIPAL_POLICE_CODE',\n",
       "               'TENDERLOIN',\n",
       "               'ARREST/BOOKED',\n",
       "               '200_Block_of_GOLDEN_GATE_AV')): 1,\n",
       "             (('10/3/14', '18:05'),\n",
       "              ('LARCENY/THEFT',\n",
       "               'PETTY_THEFT_OF_PROPERTY',\n",
       "               'RICHMOND',\n",
       "               'NONE',\n",
       "               '19TH_AV/LINCOLN_WY')): 1,\n",
       "             (('2/13/14', '7:18'),\n",
       "              ('NON-CRIMINAL',\n",
       "               'AIDED_CASE/MENTAL_DISTURBED',\n",
       "               'SOUTHERN',\n",
       "               'PSYCHOPATHIC_CASE',\n",
       "               '800_Block_of_BRYANT_ST')): 1,\n",
       "             (('2/23/15', '16:28'),\n",
       "              ('DRUG/NARCOTIC',\n",
       "               'POSSESSION_OF_BASE/ROCK_COCAINE',\n",
       "               'TENDERLOIN',\n",
       "               'ARREST/BOOKED',\n",
       "               'LARKIN_ST/FULTON_ST')): 1,\n",
       "             (('2/21/14', '17:20'),\n",
       "              ('ASSAULT',\n",
       "               'BATTERY',\n",
       "               'MISSION',\n",
       "               'ARREST/CITED',\n",
       "               '2700_Block_of_MISSION_ST')): 1,\n",
       "             (('11/15/13', '21:00'),\n",
       "              ('VEHICLE_THEFT',\n",
       "               'STOLEN_MOTORCYCLE',\n",
       "               'INGLESIDE',\n",
       "               'NONE',\n",
       "               '1300_Block_of_PLYMOUTH_AV')): 1,\n",
       "             (('2/9/13', '4:02'),\n",
       "              ('TRESPASS',\n",
       "               'TRESPASSING',\n",
       "               'RICHMOND',\n",
       "               'NONE',\n",
       "               '0_Block_of_COMMONWEALTH_AV')): 1,\n",
       "             (('6/3/13', '19:00'),\n",
       "              ('VEHICLE_THEFT',\n",
       "               'STOLEN_AUTOMOBILE',\n",
       "               'INGLESIDE',\n",
       "               'NONE',\n",
       "               '0_Block_of_RICHLAND_AV')): 1,\n",
       "             (('5/5/15', '22:00'),\n",
       "              ('NON-CRIMINAL',\n",
       "               'LOST_PROPERTY',\n",
       "               'SOUTHERN',\n",
       "               'NONE',\n",
       "               '600_Block_of_HOWARD_ST')): 1,\n",
       "             (('5/9/13', '10:50'),\n",
       "              ('OTHER_OFFENSES',\n",
       "               'PROBATION_VIOLATION',\n",
       "               'BAYVIEW',\n",
       "               'COMPLAINANT_REFUSES_TO_PROSECUTE',\n",
       "               '3900_Block_of_3RD_ST')): 1,\n",
       "             (('12/20/14', '2:03'),\n",
       "              ('ROBBERY',\n",
       "               'ROBBERY_ON_THE_STREET/STRONGARM',\n",
       "               'CENTRAL',\n",
       "               'NONE',\n",
       "               'STOCKTON_ST/CAMPTON_PL')): 1,\n",
       "             (('2/17/13', '18:00'),\n",
       "              ('OTHER_OFFENSES',\n",
       "               'LOST/STOLEN_LICENSE_PLATE',\n",
       "               'MISSION',\n",
       "               'NONE',\n",
       "               '900_Block_of_GUERRERO_ST')): 1,\n",
       "             (('5/17/15', '21:36'),\n",
       "              ('OTHER_OFFENSES',\n",
       "               'RESISTING_ARREST',\n",
       "               'TENDERLOIN',\n",
       "               'ARREST/BOOKED',\n",
       "               'ELLIS_ST/LARKIN_ST')): 1,\n",
       "             (('6/16/14', '0:29'),\n",
       "              ('OTHER_OFFENSES',\n",
       "               'TRAFFIC_VIOLATION_ARREST',\n",
       "               'BAYVIEW',\n",
       "               'ARREST/BOOKED',\n",
       "               'AUGUSTA_ST/CHARTEROAK_AV')): 1,\n",
       "             (('1/18/13', '9:30'),\n",
       "              ('VANDALISM',\n",
       "               'MALICIOUS_MISCHIEF/VANDALISM',\n",
       "               'BAYVIEW',\n",
       "               'NONE',\n",
       "               '18TH_ST/CAROLINA_ST')): 1,\n",
       "             (('8/30/13', '23:45'),\n",
       "              ('ROBBERY',\n",
       "               'ROBBERY_ON_THE_STREET/STRONGARM',\n",
       "               'CENTRAL',\n",
       "               'NONE',\n",
       "               '300_Block_of_GEARY_ST')): 1,\n",
       "             (('10/22/13', '12:55'),\n",
       "              ('LARCENY/THEFT',\n",
       "               'GRAND_THEFT_FROM_LOCKED_AUTO',\n",
       "               'SOUTHERN',\n",
       "               'NONE',\n",
       "               '800_Block_of_BRYANT_ST')): 1,\n",
       "             (('5/4/15', '19:10'),\n",
       "              ('LARCENY/THEFT',\n",
       "               'GRAND_THEFT_FROM_LOCKED_AUTO',\n",
       "               'INGLESIDE',\n",
       "               'NONE',\n",
       "               '900_Block_of_TERESITA_BL')): 1,\n",
       "             (('4/26/13', '2:00'),\n",
       "              ('ASSAULT',\n",
       "               'AGGRAVATED_ASSAULT_WITH_BODILY_FORCE',\n",
       "               'SOUTHERN',\n",
       "               'NONE',\n",
       "               '6TH_ST/HARRISON_ST')): 1,\n",
       "             (('9/29/14', '21:00'),\n",
       "              ('LARCENY/THEFT',\n",
       "               'GRAND_THEFT_BICYCLE',\n",
       "               'MISSION',\n",
       "               'NONE',\n",
       "               '3600_Block_of_22ND_ST')): 1,\n",
       "             (('10/26/13', '14:35'),\n",
       "              ('LARCENY/THEFT',\n",
       "               'GRAND_THEFT_OF_PROPERTY',\n",
       "               'RICHMOND',\n",
       "               'NONE',\n",
       "               '3RD_AV/CLEMENT_ST')): 1,\n",
       "             (('1/25/13', '23:45'),\n",
       "              ('BURGLARY',\n",
       "               'BURGLARY_OF_STORE/FORCIBLE_ENTRY',\n",
       "               'RICHMOND',\n",
       "               'NONE',\n",
       "               '6000_Block_of_CALIFORNIA_ST')): 1,\n",
       "             (('6/1/13', '8:00'),\n",
       "              ('NON-CRIMINAL',\n",
       "               'CASE_CLOSURE',\n",
       "               'MISSION',\n",
       "               'LOCATED',\n",
       "               'JERSEY_ST/CASTRO_ST')): 1,\n",
       "             (('12/22/14', '15:30'),\n",
       "              ('DRUG/NARCOTIC',\n",
       "               'POSSESSION_OF_CONTROLLED_SUBSTANCE',\n",
       "               'TENDERLOIN',\n",
       "               'ARREST/BOOKED',\n",
       "               '0_Block_of_GROVE_ST')): 1,\n",
       "             (('5/7/13', '13:25'),\n",
       "              ('NON-CRIMINAL',\n",
       "               'AIDED_CASE/DOG_BITE',\n",
       "               'CENTRAL',\n",
       "               'NONE',\n",
       "               'NORTHPOINT_ST/LARKIN_ST')): 1,\n",
       "             (('12/7/13', '12:10'),\n",
       "              ('NON-CRIMINAL',\n",
       "               'AIDED_CASE/MENTAL_DISTURBED',\n",
       "               'TENDERLOIN',\n",
       "               'PSYCHOPATHIC_CASE',\n",
       "               '0_Block_of_JONES_ST')): 1,\n",
       "             (('2/25/15', '6:51'),\n",
       "              ('DRUG/NARCOTIC',\n",
       "               'POSSESSION_OF_NARCOTICS_PARAPHERNALIA',\n",
       "               'NORTHERN',\n",
       "               'ARREST/BOOKED',\n",
       "               'VALLEJO_ST/FRANKLIN_ST')): 1,\n",
       "             (('12/16/14', '12:30'),\n",
       "              ('MISSING_PERSON',\n",
       "               'MISSING_ADULT',\n",
       "               'PARK',\n",
       "               'NONE',\n",
       "               '0_Block_of_SHRADER_ST')): 1,\n",
       "             (('9/3/14', '16:35'),\n",
       "              ('ASSAULT',\n",
       "               'BATTERY',\n",
       "               'SOUTHERN',\n",
       "               'NONE',\n",
       "               '3RD_ST/MARKET_ST')): 1,\n",
       "             (('12/27/13', '21:31'),\n",
       "              ('NON-CRIMINAL',\n",
       "               'CASE_CLOSURE',\n",
       "               'NORTHERN',\n",
       "               'PROSECUTED_BY_OUTSIDE_AGENCY',\n",
       "               '100_Block_of_CHURCH_ST')): 1,\n",
       "             (('4/7/13', '16:42'),\n",
       "              ('VANDALISM',\n",
       "               'MALICIOUS_MISCHIEF/VANDALISM',\n",
       "               'SOUTHERN',\n",
       "               'NONE',\n",
       "               '0_Block_of_FEDERAL_ST')): 1,\n",
       "             (('7/25/14', '3:15'),\n",
       "              ('ASSAULT',\n",
       "               'AGGRAVATED_ASSAULT_WITH_BODILY_FORCE',\n",
       "               'CENTRAL',\n",
       "               'NONE',\n",
       "               '500_Block_of_BROADWAY_ST')): 1,\n",
       "             (('2/16/13', '2:40'),\n",
       "              ('SUSPICIOUS_OCC',\n",
       "               'SUSPICIOUS_OCCURRENCE',\n",
       "               'INGLESIDE',\n",
       "               'NONE',\n",
       "               '3500_Block_of_SAN_BRUNO_AV')): 1,\n",
       "             (('2/5/13', '20:25'),\n",
       "              ('NON-CRIMINAL',\n",
       "               'AIDED_CASE/MENTAL_DISTURBED',\n",
       "               'PARK',\n",
       "               'PSYCHOPATHIC_CASE',\n",
       "               '0_Block_of_DEVONSHIRE_WY')): 1,\n",
       "             (('4/18/15', '7:00'),\n",
       "              ('SUSPICIOUS_OCC',\n",
       "               'SUSPICIOUS_OCCURRENCE',\n",
       "               'CENTRAL',\n",
       "               'NONE',\n",
       "               '900_Block_of_PACIFIC_AV')): 1,\n",
       "             (('10/6/14', '19:00'),\n",
       "              ('NON-CRIMINAL',\n",
       "               'CIVIL_SIDEWALKS/WARNING',\n",
       "               'MISSION',\n",
       "               'NONE',\n",
       "               '400_Block_of_CASTRO_ST')): 1,\n",
       "             (('7/8/13', '21:37'),\n",
       "              ('LARCENY/THEFT',\n",
       "               'GRAND_THEFT_FROM_A_BUILDING',\n",
       "               'CENTRAL',\n",
       "               'ARREST/BOOKED',\n",
       "               '700_Block_of_GEARY_ST')): 1,\n",
       "             (('4/20/15', '21:00'),\n",
       "              ('ASSAULT',\n",
       "               'AGGRAVATED_ASSAULT_WITH_A_DEADLY_WEAPON',\n",
       "               'MISSION',\n",
       "               'NONE',\n",
       "               '20TH_ST/CHURCH_ST')): 1,\n",
       "             (('5/30/13', '12:00'),\n",
       "              ('VEHICLE_THEFT',\n",
       "               'STOLEN_AND_RECOVERED_VEHICLE',\n",
       "               'INGLESIDE',\n",
       "               'NONE',\n",
       "               '100_Block_of_MADRID_ST')): 1,\n",
       "             (('9/4/13', '7:38'),\n",
       "              ('LIQUOR_LAWS',\n",
       "               'CONSUMING_ALCOHOL_IN_PUBLIC_VIEW',\n",
       "               'TENDERLOIN',\n",
       "               'NONE',\n",
       "               'ELLIS_ST/MASON_ST')): 1,\n",
       "             (('2/19/14', '16:13'),\n",
       "              ('BURGLARY',\n",
       "               'BURGLARY_OF_FLAT/UNLAWFUL_ENTRY',\n",
       "               'SOUTHERN',\n",
       "               'ARREST/BOOKED',\n",
       "               '7TH_ST/MARKET_ST')): 1,\n",
       "             (('2/16/15', '15:00'),\n",
       "              ('NON-CRIMINAL',\n",
       "               'CASE_CLOSURE',\n",
       "               'TARAVAL',\n",
       "               'NONE',\n",
       "               '2400_Block_of_GREAT_HY')): 1,\n",
       "             (('8/19/13', '12:46'),\n",
       "              ('OTHER_OFFENSES',\n",
       "               'VIOLATION_OF_RESTRAINING_ORDER',\n",
       "               'CENTRAL',\n",
       "               'NONE',\n",
       "               '400_Block_of_SUTTER_ST')): 1,\n",
       "             (('6/22/14', '18:30'),\n",
       "              ('LARCENY/THEFT',\n",
       "               'GRAND_THEFT_FROM_LOCKED_AUTO',\n",
       "               'CENTRAL',\n",
       "               'NONE',\n",
       "               '2300_Block_of_STOCKTON_ST')): 1,\n",
       "             (('2/7/14', '9:30'),\n",
       "              ('ASSAULT',\n",
       "               'AGGRAVATED_ASSAULT_WITH_A_KNIFE',\n",
       "               'INGLESIDE',\n",
       "               'NONE',\n",
       "               '0_Block_of_PATTON_ST')): 1,\n",
       "             (('4/8/14', '2:00'),\n",
       "              ('NON-CRIMINAL',\n",
       "               'AIDED_CASE',\n",
       "               'MISSION',\n",
       "               'NONE',\n",
       "               '800_Block_of_VALENCIA_ST')): 1,\n",
       "             (('5/17/13', '15:40'),\n",
       "              ('LARCENY/THEFT',\n",
       "               'GRAND_THEFT_FROM_LOCKED_AUTO',\n",
       "               'SOUTHERN',\n",
       "               'NONE',\n",
       "               '9TH_ST/BRANNAN_ST')): 1,\n",
       "             (('7/8/13', '19:30'),\n",
       "              ('BURGLARY',\n",
       "               'BURGLARY_OF_RESIDENCE/FORCIBLE_ENTRY',\n",
       "               'CENTRAL',\n",
       "               'NONE',\n",
       "               '1100_Block_of_FILBERT_ST')): 1,\n",
       "             (('5/14/14', '9:14'),\n",
       "              ('LARCENY/THEFT',\n",
       "               'PETTY_THEFT_OF_PROPERTY',\n",
       "               'PARK',\n",
       "               'NONE',\n",
       "               '2300_Block_of_GEARY_BL')): 1,\n",
       "             (('2/3/13', '14:41'),\n",
       "              ('MISSING_PERSON',\n",
       "               'FOUND_PERSON',\n",
       "               'TARAVAL',\n",
       "               'LOCATED',\n",
       "               '1800_Block_of_VICENTE_ST')): 1,\n",
       "             (('2/3/13', '11:00'),\n",
       "              ('LARCENY/THEFT',\n",
       "               'PETTY_THEFT_OF_PROPERTY',\n",
       "               'SOUTHERN',\n",
       "               'NONE',\n",
       "               '800_Block_of_MARKET_ST')): 1,\n",
       "             (('6/19/13', '17:00'),\n",
       "              ('DRUG/NARCOTIC',\n",
       "               'MAINTAINING_PREMISE_WHERE_NARCOTICS_ARE_SOLD/USED',\n",
       "               'SOUTHERN',\n",
       "               'PROSECUTED_BY_OUTSIDE_AGENCY',\n",
       "               '800_Block_of_BRYANT_ST')): 1,\n",
       "             (('8/31/13', '15:45'),\n",
       "              ('LARCENY/THEFT',\n",
       "               'PETTY_THEFT_OF_PROPERTY',\n",
       "               'SOUTHERN',\n",
       "               'NONE',\n",
       "               '4TH_ST/MISSION_ST')): 1,\n",
       "             (('10/16/13', '13:53'),\n",
       "              ('ASSAULT',\n",
       "               'BATTERY',\n",
       "               'SOUTHERN',\n",
       "               'NONE',\n",
       "               'PLUM_ST/SOUTH_VAN_NESS_AV')): 1,\n",
       "             (('4/17/13', '14:50'),\n",
       "              ('LARCENY/THEFT',\n",
       "               'PETTY_THEFT_SHOPLIFTING',\n",
       "               'PARK',\n",
       "               'NONE',\n",
       "               '900_Block_of_COLE_ST')): 1,\n",
       "             (('4/23/13', '19:37'),\n",
       "              ('WARRANTS',\n",
       "               'ENROUTE_TO_OUTSIDE_JURISDICTION',\n",
       "               'INGLESIDE',\n",
       "               'ARREST/BOOKED',\n",
       "               'PERSIA_AV/LISBON_ST')): 1,\n",
       "             (('1/8/15', '20:27'),\n",
       "              ('OTHER_OFFENSES',\n",
       "               'RESTRAINING_ORDER_NOTIFICATION/SERVICE_OF_RESTRAINING_ORDER',\n",
       "               'INGLESIDE',\n",
       "               'NONE',\n",
       "               '0_Block_of_REGENT_ST')): 1,\n",
       "             (('5/27/15', '10:00'),\n",
       "              ('VANDALISM',\n",
       "               'MALICIOUS_MISCHIEF/VANDALISM',\n",
       "               'BAYVIEW',\n",
       "               'NONE',\n",
       "               '2400_Block_of_GRIFFITH_ST')): 1,\n",
       "             (('10/14/13', '19:00'),\n",
       "              ('VANDALISM',\n",
       "               'MALICIOUS_MISCHIEF/VANDALISM_OF_VEHICLES',\n",
       "               'NORTHERN',\n",
       "               'NONE',\n",
       "               'GROVE_ST/GOUGH_ST')): 1,\n",
       "             (('12/12/14', '14:00'),\n",
       "              ('BURGLARY',\n",
       "               'BURGLARY_OF_RESIDENCE/FORCIBLE_ENTRY',\n",
       "               'INGLESIDE',\n",
       "               'NONE',\n",
       "               '0_Block_of_OTTAWA_AV')): 1,\n",
       "             (('6/5/14', '1:20'),\n",
       "              ('BURGLARY',\n",
       "               'BURGLARY_OF_STORE/UNLAWFUL_ENTRY',\n",
       "               'CENTRAL',\n",
       "               'ARREST/BOOKED',\n",
       "               '400_Block_of_POWELL_ST')): 1,\n",
       "             (('9/26/14', '9:23'),\n",
       "              ('OTHER_OFFENSES',\n",
       "               'OPERATING_TAXI_WITHOUT_A_PERMIT',\n",
       "               'CENTRAL',\n",
       "               'ARREST/CITED',\n",
       "               'SUTTER_ST/STOCKTON_ST')): 1,\n",
       "             (('2/4/14', '10:02'),\n",
       "              ('OTHER_OFFENSES',\n",
       "               'DRIVERS_LICENSE/SUSPENDED_OR_REVOKED',\n",
       "               'SOUTHERN',\n",
       "               'ARREST/CITED',\n",
       "               'HARRISON_ST/3RD_ST')): 1,\n",
       "             (('6/15/14', '17:05'),\n",
       "              ('ASSAULT',\n",
       "               'BATTERY',\n",
       "               'INGLESIDE',\n",
       "               'ARREST/CITED',\n",
       "               'MOUNT_VERNON_AV/DELMONTE_ST')): 1,\n",
       "             (('5/29/14', '17:10'),\n",
       "              ('OTHER_OFFENSES',\n",
       "               'VIOLATION_OF_MUNICIPAL_CODE',\n",
       "               'PARK',\n",
       "               'ARREST/BOOKED',\n",
       "               'KEZAR_DR/JOHNFKENNEDY_DR')): 1,\n",
       "             (('5/28/13', '8:58'),\n",
       "              ('OTHER_OFFENSES',\n",
       "               'VIOLATION_OF_MUNICIPAL_CODE',\n",
       "               'SOUTHERN',\n",
       "               'ARREST/BOOKED',\n",
       "               'JESSIE_ST/6TH_ST')): 1,\n",
       "             (('10/9/14', '23:00'),\n",
       "              ('LARCENY/THEFT',\n",
       "               'GRAND_THEFT_OF_PROPERTY',\n",
       "               'SOUTHERN',\n",
       "               'NONE',\n",
       "               'FOLSOM_ST/6TH_ST')): 1,\n",
       "             (('2/3/14', '0:01'),\n",
       "              ('LARCENY/THEFT',\n",
       "               'THEFT_OF_CHECKS_OR_CREDIT_CARDS',\n",
       "               'TARAVAL',\n",
       "               'NONE',\n",
       "               '1800_Block_of_47TH_AV')): 1,\n",
       "             (('5/14/15', '12:19'),\n",
       "              ('LARCENY/THEFT',\n",
       "               'GRAND_THEFT_FROM_PERSON',\n",
       "               'BAYVIEW',\n",
       "               'NONE',\n",
       "               '800_Block_of_JAMESTOWN_AV')): 1,\n",
       "             (('8/23/14', '9:30'),\n",
       "              ('ASSAULT',\n",
       "               'INFLICT_INJURY_ON_COHABITEE',\n",
       "               'CENTRAL',\n",
       "               'COMPLAINANT_REFUSES_TO_PROSECUTE',\n",
       "               '500_Block_of_BROADWAY_ST')): 1,\n",
       "             (('5/31/15', '23:04'),\n",
       "              ('OTHER_OFFENSES',\n",
       "               'DRIVERS_LICENSE/SUSPENDED_OR_REVOKED',\n",
       "               'NORTHERN',\n",
       "               'ARREST/BOOKED',\n",
       "               'FRANKLIN_ST/GOLDEN_GATE_AV')): 1,\n",
       "             (('1/22/15', '15:59'),\n",
       "              ('NON-CRIMINAL',\n",
       "               'CIVIL_SIDEWALKS/WARNING',\n",
       "               'PARK',\n",
       "               'NONE',\n",
       "               'HAIGHT_ST/COLE_ST')): 1,\n",
       "             (('5/12/15', '19:00'),\n",
       "              ('VEHICLE_THEFT',\n",
       "               'STOLEN_AUTOMOBILE',\n",
       "               'MISSION',\n",
       "               'NONE',\n",
       "               '3100_Block_of_17TH_ST')): 1,\n",
       "             (('1/2/15', '21:15'),\n",
       "              ('BURGLARY',\n",
       "               'BURGLARY/STORE_UNDER_CONSTRUCTION/UNLAWFUL_ENTRY',\n",
       "               'CENTRAL',\n",
       "               'NONE',\n",
       "               '200_Block_of_BUSH_ST')): 1,\n",
       "             (('1/4/15', '2:30'),\n",
       "              ('NON-CRIMINAL',\n",
       "               'LOST_PROPERTY',\n",
       "               'CENTRAL',\n",
       "               'NONE',\n",
       "               'GREEN_ST/JASPER_PL')): 1,\n",
       "             (('4/6/15', '4:35'),\n",
       "              ('TRESPASS',\n",
       "               'TRESPASSING',\n",
       "               'INGLESIDE',\n",
       "               'NONE',\n",
       "               '0_Block_of_CHENERY_ST')): 1,\n",
       "             (('6/9/13', '16:20'),\n",
       "              ('NON-CRIMINAL',\n",
       "               'AIDED_CASE/INJURED_PERSON',\n",
       "               'TENDERLOIN',\n",
       "               'NONE',\n",
       "               'HYDE_ST/TURK_ST')): 1,\n",
       "             (('2/18/15', '14:46'),\n",
       "              ('OTHER_OFFENSES',\n",
       "               'PAROLE_VIOLATION',\n",
       "               'TENDERLOIN',\n",
       "               'ARREST/BOOKED',\n",
       "               'GOLDEN_GATE_AV/JONES_ST')): 1,\n",
       "             (('11/5/14', '10:02'),\n",
       "              ('TRESPASS',\n",
       "               'TRESPASSING',\n",
       "               'RICHMOND',\n",
       "               'NONE',\n",
       "               '500_Block_of_JOHNFKENNEDY_DR')): 1,\n",
       "             (('12/22/13', '12:00'),\n",
       "              ('LARCENY/THEFT',\n",
       "               'PETTY_THEFT_OF_PROPERTY',\n",
       "               'SOUTHERN',\n",
       "               'NONE',\n",
       "               '700_Block_of_HARRISON_ST')): 1,\n",
       "             (('7/3/13', '10:40'),\n",
       "              ('LARCENY/THEFT',\n",
       "               'PETTY_THEFT_FROM_LOCKED_AUTO',\n",
       "               'NORTHERN',\n",
       "               'NONE',\n",
       "               '900_Block_of_EDDY_ST')): 1,\n",
       "             (('8/15/14', '14:00'),\n",
       "              ('NON-CRIMINAL',\n",
       "               'FOUND_PROPERTY',\n",
       "               'SOUTHERN',\n",
       "               'NONE',\n",
       "               'SPEAR_ST/MARKET_ST')): 1,\n",
       "             (('1/28/14', '14:30'),\n",
       "              ('LARCENY/THEFT',\n",
       "               'PETTY_THEFT_OF_PROPERTY',\n",
       "               'PARK',\n",
       "               'NONE',\n",
       "               '1300_Block_of_WILLARD_ST')): 1,\n",
       "             (('9/25/13', '15:49'),\n",
       "              ('LARCENY/THEFT',\n",
       "               'GRAND_THEFT_OF_PROPERTY',\n",
       "               'NORTHERN',\n",
       "               'NONE',\n",
       "               '600_Block_of_EDDY_ST')): 1,\n",
       "             (('2/20/13', '8:45'),\n",
       "              ('NON-CRIMINAL',\n",
       "               'CIVIL_SIDEWALKS/CITATION',\n",
       "               'PARK',\n",
       "               'ARREST/CITED',\n",
       "               'MASONIC_AV/HAIGHT_ST')): 1,\n",
       "             (('1/29/15', '12:47'),\n",
       "              ('LARCENY/THEFT',\n",
       "               'PETTY_THEFT_SHOPLIFTING',\n",
       "               'SOUTHERN',\n",
       "               'ARREST/BOOKED',\n",
       "               '700_Block_of_MARKET_ST')): 1,\n",
       "             (('6/13/13', '21:45'),\n",
       "              ('SEX_OFFENSES/FORCIBLE',\n",
       "               'PENETRATION/FORCED/WITH_OBJECT',\n",
       "               'NORTHERN',\n",
       "               'NONE',\n",
       "               '1800_Block_of_POST_ST')): 1,\n",
       "             (('4/14/13', '7:23'),\n",
       "              ('RECOVERED_VEHICLE',\n",
       "               'RECOVERED_VEHICLE_-_STOLEN_OUTSIDE_SF',\n",
       "               'NORTHERN',\n",
       "               'NONE',\n",
       "               'LARKIN_ST/ELLIS_ST')): 1,\n",
       "             (('1/11/15', '3:00'),\n",
       "              ('OTHER_OFFENSES',\n",
       "               'LOST/STOLEN_LICENSE_PLATE',\n",
       "               'INGLESIDE',\n",
       "               'NONE',\n",
       "               '100_Block_of_FOOTE_AV')): 1,\n",
       "             (('9/26/13', '14:20'),\n",
       "              ('WARRANTS',\n",
       "               'WARRANT_ARREST',\n",
       "               'SOUTHERN',\n",
       "               'ARREST/BOOKED',\n",
       "               '9TH_ST/HOWARD_ST')): 1,\n",
       "             (('2/15/14', '20:00'),\n",
       "              ('LARCENY/THEFT',\n",
       "               'GRAND_THEFT_FROM_LOCKED_AUTO',\n",
       "               'TARAVAL',\n",
       "               'NONE',\n",
       "               '37TH_AV/SLOAT_BL')): 1,\n",
       "             (('4/30/14', '9:30'),\n",
       "              ('OTHER_OFFENSES',\n",
       "               'DRIVERS_LICENSE/SUSPENDED_OR_REVOKED',\n",
       "               'SOUTHERN',\n",
       "               'ARREST/CITED',\n",
       "               '9TH_ST/MINNA_ST')): 1,\n",
       "             (('7/13/14', '22:48'),\n",
       "              ('OTHER_OFFENSES',\n",
       "               'DRIVERS_LICENSE/SUSPENDED_OR_REVOKED',\n",
       "               'MISSION',\n",
       "               'ARREST/CITED',\n",
       "               'SOUTH_VAN_NESS_AV/23RD_ST')): 1,\n",
       "             (('4/23/15', '17:43'),\n",
       "              ('OTHER_OFFENSES',\n",
       "               'TRAFFIC_VIOLATION_ARREST',\n",
       "               'SOUTHERN',\n",
       "               'ARREST/BOOKED',\n",
       "               '7TH_ST/STEVENSON_ST')): 1,\n",
       "             (('2/1/14', '8:30'),\n",
       "              ('NON-CRIMINAL',\n",
       "               'AIDED_CASE/DOG_BITE',\n",
       "               'RICHMOND',\n",
       "               'NONE',\n",
       "               '1000_Block_of_GREAT_HY')): 1,\n",
       "             (('2/21/15', '16:00'),\n",
       "              ('VEHICLE_THEFT',\n",
       "               'STOLEN_AUTOMOBILE',\n",
       "               'CENTRAL',\n",
       "               'NONE',\n",
       "               '400_Block_of_STOCKTON_ST')): 1,\n",
       "             (('9/5/13', '13:54'),\n",
       "              ('ASSAULT',\n",
       "               'BATTERY',\n",
       "               'MISSION',\n",
       "               'NONE',\n",
       "               '23RD_ST/VERMONT_ST')): 1,\n",
       "             (('6/26/15', '20:15'),\n",
       "              ('LARCENY/THEFT',\n",
       "               'GRAND_THEFT_FROM_LOCKED_AUTO',\n",
       "               'SOUTHERN',\n",
       "               'NONE',\n",
       "               'HARRISON_ST/COLUMBIASQUARE_ST')): 1,\n",
       "             (('1/12/15', '1:00'),\n",
       "              ('LARCENY/THEFT',\n",
       "               'GRAND_THEFT_PICKPOCKET',\n",
       "               'NORTHERN',\n",
       "               'NONE',\n",
       "               '800_Block_of_OFARRELL_ST')): 1,\n",
       "             (('5/23/14', '11:05'),\n",
       "              ('LARCENY/THEFT',\n",
       "               'PETTY_THEFT_SHOPLIFTING',\n",
       "               'NORTHERN',\n",
       "               'ARREST/CITED',\n",
       "               '1700_Block_of_CALIFORNIA_ST')): 1,\n",
       "             (('3/28/13', '8:34'),\n",
       "              ('WARRANTS',\n",
       "               'WARRANT_ARREST',\n",
       "               'TENDERLOIN',\n",
       "               'ARREST/BOOKED',\n",
       "               'TURK_ST/JONES_ST')): 1,\n",
       "             (('6/11/15', '12:00'),\n",
       "              ('OTHER_OFFENSES',\n",
       "               'FALSE_PERSONATION_TO_RECEIVE_MONEY_OR_PROPERTY',\n",
       "               'PARK',\n",
       "               'NONE',\n",
       "               '2000_Block_of_MCALLISTER_ST')): 1,\n",
       "             (('7/23/14', '20:00'),\n",
       "              ('VEHICLE_THEFT',\n",
       "               'STOLEN_AUTOMOBILE',\n",
       "               'TARAVAL',\n",
       "               'NONE',\n",
       "               '100_Block_of_VICTORIA_ST')): 1,\n",
       "             (('7/26/13', '4:30'),\n",
       "              ('OTHER_OFFENSES',\n",
       "               'DRIVERS_LICENSE/SUSPENDED_OR_REVOKED',\n",
       "               'SOUTHERN',\n",
       "               'ARREST/CITED',\n",
       "               '3RD_ST/MARKET_ST')): 1,\n",
       "             (('8/7/14', '4:00'),\n",
       "              ('BURGLARY',\n",
       "               'BURGLARY_OF_RESIDENCE/UNLAWFUL_ENTRY',\n",
       "               'RICHMOND',\n",
       "               'NONE',\n",
       "               '2000_Block_of_BAKER_ST')): 1,\n",
       "             (('6/28/15', '16:30'),\n",
       "              ('SECONDARY_CODES',\n",
       "               'DOMESTIC_VIOLENCE',\n",
       "               'MISSION',\n",
       "               'NONE',\n",
       "               '2900_Block_of_24TH_ST')): 1,\n",
       "             (('3/22/13', '9:30'),\n",
       "              ('SECONDARY_CODES',\n",
       "               'JUVENILE_INVOLVED',\n",
       "               'INGLESIDE',\n",
       "               'NONE',\n",
       "               '500_Block_of_PORTOLA_DR')): 1,\n",
       "             (('11/22/13', '23:15'),\n",
       "              ('LARCENY/THEFT',\n",
       "               'GRAND_THEFT_FROM_LOCKED_AUTO',\n",
       "               'SOUTHERN',\n",
       "               'NONE',\n",
       "               'FOLSOM_ST/5TH_ST')): 1,\n",
       "             (('7/5/13', '14:00'),\n",
       "              ('MISSING_PERSON',\n",
       "               'MISSING_ADULT',\n",
       "               'PARK',\n",
       "               'LOCATED',\n",
       "               '700_Block_of_BAKER_ST')): 1,\n",
       "             (('12/14/13', '23:00'),\n",
       "              ('SECONDARY_CODES',\n",
       "               'DOMESTIC_VIOLENCE',\n",
       "               'TARAVAL',\n",
       "               'NONE',\n",
       "               '1900_Block_of_22ND_AV')): 1,\n",
       "             (('6/25/15', '17:00'),\n",
       "              ('LARCENY/THEFT',\n",
       "               'GRAND_THEFT_FROM_LOCKED_AUTO',\n",
       "               'SOUTHERN',\n",
       "               'NONE',\n",
       "               '800_Block_of_MISSION_ST')): 1,\n",
       "             (('1/30/14', '0:30'),\n",
       "              ('NON-CRIMINAL',\n",
       "               'AIDED_CASE/MENTAL_DISTURBED',\n",
       "               'NORTHERN',\n",
       "               'PSYCHOPATHIC_CASE',\n",
       "               '1300_Block_of_GOLDEN_GATE_AV')): 1,\n",
       "             (('3/9/15', '23:56'),\n",
       "              ('ROBBERY',\n",
       "               'ROBBERY/BODILY_FORCE',\n",
       "               'INGLESIDE',\n",
       "               'ARREST/BOOKED',\n",
       "               'MISSION_ST/RICHLAND_AV')): 1,\n",
       "             (('10/11/14', '17:45'),\n",
       "              ('SUSPICIOUS_OCC',\n",
       "               'SUSPICIOUS_OCCURRENCE',\n",
       "               'SOUTHERN',\n",
       "               'NONE',\n",
       "               '300_Block_of_TEHAMA_ST')): 1,\n",
       "             (('4/4/14', '9:20'),\n",
       "              ('ROBBERY',\n",
       "               'ROBBERY_ON_THE_STREET/STRONGARM',\n",
       "               'TENDERLOIN',\n",
       "               'ARREST/BOOKED',\n",
       "               'LEAVENWORTH_ST/MCALLISTER_ST')): 1,\n",
       "             (('4/13/15', '23:15'),\n",
       "              ('ROBBERY',\n",
       "               'ROBBERY/ARMED_WITH_A_DANGEROUS_WEAPON',\n",
       "               'BAYVIEW',\n",
       "               'NONE',\n",
       "               'BRUSSELS_ST/FELTON_ST')): 1,\n",
       "             (('8/9/14', '21:00'),\n",
       "              ('LARCENY/THEFT',\n",
       "               'PETTY_THEFT_FROM_A_BUILDING',\n",
       "               'NORTHERN',\n",
       "               'NONE',\n",
       "               '3300_Block_of_STEINER_ST')): 1,\n",
       "             (('11/4/13', '1:00'),\n",
       "              ('ASSAULT',\n",
       "               'AGGRAVATED_ASSAULT_WITH_A_DEADLY_WEAPON',\n",
       "               'CENTRAL',\n",
       "               'UNFOUNDED',\n",
       "               '600_Block_of_BROADWAY_ST')): 1,\n",
       "             (('5/17/15', '11:37'),\n",
       "              ('SUSPICIOUS_OCC',\n",
       "               'SUSPICIOUS_PERSON',\n",
       "               'BAYVIEW',\n",
       "               'NONE',\n",
       "               '3RD_ST/26TH_ST')): 1,\n",
       "             (('3/31/14', '2:17'),\n",
       "              ('ASSAULT',\n",
       "               'AGGRAVATED_ASSAULT_WITH_BODILY_FORCE',\n",
       "               'SOUTHERN',\n",
       "               'ARREST/BOOKED',\n",
       "               'MINT_ST/MISSION_ST')): 1,\n",
       "             (('5/18/14', '22:41'),\n",
       "              ('NON-CRIMINAL',\n",
       "               'FOUND_PROPERTY',\n",
       "               'SOUTHERN',\n",
       "               'NONE',\n",
       "               '0_Block_of_4TH_ST')): 1,\n",
       "             (('7/15/13', '3:00'),\n",
       "              ('LARCENY/THEFT',\n",
       "               'GRAND_THEFT_FROM_LOCKED_AUTO',\n",
       "               'PARK',\n",
       "               'NONE',\n",
       "               '300_Block_of_UPPER_TR')): 1,\n",
       "             (('11/4/14', '20:00'),\n",
       "              ('LARCENY/THEFT',\n",
       "               'GRAND_THEFT_FROM_LOCKED_AUTO',\n",
       "               'SOUTHERN',\n",
       "               'NONE',\n",
       "               'BRANNAN_ST/4TH_ST')): 1,\n",
       "             (('4/22/14', '20:00'),\n",
       "              ('OTHER_OFFENSES',\n",
       "               'MISCELLANEOUS_INVESTIGATION',\n",
       "               'TARAVAL',\n",
       "               'ARREST/CITED',\n",
       "               '100_Block_of_HOLLOWAY_AV')): 1,\n",
       "             (('8/11/14', '19:31'),\n",
       "              ('OTHER_OFFENSES',\n",
       "               'DRIVERS_LICENSE/SUSPENDED_OR_REVOKED',\n",
       "               'SOUTHERN',\n",
       "               'ARREST/CITED',\n",
       "               'MARKET_ST/10TH_ST')): 1,\n",
       "             (('1/26/14', '13:28'),\n",
       "              ('NON-CRIMINAL',\n",
       "               'AIDED_CASE_-PROPERTY_FOR_DESTRUCTION',\n",
       "               'PARK',\n",
       "               'NONE',\n",
       "               '600_Block_of_BELVEDERE_ST')): 1,\n",
       "             (('3/19/15', '23:30'),\n",
       "              ('LARCENY/THEFT',\n",
       "               'GRAND_THEFT_FROM_A_BUILDING',\n",
       "               'SOUTHERN',\n",
       "               'NONE',\n",
       "               '100_Block_of_6TH_ST')): 1,\n",
       "             (('3/23/13', '3:48'),\n",
       "              ('VANDALISM',\n",
       "               'MALICIOUS_MISCHIEF/VANDALISM',\n",
       "               'SOUTHERN',\n",
       "               'NONE',\n",
       "               '800_Block_of_MARKET_ST')): 1,\n",
       "             (('2/11/15', '1:26'),\n",
       "              ('ROBBERY',\n",
       "               'ROBBERY_ON_THE_STREET/STRONGARM',\n",
       "               'SOUTHERN',\n",
       "               'NONE',\n",
       "               '5TH_ST/MARKET_ST')): 1,\n",
       "             (('7/6/14', '21:45'),\n",
       "              ('WARRANTS',\n",
       "               'ENROUTE_TO_OUTSIDE_JURISDICTION',\n",
       "               'MISSION',\n",
       "               'ARREST/BOOKED',\n",
       "               '25TH_ST/FOLSOM_ST')): 1,\n",
       "             (('5/11/13', '0:20'),\n",
       "              ('ASSAULT',\n",
       "               'THREAT_OR_FORCE_TO_RESIST_EXECUTIVE_OFFICER',\n",
       "               'SOUTHERN',\n",
       "               'ARREST/BOOKED',\n",
       "               '0_Block_of_6TH_ST')): 1,\n",
       "             (('7/12/13', '18:47'),\n",
       "              ('VANDALISM',\n",
       "               'MALICIOUS_MISCHIEF/VANDALISM',\n",
       "               'CENTRAL',\n",
       "               'NONE',\n",
       "               '400_Block_of_STOCKTON_ST')): 1,\n",
       "             (('5/13/14', '23:10'),\n",
       "              ('LARCENY/THEFT',\n",
       "               'GRAND_THEFT_FROM_LOCKED_AUTO',\n",
       "               'SOUTHERN',\n",
       "               'NONE',\n",
       "               '700_Block_of_3RD_ST')): 1,\n",
       "             (('11/23/14', '18:30'),\n",
       "              ('NON-CRIMINAL',\n",
       "               'FOUND_PROPERTY',\n",
       "               'CENTRAL',\n",
       "               'NONE',\n",
       "               '200_Block_of_BUSH_ST')): 1,\n",
       "             (('8/25/14', '0:10'),\n",
       "              ('VEHICLE_THEFT',\n",
       "               'STOLEN_AUTOMOBILE',\n",
       "               'TARAVAL',\n",
       "               'NONE',\n",
       "               '1400_Block_of_21ST_AV')): 1,\n",
       "             (('7/9/14', '20:30'),\n",
       "              ('LARCENY/THEFT',\n",
       "               'GRAND_THEFT_FROM_UNLOCKED_AUTO',\n",
       "               'SOUTHERN',\n",
       "               'NONE',\n",
       "               '800_Block_of_BRYANT_ST')): 1,\n",
       "             (('2/12/14', '8:40'),\n",
       "              ('NON-CRIMINAL',\n",
       "               'LOST_PROPERTY',\n",
       "               'SOUTHERN',\n",
       "               'NONE',\n",
       "               '4TH_ST/KING_ST')): 1,\n",
       "             (('2/28/13', '21:40'),\n",
       "              ('PROSTITUTION',\n",
       "               'SOLICITS_FOR_ACT_OF_PROSTITUTION',\n",
       "               'NORTHERN',\n",
       "               'ARREST/CITED',\n",
       "               'SUTTER_ST/LARKIN_ST')): 1,\n",
       "             (('11/24/13', '9:00'),\n",
       "              ('NON-CRIMINAL',\n",
       "               'LOST_PROPERTY',\n",
       "               'CENTRAL',\n",
       "               'NONE',\n",
       "               'GEARY_ST/TAYLOR_ST')): 1,\n",
       "             (('7/22/14', '7:30'),\n",
       "              ('LARCENY/THEFT',\n",
       "               'GRAND_THEFT_FROM_LOCKED_AUTO',\n",
       "               'NORTHERN',\n",
       "               'NONE',\n",
       "               'GOLDEN_GATE_AV/FRANKLIN_ST')): 1,\n",
       "             (('9/27/14', '0:30'),\n",
       "              ('LARCENY/THEFT',\n",
       "               'PETTY_THEFT_OF_PROPERTY',\n",
       "               'NORTHERN',\n",
       "               'NONE',\n",
       "               '1500_Block_of_POLK_ST')): 1,\n",
       "             (('1/2/15', '8:00'),\n",
       "              ('MISSING_PERSON',\n",
       "               'FOUND_PERSON',\n",
       "               'SOUTHERN',\n",
       "               'NONE',\n",
       "               '900_Block_of_MISSION_ST')): 1,\n",
       "             (('11/14/13', '15:00'),\n",
       "              ('NON-CRIMINAL',\n",
       "               'AIDED_CASE/MENTAL_DISTURBED',\n",
       "               'MISSION',\n",
       "               'PSYCHOPATHIC_CASE',\n",
       "               '2700_Block_of_24TH_ST')): 1,\n",
       "             (('1/30/14', '8:00'),\n",
       "              ('MISSING_PERSON',\n",
       "               'MISSING_JUVENILE',\n",
       "               'PARK',\n",
       "               'LOCATED',\n",
       "               '1200_Block_of_PAGE_ST')): 1,\n",
       "             (('10/24/14', '16:30'),\n",
       "              ('LARCENY/THEFT',\n",
       "               'PETTY_THEFT_FROM_A_BUILDING',\n",
       "               'CENTRAL',\n",
       "               'NONE',\n",
       "               '700_Block_of_KEARNY_ST')): 1,\n",
       "             (('9/16/13', '13:45'),\n",
       "              ('BURGLARY',\n",
       "               'BURGLARY_OF_STORE/UNLAWFUL_ENTRY',\n",
       "               'TENDERLOIN',\n",
       "               'ARREST/BOOKED',\n",
       "               '0_Block_of_OFARRELL_ST')): 1,\n",
       "             (('12/6/13', '17:45'),\n",
       "              ('EMBEZZLEMENT',\n",
       "               'EMBEZZLEMENT/GRAND_THEFT_BY_EMPLOYEE',\n",
       "               'TENDERLOIN',\n",
       "               'ARREST/BOOKED',\n",
       "               '100_Block_of_OFARRELL_ST')): 1,\n",
       "             (('11/5/13', '16:15'),\n",
       "              ('KIDNAPPING',\n",
       "               'FALSE_IMPRISONMENT',\n",
       "               'TARAVAL',\n",
       "               'JUVENILE_BOOKED',\n",
       "               '2200_Block_of_14TH_AV')): 1,\n",
       "             (('5/26/15', '14:00'),\n",
       "              ('OTHER_OFFENSES',\n",
       "               'FALSE_PERSONATION',\n",
       "               'TARAVAL',\n",
       "               'NONE',\n",
       "               '1500_Block_of_FUNSTON_AV')): 1,\n",
       "             (('8/2/14', '3:00'),\n",
       "              ('WEAPON_LAWS',\n",
       "               'POSS_OF_FIREARM_BY_CONVICTED_FELON/ADDICT/ALIEN',\n",
       "               'BAYVIEW',\n",
       "               'NONE',\n",
       "               '100_Block_of_NAPOLEON_ST')): 1,\n",
       "             (('7/22/14', '11:47'),\n",
       "              ('DRUG/NARCOTIC',\n",
       "               'SALE_OF_CONTROLLED_SUBSTANCE',\n",
       "               'TENDERLOIN',\n",
       "               'ARREST/BOOKED',\n",
       "               '200_Block_of_GOLDEN_GATE_AV')): 1,\n",
       "             (('10/24/14', '16:04'),\n",
       "              ('OTHER_OFFENSES',\n",
       "               'TRAFFIC_VIOLATION_ARREST',\n",
       "               'SOUTHERN',\n",
       "               'ARREST/BOOKED',\n",
       "               'KING_ST/2ND_ST')): 1,\n",
       "             (('8/1/14', '7:17'),\n",
       "              ('OTHER_OFFENSES',\n",
       "               'TRAFFIC_VIOLATION_ARREST',\n",
       "               'TARAVAL',\n",
       "               'ARREST/BOOKED',\n",
       "               'VICENTE_ST/20TH_AV')): 1,\n",
       "             (('1/16/14', '17:00'),\n",
       "              ('LARCENY/THEFT',\n",
       "               'GRAND_THEFT_FROM_LOCKED_AUTO',\n",
       "               'SOUTHERN',\n",
       "               'NONE',\n",
       "               '500_Block_of_NATOMA_ST')): 1,\n",
       "             (('4/19/14', '17:04'),\n",
       "              ('DRUG/NARCOTIC',\n",
       "               'SALE_OF_MARIJUANA',\n",
       "               'SOUTHERN',\n",
       "               'ARREST/BOOKED',\n",
       "               '1000_Block_of_MARKET_ST')): 1,\n",
       "             (('7/12/14', '1:10'),\n",
       "              ('ASSAULT',\n",
       "               'AGGRAVATED_ASSAULT_WITH_A_DEADLY_WEAPON',\n",
       "               'BAYVIEW',\n",
       "               'ARREST/BOOKED',\n",
       "               '700_Block_of_KIRKWOOD_AV')): 1,\n",
       "             (('7/1/14', '20:30'),\n",
       "              ('ROBBERY',\n",
       "               'ROBBERY_ON_THE_STREET/STRONGARM',\n",
       "               'BAYVIEW',\n",
       "               'NONE',\n",
       "               'PALOU_AV/3RD_ST')): 1,\n",
       "             (('7/24/14', '0:45'),\n",
       "              ('OTHER_OFFENSES',\n",
       "               'TRAFFIC_VIOLATION',\n",
       "               'NORTHERN',\n",
       "               'ARREST/CITED',\n",
       "               '0_Block_of_WALLER_ST')): 1,\n",
       "             (('10/27/14', '20:00'),\n",
       "              ('VEHICLE_THEFT',\n",
       "               'STOLEN_TRUCK',\n",
       "               'RICHMOND',\n",
       "               'NONE',\n",
       "               '2700_Block_of_TURK_ST')): 1,\n",
       "             (('11/16/14', '11:22'),\n",
       "              ('NON-CRIMINAL',\n",
       "               'CIVIL_SIDEWALKS/WARNING',\n",
       "               'MISSION',\n",
       "               'NONE',\n",
       "               '4000_Block_of_18TH_ST')): 1,\n",
       "             (('5/28/15', '15:35'),\n",
       "              ('LARCENY/THEFT',\n",
       "               'GRAND_THEFT_FROM_LOCKED_AUTO',\n",
       "               'SOUTHERN',\n",
       "               'NONE',\n",
       "               '800_Block_of_BRYANT_ST')): 1,\n",
       "             (('8/6/14', '8:40'),\n",
       "              ('LARCENY/THEFT',\n",
       "               'GRAND_THEFT_BICYCLE',\n",
       "               'MISSION',\n",
       "               'NONE',\n",
       "               '2300_Block_of_16TH_ST')): 1,\n",
       "             (('2/13/14', '15:00'),\n",
       "              ('FORGERY/COUNTERFEITING',\n",
       "               'CHECKS/FORGERY_(FELONY)',\n",
       "               'NORTHERN',\n",
       "               'ARREST/BOOKED',\n",
       "               '1300_Block_of_WEBSTER_ST')): 1,\n",
       "             (('1/11/15', '15:05'),\n",
       "              ('MISSING_PERSON',\n",
       "               'MISSING_ADULT',\n",
       "               'PARK',\n",
       "               'NONE',\n",
       "               '400_Block_of_STANYAN_ST')): 1,\n",
       "             (('10/16/14', '10:10'),\n",
       "              ('OTHER_OFFENSES',\n",
       "               'DRIVERS_LICENSE/SUSPENDED_OR_REVOKED',\n",
       "               'SOUTHERN',\n",
       "               'ARREST/CITED',\n",
       "               '800_Block_of_BRYANT_ST')): 1,\n",
       "             (('2/13/15', '18:35'),\n",
       "              ('WARRANTS',\n",
       "               'WARRANT_ARREST',\n",
       "               'CENTRAL',\n",
       "               'ARREST/BOOKED',\n",
       "               '800_Block_of_JACKSON_ST')): 1,\n",
       "             (('1/14/14', '21:30'),\n",
       "              ('NON-CRIMINAL',\n",
       "               'AIDED_CASE',\n",
       "               'PARK',\n",
       "               'NONE',\n",
       "               '600_Block_of_STANYAN_ST')): 1,\n",
       "             (('2/13/13', '16:00'),\n",
       "              ('BURGLARY',\n",
       "               'BURGLARY_OF_APARTMENT_HOUSE/UNLAWFUL_ENTRY',\n",
       "               'PARK',\n",
       "               'NONE',\n",
       "               '2400_Block_of_15TH_ST')): 1,\n",
       "             (('9/15/13', '11:30'),\n",
       "              ('LARCENY/THEFT',\n",
       "               'GRAND_THEFT_FROM_LOCKED_AUTO',\n",
       "               'BAYVIEW',\n",
       "               'NONE',\n",
       "               'PHELPS_ST/PALOU_AV')): 1,\n",
       "             (('1/23/14', '17:00'),\n",
       "              ('BURGLARY',\n",
       "               'BURGLARY/RESIDENCE_UNDER_CONSTRT/FORCIBLE_ENTRY',\n",
       "               'TARAVAL',\n",
       "               'NONE',\n",
       "               '2500_Block_of_44TH_AV')): 1,\n",
       "             (('9/14/14', '17:47'),\n",
       "              ('LARCENY/THEFT',\n",
       "               'GRAND_THEFT_FROM_LOCKED_AUTO',\n",
       "               'RICHMOND',\n",
       "               'NONE',\n",
       "               '2100_Block_of_SCOTT_ST')): 1,\n",
       "             (('7/9/14', '22:00'),\n",
       "              ('LARCENY/THEFT',\n",
       "               'GRAND_THEFT_FROM_LOCKED_AUTO',\n",
       "               'CENTRAL',\n",
       "               'NONE',\n",
       "               '2400_Block_of_TAYLOR_ST')): 1,\n",
       "             (('4/25/14', '19:43'),\n",
       "              ('LARCENY/THEFT',\n",
       "               'GRAND_THEFT_FROM_A_BUILDING',\n",
       "               'NORTHERN',\n",
       "               'NONE',\n",
       "               '800_Block_of_LARKIN_ST')): 1,\n",
       "             (('12/27/13', '15:59'),\n",
       "              ('LIQUOR_LAWS',\n",
       "               'CONSUMING_ALCOHOL_IN_PUBLIC_VIEW',\n",
       "               'BAYVIEW',\n",
       "               'ARREST/BOOKED',\n",
       "               '5200_Block_of_3RD_ST')): 1,\n",
       "             (('1/26/13', '19:30'),\n",
       "              ('VANDALISM',\n",
       "               'MALICIOUS_MISCHIEF/VANDALISM',\n",
       "               'CENTRAL',\n",
       "               'NONE',\n",
       "               'THE_EMBARCADERONORTH_ST/BATTERY_ST')): 1,\n",
       "             (('4/22/15', '20:00'),\n",
       "              ('KIDNAPPING',\n",
       "               'FALSE_IMPRISONMENT',\n",
       "               'PARK',\n",
       "               'ARREST/BOOKED',\n",
       "               '1500_Block_of_HAYES_ST')): 1,\n",
       "             (('11/6/13', '10:36'),\n",
       "              ('DRUG/NARCOTIC',\n",
       "               'POSSESSION_OF_BASE/ROCK_COCAINE_FOR_SALE',\n",
       "               'BAYVIEW',\n",
       "               'ARREST/BOOKED',\n",
       "               '100_Block_of_WESTPOINT_RD')): 1,\n",
       "             (('9/11/14', '19:30'),\n",
       "              ('LARCENY/THEFT',\n",
       "               'PETTY_THEFT_FROM_UNLOCKED_AUTO',\n",
       "               'NORTHERN',\n",
       "               'NONE',\n",
       "               '800_Block_of_MCALLISTER_ST')): 1,\n",
       "             (('12/4/14', '0:01'),\n",
       "              ('FRAUD',\n",
       "               'CREDIT_CARD/THEFT_BY_USE_OF',\n",
       "               'RICHMOND',\n",
       "               'NONE',\n",
       "               '700_Block_of_30TH_AV')): 1,\n",
       "             (('2/15/15', '19:14'),\n",
       "              ('OTHER_OFFENSES',\n",
       "               'RESISTING_ARREST',\n",
       "               'INGLESIDE',\n",
       "               'NONE',\n",
       "               '100_Block_of_CRESCENT_AV')): 1,\n",
       "             (('12/30/14', '8:00'),\n",
       "              ('NON-CRIMINAL',\n",
       "               'LOST_PROPERTY',\n",
       "               'TARAVAL',\n",
       "               'NONE',\n",
       "               '1500_Block_of_SLOAT_BL')): 1,\n",
       "             (('10/20/14', '20:30'),\n",
       "              ('VEHICLE_THEFT',\n",
       "               'STOLEN_AUTOMOBILE',\n",
       "               'PARK',\n",
       "               'NONE',\n",
       "               '0_Block_of_STATES_ST')): 1,\n",
       "             (('7/30/14', '2:00'),\n",
       "              ('ASSAULT',\n",
       "               'INFLICT_INJURY_ON_COHABITEE',\n",
       "               'NORTHERN',\n",
       "               'ARREST/BOOKED',\n",
       "               '600_Block_of_WILLOW_ST')): 1,\n",
       "             (('10/29/14', '0:01'),\n",
       "              ('LARCENY/THEFT',\n",
       "               'PETTY_THEFT_FROM_A_BUILDING',\n",
       "               'MISSION',\n",
       "               'NONE',\n",
       "               '18TH_ST/SANCHEZ_ST')): 1,\n",
       "             (('4/25/13', '16:46'),\n",
       "              ('SUSPICIOUS_OCC',\n",
       "               'INVESTIGATIVE_DETENTION',\n",
       "               'BAYVIEW',\n",
       "               'NONE',\n",
       "               '0_Block_of_ARDATH_CT')): 1,\n",
       "             (('10/3/14', '9:30'),\n",
       "              ('LARCENY/THEFT',\n",
       "               'GRAND_THEFT_FROM_LOCKED_AUTO',\n",
       "               'SOUTHERN',\n",
       "               'NONE',\n",
       "               '400_Block_of_TOWNSEND_ST')): 1,\n",
       "             (('1/31/13', '5:05'),\n",
       "              ('ASSAULT',\n",
       "               'BATTERY',\n",
       "               'CENTRAL',\n",
       "               'NONE',\n",
       "               '0_Block_of_DRUMM_ST')): 1,\n",
       "             (('6/28/15', '14:05'),\n",
       "              ('LARCENY/THEFT',\n",
       "               'PETTY_THEFT_FROM_UNLOCKED_AUTO',\n",
       "               'MISSION',\n",
       "               'NONE',\n",
       "               '14TH_ST/FOLSOM_ST')): 1,\n",
       "             (('1/24/13', '10:38'),\n",
       "              ('WEAPON_LAWS',\n",
       "               'POSS_OF_PROHIBITED_WEAPON',\n",
       "               'TENDERLOIN',\n",
       "               'ARREST/BOOKED',\n",
       "               'OFARRELL_ST/JONES_ST')): 1,\n",
       "             (('6/3/14', '1:55'),\n",
       "              ('ROBBERY',\n",
       "               'ROBBERY/ARMED_WITH_A_GUN',\n",
       "               'INGLESIDE',\n",
       "               'NONE',\n",
       "               '200_Block_of_SILVER_AV')): 1,\n",
       "             (('4/7/13', '0:05'),\n",
       "              ('LARCENY/THEFT',\n",
       "               'PETTY_THEFT_FROM_A_BUILDING',\n",
       "               'SOUTHERN',\n",
       "               'NONE',\n",
       "               '700_Block_of_HARRISON_ST')): 1,\n",
       "             (('10/27/14', '13:00'),\n",
       "              ('FRAUD',\n",
       "               'FORGERY/CREDIT_CARD',\n",
       "               'BAYVIEW',\n",
       "               'NONE',\n",
       "               '1700_Block_of_25TH_ST')): 1,\n",
       "             (('11/17/14', '23:23'),\n",
       "              ('FRAUD',\n",
       "               'CREDIT_CARD/THEFT_BY_USE_OF',\n",
       "               'TENDERLOIN',\n",
       "               'NONE',\n",
       "               '0_Block_of_POWELL_ST')): 1,\n",
       "             (('11/6/14', '19:22'),\n",
       "              ('OTHER_OFFENSES',\n",
       "               'MISCELLANEOUS_INVESTIGATION',\n",
       "               'SOUTHERN',\n",
       "               'NONE',\n",
       "               '900_Block_of_MARKET_ST')): 1,\n",
       "             (('5/20/13', '8:00'),\n",
       "              ('ASSAULT',\n",
       "               'BATTERY/FORMER_SPOUSE_OR_DATING_RELATIONSHIP',\n",
       "               'PARK',\n",
       "               'NONE',\n",
       "               '500_Block_of_PARNASSUS_AV')): 1,\n",
       "             (('1/26/14', '21:30'),\n",
       "              ('LARCENY/THEFT',\n",
       "               'GRAND_THEFT_FROM_LOCKED_AUTO',\n",
       "               'CENTRAL',\n",
       "               'NONE',\n",
       "               'GRANT_AV/JACKSON_ST')): 1,\n",
       "             (('5/17/15', '21:05'),\n",
       "              ('WARRANTS',\n",
       "               'WARRANT_ARREST',\n",
       "               'CENTRAL',\n",
       "               'ARREST/BOOKED',\n",
       "               'BUSH_ST/TREASURY_PL')): 1,\n",
       "             (('5/22/15', '11:40'),\n",
       "              ('ASSAULT',\n",
       "               'DISCHARGING_IN_GROSSLY_NEGLIGENT_MANNER',\n",
       "               'BAYVIEW',\n",
       "               'NONE',\n",
       "               '900_Block_of_GILMAN_AV')): 1,\n",
       "             (('1/27/15', '23:00'),\n",
       "              ('VANDALISM',\n",
       "               'MALICIOUS_MISCHIEF/VANDALISM_OF_VEHICLES',\n",
       "               'BAYVIEW',\n",
       "               'NONE',\n",
       "               'PHELPS_ST/KIRKWOOD_AV')): 1,\n",
       "             (('1/14/13', '8:45'),\n",
       "              ('ASSAULT', 'BATTERY', 'BAYVIEW', 'NONE', '3RD_ST/PALOU_AV')): 1,\n",
       "             (('12/17/14', '13:03'),\n",
       "              ('LARCENY/THEFT',\n",
       "               'PETTY_THEFT_FROM_A_BUILDING',\n",
       "               'MISSION',\n",
       "               'NONE',\n",
       "               '2700_Block_of_MISSION_ST')): 1,\n",
       "             (('10/6/13', '12:00'),\n",
       "              ('FORGERY/COUNTERFEITING',\n",
       "               'MONEY/CHANGING_FACE_AMOUNT',\n",
       "               'CENTRAL',\n",
       "               'PROSECUTED_BY_OUTSIDE_AGENCY',\n",
       "               '1600_Block_of_THE_EMBARCADERONORTH_ST')): 1,\n",
       "             (('2/2/15', '10:00'),\n",
       "              ('OTHER_OFFENSES',\n",
       "               'MISCELLANEOUS_INVESTIGATION',\n",
       "               'CENTRAL',\n",
       "               'NONE',\n",
       "               '900_Block_of_GREEN_ST')): 1,\n",
       "             (('2/7/14', '11:40'),\n",
       "              ('OTHER_OFFENSES',\n",
       "               'RESISTING_ARREST',\n",
       "               'CENTRAL',\n",
       "               'JUVENILE_CITED',\n",
       "               'VALLEJO_ST/STOCKTON_ST')): 1,\n",
       "             (('2/12/13', '17:20'),\n",
       "              ('NON-CRIMINAL',\n",
       "               'AIDED_CASE/MENTAL_DISTURBED',\n",
       "               'INGLESIDE',\n",
       "               'NONE',\n",
       "               '600_Block_of_SAN_JOSE_AV')): 1,\n",
       "             (('7/6/13', '15:00'),\n",
       "              ('ASSAULT',\n",
       "               'AGGRAVATED_ASSAULT_WITH_BODILY_FORCE',\n",
       "               'NORTHERN',\n",
       "               'NONE',\n",
       "               '300_Block_of_FULTON_ST')): 1,\n",
       "             (('7/8/14', '4:28'),\n",
       "              ('VANDALISM',\n",
       "               'MALICIOUS_MISCHIEF/VANDALISM',\n",
       "               'MISSION',\n",
       "               'ARREST/BOOKED',\n",
       "               '400_Block_of_VALENCIA_ST')): 1,\n",
       "             (('8/28/14', '13:35'),\n",
       "              ('ASSAULT',\n",
       "               'BATTERY',\n",
       "               'TENDERLOIN',\n",
       "               'ARREST/BOOKED',\n",
       "               '300_Block_of_TURK_ST')): 1,\n",
       "             (('5/1/15', '8:16'),\n",
       "              ('DRUG/NARCOTIC',\n",
       "               'POSSESSION_OF_BASE/ROCK_COCAINE',\n",
       "               'MISSION',\n",
       "               'ARREST/BOOKED',\n",
       "               '1900_Block_of_MISSION_ST')): 1,\n",
       "             (('6/6/14', '14:08'),\n",
       "              ('FRAUD',\n",
       "               'FALSE_PRETENSES/PETTY_THEFT',\n",
       "               'CENTRAL',\n",
       "               'NONE',\n",
       "               '700_Block_of_KEARNY_ST')): 1,\n",
       "             (('5/28/15', '9:00'),\n",
       "              ('OTHER_OFFENSES',\n",
       "               'VIOLATION_OF_EMERGENCY_PROTECTIVE_ORDER',\n",
       "               'PARK',\n",
       "               'NONE',\n",
       "               '200_Block_of_WOODSIDE_AV')): 1,\n",
       "             (('6/30/13', '19:52'),\n",
       "              ('SUSPICIOUS_OCC',\n",
       "               'INVESTIGATIVE_DETENTION',\n",
       "               'SOUTHERN',\n",
       "               'NONE',\n",
       "               '1000_Block_of_MARKET_ST')): 1,\n",
       "             (('7/21/13', '21:44'),\n",
       "              ('LARCENY/THEFT',\n",
       "               'PETTY_THEFT_FROM_UNLOCKED_AUTO',\n",
       "               'BAYVIEW',\n",
       "               'NONE',\n",
       "               '0_Block_of_GOETTINGEN_ST')): 1,\n",
       "             (('3/21/14', '6:15'),\n",
       "              ('SUSPICIOUS_OCC',\n",
       "               'SUSPICIOUS_ACT_TOWARDS_FEMALE',\n",
       "               'SOUTHERN',\n",
       "               'NONE',\n",
       "               '100_Block_of_JESSIE_ST')): 1,\n",
       "             (('6/4/14', '8:00'),\n",
       "              ('VEHICLE_THEFT',\n",
       "               'STOLEN_AND_RECOVERED_VEHICLE',\n",
       "               'MISSION',\n",
       "               'NONE',\n",
       "               '600_Block_of_SHOTWELL_ST')): 1,\n",
       "             (('5/28/13', '19:45'),\n",
       "              ('ASSAULT',\n",
       "               'BATTERY',\n",
       "               'SOUTHERN',\n",
       "               'NONE',\n",
       "               '1100_Block_of_MISSION_ST')): 1,\n",
       "             (('4/18/13', '15:56'),\n",
       "              ('ASSAULT',\n",
       "               'AGGRAVATED_ASSAULT_WITH_A_DEADLY_WEAPON',\n",
       "               'CENTRAL',\n",
       "               'ARREST/BOOKED',\n",
       "               '500_Block_of_GEARY_ST')): 1,\n",
       "             (('5/23/14', '8:07'),\n",
       "              ('OTHER_OFFENSES',\n",
       "               'TRAFFIC_VIOLATION',\n",
       "               'PARK',\n",
       "               'ARREST/CITED',\n",
       "               'PAGE_ST/ASHBURY_ST')): 1,\n",
       "             (('5/1/15', '21:30'),\n",
       "              ('LARCENY/THEFT',\n",
       "               'GRAND_THEFT_FROM_LOCKED_AUTO',\n",
       "               'NORTHERN',\n",
       "               'NONE',\n",
       "               'GEARY_BL/WEBSTER_ST')): 1,\n",
       "             (('1/9/15', '20:19'),\n",
       "              ('NON-CRIMINAL',\n",
       "               'LOST_PROPERTY',\n",
       "               'RICHMOND',\n",
       "               'NONE',\n",
       "               '16TH_AV/GEARY_BL')): 1,\n",
       "             (('8/30/13', '11:00'),\n",
       "              ('LARCENY/THEFT',\n",
       "               'GRAND_THEFT_FROM_LOCKED_AUTO',\n",
       "               'SOUTHERN',\n",
       "               'NONE',\n",
       "               '800_Block_of_BRYANT_ST')): 1,\n",
       "             (('4/2/13', '14:00'),\n",
       "              ('WEAPON_LAWS',\n",
       "               'EXHIBITING_DEADLY_WEAPON_IN_A_THREATING_MANNER',\n",
       "               'SOUTHERN',\n",
       "               'NONE',\n",
       "               '7TH_ST/HOWARD_ST')): 1,\n",
       "             (('1/3/15', '15:45'),\n",
       "              ('LARCENY/THEFT',\n",
       "               'GRAND_THEFT_OF_PROPERTY',\n",
       "               'TENDERLOIN',\n",
       "               'NONE',\n",
       "               'MASON_ST/OFARRELL_ST')): 1,\n",
       "             (('5/9/15', '15:25'),\n",
       "              ('NON-CRIMINAL',\n",
       "               'AIDED_CASE/MENTAL_DISTURBED',\n",
       "               'SOUTHERN',\n",
       "               'NONE',\n",
       "               '1000_Block_of_MISSION_ST')): 1,\n",
       "             (('2/5/15', '12:45'),\n",
       "              ('ASSAULT',\n",
       "               'BATTERY',\n",
       "               'PARK',\n",
       "               'NONE',\n",
       "               'PALOALTO_AV/MARVIEW_WY')): 1,\n",
       "             (('7/1/15', '21:45'),\n",
       "              ('NON-CRIMINAL',\n",
       "               'LOST_PROPERTY',\n",
       "               'NORTHERN',\n",
       "               'NONE',\n",
       "               '1300_Block_of_WEBSTER_ST')): 1,\n",
       "             (('5/12/15', '22:00'),\n",
       "              ('SECONDARY_CODES',\n",
       "               'ATM_RELATED_CRIME',\n",
       "               'CENTRAL',\n",
       "               'NONE',\n",
       "               '1400_Block_of_STOCKTON_ST')): 1,\n",
       "             (('11/28/14', '9:00'),\n",
       "              ('LARCENY/THEFT',\n",
       "               'PETTY_THEFT_OF_PROPERTY',\n",
       "               'NORTHERN',\n",
       "               'NONE',\n",
       "               '2500_Block_of_GREENWICH_ST')): 1,\n",
       "             (('4/11/14', '22:00'),\n",
       "              ('LARCENY/THEFT',\n",
       "               'GRAND_THEFT_FROM_LOCKED_AUTO',\n",
       "               'PARK',\n",
       "               'NONE',\n",
       "               'HAIGHT_ST/BRODERICK_ST')): 1,\n",
       "             (('12/3/14', '20:00'),\n",
       "              ('OTHER_OFFENSES',\n",
       "               'DRIVERS_LICENSE/SUSPENDED_OR_REVOKED',\n",
       "               'NORTHERN',\n",
       "               'ARREST/BOOKED',\n",
       "               '800_Block_of_LAGUNA_ST')): 1,\n",
       "             (('4/22/15', '17:59'),\n",
       "              ('DRUNKENNESS',\n",
       "               'UNDER_INFLUENCE_OF_ALCOHOL_IN_A_PUBLIC_PLACE',\n",
       "               'NORTHERN',\n",
       "               'NONE',\n",
       "               '700_Block_of_14TH_ST')): 1,\n",
       "             (('12/28/13', '23:06'),\n",
       "              ('ASSAULT',\n",
       "               'ATTEMPTED_SIMPLE_ASSAULT',\n",
       "               'PARK',\n",
       "               'NONE',\n",
       "               '500_Block_of_PARNASSUS_AV')): 1,\n",
       "             (('6/23/14', '20:42'),\n",
       "              ('WEAPON_LAWS',\n",
       "               'AMMUNITION/POSS._BY_PROHIBITED_PERSON',\n",
       "               'SOUTHERN',\n",
       "               'ARREST/BOOKED',\n",
       "               '600_Block_of_TOWNSEND_ST')): 1,\n",
       "             (('2/4/15', '8:53'),\n",
       "              ('SECONDARY_CODES',\n",
       "               'JUVENILE_INVOLVED',\n",
       "               'INGLESIDE',\n",
       "               'NONE',\n",
       "               'MANSELL_ST/VISITACION_AV')): 1,\n",
       "             (('2/20/15', '12:36'),\n",
       "              ('FRAUD',\n",
       "               'REAL_ESTATE_FRAUD',\n",
       "               'INGLESIDE',\n",
       "               'UNFOUNDED',\n",
       "               '100_Block_of_CAYUGA_AV')): 1,\n",
       "             (('4/27/15', '12:25'),\n",
       "              ('LARCENY/THEFT',\n",
       "               'GRAND_THEFT_FROM_LOCKED_AUTO',\n",
       "               'TARAVAL',\n",
       "               'NONE',\n",
       "               '1300_Block_of_12TH_AV')): 1,\n",
       "             (('5/2/15', '18:30'),\n",
       "              ('VEHICLE_THEFT',\n",
       "               'STOLEN_TRUCK',\n",
       "               'MISSION',\n",
       "               'NONE',\n",
       "               '18TH_ST/DOLORES_ST')): 1,\n",
       "             (('9/11/13', '19:00'),\n",
       "              ('KIDNAPPING',\n",
       "               'FALSE_IMPRISONMENT',\n",
       "               'MISSION',\n",
       "               'NONE',\n",
       "               '25TH_ST/BRYANT_ST')): 1,\n",
       "             (('4/5/14', '15:20'),\n",
       "              ('ASSAULT',\n",
       "               'BATTERY',\n",
       "               'TARAVAL',\n",
       "               'NONE',\n",
       "               '1100_Block_of_JUNIPERO_SERRA_BL')): 1,\n",
       "             (('12/16/14', '13:05'),\n",
       "              ('NON-CRIMINAL',\n",
       "               'STAY_AWAY_OR_COURT_ORDER/NON-DV_RELATED',\n",
       "               'SOUTHERN',\n",
       "               'ARREST/BOOKED',\n",
       "               '1000_Block_of_MARKET_ST')): 1,\n",
       "             (('9/11/13', '12:00'),\n",
       "              ('WARRANTS',\n",
       "               'ENROUTE_TO_PROBATION_OFFICER',\n",
       "               'MISSION',\n",
       "               'ARREST/BOOKED',\n",
       "               '100_Block_of_CAPP_ST')): 1,\n",
       "             (('4/19/14', '21:30'),\n",
       "              ('DRUG/NARCOTIC',\n",
       "               'MAINTAINING_PREMISE_WHERE_NARCOTICS_ARE_SOLD/USED',\n",
       "               'NORTHERN',\n",
       "               'ARREST/BOOKED',\n",
       "               'EDDY_ST/VANNESS_AV')): 1,\n",
       "             (('8/6/14', '12:30'),\n",
       "              ('OTHER_OFFENSES',\n",
       "               'FRAUDULENT_GAME_OR_TRICK/OBTAINING_MONEY_OR_PROPERTY',\n",
       "               'NORTHERN',\n",
       "               'NONE',\n",
       "               '500_Block_of_HAIGHT_ST')): 1,\n",
       "             (('11/2/13', '23:55'),\n",
       "              ('WEAPON_LAWS',\n",
       "               'POSS_OF_FIREARM_BY_CONVICTED_FELON/ADDICT/ALIEN',\n",
       "               'MISSION',\n",
       "               'ARREST/BOOKED',\n",
       "               '24TH_ST/TREAT_AV')): 1,\n",
       "             (('5/6/13', '21:22'),\n",
       "              ('DRUG/NARCOTIC',\n",
       "               'POSSESSION_OF_NARCOTICS_PARAPHERNALIA',\n",
       "               'MISSION',\n",
       "               'ARREST/BOOKED',\n",
       "               '100_Block_of_DUBOCE_AV')): 1,\n",
       "             (('1/16/13', '7:52'),\n",
       "              ('OTHER_OFFENSES',\n",
       "               'MISCELLANEOUS_INVESTIGATION',\n",
       "               'PARK',\n",
       "               'NONE',\n",
       "               'PAGE_ST/STANYAN_ST')): 1,\n",
       "             (('1/10/15', '5:00'),\n",
       "              ('MISSING_PERSON',\n",
       "               'FOUND_PERSON',\n",
       "               'SOUTHERN',\n",
       "               'NONE',\n",
       "               '0_Block_of_DORE_ST')): 1,\n",
       "             (('5/22/13', '13:43'),\n",
       "              ('WARRANTS',\n",
       "               'ENROUTE_TO_DEPARTMENT_OF_CORRECTIONS',\n",
       "               'INGLESIDE',\n",
       "               'ARREST/BOOKED',\n",
       "               '200_Block_of_ANDOVER_ST')): 1,\n",
       "             (('11/10/13', '14:00'),\n",
       "              ('LARCENY/THEFT',\n",
       "               'PETTY_THEFT_SHOPLIFTING',\n",
       "               'CENTRAL',\n",
       "               'NONE',\n",
       "               '200_Block_of_STOCKTON_ST')): 1,\n",
       "             (('9/17/14', '8:00'),\n",
       "              ('SUSPICIOUS_OCC',\n",
       "               'SUSPICIOUS_OCCURRENCE',\n",
       "               'BAYVIEW',\n",
       "               'NONE',\n",
       "               '17TH_ST/KANSAS_ST')): 1,\n",
       "             (('5/3/14', '17:45'),\n",
       "              ('LARCENY/THEFT',\n",
       "               'GRAND_THEFT_FROM_LOCKED_AUTO',\n",
       "               'NORTHERN',\n",
       "               'NONE',\n",
       "               '0_Block_of_MARINA_BL')): 1,\n",
       "             (('7/25/14', '17:00'),\n",
       "              ('FRAUD',\n",
       "               'CREDIT_CARD/THEFT_BY_USE_OF',\n",
       "               'SOUTHERN',\n",
       "               'NONE',\n",
       "               '800_Block_of_MARKET_ST')): 1,\n",
       "             (('9/5/14', '7:30'),\n",
       "              ('VEHICLE_THEFT',\n",
       "               'STOLEN_AUTOMOBILE',\n",
       "               'TARAVAL',\n",
       "               'NONE',\n",
       "               '0_Block_of_URBANO_DR')): 1,\n",
       "             (('1/5/15', '19:20'),\n",
       "              ('LARCENY/THEFT',\n",
       "               'GRAND_THEFT_OF_PROPERTY',\n",
       "               'CENTRAL',\n",
       "               'NONE',\n",
       "               '300_Block_of_BAY_ST')): 1,\n",
       "             (('10/28/14', '22:45'),\n",
       "              ('SUSPICIOUS_OCC',\n",
       "               'INVESTIGATIVE_DETENTION',\n",
       "               'INGLESIDE',\n",
       "               'NONE',\n",
       "               'REY_ST/SUNNYDALE_AV')): 1,\n",
       "             (('12/31/14', '9:00'),\n",
       "              ('NON-CRIMINAL',\n",
       "               'FOUND_PROPERTY',\n",
       "               'TENDERLOIN',\n",
       "               'NONE',\n",
       "               '300_Block_of_EDDY_ST')): 1,\n",
       "             (('2/3/13', '2:30'),\n",
       "              ('VEHICLE_THEFT',\n",
       "               'ATTEMPTED_STOLEN_VEHICLE',\n",
       "               'CENTRAL',\n",
       "               'NONE',\n",
       "               '400_Block_of_MASON_ST')): 1,\n",
       "             (('4/11/13', '17:39'),\n",
       "              ('WARRANTS',\n",
       "               'WARRANT_ARREST',\n",
       "               'TENDERLOIN',\n",
       "               'NONE',\n",
       "               '500_Block_of_ELLIS_ST')): 1,\n",
       "             (('10/1/13', '15:00'),\n",
       "              ('MISSING_PERSON',\n",
       "               'MISSING_ADULT',\n",
       "               'SOUTHERN',\n",
       "               'LOCATED',\n",
       "               '100_Block_of_9TH_ST')): 1,\n",
       "             (('8/16/13', '23:00'),\n",
       "              ('BURGLARY',\n",
       "               'BURGLARY_OF_WAREHOUSE/FORCIBLE_ENTRY',\n",
       "               'SOUTHERN',\n",
       "               'NONE',\n",
       "               '700_Block_of_6TH_ST')): 1,\n",
       "             (('8/30/13', '15:40'),\n",
       "              ('PROSTITUTION',\n",
       "               'HUMAN_TRAFFICKING',\n",
       "               'SOUTHERN',\n",
       "               'NONE',\n",
       "               '1000_Block_of_MISSION_ST')): 1,\n",
       "             (('10/5/14', '12:00'),\n",
       "              ('OTHER_OFFENSES',\n",
       "               'FALSE_PERSONATION_TO_RECEIVE_MONEY_OR_PROPERTY',\n",
       "               'INGLESIDE',\n",
       "               'NONE',\n",
       "               '300_Block_of_MOLIMO_DR')): 1,\n",
       "             (('9/6/14', '12:16'),\n",
       "              ('NON-CRIMINAL',\n",
       "               'CIVIL_SIDEWALKS/CITATION',\n",
       "               'PARK',\n",
       "               'NONE',\n",
       "               '1400_Block_of_HAIGHT_ST')): 1,\n",
       "             (('5/6/14', '12:30'),\n",
       "              ('LARCENY/THEFT',\n",
       "               'GRAND_THEFT_FROM_LOCKED_AUTO',\n",
       "               'PARK',\n",
       "               'NONE',\n",
       "               '1800_Block_of_WALLER_ST')): 1,\n",
       "             (('10/2/13', '16:21'),\n",
       "              ('LARCENY/THEFT',\n",
       "               'GRAND_THEFT_OF_PROPERTY',\n",
       "               'NORTHERN',\n",
       "               'NONE',\n",
       "               '500_Block_of_HAYES_ST')): 1,\n",
       "             (('4/24/13', '7:01'),\n",
       "              ('OTHER_OFFENSES',\n",
       "               'DRIVERS_LICENSE/SUSPENDED_OR_REVOKED',\n",
       "               'BAYVIEW',\n",
       "               'ARREST/CITED',\n",
       "               'SILVER_AV/REVERE_AV')): 1,\n",
       "             (('5/11/14', '2:00'),\n",
       "              ('NON-CRIMINAL',\n",
       "               'LOST_PROPERTY',\n",
       "               'SOUTHERN',\n",
       "               'NONE',\n",
       "               '300_Block_of_11TH_ST')): 1,\n",
       "             (('12/22/14', '21:30'),\n",
       "              ('LARCENY/THEFT',\n",
       "               'GRAND_THEFT_FROM_PERSON',\n",
       "               'CENTRAL',\n",
       "               'NONE',\n",
       "               'PACIFIC_AV/POWELL_ST')): 1,\n",
       "             (('9/25/13', '18:30'),\n",
       "              ('STOLEN_PROPERTY',\n",
       "               'STOLEN_PROPERTY/POSSESSION_WITH_KNOWLEDGE/RECEIVING',\n",
       "               'CENTRAL',\n",
       "               'ARREST/BOOKED',\n",
       "               '200_Block_of_MONTGOMERY_ST')): 1,\n",
       "             (('3/29/15', '16:00'),\n",
       "              ('SEX_OFFENSES/FORCIBLE',\n",
       "               'CHILD_ABUSE/PORNOGRAPHY',\n",
       "               'TARAVAL',\n",
       "               'NONE',\n",
       "               'OCEAN_AV/MIRAMAR_AV')): 1,\n",
       "             (('9/9/14', '16:30'),\n",
       "              ('LARCENY/THEFT',\n",
       "               'PETTY_THEFT_OF_PROPERTY',\n",
       "               'SOUTHERN',\n",
       "               'NONE',\n",
       "               '700_Block_of_MISSION_ST')): 1,\n",
       "             (('12/4/14', '18:40'),\n",
       "              ('OTHER_OFFENSES',\n",
       "               'POSSESSION_OF_BURGLARY_TOOLS',\n",
       "               'NORTHERN',\n",
       "               'ARREST/BOOKED',\n",
       "               '600_Block_of_LARKIN_ST')): 1,\n",
       "             (('3/22/13', '9:27'),\n",
       "              ('WEAPON_LAWS',\n",
       "               'WEAPON/ASSAULT/POSSESSION/MANUFACTURE/OR_SALE',\n",
       "               'TARAVAL',\n",
       "               'ARREST/BOOKED',\n",
       "               '0_Block_of_BYXBEE_ST')): 1,\n",
       "             (('9/24/13', '18:17'),\n",
       "              ('LARCENY/THEFT',\n",
       "               'GRAND_THEFT_FROM_LOCKED_AUTO',\n",
       "               'TENDERLOIN',\n",
       "               'NONE',\n",
       "               '300_Block_of_GOLDEN_GATE_AV')): 1,\n",
       "             (('4/14/15', '13:45'),\n",
       "              ('LARCENY/THEFT',\n",
       "               'GRAND_THEFT_FROM_LOCKED_AUTO',\n",
       "               'TENDERLOIN',\n",
       "               'NONE',\n",
       "               '0_Block_of_MASON_ST')): 1,\n",
       "             (('1/22/14', '4:54'),\n",
       "              ('STOLEN_PROPERTY',\n",
       "               'STOLEN_PROPERTY/POSSESSION_WITH_KNOWLEDGE/RECEIVING',\n",
       "               'TARAVAL',\n",
       "               'ARREST/BOOKED',\n",
       "               '2100_Block_of_12TH_AV')): 1,\n",
       "             (('6/21/14', '18:39'),\n",
       "              ('NON-CRIMINAL',\n",
       "               'AIDED_CASE/MENTAL_DISTURBED',\n",
       "               'NORTHERN',\n",
       "               'PSYCHOPATHIC_CASE',\n",
       "               '2300_Block_of_PACIFIC_AV')): 1,\n",
       "             (('1/11/13', '12:00'),\n",
       "              ('ASSAULT',\n",
       "               'INFLICT_INJURY_ON_COHABITEE',\n",
       "               'NORTHERN',\n",
       "               'NONE',\n",
       "               '0_Block_of_HERMANN_ST')): 1,\n",
       "             (('6/28/14', '18:30'),\n",
       "              ('FRAUD',\n",
       "               'CREDIT_CARD/THEFT_BY_USE_OF',\n",
       "               'SOUTHERN',\n",
       "               'NONE',\n",
       "               '600_Block_of_BRANNAN_ST')): 1,\n",
       "             (('7/14/14', '10:16'),\n",
       "              ('OTHER_OFFENSES',\n",
       "               'DRIVERS_LICENSE/SUSPENDED_OR_REVOKED',\n",
       "               'PARK',\n",
       "               'ARREST/CITED',\n",
       "               'HAIGHT_ST/CLAYTON_ST')): 1,\n",
       "             (('8/18/13', '2:05'),\n",
       "              ('ASSAULT',\n",
       "               'AGGRAVATED_ASSAULT_WITH_BODILY_FORCE',\n",
       "               'SOUTHERN',\n",
       "               'ARREST/BOOKED',\n",
       "               '500_Block_of_5TH_ST')): 1,\n",
       "             (('1/27/14', '16:30'),\n",
       "              ('LARCENY/THEFT',\n",
       "               'GRAND_THEFT_FROM_LOCKED_AUTO',\n",
       "               'NORTHERN',\n",
       "               'NONE',\n",
       "               'PAGE_ST/LAGUNA_ST')): 1,\n",
       "             (('12/29/14', '16:30'),\n",
       "              ('SUSPICIOUS_OCC',\n",
       "               'SUSPICIOUS_OCCURRENCE',\n",
       "               'SOUTHERN',\n",
       "               'NONE',\n",
       "               '800_Block_of_BRYANT_ST')): 1,\n",
       "             (('3/8/15', '22:00'),\n",
       "              ('LARCENY/THEFT',\n",
       "               'PETTY_THEFT_FROM_LOCKED_AUTO',\n",
       "               'RICHMOND',\n",
       "               'NONE',\n",
       "               'SACRAMENTO_ST/SPRUCE_ST')): 1,\n",
       "             (('3/15/13', '0:11'),\n",
       "              ('ASSAULT',\n",
       "               'INFLICT_INJURY_ON_COHABITEE',\n",
       "               'BAYVIEW',\n",
       "               'ARREST/BOOKED',\n",
       "               '1400_Block_of_REVERE_AV')): 1,\n",
       "             (('5/12/15', '21:08'),\n",
       "              ('LARCENY/THEFT',\n",
       "               'THEFT_OF_COMPUTERS_OR_CELL_PHONES',\n",
       "               'CENTRAL',\n",
       "               'NONE',\n",
       "               '700_Block_of_POST_ST')): 1,\n",
       "             (('1/2/15', '12:00'),\n",
       "              ('ASSAULT',\n",
       "               'ELDER_ADULT_OR_DEPENDENT_ABUSE_(NOT_EMBEZZLEMENT_OR_THEFT)',\n",
       "               'NORTHERN',\n",
       "               'NONE',\n",
       "               '300_Block_of_FULTON_ST')): 1,\n",
       "             (('10/29/13', '2:30'),\n",
       "              ('NON-CRIMINAL',\n",
       "               'FOUND_PROPERTY',\n",
       "               'RICHMOND',\n",
       "               'NONE',\n",
       "               'FULTON_ST/10TH_AV')): 1,\n",
       "             (('6/14/14', '18:00'),\n",
       "              ('SECONDARY_CODES',\n",
       "               'ATM_RELATED_CRIME',\n",
       "               'TARAVAL',\n",
       "               'NONE',\n",
       "               '1800_Block_of_19TH_AV')): 1,\n",
       "             (('7/26/13', '14:50'),\n",
       "              ('OTHER_OFFENSES',\n",
       "               'DRIVERS_LICENSE/SUSPENDED_OR_REVOKED',\n",
       "               'NORTHERN',\n",
       "               'ARREST/CITED',\n",
       "               'VANNESS_AV/MCALLISTER_ST')): 1,\n",
       "             (('5/20/15', '17:49'),\n",
       "              ('DRUG/NARCOTIC',\n",
       "               'POSSESSION_OF_METH-AMPHETAMINE',\n",
       "               'BAYVIEW',\n",
       "               'ARREST/BOOKED',\n",
       "               '200_Block_of_QUINT_ST')): 1,\n",
       "             (('8/15/14', '20:00'),\n",
       "              ('LARCENY/THEFT',\n",
       "               'PETTY_THEFT_SHOPLIFTING',\n",
       "               'TARAVAL',\n",
       "               'ARREST/CITED',\n",
       "               '3200_Block_of_20TH_AV')): 1,\n",
       "             (('3/24/14', '7:35'),\n",
       "              ('NON-CRIMINAL',\n",
       "               'AIDED_CASE/DOG_BITE',\n",
       "               'RICHMOND',\n",
       "               'NONE',\n",
       "               '8TH_AV/LAKE_ST')): 1,\n",
       "             (('3/5/15', '18:30'),\n",
       "              ('LARCENY/THEFT',\n",
       "               'PETTY_THEFT_FROM_LOCKED_AUTO',\n",
       "               'NORTHERN',\n",
       "               'NONE',\n",
       "               'FRANKLIN_ST/UNION_ST')): 1,\n",
       "             (('3/23/14', '11:20'),\n",
       "              ('LARCENY/THEFT',\n",
       "               'PETTY_THEFT_FROM_A_BUILDING',\n",
       "               'TARAVAL',\n",
       "               'NONE',\n",
       "               '3200_Block_of_20TH_AV')): 1,\n",
       "             (('1/31/15', '1:15'),\n",
       "              ('NON-CRIMINAL',\n",
       "               'LOST_PROPERTY',\n",
       "               'PARK',\n",
       "               'NONE',\n",
       "               '0_Block_of_DELMAR_ST')): 1,\n",
       "             (('10/14/14', '8:30'),\n",
       "              ('LARCENY/THEFT',\n",
       "               'GRAND_THEFT_FROM_LOCKED_AUTO',\n",
       "               'CENTRAL',\n",
       "               'NONE',\n",
       "               'MASON_ST/NORTHPOINT_ST')): 1,\n",
       "             (('11/18/14', '16:14'),\n",
       "              ('NON-CRIMINAL',\n",
       "               'AIDED_CASE/MENTAL_DISTURBED',\n",
       "               'RICHMOND',\n",
       "               'EXCEPTIONAL_CLEARANCE',\n",
       "               '200_Block_of_PARKER_AV')): 1,\n",
       "             (('11/22/14', '14:51'),\n",
       "              ('ASSAULT',\n",
       "               'BATTERY',\n",
       "               'SOUTHERN',\n",
       "               'NONE',\n",
       "               '1500_Block_of_MARKET_ST')): 1,\n",
       "             (('11/17/14', '18:45'),\n",
       "              ('WARRANTS',\n",
       "               'WARRANT_ARREST',\n",
       "               'MISSION',\n",
       "               'ARREST/BOOKED',\n",
       "               '13TH_ST/HARRISON_ST')): 1,\n",
       "             (('8/16/13', '6:00'),\n",
       "              ('VANDALISM',\n",
       "               'MALICIOUS_MISCHIEF/VANDALISM_OF_VEHICLES',\n",
       "               'SOUTHERN',\n",
       "               'NONE',\n",
       "               '800_Block_of_BRYANT_ST')): 1,\n",
       "             (('9/16/14', '20:12'),\n",
       "              ('MISSING_PERSON',\n",
       "               'FOUND_PERSON',\n",
       "               'INGLESIDE',\n",
       "               'NONE',\n",
       "               '100_Block_of_PERSIA_AV')): 1,\n",
       "             (('12/6/13', '16:00'),\n",
       "              ('NON-CRIMINAL',\n",
       "               'LOST_PROPERTY',\n",
       "               'NORTHERN',\n",
       "               'NONE',\n",
       "               '300_Block_of_VANNESS_AV')): 1,\n",
       "             (('5/18/14', '12:35'),\n",
       "              ('ASSAULT',\n",
       "               'BATTERY',\n",
       "               'PARK',\n",
       "               'NONE',\n",
       "               'DIVISADERO_ST/HAYES_ST')): 1,\n",
       "             (('8/28/13', '0:01'),\n",
       "              ('VEHICLE_THEFT',\n",
       "               'STOLEN_MOTORCYCLE',\n",
       "               'RICHMOND',\n",
       "               'NONE',\n",
       "               '400_Block_of_23RD_AV')): 1,\n",
       "             (('4/20/13', '12:00'),\n",
       "              ('BURGLARY',\n",
       "               'BURGLARY_OF_RESIDENCE/UNLAWFUL_ENTRY',\n",
       "               'PARK',\n",
       "               'NONE',\n",
       "               '700_Block_of_SHRADER_ST')): 1,\n",
       "             (('1/4/15', '2:00'),\n",
       "              ('LARCENY/THEFT',\n",
       "               'GRAND_THEFT_FROM_PERSON',\n",
       "               'TENDERLOIN',\n",
       "               'NONE',\n",
       "               '100_Block_of_ELLIS_ST')): 1,\n",
       "             (('5/19/13', '14:15'),\n",
       "              ('LARCENY/THEFT',\n",
       "               'GRAND_THEFT_FROM_LOCKED_AUTO',\n",
       "               'NORTHERN',\n",
       "               'NONE',\n",
       "               'GOUGH_ST/GOLDEN_GATE_AV')): 1,\n",
       "             (('11/10/13', '16:30'),\n",
       "              ('VEHICLE_THEFT',\n",
       "               'STOLEN_AUTOMOBILE',\n",
       "               'NORTHERN',\n",
       "               'NONE',\n",
       "               '400_Block_of_HAYES_ST')): 1,\n",
       "             (('2/1/15', '0:01'),\n",
       "              ('FRAUD',\n",
       "               'FRAUDULENT_CREDIT_APPLICATION',\n",
       "               'MISSION',\n",
       "               'NONE',\n",
       "               '100_Block_of_GRANDVIEW_AV')): 1,\n",
       "             (('5/8/13', '8:09'),\n",
       "              ('ASSAULT',\n",
       "               'BATTERY',\n",
       "               'NORTHERN',\n",
       "               'NONE',\n",
       "               '1400_Block_of_FILLMORE_ST')): 1,\n",
       "             (('4/17/15', '17:19'),\n",
       "              ('OTHER_OFFENSES',\n",
       "               'HARASSING_PHONE_CALLS',\n",
       "               'BAYVIEW',\n",
       "               'NONE',\n",
       "               '1000_Block_of_INGERSON_AV')): 1,\n",
       "             (('11/26/14', '8:30'),\n",
       "              ('LARCENY/THEFT',\n",
       "               'GRAND_THEFT_FROM_UNLOCKED_AUTO',\n",
       "               'SOUTHERN',\n",
       "               'NONE',\n",
       "               '5TH_ST/HARRISON_ST')): 1,\n",
       "             (('1/19/15', '1:00'),\n",
       "              ('LARCENY/THEFT',\n",
       "               'GRAND_THEFT_FROM_UNLOCKED_AUTO',\n",
       "               'NORTHERN',\n",
       "               'NONE',\n",
       "               '2300_Block_of_FRANKLIN_ST')): 1,\n",
       "             (('10/22/14', '8:30'),\n",
       "              ('LARCENY/THEFT',\n",
       "               'PETTY_THEFT_SHOPLIFTING',\n",
       "               'SOUTHERN',\n",
       "               'ARREST/BOOKED',\n",
       "               '700_Block_of_MISSION_ST')): 1,\n",
       "             (('11/24/14', '14:00'),\n",
       "              ('LARCENY/THEFT',\n",
       "               'GRAND_THEFT_FROM_LOCKED_AUTO',\n",
       "               'RICHMOND',\n",
       "               'NONE',\n",
       "               '500_Block_of_JOHNFKENNEDY_DR')): 1,\n",
       "             (('2/1/13', '18:00'),\n",
       "              ('SUICIDE',\n",
       "               'ATTEMPTED_SUICIDE_BY_STRANGULATION',\n",
       "               'RICHMOND',\n",
       "               'PSYCHOPATHIC_CASE',\n",
       "               '700_Block_of_LA_PLAYA_ST')): 1,\n",
       "             (('7/18/13', '14:00'),\n",
       "              ('LARCENY/THEFT',\n",
       "               'PETTY_THEFT_OF_PROPERTY',\n",
       "               'MISSION',\n",
       "               'NONE',\n",
       "               '4100_Block_of_19TH_ST')): 1,\n",
       "             (('6/9/15', '22:50'),\n",
       "              ('ROBBERY',\n",
       "               'ROBBERY/BODILY_FORCE',\n",
       "               'MISSION',\n",
       "               'NONE',\n",
       "               '200_Block_of_14TH_ST')): 1,\n",
       "             (('11/29/14', '21:00'),\n",
       "              ('LARCENY/THEFT',\n",
       "               'GRAND_THEFT_FROM_LOCKED_AUTO',\n",
       "               'NORTHERN',\n",
       "               'NONE',\n",
       "               'LARKIN_ST/FERN_ST')): 1,\n",
       "             (('8/5/14', '23:40'),\n",
       "              ('SUSPICIOUS_OCC',\n",
       "               'INVESTIGATIVE_DETENTION',\n",
       "               'INGLESIDE',\n",
       "               'NONE',\n",
       "               '5600_Block_of_MISSION_ST')): 1,\n",
       "             (('7/4/15', '18:30'),\n",
       "              ('OTHER_OFFENSES',\n",
       "               'DRIVERS_LICENSE/SUSPENDED_OR_REVOKED',\n",
       "               'NORTHERN',\n",
       "               'ARREST/BOOKED',\n",
       "               'BUCHANAN_ST/EDDY_ST')): 1,\n",
       "             (('12/14/14', '19:00'),\n",
       "              ('NON-CRIMINAL',\n",
       "               'TARASOFF_REPORT',\n",
       "               'TARAVAL',\n",
       "               'NONE',\n",
       "               '1400_Block_of_29TH_AV')): 1,\n",
       "             (('10/7/13', '18:00'),\n",
       "              ('LARCENY/THEFT',\n",
       "               'PETTY_THEFT_SHOPLIFTING',\n",
       "               'INGLESIDE',\n",
       "               'ARREST/BOOKED',\n",
       "               '4900_Block_of_MISSION_ST')): 1,\n",
       "             (('9/28/13', '11:07'),\n",
       "              ('VANDALISM',\n",
       "               'MALICIOUS_MISCHIEF/VANDALISM_OF_VEHICLES',\n",
       "               'NORTHERN',\n",
       "               'NONE',\n",
       "               '600_Block_of_TURK_ST')): 1,\n",
       "             (('2/24/14', '18:30'),\n",
       "              ('ASSAULT',\n",
       "               'THREATS_AGAINST_LIFE',\n",
       "               'NORTHERN',\n",
       "               'NONE',\n",
       "               '2900_Block_of_VANNESS_AV')): 1,\n",
       "             (('6/5/15', '11:12'),\n",
       "              ('ASSAULT',\n",
       "               'AGGRAVATED_ASSAULT_WITH_BODILY_FORCE',\n",
       "               'SOUTHERN',\n",
       "               'NONE',\n",
       "               '700_Block_of_MARKET_ST')): 1,\n",
       "             (('4/4/15', '11:00'),\n",
       "              ('ASSAULT',\n",
       "               'BATTERY',\n",
       "               'INGLESIDE',\n",
       "               'NONE',\n",
       "               '100_Block_of_CORTLAND_AV')): 1,\n",
       "             (('1/17/15', '16:00'),\n",
       "              ('SECONDARY_CODES',\n",
       "               'ATM_RELATED_CRIME',\n",
       "               'TENDERLOIN',\n",
       "               'NONE',\n",
       "               '0_Block_of_POWELL_ST')): 1,\n",
       "             (('10/31/14', '10:30'),\n",
       "              ('LARCENY/THEFT',\n",
       "               'GRAND_THEFT_FROM_PERSON',\n",
       "               'TENDERLOIN',\n",
       "               'NONE',\n",
       "               'HYDE_ST/OFARRELL_ST')): 1,\n",
       "             (('3/6/14', '3:30'),\n",
       "              ('LARCENY/THEFT',\n",
       "               'PETTY_THEFT_SHOPLIFTING',\n",
       "               'TENDERLOIN',\n",
       "               'ARREST/CITED',\n",
       "               '0_Block_of_OFARRELL_ST')): 1,\n",
       "             (('5/22/14', '13:00'),\n",
       "              ('NON-CRIMINAL',\n",
       "               'FOUND_PROPERTY',\n",
       "               'SOUTHERN',\n",
       "               'NONE',\n",
       "               '800_Block_of_BRYANT_ST')): 1,\n",
       "             (('5/6/13', '8:50'),\n",
       "              ('NON-CRIMINAL',\n",
       "               'AIDED_CASE/MENTAL_DISTURBED',\n",
       "               'MISSION',\n",
       "               'PSYCHOPATHIC_CASE',\n",
       "               '200_Block_of_DIAMOND_ST')): 1,\n",
       "             (('10/30/14', '13:16'),\n",
       "              ('OTHER_OFFENSES',\n",
       "               'RESISTING_ARREST',\n",
       "               'BAYVIEW',\n",
       "               'ARREST/BOOKED',\n",
       "               'INGALLS_ST/OAKDALE_AV')): 1,\n",
       "             (('3/30/15', '16:00'),\n",
       "              ('LARCENY/THEFT',\n",
       "               'GRAND_THEFT_FROM_LOCKED_AUTO',\n",
       "               'RICHMOND',\n",
       "               'NONE',\n",
       "               '500_Block_of_JOHNFKENNEDY_DR')): 1,\n",
       "             (('8/30/14', '19:00'),\n",
       "              ('BURGLARY',\n",
       "               'BURGLARY/HOT_PROWL/UNLAWFUL_ENTRY',\n",
       "               'INGLESIDE',\n",
       "               'NONE',\n",
       "               '0_Block_of_COLLEGE_AV')): 1,\n",
       "             (('3/29/13', '22:35'),\n",
       "              ('ASSAULT',\n",
       "               'DISCHARGING_IN_GROSSLY_NEGLIGENT_MANNER',\n",
       "               'RICHMOND',\n",
       "               'NONE',\n",
       "               '2500_Block_of_SUTTER_ST')): 1,\n",
       "             (('3/24/14', '23:30'),\n",
       "              ('VEHICLE_THEFT',\n",
       "               'STOLEN_AUTOMOBILE',\n",
       "               'MISSION',\n",
       "               'NONE',\n",
       "               '19TH_ST/FLORIDA_ST')): 1,\n",
       "             (('7/4/13', '8:04'),\n",
       "              ('LARCENY/THEFT',\n",
       "               'PETTY_THEFT_FROM_A_BUILDING',\n",
       "               'CENTRAL',\n",
       "               'NONE',\n",
       "               '300_Block_of_POWELL_ST')): 1,\n",
       "             (('4/16/14', '17:00'),\n",
       "              ('ASSAULT',\n",
       "               'BATTERY/FORMER_SPOUSE_OR_DATING_RELATIONSHIP',\n",
       "               'INGLESIDE',\n",
       "               'NONE',\n",
       "               '0_Block_of_STONEYBROOK_AV')): 1,\n",
       "             (('8/13/14', '10:23'),\n",
       "              ('ROBBERY',\n",
       "               'ROBBERY_OF_A_CHAIN_STORE_WITH_BODILY_FORCE',\n",
       "               'TENDERLOIN',\n",
       "               'ARREST/BOOKED',\n",
       "               '0_Block_of_OFARRELL_ST')): 1,\n",
       "             (('1/23/15', '22:35'),\n",
       "              ('OTHER_OFFENSES',\n",
       "               'DRIVERS_LICENSE/SUSPENDED_OR_REVOKED',\n",
       "               'SOUTHERN',\n",
       "               'ARREST/BOOKED',\n",
       "               'HARRISON_ST/7TH_ST')): 1,\n",
       "             (('6/2/15', '11:35'),\n",
       "              ('OTHER_OFFENSES',\n",
       "               'TRAFFIC_VIOLATION_ARREST',\n",
       "               'CENTRAL',\n",
       "               'ARREST/BOOKED',\n",
       "               '1300_Block_of_CALIFORNIA_ST')): 1,\n",
       "             (('3/24/13', '11:30'),\n",
       "              ('LARCENY/THEFT',\n",
       "               'GRAND_THEFT_FROM_LOCKED_AUTO',\n",
       "               'CENTRAL',\n",
       "               'NONE',\n",
       "               'LEAVENWORTH_ST/GREENWICH_ST')): 1,\n",
       "             (('3/29/15', '0:01'),\n",
       "              ('VEHICLE_THEFT',\n",
       "               'STOLEN_AUTOMOBILE',\n",
       "               'CENTRAL',\n",
       "               'NONE',\n",
       "               'TAYLOR_ST/BUSH_ST')): 1,\n",
       "             (('1/19/14', '2:00'),\n",
       "              ('MISSING_PERSON',\n",
       "               'FOUND_PERSON',\n",
       "               'INGLESIDE',\n",
       "               'PSYCHOPATHIC_CASE',\n",
       "               '500_Block_of_MADRID_ST')): 1,\n",
       "             (('4/23/14', '21:00'),\n",
       "              ('SECONDARY_CODES',\n",
       "               'DOMESTIC_VIOLENCE',\n",
       "               'BAYVIEW',\n",
       "               'ARREST/BOOKED',\n",
       "               '700_Block_of_KIRKWOOD_AV')): 1,\n",
       "             (('12/31/13', '18:34'),\n",
       "              ('LARCENY/THEFT',\n",
       "               'PETTY_THEFT_OF_PROPERTY',\n",
       "               'SOUTHERN',\n",
       "               'NONE',\n",
       "               '300_Block_of_SPEAR_ST')): 1,\n",
       "             (('1/10/15', '12:03'),\n",
       "              ('ASSAULT',\n",
       "               'THREATS_AGAINST_LIFE',\n",
       "               'SOUTHERN',\n",
       "               'NONE',\n",
       "               '1000_Block_of_MARKET_ST')): 1,\n",
       "             (('10/15/14', '8:20'),\n",
       "              ('OTHER_OFFENSES',\n",
       "               'DRIVERS_LICENSE/SUSPENDED_OR_REVOKED',\n",
       "               'TARAVAL',\n",
       "               'ARREST/CITED',\n",
       "               'ULLOA_ST/24TH_AV')): 1,\n",
       "             (('6/29/14', '19:00'),\n",
       "              ('LARCENY/THEFT',\n",
       "               'PETTY_THEFT_OF_PROPERTY',\n",
       "               'CENTRAL',\n",
       "               'NONE',\n",
       "               '2200_Block_of_STOCKTON_ST')): 1,\n",
       "             (('9/18/14', '19:00'),\n",
       "              ('VANDALISM',\n",
       "               'MALICIOUS_MISCHIEF/VANDALISM',\n",
       "               'MISSION',\n",
       "               'ARREST/BOOKED',\n",
       "               '600_Block_of_VALENCIA_ST')): 1,\n",
       "             (('7/28/14', '20:00'),\n",
       "              ('LARCENY/THEFT',\n",
       "               'PETTY_THEFT_OF_PROPERTY',\n",
       "               'MISSION',\n",
       "               'NONE',\n",
       "               'GUERRERO_ST/16TH_ST')): 1,\n",
       "             (('2/28/15', '9:30'),\n",
       "              ('LARCENY/THEFT',\n",
       "               'GRAND_THEFT_FROM_LOCKED_AUTO',\n",
       "               'NORTHERN',\n",
       "               'NONE',\n",
       "               '3200_Block_of_BAKER_ST')): 1,\n",
       "             (('8/31/14', '12:00'),\n",
       "              ('ASSAULT',\n",
       "               'ELDER_ADULT_OR_DEPENDENT_ABUSE_(NOT_EMBEZZLEMENT_OR_THEFT)',\n",
       "               'INGLESIDE',\n",
       "               'NONE',\n",
       "               '3800_Block_of_MISSION_ST')): 1,\n",
       "             (('3/25/13', '20:00'),\n",
       "              ('ROBBERY',\n",
       "               'ROBBERY_ON_THE_STREET/STRONGARM',\n",
       "               'SOUTHERN',\n",
       "               'NONE',\n",
       "               '100_Block_of_4TH_ST')): 1,\n",
       "             (('5/2/15', '20:00'),\n",
       "              ('SUSPICIOUS_OCC',\n",
       "               'SUSPICIOUS_OCCURRENCE',\n",
       "               'NORTHERN',\n",
       "               'NONE',\n",
       "               'GREENWICH_ST/BUCHANAN_ST')): 1,\n",
       "             (('5/4/13', '23:20'),\n",
       "              ('ASSAULT',\n",
       "               'BATTERY/FORMER_SPOUSE_OR_DATING_RELATIONSHIP',\n",
       "               'TENDERLOIN',\n",
       "               'ARREST/BOOKED',\n",
       "               '500_Block_of_JONES_ST')): 1,\n",
       "             (('5/7/14', '13:05'),\n",
       "              ('LARCENY/THEFT',\n",
       "               'GRAND_THEFT_FROM_LOCKED_AUTO',\n",
       "               'CENTRAL',\n",
       "               'NONE',\n",
       "               '2200_Block_of_HYDE_ST')): 1,\n",
       "             (('5/15/14', '9:00'),\n",
       "              ('VEHICLE_THEFT',\n",
       "               'STOLEN_AUTOMOBILE',\n",
       "               'NORTHERN',\n",
       "               'NONE',\n",
       "               'POST_ST/LARKIN_ST')): 1,\n",
       "             (('3/7/14', '20:44'),\n",
       "              ('OTHER_OFFENSES',\n",
       "               'DRIVERS_LICENSE/SUSPENDED_OR_REVOKED',\n",
       "               'BAYVIEW',\n",
       "               'ARREST/CITED',\n",
       "               'CESAR_CHAVEZ_ST/CONNECTICUT_ST')): 1,\n",
       "             (('2/12/15', '22:00'),\n",
       "              ('SUSPICIOUS_OCC',\n",
       "               'SUSPICIOUS_OCCURRENCE',\n",
       "               'RICHMOND',\n",
       "               'NONE',\n",
       "               '600_Block_of_ARGUELLO_BL')): 1,\n",
       "             (('5/27/14', '9:10'),\n",
       "              ('ASSAULT',\n",
       "               'ASSAULT',\n",
       "               'CENTRAL',\n",
       "               'NONE',\n",
       "               '200_Block_of_BUSH_ST')): 1,\n",
       "             (('3/26/14', '17:45'),\n",
       "              ('LIQUOR_LAWS',\n",
       "               'SALE_OF_ALCOHOL_TO_MINOR',\n",
       "               'SOUTHERN',\n",
       "               'ARREST/CITED',\n",
       "               '400_Block_of_3RD_ST')): 1,\n",
       "             (('9/19/14', '7:00'),\n",
       "              ('BURGLARY',\n",
       "               'BURGLARY_OF_APARTMENT_HOUSE/UNLAWFUL_ENTRY',\n",
       "               'NORTHERN',\n",
       "               'ARREST/BOOKED',\n",
       "               '500_Block_of_STEINER_ST')): 1,\n",
       "             (('7/5/14', '15:30'),\n",
       "              ('LARCENY/THEFT',\n",
       "               'PETTY_THEFT_FROM_A_BUILDING',\n",
       "               'RICHMOND',\n",
       "               'NONE',\n",
       "               '4500_Block_of_CALIFORNIA_ST')): 1,\n",
       "             (('5/7/14', '15:53'),\n",
       "              ('OTHER_OFFENSES',\n",
       "               'DRIVERS_LICENSE/SUSPENDED_OR_REVOKED',\n",
       "               'SOUTHERN',\n",
       "               'ARREST/CITED',\n",
       "               '3RD_ST/SOUTHPARK_AV')): 1,\n",
       "             (('4/24/14', '18:57'),\n",
       "              ('SECONDARY_CODES',\n",
       "               'DOMESTIC_VIOLENCE',\n",
       "               'BAYVIEW',\n",
       "               'NONE',\n",
       "               '1400_Block_of_OAKDALE_AV')): 1,\n",
       "             (('5/15/15', '16:00'),\n",
       "              ('ASSAULT',\n",
       "               'THREATS_AGAINST_LIFE',\n",
       "               'TENDERLOIN',\n",
       "               'NONE',\n",
       "               '0_Block_of_MCALLISTER_ST')): 1,\n",
       "             (('4/18/15', '23:30'),\n",
       "              ('LARCENY/THEFT',\n",
       "               'PETTY_THEFT_OF_PROPERTY',\n",
       "               'SOUTHERN',\n",
       "               'NONE',\n",
       "               '3RD_ST/HARRISON_ST')): 1,\n",
       "             (('5/15/14', '0:01'),\n",
       "              ('SUSPICIOUS_OCC',\n",
       "               'SUSPICIOUS_OCCURRENCE',\n",
       "               'MISSION',\n",
       "               'NONE',\n",
       "               '100_Block_of_CAPP_ST')): 1,\n",
       "             (('7/16/13', '8:50'),\n",
       "              ('LARCENY/THEFT',\n",
       "               'GRAND_THEFT_FROM_PERSON',\n",
       "               'NORTHERN',\n",
       "               'NONE',\n",
       "               'ELLIS_ST/GOUGH_ST')): 1,\n",
       "             (('1/17/13', '20:00'),\n",
       "              ('LARCENY/THEFT',\n",
       "               'GRAND_THEFT_FROM_LOCKED_AUTO',\n",
       "               'SOUTHERN',\n",
       "               'NONE',\n",
       "               'FOLSOM_ST/THE_EMBARCADEROSOUTH_ST')): 1,\n",
       "             (('11/3/13', '14:53'),\n",
       "              ('NON-CRIMINAL',\n",
       "               'DEATH_REPORT/CAUSE_UNKNOWN',\n",
       "               'SOUTHERN',\n",
       "               'NONE',\n",
       "               '100_Block_of_6TH_ST')): 1,\n",
       "             (('8/9/13', '14:00'),\n",
       "              ('LARCENY/THEFT',\n",
       "               'GRAND_THEFT_OF_PROPERTY',\n",
       "               'CENTRAL',\n",
       "               'NONE',\n",
       "               '200_Block_of_CALIFORNIA_ST')): 1,\n",
       "             (('11/26/14', '7:00'),\n",
       "              ('MISSING_PERSON',\n",
       "               'FOUND_PERSON',\n",
       "               'CENTRAL',\n",
       "               'NONE',\n",
       "               '1100_Block_of_LEAVENWORTH_ST')): 1,\n",
       "             (('6/10/15', '9:15'),\n",
       "              ('DISORDERLY_CONDUCT',\n",
       "               'COMMITTING_PUBLIC_NUISANCE',\n",
       "               'CENTRAL',\n",
       "               'NONE',\n",
       "               '0_Block_of_QUINCY_ST')): 1,\n",
       "             (('3/3/15', '18:40'),\n",
       "              ('FORGERY/COUNTERFEITING',\n",
       "               'MANUFACTURE_OR_SALE_OF_COUNTERFEIT_GOODS',\n",
       "               'CENTRAL',\n",
       "               'NONE',\n",
       "               '1100_Block_of_PINE_ST')): 1,\n",
       "             (('5/20/13', '16:20'),\n",
       "              ('VANDALISM',\n",
       "               'MALICIOUS_MISCHIEF/STREET_CARS/BUSES',\n",
       "               'INGLESIDE',\n",
       "               'JUVENILE_CITED',\n",
       "               'MISSION_ST/SILVER_AV')): 1,\n",
       "             (('1/21/15', '20:30'),\n",
       "              ('LARCENY/THEFT',\n",
       "               'GRAND_THEFT_FROM_LOCKED_AUTO',\n",
       "               'NORTHERN',\n",
       "               'NONE',\n",
       "               'VANNESS_AV/OFARRELL_ST')): 1,\n",
       "             (('2/28/15', '12:42'),\n",
       "              ('LARCENY/THEFT',\n",
       "               'GRAND_THEFT_FROM_UNLOCKED_AUTO',\n",
       "               'BAYVIEW',\n",
       "               'NONE',\n",
       "               '600_Block_of_TENNESSEE_ST')): 1,\n",
       "             (('7/15/13', '17:03'),\n",
       "              ('ASSAULT',\n",
       "               'BATTERY',\n",
       "               'NORTHERN',\n",
       "               'NONE',\n",
       "               'POLK_ST/EDDY_ST')): 1,\n",
       "             (('7/28/13', '3:45'),\n",
       "              ('NON-CRIMINAL',\n",
       "               'FOUND_PROPERTY',\n",
       "               'INGLESIDE',\n",
       "               'NONE',\n",
       "               '3300_Block_of_MISSION_ST')): 1,\n",
       "             (('2/26/15', '10:36'),\n",
       "              ('LARCENY/THEFT',\n",
       "               'PETTY_THEFT_OF_PROPERTY',\n",
       "               'RICHMOND',\n",
       "               'NONE',\n",
       "               '2300_Block_of_SCOTT_ST')): 1,\n",
       "             (('4/8/14', '19:00'),\n",
       "              ('MISSING_PERSON',\n",
       "               'FOUND_PERSON',\n",
       "               'INGLESIDE',\n",
       "               'LOCATED',\n",
       "               '0_Block_of_DELTA_ST')): 1,\n",
       "             (('6/28/14', '19:00'),\n",
       "              ('LARCENY/THEFT',\n",
       "               'PETTY_THEFT_OF_PROPERTY',\n",
       "               'SOUTHERN',\n",
       "               'NONE',\n",
       "               '800_Block_of_BRYANT_ST')): 1,\n",
       "             (('6/20/15', '10:00'),\n",
       "              ('BURGLARY',\n",
       "               'BURGLARY_OF_RESIDENCE/FORCIBLE_ENTRY',\n",
       "               'TARAVAL',\n",
       "               'NONE',\n",
       "               '2400_Block_of_19TH_AV')): 1,\n",
       "             (('2/4/13', '1:30'),\n",
       "              ('MISSING_PERSON',\n",
       "               'MISSING_ADULT',\n",
       "               'BAYVIEW',\n",
       "               'LOCATED',\n",
       "               '1600_Block_of_SHAFTER_AV')): 1,\n",
       "             (('2/11/15', '20:00'),\n",
       "              ('LARCENY/THEFT',\n",
       "               'GRAND_THEFT_FROM_LOCKED_AUTO',\n",
       "               'SOUTHERN',\n",
       "               'NONE',\n",
       "               '11TH_ST/BRYANT_ST')): 1,\n",
       "             (('2/21/15', '17:15'),\n",
       "              ('OTHER_OFFENSES',\n",
       "               'TRAFFIC_VIOLATION',\n",
       "               'BAYVIEW',\n",
       "               'ARREST/BOOKED',\n",
       "               '0_Block_of_CAMERON_WY')): 1,\n",
       "             (('6/14/14', '19:30'),\n",
       "              ('LARCENY/THEFT',\n",
       "               'PETTY_THEFT_FROM_LOCKED_AUTO',\n",
       "               'SOUTHERN',\n",
       "               'NONE',\n",
       "               '10TH_ST/HARRISON_ST')): 1,\n",
       "             (('9/12/13', '11:25'),\n",
       "              ('LARCENY/THEFT',\n",
       "               'LOST_PROPERTY/PETTY_THEFT',\n",
       "               'MISSION',\n",
       "               'NONE',\n",
       "               '500_Block_of_SOUTH_VAN_NESS_AV')): 1,\n",
       "             (('4/11/14', '14:40'),\n",
       "              ('OTHER_OFFENSES',\n",
       "               'RESTRAINING_ORDER_NOTIFICATION/SERVICE_OF_RESTRAINING_ORDER',\n",
       "               'SOUTHERN',\n",
       "               'COMPLAINANT_REFUSES_TO_PROSECUTE',\n",
       "               '800_Block_of_MISSION_ST')): 1,\n",
       "             (('12/9/14', '4:00'),\n",
       "              ('ROBBERY',\n",
       "               'CARJACKING_WITH_BODILY_FORCE',\n",
       "               'MISSION',\n",
       "               'ARREST/BOOKED',\n",
       "               '14TH_ST/VALENCIA_ST')): 1,\n",
       "             (('10/31/14', '22:04'),\n",
       "              ('SUSPICIOUS_OCC',\n",
       "               'SUSPICIOUS_ACT_TOWARDS_CHILD',\n",
       "               'BAYVIEW',\n",
       "               'NONE',\n",
       "               '1300_Block_of_RHODEISLAND_ST')): 1,\n",
       "             (('5/10/14', '7:10'),\n",
       "              ('BURGLARY',\n",
       "               'BURGLARY_OF_APARTMENT_HOUSE/UNLAWFUL_ENTRY',\n",
       "               'TENDERLOIN',\n",
       "               'NONE',\n",
       "               '0_Block_of_TURK_ST')): 1,\n",
       "             (('11/22/14', '16:30'),\n",
       "              ('ASSAULT',\n",
       "               'THREATS_AGAINST_LIFE',\n",
       "               'CENTRAL',\n",
       "               'ARREST/BOOKED',\n",
       "               '900_Block_of_CALIFORNIA_ST')): 1,\n",
       "             (('3/1/15', '0:30'),\n",
       "              ('ASSAULT',\n",
       "               'THREATS_AGAINST_LIFE',\n",
       "               'CENTRAL',\n",
       "               'NONE',\n",
       "               '300_Block_of_STOCKTON_ST')): 1,\n",
       "             (('12/19/13', '20:47'),\n",
       "              ('OTHER_OFFENSES',\n",
       "               'MASSAGE_ESTABLISHMENT_PERMIT_VIOLATION',\n",
       "               'NORTHERN',\n",
       "               'EXCEPTIONAL_CLEARANCE',\n",
       "               '1100_Block_of_SUTTER_ST')): 1,\n",
       "             (('12/5/14', '12:45'),\n",
       "              ('WARRANTS',\n",
       "               'ENROUTE_TO_OUTSIDE_JURISDICTION',\n",
       "               'CENTRAL',\n",
       "               'ARREST/BOOKED',\n",
       "               '300_Block_of_CLAY_ST')): 1,\n",
       "             (('10/21/13', '10:00'),\n",
       "              ('VANDALISM',\n",
       "               'MALICIOUS_MISCHIEF/VANDALISM_OF_VEHICLES',\n",
       "               'MISSION',\n",
       "               'NONE',\n",
       "               '900_Block_of_TREAT_AV')): 1,\n",
       "             (('10/31/13', '23:48'),\n",
       "              ('NON-CRIMINAL',\n",
       "               'AIDED_CASE',\n",
       "               'PARK',\n",
       "               'NONE',\n",
       "               'HAIGHT_ST/CLAYTON_ST')): 1,\n",
       "             (('7/15/13', '17:06'),\n",
       "              ('VANDALISM',\n",
       "               'MALICIOUS_MISCHIEF/VANDALISM',\n",
       "               'TARAVAL',\n",
       "               'NONE',\n",
       "               '1500_Block_of_LINCOLN_WY')): 1,\n",
       "             (('5/18/15', '21:00'),\n",
       "              ('VEHICLE_THEFT',\n",
       "               'STOLEN_AUTOMOBILE',\n",
       "               'INGLESIDE',\n",
       "               'NONE',\n",
       "               '100_Block_of_MADISON_ST')): 1,\n",
       "             (('3/23/14', '12:00'),\n",
       "              ('LARCENY/THEFT',\n",
       "               'GRAND_THEFT_OF_PROPERTY',\n",
       "               'BAYVIEW',\n",
       "               'NONE',\n",
       "               '700_Block_of_VERMONT_ST')): 1,\n",
       "             (('7/17/14', '17:00'),\n",
       "              ('WARRANTS',\n",
       "               'ENROUTE_TO_PAROLE_OFFICER',\n",
       "               'TARAVAL',\n",
       "               'ARREST/BOOKED',\n",
       "               '1200_Block_of_IRVING_ST')): 1,\n",
       "             (('1/29/14', '12:49'),\n",
       "              ('LARCENY/THEFT',\n",
       "               'PETTY_THEFT_FROM_A_BUILDING',\n",
       "               'SOUTHERN',\n",
       "               'ARREST/CITED',\n",
       "               '900_Block_of_MISSION_ST')): 1,\n",
       "             (('7/9/13', '0:30'),\n",
       "              ('NON-CRIMINAL',\n",
       "               'CASE_CLOSURE',\n",
       "               'MISSION',\n",
       "               'COMPLAINANT_REFUSES_TO_PROSECUTE',\n",
       "               '3200_Block_of_26TH_ST')): 1,\n",
       "             (('6/26/14', '12:00'),\n",
       "              ('OTHER_OFFENSES',\n",
       "               'FALSE_PERSONATION_TO_RECEIVE_MONEY_OR_PROPERTY',\n",
       "               'SOUTHERN',\n",
       "               'NONE',\n",
       "               '800_Block_of_BRYANT_ST')): 1,\n",
       "             (('6/23/15', '0:01'),\n",
       "              ('OTHER_OFFENSES',\n",
       "               'PROBATION_VIOLATION',\n",
       "               'NORTHERN',\n",
       "               'ARREST/BOOKED',\n",
       "               '1200_Block_of_EDDY_ST')): 1,\n",
       "             (('8/25/14', '16:10'),\n",
       "              ('BURGLARY',\n",
       "               'BURGLARY/STORE_UNDER_CONSTRUCTION/UNLAWFUL_ENTRY',\n",
       "               'MISSION',\n",
       "               'ARREST/BOOKED',\n",
       "               '2000_Block_of_MARKET_ST')): 1,\n",
       "             (('8/17/13', '7:31'),\n",
       "              ('FRAUD',\n",
       "               'CREDIT_CARD/THEFT_OF',\n",
       "               'CENTRAL',\n",
       "               'ARREST/BOOKED',\n",
       "               'HARLAN_PL/GRANT_AV')): 1,\n",
       "             (('6/3/15', '18:04'),\n",
       "              ('ROBBERY',\n",
       "               'ROBBERY/ARMED_WITH_A_GUN',\n",
       "               'CENTRAL',\n",
       "               'NONE',\n",
       "               '800_Block_of_BUSH_ST')): 1,\n",
       "             (('5/8/15', '17:26'),\n",
       "              ('ASSAULT',\n",
       "               'AGGRAVATED_ASSAULT_WITH_A_DEADLY_WEAPON',\n",
       "               'CENTRAL',\n",
       "               'ARREST/BOOKED',\n",
       "               '300_Block_of_BATTERY_ST')): 1,\n",
       "             (('12/21/13', '11:34'),\n",
       "              ('VANDALISM',\n",
       "               'MALICIOUS_MISCHIEF/VANDALISM',\n",
       "               'BAYVIEW',\n",
       "               'JUVENILE_CITED',\n",
       "               '2400_Block_of_SAN_BRUNO_AV')): 1,\n",
       "             (('5/5/13', '0:37'),\n",
       "              ('ASSAULT',\n",
       "               'BATTERY',\n",
       "               'SOUTHERN',\n",
       "               'NONE',\n",
       "               '300_Block_of_9TH_ST')): 1,\n",
       "             (('6/1/15', '22:46'),\n",
       "              ('LARCENY/THEFT',\n",
       "               'PETTY_THEFT_OF_PROPERTY',\n",
       "               'SOUTHERN',\n",
       "               'NONE',\n",
       "               '9TH_ST/TEHAMA_ST')): 1,\n",
       "             (('6/1/14', '20:43'),\n",
       "              ('WARRANTS',\n",
       "               'WARRANT_ARREST',\n",
       "               'MISSION',\n",
       "               'ARREST/BOOKED',\n",
       "               '2000_Block_of_MISSION_ST')): 1,\n",
       "             (('7/20/14', '21:00'),\n",
       "              ('LARCENY/THEFT',\n",
       "               'GRAND_THEFT_FROM_LOCKED_AUTO',\n",
       "               'CENTRAL',\n",
       "               'NONE',\n",
       "               '1200_Block_of_FILBERT_ST')): 1,\n",
       "             (('9/8/14', '23:10'),\n",
       "              ('NON-CRIMINAL',\n",
       "               'AIDED_CASE/MENTAL_DISTURBED',\n",
       "               'MISSION',\n",
       "               'PSYCHOPATHIC_CASE',\n",
       "               '16TH_ST/MISSION_ST')): 1,\n",
       "             (('10/2/13', '12:56'),\n",
       "              ('DRUG/NARCOTIC',\n",
       "               'POSSESSION_OF_MARIJUANA_FOR_SALES',\n",
       "               'PARK',\n",
       "               'ARREST/BOOKED',\n",
       "               '700_Block_of_STANYAN_ST')): 1,\n",
       "             (('2/18/13', '3:35'),\n",
       "              ('TRESPASS',\n",
       "               'TRESPASSING',\n",
       "               'CENTRAL',\n",
       "               'ARREST/BOOKED',\n",
       "               '900_Block_of_BEACH_ST')): 1,\n",
       "             (('3/30/14', '21:40'),\n",
       "              ('OTHER_OFFENSES',\n",
       "               'LOST/STOLEN_LICENSE_PLATE',\n",
       "               'INGLESIDE',\n",
       "               'NONE',\n",
       "               '200_Block_of_RUSSIA_AV')): 1,\n",
       "             (('12/17/14', '3:45'),\n",
       "              ('ROBBERY',\n",
       "               'ROBBERY/ARMED_WITH_A_GUN',\n",
       "               'SOUTHERN',\n",
       "               'NONE',\n",
       "               '800_Block_of_BRYANT_ST')): 1,\n",
       "             (('2/1/14', '0:01'),\n",
       "              ('LARCENY/THEFT',\n",
       "               'PETTY_THEFT_OF_PROPERTY',\n",
       "               'NORTHERN',\n",
       "               'NONE',\n",
       "               '1200_Block_of_POLK_ST')): 1,\n",
       "             (('4/29/15', '12:00'),\n",
       "              ('MISSING_PERSON',\n",
       "               'FOUND_PERSON',\n",
       "               'CENTRAL',\n",
       "               'NONE',\n",
       "               '0_Block_of_BUSH_ST')): 1,\n",
       "             (('4/1/14', '8:00'),\n",
       "              ('LARCENY/THEFT',\n",
       "               'GRAND_THEFT_FROM_A_BUILDING',\n",
       "               'INGLESIDE',\n",
       "               'NONE',\n",
       "               '900_Block_of_FAXON_AV')): 1,\n",
       "             (('2/8/13', '23:11'),\n",
       "              ('LARCENY/THEFT',\n",
       "               'PETTY_THEFT_FROM_LOCKED_AUTO',\n",
       "               'NORTHERN',\n",
       "               'NONE',\n",
       "               '1900_Block_of_LOMBARD_ST')): 1,\n",
       "             (('5/12/13', '2:00'),\n",
       "              ('VEHICLE_THEFT',\n",
       "               'STOLEN_AUTOMOBILE',\n",
       "               'TARAVAL',\n",
       "               'NONE',\n",
       "               '0_Block_of_FORESTSIDE_AV')): 1,\n",
       "             (('4/9/15', '16:44'),\n",
       "              ('OTHER_OFFENSES',\n",
       "               'DRIVERS_LICENSE/SUSPENDED_OR_REVOKED',\n",
       "               'TARAVAL',\n",
       "               'ARREST/BOOKED',\n",
       "               '100_Block_of_DENSLOWE_DR')): 1,\n",
       "             (('3/1/13', '8:00'),\n",
       "              ('OTHER_OFFENSES',\n",
       "               'FALSE_PERSONATION_TO_RECEIVE_MONEY_OR_PROPERTY',\n",
       "               'MISSION',\n",
       "               'UNFOUNDED',\n",
       "               '200_Block_of_CUMBERLAND_ST')): 1,\n",
       "             (('4/25/14', '23:45'),\n",
       "              ('LARCENY/THEFT',\n",
       "               'GRAND_THEFT_FROM_LOCKED_AUTO',\n",
       "               'TARAVAL',\n",
       "               'NONE',\n",
       "               '1800_Block_of_OCEAN_AV')): 1,\n",
       "             (('12/29/13', '6:05'),\n",
       "              ('NON-CRIMINAL',\n",
       "               'STAY_AWAY_OR_COURT_ORDER/NON-DV_RELATED',\n",
       "               'NORTHERN',\n",
       "               'NONE',\n",
       "               '1000_Block_of_POST_ST')): 1,\n",
       "             (('4/21/13', '2:00'),\n",
       "              ('BURGLARY',\n",
       "               'BURGLARY_OF_RESIDENCE/UNLAWFUL_ENTRY',\n",
       "               'NORTHERN',\n",
       "               'ARREST/BOOKED',\n",
       "               '600_Block_of_LARKIN_ST')): 1,\n",
       "             (('11/24/14', '13:15'),\n",
       "              ('SUSPICIOUS_OCC',\n",
       "               'SUSPICIOUS_OCCURRENCE',\n",
       "               'BAYVIEW',\n",
       "               'NONE',\n",
       "               '5400_Block_of_3RD_ST')): 1,\n",
       "             (('6/16/15', '8:30'),\n",
       "              ('BURGLARY',\n",
       "               'BURGLARY_OF_APARTMENT_HOUSE/FORCIBLE_ENTRY',\n",
       "               'BAYVIEW',\n",
       "               'NONE',\n",
       "               '900_Block_of_WISCONSIN_ST')): 1,\n",
       "             (('10/2/14', '16:25'),\n",
       "              ('LARCENY/THEFT',\n",
       "               'PETTY_THEFT_WITH_PRIOR',\n",
       "               'PARK',\n",
       "               'ARREST/BOOKED',\n",
       "               '1700_Block_of_FULTON_ST')): 1,\n",
       "             (('2/16/13', '20:30'),\n",
       "              ('SUSPICIOUS_OCC',\n",
       "               'SUSPICIOUS_OCCURRENCE',\n",
       "               'SOUTHERN',\n",
       "               'NONE',\n",
       "               '200_Block_of_INTERSTATE80_HY')): 1,\n",
       "             (('6/4/13', '15:21'),\n",
       "              ('LARCENY/THEFT',\n",
       "               'GRAND_THEFT_FROM_LOCKED_AUTO',\n",
       "               'CENTRAL',\n",
       "               'NONE',\n",
       "               'LARKIN_ST/NORTHPOINT_ST')): 1,\n",
       "             (('3/20/15', '12:52'),\n",
       "              ('OTHER_OFFENSES',\n",
       "               'DRIVERS_LICENSE/SUSPENDED_OR_REVOKED',\n",
       "               'MISSION',\n",
       "               'ARREST/BOOKED',\n",
       "               'CLIPPER_ST/DOUGLASS_ST')): 1,\n",
       "             (('3/3/13', '12:00'),\n",
       "              ('LARCENY/THEFT',\n",
       "               'PETTY_THEFT_BICYCLE',\n",
       "               'BAYVIEW',\n",
       "               'NONE',\n",
       "               '700_Block_of_JERROLD_AV')): 1,\n",
       "             (('8/27/13', '18:30'),\n",
       "              ('LARCENY/THEFT',\n",
       "               'GRAND_THEFT_OF_PROPERTY',\n",
       "               'SOUTHERN',\n",
       "               'NONE',\n",
       "               '800_Block_of_MARKET_ST')): 1,\n",
       "             (('7/1/13', '18:00'),\n",
       "              ('LARCENY/THEFT',\n",
       "               'GRAND_THEFT_FROM_LOCKED_AUTO',\n",
       "               'NORTHERN',\n",
       "               'NONE',\n",
       "               '2000_Block_of_BUCHANAN_ST')): 1,\n",
       "             (('9/4/14', '0:32'),\n",
       "              ('TRESPASS',\n",
       "               'TRESPASSING',\n",
       "               'MISSION',\n",
       "               'ARREST/BOOKED',\n",
       "               '2500_Block_of_24TH_ST')): 1,\n",
       "             (('4/25/13', '19:39'),\n",
       "              ('LARCENY/THEFT',\n",
       "               'PETTY_THEFT_SHOPLIFTING',\n",
       "               'SOUTHERN',\n",
       "               'ARREST/CITED',\n",
       "               '800_Block_of_MARKET_ST')): 1,\n",
       "             (('1/25/14', '4:14'),\n",
       "              ('OTHER_OFFENSES',\n",
       "               'FALSE_EVIDENCE_OF_VEHICLE_REGISTRATION',\n",
       "               'BAYVIEW',\n",
       "               'NONE',\n",
       "               '2000_Block_of_INGALLS_ST')): 1,\n",
       "             (('2/11/13', '22:00'),\n",
       "              ('OTHER_OFFENSES',\n",
       "               'HARASSING_PHONE_CALLS',\n",
       "               'BAYVIEW',\n",
       "               'COMPLAINANT_REFUSES_TO_PROSECUTE',\n",
       "               '1300_Block_of_KANSAS_ST')): 1,\n",
       "             (('8/5/14', '12:35'),\n",
       "              ('VEHICLE_THEFT',\n",
       "               'STOLEN_AUTOMOBILE',\n",
       "               'MISSION',\n",
       "               'NONE',\n",
       "               '0_Block_of_WOODWARD_ST')): 1,\n",
       "             (('7/16/13', '18:30'),\n",
       "              ('MISSING_PERSON',\n",
       "               'FOUND_PERSON',\n",
       "               'TARAVAL',\n",
       "               'LOCATED',\n",
       "               '100_Block_of_GOETHE_ST')): 1,\n",
       "             (('7/26/13', '9:46'),\n",
       "              ('DRUG/NARCOTIC',\n",
       "               'SALE_OF_BASE/ROCK_COCAINE',\n",
       "               'TENDERLOIN',\n",
       "               'ARREST/BOOKED',\n",
       "               '0_Block_of_TURK_ST')): 1,\n",
       "             (('8/19/13', '16:30'),\n",
       "              ('LARCENY/THEFT',\n",
       "               'PETTY_THEFT_FROM_A_BUILDING',\n",
       "               'INGLESIDE',\n",
       "               'NONE',\n",
       "               '0_Block_of_PHELAN_AV')): 1,\n",
       "             (('9/25/13', '18:00'),\n",
       "              ('VANDALISM',\n",
       "               'MALICIOUS_MISCHIEF/VANDALISM_OF_VEHICLES',\n",
       "               'RICHMOND',\n",
       "               'NONE',\n",
       "               '700_Block_of_4TH_AV')): 1,\n",
       "             (('3/4/15', '19:45'),\n",
       "              ('LARCENY/THEFT',\n",
       "               'PETTY_THEFT_FROM_LOCKED_AUTO',\n",
       "               'SOUTHERN',\n",
       "               'NONE',\n",
       "               'JONES_ST/MCALLISTER_ST')): 1,\n",
       "             (('10/13/14', '10:00'),\n",
       "              ('NON-CRIMINAL',\n",
       "               'DEATH_REPORT/CAUSE_UNKNOWN',\n",
       "               'SOUTHERN',\n",
       "               'NONE',\n",
       "               '0_Block_of_5TH_ST')): 1,\n",
       "             (('11/12/14', '5:35'),\n",
       "              ('NON-CRIMINAL',\n",
       "               'LOST_PROPERTY',\n",
       "               'RICHMOND',\n",
       "               'NONE',\n",
       "               '18TH_AV/ANZA_ST')): 1,\n",
       "             (('2/15/14', '23:47'),\n",
       "              ('DRUNKENNESS',\n",
       "               'UNDER_INFLUENCE_OF_ALCOHOL_IN_A_PUBLIC_PLACE',\n",
       "               'RICHMOND',\n",
       "               'ARREST/CITED',\n",
       "               '100_Block_of_20TH_AV')): 1,\n",
       "             (('5/14/15', '22:03'),\n",
       "              ('NON-CRIMINAL',\n",
       "               'FOUND_PROPERTY',\n",
       "               'TENDERLOIN',\n",
       "               'NONE',\n",
       "               'ELLIS_ST/LEAVENWORTH_ST')): 1,\n",
       "             (('2/1/15', '21:00'),\n",
       "              ('SUSPICIOUS_OCC',\n",
       "               'SUSPICIOUS_ACT_TOWARDS_FEMALE',\n",
       "               'INGLESIDE',\n",
       "               'NONE',\n",
       "               'NAPLES_ST/PERSIA_AV')): 1,\n",
       "             (('10/27/13', '12:26'),\n",
       "              ('ROBBERY',\n",
       "               'ROBBERY_ON_THE_STREET_WITH_A_GUN',\n",
       "               'SOUTHERN',\n",
       "               'ARREST/BOOKED',\n",
       "               '800_Block_of_BRYANT_ST')): 1,\n",
       "             (('4/16/15', '20:00'),\n",
       "              ('LARCENY/THEFT',\n",
       "               'GRAND_THEFT_FROM_LOCKED_AUTO',\n",
       "               'BAYVIEW',\n",
       "               'NONE',\n",
       "               '18TH_ST/MISSISSIPPI_ST')): 1,\n",
       "             (('8/11/14', '11:30'),\n",
       "              ('VANDALISM',\n",
       "               'MALICIOUS_MISCHIEF/VANDALISM',\n",
       "               'BAYVIEW',\n",
       "               'NONE',\n",
       "               '100_Block_of_KAREN_CT')): 1,\n",
       "             (('10/26/13', '14:00'),\n",
       "              ('NON-CRIMINAL',\n",
       "               'LOST_PROPERTY',\n",
       "               'PARK',\n",
       "               'NONE',\n",
       "               'GEARY_BL/MASONIC_AV')): 1,\n",
       "             (('5/12/15', '16:45'),\n",
       "              ('ASSAULT',\n",
       "               'BATTERY',\n",
       "               'INGLESIDE',\n",
       "               'NONE',\n",
       "               '0_Block_of_SGTJOHNVYOUNG_LN')): 1,\n",
       "             (('8/3/13', '21:30'),\n",
       "              ('LARCENY/THEFT',\n",
       "               'PETTY_THEFT_FROM_A_BUILDING',\n",
       "               'NORTHERN',\n",
       "               'NONE',\n",
       "               '1000_Block_of_POLK_ST')): 1,\n",
       "             (('3/26/13', '17:01'),\n",
       "              ('OTHER_OFFENSES',\n",
       "               'RESISTING_ARREST',\n",
       "               'TENDERLOIN',\n",
       "               'ARREST/BOOKED',\n",
       "               'LARKIN_ST/OFARRELL_ST')): 1,\n",
       "             ...})"
      ]
     },
     "execution_count": 93,
     "metadata": {},
     "output_type": "execute_result"
    }
   ],
   "source": [
    "sfpdRDD.countByValue()"
   ]
  },
  {
   "cell_type": "code",
   "execution_count": 94,
   "metadata": {
    "collapsed": false
   },
   "outputs": [
    {
     "data": {
      "text/plain": [
       "defaultdict(int, {'bar': 1, 'baz': 1, 'foo': 1})"
      ]
     },
     "execution_count": 94,
     "metadata": {},
     "output_type": "execute_result"
    }
   ],
   "source": [
    "rdd1.countByKey()"
   ]
  },
  {
   "cell_type": "code",
   "execution_count": 95,
   "metadata": {
    "collapsed": false
   },
   "outputs": [
    {
     "data": {
      "text/plain": [
       "defaultdict(int, {('bar', 2): 1, ('baz', 3): 1, ('foo', 1): 1})"
      ]
     },
     "execution_count": 95,
     "metadata": {},
     "output_type": "execute_result"
    }
   ],
   "source": [
    "rdd1.countByValue()"
   ]
  },
  {
   "cell_type": "code",
   "execution_count": 96,
   "metadata": {
    "collapsed": false
   },
   "outputs": [
    {
     "data": {
      "text/plain": [
       "[('foo', 1), ('bar', 2), ('baz', 3)]"
      ]
     },
     "execution_count": 96,
     "metadata": {},
     "output_type": "execute_result"
    }
   ],
   "source": [
    "rdd1.collect()"
   ]
  },
  {
   "cell_type": "code",
   "execution_count": 107,
   "metadata": {
    "collapsed": true
   },
   "outputs": [],
   "source": [
    "rdd4 = sc.parallelize([('foo', 1), ('bar', 2), ('baz', 3), ('baz', 4), ('baz', 2)])"
   ]
  },
  {
   "cell_type": "code",
   "execution_count": 108,
   "metadata": {
    "collapsed": false
   },
   "outputs": [
    {
     "data": {
      "text/plain": [
       "[('foo', 1), ('bar', 2), ('baz', 3), ('baz', 4), ('baz', 2)]"
      ]
     },
     "execution_count": 108,
     "metadata": {},
     "output_type": "execute_result"
    }
   ],
   "source": [
    "rdd4.collect()"
   ]
  },
  {
   "cell_type": "code",
   "execution_count": 100,
   "metadata": {
    "collapsed": false
   },
   "outputs": [
    {
     "data": {
      "text/plain": [
       "defaultdict(int, {'bar': 1, 'baz': 3, 'foo': 1})"
      ]
     },
     "execution_count": 100,
     "metadata": {},
     "output_type": "execute_result"
    }
   ],
   "source": [
    "rdd4.countByKey()"
   ]
  },
  {
   "cell_type": "code",
   "execution_count": 101,
   "metadata": {
    "collapsed": false
   },
   "outputs": [
    {
     "data": {
      "text/plain": [
       "defaultdict(int, {('bar', 2): 1, ('baz', 3): 2, ('baz', 4): 1, ('foo', 1): 1})"
      ]
     },
     "execution_count": 101,
     "metadata": {},
     "output_type": "execute_result"
    }
   ],
   "source": [
    "rdd4.countByValue()"
   ]
  },
  {
   "cell_type": "code",
   "execution_count": 109,
   "metadata": {
    "collapsed": false
   },
   "outputs": [
    {
     "data": {
      "text/plain": [
       "{'bar': 2, 'baz': 2, 'foo': 1}"
      ]
     },
     "execution_count": 109,
     "metadata": {},
     "output_type": "execute_result"
    }
   ],
   "source": [
    "rdd4.collectAsMap()"
   ]
  },
  {
   "cell_type": "code",
   "execution_count": 110,
   "metadata": {
    "collapsed": false
   },
   "outputs": [
    {
     "data": {
      "text/plain": [
       "[2]"
      ]
     },
     "execution_count": 110,
     "metadata": {},
     "output_type": "execute_result"
    }
   ],
   "source": [
    "rdd4.lookup(\"bar\")"
   ]
  },
  {
   "cell_type": "code",
   "execution_count": 111,
   "metadata": {
    "collapsed": false
   },
   "outputs": [
    {
     "data": {
      "text/plain": [
       "[3, 4, 2]"
      ]
     },
     "execution_count": 111,
     "metadata": {},
     "output_type": "execute_result"
    }
   ],
   "source": [
    "rdd4.lookup(\"baz\")"
   ]
  },
  {
   "cell_type": "code",
   "execution_count": 112,
   "metadata": {
    "collapsed": false
   },
   "outputs": [
    {
     "data": {
      "text/plain": [
       "[1]"
      ]
     },
     "execution_count": 112,
     "metadata": {},
     "output_type": "execute_result"
    }
   ],
   "source": [
    "rdd4.lookup(\"foo\")"
   ]
  },
  {
   "cell_type": "code",
   "execution_count": 113,
   "metadata": {
    "collapsed": false
   },
   "outputs": [
    {
     "data": {
      "text/plain": [
       "defaultdict(int, {'bar': 1, 'baz': 3, 'foo': 1})"
      ]
     },
     "execution_count": 113,
     "metadata": {},
     "output_type": "execute_result"
    }
   ],
   "source": [
    "rdd4.countByKey()"
   ]
  },
  {
   "cell_type": "code",
   "execution_count": 120,
   "metadata": {
    "collapsed": false
   },
   "outputs": [
    {
     "data": {
      "text/plain": [
       "[('foo', 1), ('bar', 1), ('baz', 3)]"
      ]
     },
     "execution_count": 120,
     "metadata": {},
     "output_type": "execute_result"
    }
   ],
   "source": [
    "rdd4.groupByKey().map(lambda x: (x[0],len(x[1]))).collect()"
   ]
  },
  {
   "cell_type": "code",
   "execution_count": 121,
   "metadata": {
    "collapsed": false
   },
   "outputs": [
    {
     "data": {
      "text/plain": [
       "[('foo', [1]), ('bar', [2]), ('baz', [3, 4, 2])]"
      ]
     },
     "execution_count": 121,
     "metadata": {},
     "output_type": "execute_result"
    }
   ],
   "source": [
    "rdd4.groupByKey().map(lambda x: (x[0],list(x[1]))).collect()"
   ]
  },
  {
   "cell_type": "code",
   "execution_count": 118,
   "metadata": {
    "collapsed": false
   },
   "outputs": [
    {
     "data": {
      "text/plain": [
       "3"
      ]
     },
     "execution_count": 118,
     "metadata": {},
     "output_type": "execute_result"
    }
   ],
   "source": [
    "len(a)"
   ]
  },
  {
   "cell_type": "markdown",
   "metadata": {},
   "source": [
    "### Coalesce vs Repartition\n",
    "The repartition algorithm does a full shuffle and creates new partitions with data that's distributed evenly. Let's create an RDD with the numbers from 1 to 12.\n",
    "\n",
    "a = sc.range(1,13,1,4)\n",
    "\n",
    "RDD contains 4 partitions on my machine.\n",
    "\n",
    "a.getNumPartitions() // => 4\n",
    "\n",
    "Here is how the data is divided on the partitions:\n",
    "\n",
    "a.glom().collect()\n",
    "\n",
    "[[1, 2, 3], [4, 5, 6], [7, 8, 9], [10, 11, 12]]\n",
    "\n",
    "Let's do a full-shuffle with the repartition method and get this data on two nodes.\n",
    "\n",
    "> *a.repartition(2).glom().collect()*\n",
    "\n",
    "> *[[1, 4, 7, 10], [2, 3, 5, 6, 8, 9, 11, 12]]*\n",
    "\n",
    "The repartition method makes new partitions and evenly distributes the data in the new partitions (the data distribution is more even for larger data sets).\n",
    "\n",
    "> *a.coalesce(2).glom().collect()*\n",
    "\n",
    "> *[[1, 2, 3, 4, 5, 6], [7, 8, 9, 10, 11, 12]]*\n",
    "\n",
    "**Difference between coalesce and repartition?**\n",
    "\n",
    "Coalesce uses existing partitions to minimize the amount of data that's shuffled. \n",
    "Repartition creates new partitions and does a full shuffle. \n",
    "\n",
    "Coalesce results in partitions with different amounts of data (sometimes partitions that have much different sizes) and Repartition results in roughly equal sized partitions.\n",
    "\n",
    "**Is coalesce or repartition faster?**\n",
    "\n",
    "coalesce may run faster than repartition, but unequal sized partitions are generally slower to work with than equal sized partitions. You'll usually need to repartition datasets after filtering a large data set. I've found repartition to be faster overall because Spark is built to work with equal sized partitions.\n",
    "\n",
    "Read this blog post if you'd like even more details."
   ]
  },
  {
   "cell_type": "code",
   "execution_count": 142,
   "metadata": {
    "collapsed": true
   },
   "outputs": [],
   "source": [
    "a = sc.range(1,13,1,4)"
   ]
  },
  {
   "cell_type": "code",
   "execution_count": 143,
   "metadata": {
    "collapsed": false
   },
   "outputs": [
    {
     "data": {
      "text/plain": [
       "4"
      ]
     },
     "execution_count": 143,
     "metadata": {},
     "output_type": "execute_result"
    }
   ],
   "source": [
    "a.getNumPartitions()"
   ]
  },
  {
   "cell_type": "code",
   "execution_count": 144,
   "metadata": {
    "collapsed": false
   },
   "outputs": [
    {
     "data": {
      "text/plain": [
       "[[1, 2, 3], [4, 5, 6], [7, 8, 9], [10, 11, 12]]"
      ]
     },
     "execution_count": 144,
     "metadata": {},
     "output_type": "execute_result"
    }
   ],
   "source": [
    "a.glom().collect()"
   ]
  },
  {
   "cell_type": "code",
   "execution_count": 145,
   "metadata": {
    "collapsed": false
   },
   "outputs": [
    {
     "data": {
      "text/plain": [
       "[[1, 2, 3, 4, 5, 6], [7, 8, 9, 10, 11, 12]]"
      ]
     },
     "execution_count": 145,
     "metadata": {},
     "output_type": "execute_result"
    }
   ],
   "source": [
    "a.coalesce(2).glom().collect()"
   ]
  },
  {
   "cell_type": "code",
   "execution_count": 147,
   "metadata": {
    "collapsed": false
   },
   "outputs": [
    {
     "data": {
      "text/plain": [
       "[[1, 4, 7, 10], [2, 3, 5, 6, 8, 9, 11, 12]]"
      ]
     },
     "execution_count": 147,
     "metadata": {},
     "output_type": "execute_result"
    }
   ],
   "source": [
    "a.repartition(2).glom().collect()"
   ]
  },
  {
   "cell_type": "code",
   "execution_count": 159,
   "metadata": {
    "collapsed": false
   },
   "outputs": [],
   "source": [
    "sfpdRDD = (sc.textFile(\"/resources/data/MaprDataFiles/sfpd.csv\", 16)\n",
    "           .map(lambda x:x.split(\",\"))\n",
    "           .map(lambda x: (x[6],1)))\n"
   ]
  },
  {
   "cell_type": "code",
   "execution_count": 160,
   "metadata": {
    "collapsed": false
   },
   "outputs": [
    {
     "data": {
      "text/plain": [
       "16"
      ]
     },
     "execution_count": 160,
     "metadata": {},
     "output_type": "execute_result"
    }
   ],
   "source": [
    "sfpdRDD.getNumPartitions()"
   ]
  },
  {
   "cell_type": "code",
   "execution_count": 164,
   "metadata": {
    "collapsed": false
   },
   "outputs": [
    {
     "data": {
      "text/plain": [
       "b'(16) PythonRDD[462] at RDD at PythonRDD.scala:43 []\\n |   MapPartitionsRDD[461] at mapPartitions at PythonRDD.scala:374 []\\n |   ShuffledRDD[460] at partitionBy at null:-1 []\\n +-(16) PairwiseRDD[459] at reduceByKey at <ipython-input-164-323e2486cdb6>:1 []\\n    |   PythonRDD[458] at reduceByKey at <ipython-input-164-323e2486cdb6>:1 []\\n    |   MapPartitionsRDD[452] at textFile at null:-1 []\\n    |   /resources/data/MaprDataFiles/sfpd.csv HadoopRDD[451] at textFile at null:-1 []'"
      ]
     },
     "execution_count": 164,
     "metadata": {},
     "output_type": "execute_result"
    }
   ],
   "source": [
    "sfpdRDD.reduceByKey(lambda x,y: x+y).toDebugString()"
   ]
  },
  {
   "cell_type": "code",
   "execution_count": 162,
   "metadata": {
    "collapsed": false
   },
   "outputs": [
    {
     "data": {
      "text/plain": [
       "16"
      ]
     },
     "execution_count": 162,
     "metadata": {},
     "output_type": "execute_result"
    }
   ],
   "source": [
    "a.getNumPartitions()"
   ]
  },
  {
   "cell_type": "code",
   "execution_count": 172,
   "metadata": {
    "collapsed": false
   },
   "outputs": [
    {
     "data": {
      "text/plain": [
       "16"
      ]
     },
     "execution_count": 172,
     "metadata": {},
     "output_type": "execute_result"
    }
   ],
   "source": [
    "sfpdRDD.getNumPartitions()"
   ]
  },
  {
   "cell_type": "code",
   "execution_count": 190,
   "metadata": {
    "collapsed": true
   },
   "outputs": [],
   "source": [
    "catAdd = sc.textFile(\"/resources/data/MaprDataFiles/J_AddCat.csv\").map(lambda x: x.split(\",\")).map(lambda x: (x(1),x(0)))\n",
    "distAdd = sc.textFile(\"/resources/data/MaprDataFiles/J_AddDist.csv\").map(lambda x: x.split(\",\")).map(lambda x: (x(1),x(0)))"
   ]
  },
  {
   "cell_type": "code",
   "execution_count": 191,
   "metadata": {
    "collapsed": false
   },
   "outputs": [
    {
     "data": {
      "text/plain": [
       "2"
      ]
     },
     "execution_count": 191,
     "metadata": {},
     "output_type": "execute_result"
    }
   ],
   "source": [
    "catAdd.getNumPartitions()"
   ]
  },
  {
   "cell_type": "code",
   "execution_count": 206,
   "metadata": {
    "collapsed": false
   },
   "outputs": [
    {
     "data": {
      "text/plain": [
       "[(1, 1), (2, 2), (3, 3), (4, 4), (2, 2), (4, 4), (1, 1)]"
      ]
     },
     "execution_count": 206,
     "metadata": {},
     "output_type": "execute_result"
    }
   ],
   "source": [
    "pairs = sc.parallelize([1, 2, 3, 4, 2, 4, 1]).map(lambda x: (x, x))\n",
    "pairs.collect()"
   ]
  },
  {
   "cell_type": "code",
   "execution_count": 207,
   "metadata": {
    "collapsed": false
   },
   "outputs": [
    {
     "data": {
      "text/plain": [
       "16"
      ]
     },
     "execution_count": 207,
     "metadata": {},
     "output_type": "execute_result"
    }
   ],
   "source": [
    "pairs.getNumPartitions()"
   ]
  },
  {
   "cell_type": "code",
   "execution_count": 208,
   "metadata": {
    "collapsed": false
   },
   "outputs": [
    {
     "data": {
      "text/plain": [
       "[[],\n",
       " [],\n",
       " [(1, 1)],\n",
       " [],\n",
       " [(2, 2)],\n",
       " [],\n",
       " [(3, 3)],\n",
       " [],\n",
       " [],\n",
       " [(4, 4)],\n",
       " [],\n",
       " [(2, 2)],\n",
       " [],\n",
       " [(4, 4)],\n",
       " [],\n",
       " [(1, 1)]]"
      ]
     },
     "execution_count": 208,
     "metadata": {},
     "output_type": "execute_result"
    }
   ],
   "source": [
    "pairs.glom().collect()"
   ]
  },
  {
   "cell_type": "code",
   "execution_count": 223,
   "metadata": {
    "collapsed": true
   },
   "outputs": [],
   "source": [
    "sets = pairs.partitionBy(4, hash).glom()"
   ]
  },
  {
   "cell_type": "code",
   "execution_count": 224,
   "metadata": {
    "collapsed": false
   },
   "outputs": [
    {
     "data": {
      "text/plain": [
       "[[(4, 4), (4, 4)], [(1, 1), (1, 1)], [(2, 2), (2, 2)], [(3, 3)]]"
      ]
     },
     "execution_count": 224,
     "metadata": {},
     "output_type": "execute_result"
    }
   ],
   "source": [
    "sets.collect()"
   ]
  },
  {
   "cell_type": "code",
   "execution_count": 183,
   "metadata": {
    "collapsed": false
   },
   "outputs": [
    {
     "data": {
      "text/plain": [
       "2"
      ]
     },
     "execution_count": 183,
     "metadata": {},
     "output_type": "execute_result"
    }
   ],
   "source": [
    "distAdd.getNumPartitions()"
   ]
  },
  {
   "cell_type": "code",
   "execution_count": 176,
   "metadata": {
    "collapsed": true
   },
   "outputs": [],
   "source": [
    "catJdist=catAdd.join(distAdd,8)"
   ]
  },
  {
   "cell_type": "code",
   "execution_count": 177,
   "metadata": {
    "collapsed": false
   },
   "outputs": [
    {
     "data": {
      "text/plain": [
       "8"
      ]
     },
     "execution_count": 177,
     "metadata": {},
     "output_type": "execute_result"
    }
   ],
   "source": [
    "catJdist.getNumPartitions()"
   ]
  },
  {
   "cell_type": "code",
   "execution_count": 179,
   "metadata": {
    "collapsed": false
   },
   "outputs": [
    {
     "data": {
      "text/plain": [
       "b'(8) PythonRDD[474] at RDD at PythonRDD.scala:43 []\\n |  MapPartitionsRDD[473] at mapPartitions at PythonRDD.scala:374 []\\n |  ShuffledRDD[472] at partitionBy at null:-1 []\\n +-(4) PairwiseRDD[471] at join at <ipython-input-176-2281bd05c978>:1 []\\n    |  PythonRDD[470] at join at <ipython-input-176-2281bd05c978>:1 []\\n    |  UnionRDD[469] at union at null:-1 []\\n    |  PythonRDD[467] at RDD at PythonRDD.scala:43 []\\n    |  MapPartitionsRDD[464] at textFile at null:-1 []\\n    |  /resources/data/MaprDataFiles/J_AddCat.csv HadoopRDD[463] at textFile at null:-1 []\\n    |  PythonRDD[468] at RDD at PythonRDD.scala:43 []\\n    |  MapPartitionsRDD[466] at textFile at null:-1 []\\n    |  /resources/data/MaprDataFiles/J_AddDist.csv HadoopRDD[465] at textFile at null:-1 []'"
      ]
     },
     "execution_count": 179,
     "metadata": {},
     "output_type": "execute_result"
    }
   ],
   "source": [
    "catJdist.toDebugString()"
   ]
  },
  {
   "cell_type": "markdown",
   "metadata": {},
   "source": [
    "# Working with DataFrames"
   ]
  },
  {
   "cell_type": "code",
   "execution_count": 227,
   "metadata": {
    "collapsed": false
   },
   "outputs": [
    {
     "data": {
      "text/plain": [
       "[Row(Address='JACKSON_ST/POWELL_ST', Category='OTHER_OFFENSES', Date='7/9/15', DayOfWeek='Thursday', Descript='POSSESSION_OF_BURGLARY_TOOLS', IncidentNum=150599321, PdDistrict='CENTRAL', PdID=15059900000000, Resolution='ARREST/BOOKED', Time='23:45', XCoord='-122.4099006', YCoord='37.79561712'),\n",
       " Row(Address='300_Block_of_POWELL_ST', Category='LARCENY/THEFT', Date='7/9/15', DayOfWeek='Thursday', Descript='PETTY_THEFT_OF_PROPERTY', IncidentNum=156168837, PdDistrict='CENTRAL', PdID=15616900000000, Resolution='NONE', Time='23:45', XCoord='-122.4083843', YCoord='37.78782711'),\n",
       " Row(Address='JACKSON_ST/POWELL_ST', Category='OTHER_OFFENSES', Date='7/9/15', DayOfWeek='Thursday', Descript='DRIVERS_LICENSE/SUSPENDED_OR_REVOKED', IncidentNum=150599321, PdDistrict='CENTRAL', PdID=15059900000000, Resolution='ARREST/BOOKED', Time='23:45', XCoord='-122.4099006', YCoord='37.79561712'),\n",
       " Row(Address='MASONIC_AV/GOLDEN_GATE_AV', Category='OTHER_OFFENSES', Date='7/9/15', DayOfWeek='Thursday', Descript='DRIVERS_LICENSE/SUSPENDED_OR_REVOKED', IncidentNum=150599224, PdDistrict='PARK', PdID=15059900000000, Resolution='ARREST/BOOKED', Time='23:36', XCoord='-122.4468469', YCoord='37.77766882'),\n",
       " Row(Address='8TH_ST/FOLSOM_ST', Category='LARCENY/THEFT', Date='7/9/15', DayOfWeek='Thursday', Descript='GRAND_THEFT_FROM_LOCKED_AUTO', IncidentNum=156169067, PdDistrict='SOUTHERN', PdID=15616900000000, Resolution='NONE', Time='23:30', XCoord='-122.4100658', YCoord='37.77499068')]"
      ]
     },
     "execution_count": 227,
     "metadata": {},
     "output_type": "execute_result"
    }
   ],
   "source": [
    "from pyspark.sql import Row\n",
    "\n",
    "sfpdRDD = (sc.textFile(\"/resources/data/MaprDataFiles/sfpd.csv\")\n",
    "            .map(lambda x: x.split(\",\"))\n",
    "            .map(lambda i: Row(IncidentNum = int(i[0]), Category = i[1], Descript = i[2], DayOfWeek = i[3]\n",
    "                         , Date = i[4], Time = i[5], PdDistrict = i[6], Resolution = i[7] \n",
    "                         , Address = i[8], XCoord = i[9], YCoord = i[10], PdID = int(i[11]))))\n",
    "sfpdRDD.take(5)"
   ]
  },
  {
   "cell_type": "code",
   "execution_count": 228,
   "metadata": {
    "collapsed": false
   },
   "outputs": [
    {
     "data": {
      "text/plain": [
       "[Row(Address='ZOE_ST/WELSH_ST', Category='SEX_OFFENSES/FORCIBLE', Date='9/29/13', DayOfWeek='Sunday', Descript='PENETRATION/FORCED/WITH_OBJECT', IncidentNum=130832301, PdDistrict='SOUTHERN', PdID=13083200000000, Resolution='NONE', Time='14:00', XCoord='-122.3963085', YCoord='37.78009677'),\n",
       " Row(Address='ZOE_ST/WELSH_ST', Category='ROBBERY', Date='9/29/13', DayOfWeek='Sunday', Descript='ROBBERY/ARMED_WITH_A_GUN', IncidentNum=130832301, PdDistrict='SOUTHERN', PdID=13083200000000, Resolution='NONE', Time='14:00', XCoord='-122.3963085', YCoord='37.78009677'),\n",
       " Row(Address='ZOE_ST/WELSH_ST', Category='LARCENY/THEFT', Date='5/13/15', DayOfWeek='Wednesday', Descript='GRAND_THEFT_FROM_UNLOCKED_AUTO', IncidentNum=156162215, PdDistrict='SOUTHERN', PdID=15616200000000, Resolution='NONE', Time='8:00', XCoord='-122.3963085', YCoord='37.78009677'),\n",
       " Row(Address='ZOE_ST/WELSH_ST', Category='LARCENY/THEFT', Date='12/29/13', DayOfWeek='Sunday', Descript='GRAND_THEFT_FROM_LOCKED_AUTO', IncidentNum=146000926, PdDistrict='SOUTHERN', PdID=14600100000000, Resolution='NONE', Time='0:01', XCoord='-122.3963085', YCoord='37.78009677'),\n",
       " Row(Address='ZOE_ST/WELSH_ST', Category='KIDNAPPING', Date='9/29/13', DayOfWeek='Sunday', Descript='KIDNAPPING/ADULT_VICTIM', IncidentNum=130832301, PdDistrict='SOUTHERN', PdID=13083200000000, Resolution='NONE', Time='14:00', XCoord='-122.3963085', YCoord='37.78009677')]"
      ]
     },
     "execution_count": 228,
     "metadata": {},
     "output_type": "execute_result"
    }
   ],
   "source": [
    "sfpdRDD.top(5)"
   ]
  },
  {
   "cell_type": "code",
   "execution_count": null,
   "metadata": {
    "collapsed": true
   },
   "outputs": [],
   "source": [
    "sfpdDF = sfpdRDD.toDF()"
   ]
  },
  {
   "cell_type": "code",
   "execution_count": 237,
   "metadata": {
    "collapsed": false
   },
   "outputs": [],
   "source": [
    "sfpdDF.registerTempTable(\"sfpd\")"
   ]
  },
  {
   "cell_type": "code",
   "execution_count": 241,
   "metadata": {
    "collapsed": false
   },
   "outputs": [
    {
     "name": "stdout",
     "output_type": "stream",
     "text": [
      "+----------+-----+\n",
      "|PdDistrict|count|\n",
      "+----------+-----+\n",
      "|  SOUTHERN|73308|\n",
      "|   MISSION|50164|\n",
      "|  NORTHERN|46877|\n",
      "|   CENTRAL|41914|\n",
      "|   BAYVIEW|36111|\n",
      "+----------+-----+\n",
      "only showing top 5 rows\n",
      "\n"
     ]
    }
   ],
   "source": [
    "incByDist = sfpdDF.groupby(sfpdDF['PdDistrict']).count().orderBy(\"`count`\", ascending = False)\n",
    "incByDist.show(5)"
   ]
  },
  {
   "cell_type": "code",
   "execution_count": 244,
   "metadata": {
    "collapsed": false
   },
   "outputs": [
    {
     "name": "stdout",
     "output_type": "stream",
     "text": [
      "+----------+-----+\n",
      "|PdDistrict|count|\n",
      "+----------+-----+\n",
      "|  SOUTHERN|73308|\n",
      "|   MISSION|50164|\n",
      "|  NORTHERN|46877|\n",
      "|   CENTRAL|41914|\n",
      "|   BAYVIEW|36111|\n",
      "+----------+-----+\n",
      "only showing top 5 rows\n",
      "\n"
     ]
    }
   ],
   "source": [
    "from pyspark.sql.functions import col\n",
    "sfpdDF.groupby(sfpdDF['PdDistrict']).count().sort(col(\"count\").desc()).show(5)"
   ]
  },
  {
   "cell_type": "code",
   "execution_count": 245,
   "metadata": {
    "collapsed": false
   },
   "outputs": [
    {
     "name": "stdout",
     "output_type": "stream",
     "text": [
      "+----------+--------+\n",
      "|PdDistrict|IncCount|\n",
      "+----------+--------+\n",
      "|  SOUTHERN|   73308|\n",
      "|   MISSION|   50164|\n",
      "|  NORTHERN|   46877|\n",
      "|   CENTRAL|   41914|\n",
      "|   BAYVIEW|   36111|\n",
      "+----------+--------+\n",
      "\n"
     ]
    }
   ],
   "source": [
    "sqlContext.sql(\"\"\"\n",
    "                SELECT PdDistrict, Count(1) as IncCount\n",
    "                FROM sfpd\n",
    "                GROUP BY PdDistrict\n",
    "                ORDER BY IncCount DESC\n",
    "                LIMIT 5\n",
    "               \"\"\").show()"
   ]
  },
  {
   "cell_type": "code",
   "execution_count": 256,
   "metadata": {
    "collapsed": false
   },
   "outputs": [],
   "source": [
    "# top10Res\n",
    "res = sfpdDF.groupby(sfpdDF['Resolution']).count().sort(col(\"count\").desc())"
   ]
  },
  {
   "cell_type": "code",
   "execution_count": 265,
   "metadata": {
    "collapsed": false
   },
   "outputs": [],
   "source": [
    "res.write.format(\"json\").mode(\"append\").save(\"/resources/data/MaprDataFiles/Outputs/sfpdtopresjson\")"
   ]
  },
  {
   "cell_type": "code",
   "execution_count": 266,
   "metadata": {
    "collapsed": false
   },
   "outputs": [
    {
     "name": "stdout",
     "output_type": "stream",
     "text": [
      "part-r-00000-29a06e3b-1916-4f66-b378-b64bc6358d26\n",
      "part-r-00000-5873c28a-cc37-4ad3-8187-75fbe84b1a42\n",
      "part-r-00001-29a06e3b-1916-4f66-b378-b64bc6358d26\n",
      "part-r-00001-5873c28a-cc37-4ad3-8187-75fbe84b1a42\n",
      "part-r-00002-29a06e3b-1916-4f66-b378-b64bc6358d26\n",
      "part-r-00002-5873c28a-cc37-4ad3-8187-75fbe84b1a42\n",
      "part-r-00003-29a06e3b-1916-4f66-b378-b64bc6358d26\n",
      "part-r-00003-5873c28a-cc37-4ad3-8187-75fbe84b1a42\n",
      "part-r-00004-29a06e3b-1916-4f66-b378-b64bc6358d26\n",
      "part-r-00004-5873c28a-cc37-4ad3-8187-75fbe84b1a42\n",
      "part-r-00005-29a06e3b-1916-4f66-b378-b64bc6358d26\n",
      "part-r-00005-5873c28a-cc37-4ad3-8187-75fbe84b1a42\n",
      "part-r-00006-29a06e3b-1916-4f66-b378-b64bc6358d26\n",
      "part-r-00006-5873c28a-cc37-4ad3-8187-75fbe84b1a42\n",
      "part-r-00007-29a06e3b-1916-4f66-b378-b64bc6358d26\n",
      "part-r-00007-5873c28a-cc37-4ad3-8187-75fbe84b1a42\n",
      "part-r-00008-29a06e3b-1916-4f66-b378-b64bc6358d26\n",
      "part-r-00008-5873c28a-cc37-4ad3-8187-75fbe84b1a42\n",
      "part-r-00009-29a06e3b-1916-4f66-b378-b64bc6358d26\n",
      "part-r-00009-5873c28a-cc37-4ad3-8187-75fbe84b1a42\n",
      "part-r-00010-29a06e3b-1916-4f66-b378-b64bc6358d26\n",
      "part-r-00010-5873c28a-cc37-4ad3-8187-75fbe84b1a42\n",
      "part-r-00011-29a06e3b-1916-4f66-b378-b64bc6358d26\n",
      "part-r-00011-5873c28a-cc37-4ad3-8187-75fbe84b1a42\n",
      "part-r-00012-29a06e3b-1916-4f66-b378-b64bc6358d26\n",
      "part-r-00012-5873c28a-cc37-4ad3-8187-75fbe84b1a42\n",
      "part-r-00013-29a06e3b-1916-4f66-b378-b64bc6358d26\n",
      "part-r-00013-5873c28a-cc37-4ad3-8187-75fbe84b1a42\n",
      "part-r-00014-29a06e3b-1916-4f66-b378-b64bc6358d26\n",
      "part-r-00014-5873c28a-cc37-4ad3-8187-75fbe84b1a42\n",
      "part-r-00015-29a06e3b-1916-4f66-b378-b64bc6358d26\n",
      "part-r-00015-5873c28a-cc37-4ad3-8187-75fbe84b1a42\n",
      "part-r-00016-29a06e3b-1916-4f66-b378-b64bc6358d26\n",
      "part-r-00016-5873c28a-cc37-4ad3-8187-75fbe84b1a42\n",
      "part-r-00017-29a06e3b-1916-4f66-b378-b64bc6358d26\n",
      "part-r-00017-5873c28a-cc37-4ad3-8187-75fbe84b1a42\n",
      "_SUCCESS\n"
     ]
    }
   ],
   "source": [
    "%%bash\n",
    "ls /resources/data/MaprDataFiles/Outputs/sfpdtopresjson/"
   ]
  },
  {
   "cell_type": "code",
   "execution_count": 267,
   "metadata": {
    "collapsed": true
   },
   "outputs": [],
   "source": [
    "aadf = sqlContext.read.json(\"/resources/data/MaprDataFiles/Outputs/sfpdtopresjson\")"
   ]
  },
  {
   "cell_type": "code",
   "execution_count": 271,
   "metadata": {
    "collapsed": false
   },
   "outputs": [
    {
     "data": {
      "text/plain": [
       "17"
      ]
     },
     "execution_count": 271,
     "metadata": {},
     "output_type": "execute_result"
    }
   ],
   "source": [
    "aadf.select(\"Resolution\").distinct().count()"
   ]
  },
  {
   "cell_type": "code",
   "execution_count": 268,
   "metadata": {
    "collapsed": false
   },
   "outputs": [
    {
     "name": "stdout",
     "output_type": "stream",
     "text": [
      "{\"Resolution\":\"PSYCHOPATHIC_CASE\",\"count\":8344}\n"
     ]
    }
   ],
   "source": [
    "%%bash\n",
    "cat /resources/data/MaprDataFiles/Outputs/sfpdtopresjson/part-r-00003-29a06e3b-1916-4f66-b378-b64bc6358d26"
   ]
  },
  {
   "cell_type": "code",
   "execution_count": 272,
   "metadata": {
    "collapsed": false
   },
   "outputs": [
    {
     "data": {
      "text/plain": [
       "34"
      ]
     },
     "execution_count": 272,
     "metadata": {},
     "output_type": "execute_result"
    }
   ],
   "source": [
    "aadf.select(\"Resolution\").count()"
   ]
  },
  {
   "cell_type": "code",
   "execution_count": 274,
   "metadata": {
    "collapsed": false
   },
   "outputs": [],
   "source": [
    "#  'overwrite', 'append', 'ignore', 'error'\n",
    "res.write.mode(\"append\").save(\"/resources/data/MaprDataFiles/Outputs/sfpdresdefault\")"
   ]
  },
  {
   "cell_type": "code",
   "execution_count": 278,
   "metadata": {
    "collapsed": false
   },
   "outputs": [],
   "source": [
    "aaa = sqlContext.read.parquet(\"/resources/data/MaprDataFiles/Outputs/sfpdresdefault\")"
   ]
  },
  {
   "cell_type": "code",
   "execution_count": 279,
   "metadata": {
    "collapsed": false
   },
   "outputs": [
    {
     "name": "stdout",
     "output_type": "stream",
     "text": [
      "+--------------------+------+\n",
      "|          Resolution| count|\n",
      "+--------------------+------+\n",
      "|      JUVENILE_CITED|  1039|\n",
      "|        ARREST/CITED| 22925|\n",
      "|           UNFOUNDED|  4551|\n",
      "|      NOT_PROSECUTED|   280|\n",
      "|             LOCATED|  6878|\n",
      "|COMPLAINANT_REFUS...|  4215|\n",
      "|DISTRICT_ATTORNEY...|   473|\n",
      "| JUVENILE_ADMONISHED|   344|\n",
      "|                NONE|243538|\n",
      "|       ARREST/BOOKED| 86766|\n",
      "|   JUVENILE_DIVERTED|   120|\n",
      "|     JUVENILE_BOOKED|  2381|\n",
      "|PROSECUTED_BY_OUT...|   630|\n",
      "|   PSYCHOPATHIC_CASE|  8344|\n",
      "|EXCEPTIONAL_CLEAR...|  1134|\n",
      "|CLEARED-CONTACT_J...|   152|\n",
      "|PROSECUTED_FOR_LE...|     5|\n",
      "+--------------------+------+\n",
      "\n"
     ]
    }
   ],
   "source": [
    "aaa.show()"
   ]
  },
  {
   "cell_type": "code",
   "execution_count": 282,
   "metadata": {
    "collapsed": false
   },
   "outputs": [
    {
     "name": "stdout",
     "output_type": "stream",
     "text": [
      "+------+\n",
      "|  Date|\n",
      "+------+\n",
      "|7/9/15|\n",
      "|7/9/15|\n",
      "|7/9/15|\n",
      "|7/9/15|\n",
      "|7/9/15|\n",
      "+------+\n",
      "only showing top 5 rows\n",
      "\n"
     ]
    }
   ],
   "source": [
    "sfpdDF.select(\"Date\").show(5)"
   ]
  },
  {
   "cell_type": "code",
   "execution_count": 289,
   "metadata": {
    "collapsed": false
   },
   "outputs": [
    {
     "name": "stdout",
     "output_type": "stream",
     "text": [
      "2015\n"
     ]
    }
   ],
   "source": [
    "def getYear(datecol):\n",
    "    a = datecol.split(\"/\")\n",
    "    return \"20\"+a[2]\n",
    "\n"
   ]
  },
  {
   "cell_type": "code",
   "execution_count": 286,
   "metadata": {
    "collapsed": false
   },
   "outputs": [
    {
     "data": {
      "text/plain": [
       "'15'"
      ]
     },
     "execution_count": 286,
     "metadata": {},
     "output_type": "execute_result"
    }
   ],
   "source": [
    "a = '7/9/15'\n",
    "date = a.split(\"/\")\n",
    "date[2]"
   ]
  },
  {
   "cell_type": "code",
   "execution_count": 290,
   "metadata": {
    "collapsed": true
   },
   "outputs": [],
   "source": [
    "sqlContext.udf.register(\"year\", getYear)"
   ]
  },
  {
   "cell_type": "code",
   "execution_count": 291,
   "metadata": {
    "collapsed": false
   },
   "outputs": [
    {
     "name": "stdout",
     "output_type": "stream",
     "text": [
      "+----+\n",
      "|year|\n",
      "+----+\n",
      "|2015|\n",
      "|2015|\n",
      "|2015|\n",
      "|2015|\n",
      "|2015|\n",
      "|2015|\n",
      "|2015|\n",
      "|2015|\n",
      "|2015|\n",
      "|2015|\n",
      "|2015|\n",
      "|2015|\n",
      "|2015|\n",
      "|2015|\n",
      "|2015|\n",
      "|2015|\n",
      "|2015|\n",
      "|2015|\n",
      "|2015|\n",
      "|2015|\n",
      "+----+\n",
      "only showing top 20 rows\n",
      "\n"
     ]
    }
   ],
   "source": [
    "sqlContext.sql(\"select year(date) as year from sfpd\").show()"
   ]
  },
  {
   "cell_type": "code",
   "execution_count": 292,
   "metadata": {
    "collapsed": true
   },
   "outputs": [],
   "source": [
    "sqlContext.udf.register(\"yyyy\", lambda x: x.split(\"/\"))"
   ]
  },
  {
   "cell_type": "code",
   "execution_count": 293,
   "metadata": {
    "collapsed": false
   },
   "outputs": [
    {
     "name": "stdout",
     "output_type": "stream",
     "text": [
      "+----------+\n",
      "|      year|\n",
      "+----------+\n",
      "|[7, 9, 15]|\n",
      "|[7, 9, 15]|\n",
      "|[7, 9, 15]|\n",
      "|[7, 9, 15]|\n",
      "|[7, 9, 15]|\n",
      "|[7, 9, 15]|\n",
      "|[7, 9, 15]|\n",
      "|[7, 9, 15]|\n",
      "|[7, 9, 15]|\n",
      "|[7, 9, 15]|\n",
      "|[7, 9, 15]|\n",
      "|[7, 9, 15]|\n",
      "|[7, 9, 15]|\n",
      "|[7, 9, 15]|\n",
      "|[7, 9, 15]|\n",
      "|[7, 9, 15]|\n",
      "|[7, 9, 15]|\n",
      "|[7, 9, 15]|\n",
      "|[7, 9, 15]|\n",
      "|[7, 9, 15]|\n",
      "+----------+\n",
      "only showing top 20 rows\n",
      "\n"
     ]
    }
   ],
   "source": [
    "sqlContext.sql(\"select yyyy(date) as year from sfpd\").show()"
   ]
  },
  {
   "cell_type": "code",
   "execution_count": 299,
   "metadata": {
    "collapsed": false
   },
   "outputs": [
    {
     "name": "stdout",
     "output_type": "stream",
     "text": [
      "+--------------------+--------------+--------+---------+--------------------+-----------+----------+--------------+----------+-----+------------+-----------+\n",
      "|             Address|      Category|    Date|DayOfWeek|            Descript|IncidentNum|PdDistrict|          PdID|Resolution| Time|      XCoord|     YCoord|\n",
      "+--------------------+--------------+--------+---------+--------------------+-----------+----------+--------------+----------+-----+------------+-----------+\n",
      "|0_Block_of_UNITED...|       ASSAULT|12/31/14|Wednesday|             BATTERY|  150000011|  SOUTHERN|15000000000000|      NONE|23:55|-122.4143179|37.77994441|\n",
      "|400_Block_of_POWE...|  NON-CRIMINAL|12/31/14|Wednesday|       LOST_PROPERTY|  156006027|   CENTRAL|15600600000000|      NONE|23:50|-122.4084319|37.78877727|\n",
      "|700_Block_of_MONT...|       ASSAULT|12/31/14|Wednesday|             BATTERY|  150000130|   CENTRAL|15000000000000|      NONE|23:50|-122.4033402|37.79599189|\n",
      "|  FOLSOM_ST/SPEAR_ST|     VANDALISM|12/31/14|Wednesday|MALICIOUS_MISCHIE...|  156012905|  SOUTHERN|15601300000000|      NONE|23:50|-122.3909766|37.79007123|\n",
      "|2800_Block_of_LEA...|  NON-CRIMINAL|12/31/14|Wednesday|       LOST_PROPERTY|  156001679|   CENTRAL|15600200000000|      NONE|23:50|-122.4190672|37.80733393|\n",
      "|3300_Block_of_WAS...|  NON-CRIMINAL|12/31/14|Wednesday|      FOUND_PROPERTY|  150001774|  RICHMOND|15000200000000|      NONE|23:45| -122.448198|37.78988599|\n",
      "|3300_Block_of_WAS...|OTHER_OFFENSES|12/31/14|Wednesday|LOST/STOLEN_LICEN...|  150001774|  RICHMOND|15000200000000|      NONE|23:45| -122.448198|37.78988599|\n",
      "|2000_Block_of_LAG...| LARCENY/THEFT|12/31/14|Wednesday|PETTY_THEFT_OF_PR...|  156005734|  NORTHERN|15600600000000|      NONE|23:30|-122.4290689|37.78999681|\n",
      "|   CASTRO_ST/17TH_ST| LARCENY/THEFT|12/31/14|Wednesday| PETTY_THEFT_BICYCLE|  150001081|      PARK|15000100000000|      NONE|23:30|-122.4351877|37.76267028|\n",
      "|300_Block_of_POWE...| LARCENY/THEFT|12/31/14|Wednesday|LOST_PROPERTY/PET...|  150001780|   CENTRAL|15000200000000|      NONE|23:30|-122.4083843|37.78782711|\n",
      "+--------------------+--------------+--------+---------+--------------------+-----------+----------+--------------+----------+-----+------------+-----------+\n",
      "only showing top 10 rows\n",
      "\n"
     ]
    }
   ],
   "source": [
    "sfpdDF.filter(\"year(date) = 2014\").show(10)"
   ]
  },
  {
   "cell_type": "code",
   "execution_count": 300,
   "metadata": {
    "collapsed": false
   },
   "outputs": [
    {
     "data": {
      "text/plain": [
       "b'(2) PythonRDD[798] at RDD at PythonRDD.scala:43 []\\n |  MapPartitionsRDD[565] at textFile at null:-1 []\\n |  /resources/data/MaprDataFiles/sfpd.csv HadoopRDD[564] at textFile at null:-1 []'"
      ]
     },
     "execution_count": 300,
     "metadata": {},
     "output_type": "execute_result"
    }
   ],
   "source": [
    "sfpdRDD.toDebugString()"
   ]
  },
  {
   "cell_type": "code",
   "execution_count": 301,
   "metadata": {
    "collapsed": false
   },
   "outputs": [
    {
     "data": {
      "text/plain": [
       "b'(2) PythonRDD[798] at RDD at PythonRDD.scala:43 []\\n |  MapPartitionsRDD[565] at textFile at null:-1 []\\n |  /resources/data/MaprDataFiles/sfpd.csv HadoopRDD[564] at textFile at null:-1 []'"
      ]
     },
     "execution_count": 301,
     "metadata": {},
     "output_type": "execute_result"
    }
   ],
   "source": [
    "sfpdRDD.toDebugString()"
   ]
  },
  {
   "cell_type": "code",
   "execution_count": null,
   "metadata": {
    "collapsed": true
   },
   "outputs": [],
   "source": []
  }
 ],
 "metadata": {
  "kernelspec": {
   "display_name": "Python 3",
   "language": "python",
   "name": "python3"
  },
  "language_info": {
   "codemirror_mode": {
    "name": "ipython",
    "version": 3
   },
   "file_extension": ".py",
   "mimetype": "text/x-python",
   "name": "python",
   "nbconvert_exporter": "python",
   "pygments_lexer": "ipython3",
   "version": "3.4.3"
  },
  "widgets": {
   "state": {},
   "version": "1.1.2"
  }
 },
 "nbformat": 4,
 "nbformat_minor": 0
}
