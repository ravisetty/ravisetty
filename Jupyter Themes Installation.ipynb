{
 "cells": [
  {
   "cell_type": "markdown",
   "metadata": {},
   "source": [
    "# Jupyter Themes"
   ]
  },
  {
   "cell_type": "code",
   "execution_count": 2,
   "metadata": {
    "collapsed": false
   },
   "outputs": [
    {
     "name": "stdout",
     "output_type": "stream",
     "text": [
      "Collecting jupyterthemes\n",
      "  Downloading jupyterthemes-0.15.3-py2.py3-none-any.whl (8.1MB)\n",
      "\u001b[K    100% |████████████████████████████████| 8.1MB 120kB/s \n",
      "\u001b[?25hCollecting jupyter (from jupyterthemes)\n",
      "  Downloading jupyter-1.0.0-py2.py3-none-any.whl\n",
      "Collecting lesscpy>=0.12.0 (from jupyterthemes)\n",
      "  Downloading lesscpy-0.12.0-py2.py3-none-any.whl (48kB)\n",
      "\u001b[K    100% |████████████████████████████████| 51kB 6.7MB/s \n",
      "\u001b[?25hCollecting jupyter-core (from jupyterthemes)\n",
      "  Downloading jupyter_core-4.3.0-py2.py3-none-any.whl (76kB)\n",
      "\u001b[K    100% |████████████████████████████████| 81kB 8.1MB/s \n",
      "\u001b[?25hCollecting jupyter-console (from jupyter->jupyterthemes)\n",
      "  Downloading jupyter_console-5.1.0-py2.py3-none-any.whl\n",
      "Collecting nbconvert (from jupyter->jupyterthemes)\n",
      "  Downloading nbconvert-5.1.1-py2.py3-none-any.whl (372kB)\n",
      "\u001b[K    100% |████████████████████████████████| 378kB 2.7MB/s \n",
      "\u001b[?25hCollecting notebook (from jupyter->jupyterthemes)\n",
      "  Downloading notebook-5.0.0-py2.py3-none-any.whl (6.9MB)\n",
      "\u001b[K    100% |████████████████████████████████| 6.9MB 150kB/s \n",
      "\u001b[?25hCollecting ipykernel (from jupyter->jupyterthemes)\n",
      "  Downloading ipykernel-4.6.0-py3-none-any.whl (104kB)\n",
      "\u001b[K    100% |████████████████████████████████| 112kB 8.1MB/s \n",
      "\u001b[?25hCollecting ipywidgets (from jupyter->jupyterthemes)\n",
      "  Downloading ipywidgets-6.0.0-py2.py3-none-any.whl (46kB)\n",
      "\u001b[K    100% |████████████████████████████████| 51kB 8.3MB/s \n",
      "\u001b[?25hCollecting qtconsole (from jupyter->jupyterthemes)\n",
      "  Downloading qtconsole-4.3.0-py2.py3-none-any.whl (108kB)\n",
      "\u001b[K    100% |████████████████████████████████| 112kB 6.3MB/s \n",
      "\u001b[?25hCollecting ply (from lesscpy>=0.12.0->jupyterthemes)\n",
      "  Downloading ply-3.10.tar.gz (150kB)\n",
      "\u001b[K    100% |████████████████████████████████| 153kB 6.3MB/s \n",
      "\u001b[?25hRequirement already up-to-date: six in /usr/local/lib/python3.4/dist-packages (from lesscpy>=0.12.0->jupyterthemes)\n",
      "Collecting traitlets (from jupyter-core->jupyterthemes)\n",
      "  Downloading traitlets-4.3.2-py2.py3-none-any.whl (74kB)\n",
      "\u001b[K    100% |████████████████████████████████| 81kB 8.0MB/s \n",
      "\u001b[?25hCollecting prompt-toolkit<2.0.0,>=1.0.0 (from jupyter-console->jupyter->jupyterthemes)\n",
      "  Downloading prompt_toolkit-1.0.14-py3-none-any.whl (248kB)\n",
      "\u001b[K    100% |████████████████████████████████| 256kB 3.9MB/s \n",
      "\u001b[?25hCollecting ipython (from jupyter-console->jupyter->jupyterthemes)\n",
      "  Downloading ipython-5.3.0-py3-none-any.whl (750kB)\n",
      "\u001b[K    100% |████████████████████████████████| 757kB 1.4MB/s \n",
      "\u001b[?25hCollecting jupyter-client (from jupyter-console->jupyter->jupyterthemes)\n",
      "  Downloading jupyter_client-5.0.1-py2.py3-none-any.whl (83kB)\n",
      "\u001b[K    100% |████████████████████████████████| 92kB 9.1MB/s \n",
      "\u001b[?25hCollecting pygments (from jupyter-console->jupyter->jupyterthemes)\n",
      "  Downloading Pygments-2.2.0-py2.py3-none-any.whl (841kB)\n",
      "\u001b[K    100% |████████████████████████████████| 849kB 1.3MB/s \n",
      "\u001b[?25hRequirement already up-to-date: entrypoints>=0.2.2 in /usr/local/lib/python3.4/dist-packages (from nbconvert->jupyter->jupyterthemes)\n",
      "Collecting testpath (from nbconvert->jupyter->jupyterthemes)\n",
      "  Downloading testpath-0.3-py2.py3-none-any.whl (82kB)\n",
      "\u001b[K    100% |████████████████████████████████| 92kB 8.8MB/s \n",
      "\u001b[?25hCollecting bleach (from nbconvert->jupyter->jupyterthemes)\n",
      "  Downloading bleach-2.0.0-py2.py3-none-any.whl\n",
      "Collecting nbformat (from nbconvert->jupyter->jupyterthemes)\n",
      "  Downloading nbformat-4.3.0-py2.py3-none-any.whl (154kB)\n",
      "\u001b[K    100% |████████████████████████████████| 163kB 6.3MB/s \n",
      "\u001b[?25hCollecting jinja2 (from nbconvert->jupyter->jupyterthemes)\n",
      "  Downloading Jinja2-2.9.6-py2.py3-none-any.whl (340kB)\n",
      "\u001b[K    100% |████████████████████████████████| 348kB 5.0MB/s \n",
      "\u001b[?25hCollecting mistune!=0.6 (from nbconvert->jupyter->jupyterthemes)\n",
      "  Downloading mistune-0.7.4-py2.py3-none-any.whl\n",
      "Collecting pandocfilters>=1.4.1 (from nbconvert->jupyter->jupyterthemes)\n",
      "  Downloading pandocfilters-1.4.1.tar.gz\n",
      "Collecting tornado>=4 (from notebook->jupyter->jupyterthemes)\n",
      "  Downloading tornado-4.4.3.tar.gz (463kB)\n",
      "\u001b[K    100% |████████████████████████████████| 471kB 2.2MB/s \n",
      "\u001b[?25hRequirement already up-to-date: terminado>=0.3.3; sys_platform != \"win32\" in /usr/local/lib/python3.4/dist-packages (from notebook->jupyter->jupyterthemes)\n",
      "Collecting ipython-genutils (from notebook->jupyter->jupyterthemes)\n",
      "  Downloading ipython_genutils-0.2.0-py2.py3-none-any.whl\n",
      "Collecting widgetsnbextension~=2.0.0 (from ipywidgets->jupyter->jupyterthemes)\n",
      "  Downloading widgetsnbextension-2.0.0-py2.py3-none-any.whl (1.1MB)\n",
      "\u001b[K    100% |████████████████████████████████| 1.1MB 929kB/s \n",
      "\u001b[?25hCollecting decorator (from traitlets->jupyter-core->jupyterthemes)\n",
      "  Downloading decorator-4.0.11-py2.py3-none-any.whl\n",
      "Requirement already up-to-date: wcwidth in /usr/local/lib/python3.4/dist-packages (from prompt-toolkit<2.0.0,>=1.0.0->jupyter-console->jupyter->jupyterthemes)\n",
      "Collecting pexpect; sys_platform != \"win32\" (from ipython->jupyter-console->jupyter->jupyterthemes)\n",
      "  Downloading pexpect-4.2.1-py2.py3-none-any.whl (55kB)\n",
      "\u001b[K    100% |████████████████████████████████| 61kB 8.7MB/s \n",
      "\u001b[?25hRequirement already up-to-date: simplegeneric>0.8 in /usr/local/lib/python3.4/dist-packages (from ipython->jupyter-console->jupyter->jupyterthemes)\n",
      "Collecting setuptools>=18.5 (from ipython->jupyter-console->jupyter->jupyterthemes)\n",
      "  Downloading setuptools-34.4.0-py2.py3-none-any.whl (389kB)\n",
      "\u001b[K    100% |████████████████████████████████| 399kB 2.8MB/s \n",
      "\u001b[?25hCollecting pickleshare (from ipython->jupyter-console->jupyter->jupyterthemes)\n",
      "  Downloading pickleshare-0.7.4-py2.py3-none-any.whl\n",
      "Collecting pyzmq>=13 (from jupyter-client->jupyter-console->jupyter->jupyterthemes)\n",
      "  Downloading pyzmq-16.0.2-cp34-cp34m-manylinux1_x86_64.whl (3.1MB)\n",
      "\u001b[K    100% |████████████████████████████████| 3.1MB 352kB/s \n",
      "\u001b[?25hCollecting python-dateutil>=2.1 (from jupyter-client->jupyter-console->jupyter->jupyterthemes)\n",
      "  Downloading python_dateutil-2.6.0-py2.py3-none-any.whl (194kB)\n",
      "\u001b[K    100% |████████████████████████████████| 194kB 5.1MB/s \n",
      "\u001b[?25hCollecting html5lib>=0.99999999 (from bleach->nbconvert->jupyter->jupyterthemes)\n",
      "  Downloading html5lib-0.999999999-py2.py3-none-any.whl (112kB)\n",
      "\u001b[K    100% |████████████████████████████████| 122kB 8.2MB/s \n",
      "\u001b[?25hCollecting jsonschema!=2.5.0,>=2.4 (from nbformat->nbconvert->jupyter->jupyterthemes)\n",
      "  Downloading jsonschema-2.6.0-py2.py3-none-any.whl\n",
      "Collecting MarkupSafe>=0.23 (from jinja2->nbconvert->jupyter->jupyterthemes)\n",
      "  Downloading MarkupSafe-1.0.tar.gz\n",
      "Collecting backports_abc>=0.4 (from tornado>=4->notebook->jupyter->jupyterthemes)\n",
      "  Downloading backports_abc-0.5-py2.py3-none-any.whl\n",
      "Requirement already up-to-date: ptyprocess in /usr/local/lib/python3.4/dist-packages (from terminado>=0.3.3; sys_platform != \"win32\"->notebook->jupyter->jupyterthemes)\n",
      "Requirement already up-to-date: appdirs>=1.4.0 in /usr/local/lib/python3.4/dist-packages (from setuptools>=18.5->ipython->jupyter-console->jupyter->jupyterthemes)\n",
      "Requirement already up-to-date: packaging>=16.8 in /usr/local/lib/python3.4/dist-packages (from setuptools>=18.5->ipython->jupyter-console->jupyter->jupyterthemes)\n",
      "Collecting webencodings (from html5lib>=0.99999999->bleach->nbconvert->jupyter->jupyterthemes)\n",
      "  Downloading webencodings-0.5.1-py2.py3-none-any.whl\n",
      "Collecting pyparsing (from packaging>=16.8->setuptools>=18.5->ipython->jupyter-console->jupyter->jupyterthemes)\n",
      "  Downloading pyparsing-2.2.0-py2.py3-none-any.whl (56kB)\n",
      "\u001b[K    100% |████████████████████████████████| 61kB 7.9MB/s \n",
      "\u001b[?25hBuilding wheels for collected packages: ply, pandocfilters, tornado, MarkupSafe\n",
      "  Running setup.py bdist_wheel for ply ... \u001b[?25l-\b \b\\\b \bdone\n",
      "\u001b[?25h  Stored in directory: /home/notebook/.cache/pip/wheels/ad/dd/ad/8ce1991a7b380dfe23d6cc81a4de5c2775bc728b5a0a7721aa\n",
      "  Running setup.py bdist_wheel for pandocfilters ... \u001b[?25l-\b \bdone\n",
      "\u001b[?25h  Stored in directory: /home/notebook/.cache/pip/wheels/d4/01/68/49055c80b9f01ccb49241e73c8019628605064730941d70b56\n",
      "  Running setup.py bdist_wheel for tornado ... \u001b[?25l-\b \b\\\b \b|\b \bdone\n",
      "\u001b[?25h  Stored in directory: /home/notebook/.cache/pip/wheels/bd/47/45/96c0960fe258f9f56f0aa1b8469d2da6c551996b4897d91fed\n",
      "  Running setup.py bdist_wheel for MarkupSafe ... \u001b[?25l-\b \b\\\b \bdone\n",
      "\u001b[?25h  Stored in directory: /home/notebook/.cache/pip/wheels/88/a7/30/e39a54a87bcbe25308fa3ca64e8ddc75d9b3e5afa21ee32d57\n",
      "Successfully built ply pandocfilters tornado MarkupSafe\n",
      "Installing collected packages: prompt-toolkit, pexpect, setuptools, decorator, ipython-genutils, traitlets, pickleshare, pygments, ipython, backports-abc, tornado, pyzmq, jupyter-core, python-dateutil, jupyter-client, ipykernel, jupyter-console, testpath, webencodings, html5lib, bleach, jsonschema, nbformat, MarkupSafe, jinja2, mistune, pandocfilters, nbconvert, notebook, widgetsnbextension, ipywidgets, qtconsole, jupyter, ply, lesscpy, jupyterthemes, pyparsing\n",
      "  Found existing installation: prompt-toolkit 1.0.3\n",
      "    Not uninstalling prompt-toolkit at /usr/local/lib/python3.4/dist-packages, outside environment /resources/common/.virtualenv/python3\n",
      "  Found existing installation: pexpect 4.2.0\n",
      "    Not uninstalling pexpect at /usr/local/lib/python3.4/dist-packages, outside environment /resources/common/.virtualenv/python3\n",
      "  Found existing installation: setuptools 32.3.1\n",
      "    Uninstalling setuptools-32.3.1:\n",
      "      Successfully uninstalled setuptools-32.3.1\n",
      "  Found existing installation: decorator 4.0.10\n",
      "    Not uninstalling decorator at /usr/local/lib/python3.4/dist-packages, outside environment /resources/common/.virtualenv/python3\n",
      "  Found existing installation: ipython-genutils 0.1.0\n",
      "    Not uninstalling ipython-genutils at /usr/local/lib/python3.4/dist-packages, outside environment /resources/common/.virtualenv/python3\n",
      "  Found existing installation: traitlets 4.2.2\n",
      "    Not uninstalling traitlets at /usr/local/lib/python3.4/dist-packages, outside environment /resources/common/.virtualenv/python3\n",
      "  Found existing installation: pickleshare 0.7.2\n",
      "    Not uninstalling pickleshare at /usr/local/lib/python3.4/dist-packages, outside environment /resources/common/.virtualenv/python3\n",
      "  Found existing installation: Pygments 2.1.3\n",
      "    Not uninstalling pygments at /usr/local/lib/python3.4/dist-packages, outside environment /resources/common/.virtualenv/python3\n",
      "  Found existing installation: ipython 5.0.0\n",
      "    Not uninstalling ipython at /usr/local/lib/python3.4/dist-packages, outside environment /resources/common/.virtualenv/python3\n",
      "  Found existing installation: backports-abc 0.4\n",
      "    Not uninstalling backports-abc at /usr/local/lib/python3.4/dist-packages, outside environment /resources/common/.virtualenv/python3\n",
      "  Found existing installation: tornado 4.4.1\n",
      "    Not uninstalling tornado at /usr/local/lib/python3.4/dist-packages, outside environment /resources/common/.virtualenv/python3\n",
      "  Found existing installation: pyzmq 15.3.0\n",
      "    Not uninstalling pyzmq at /usr/local/lib/python3.4/dist-packages, outside environment /resources/common/.virtualenv/python3\n",
      "  Found existing installation: jupyter-core 4.1.0\n",
      "    Not uninstalling jupyter-core at /usr/local/lib/python3.4/dist-packages, outside environment /resources/common/.virtualenv/python3\n",
      "  Found existing installation: python-dateutil 2.5.3\n",
      "    Not uninstalling python-dateutil at /usr/local/lib/python3.4/dist-packages, outside environment /resources/common/.virtualenv/python3\n",
      "  Found existing installation: jupyter-client 4.3.0\n",
      "    Not uninstalling jupyter-client at /usr/local/lib/python3.4/dist-packages, outside environment /resources/common/.virtualenv/python3\n",
      "  Found existing installation: ipykernel 4.3.1\n",
      "    Not uninstalling ipykernel at /usr/local/lib/python3.4/dist-packages, outside environment /resources/common/.virtualenv/python3\n",
      "  Found existing installation: html5lib 0.999\n",
      "    Not uninstalling html5lib at /usr/lib/python3/dist-packages, outside environment /resources/common/.virtualenv/python3\n",
      "  Found existing installation: jsonschema 2.5.1\n",
      "    Not uninstalling jsonschema at /usr/local/lib/python3.4/dist-packages, outside environment /resources/common/.virtualenv/python3\n",
      "  Found existing installation: nbformat 4.0.1\n",
      "    Not uninstalling nbformat at /usr/local/lib/python3.4/dist-packages, outside environment /resources/common/.virtualenv/python3\n",
      "  Found existing installation: MarkupSafe 0.23\n",
      "    Not uninstalling markupsafe at /usr/local/lib/python3.4/dist-packages, outside environment /resources/common/.virtualenv/python3\n",
      "  Found existing installation: Jinja2 2.8\n",
      "    Not uninstalling jinja2 at /usr/local/lib/python3.4/dist-packages, outside environment /resources/common/.virtualenv/python3\n",
      "  Found existing installation: mistune 0.7.3\n",
      "    Not uninstalling mistune at /usr/local/lib/python3.4/dist-packages, outside environment /resources/common/.virtualenv/python3\n",
      "  Found existing installation: nbconvert 4.2.0\n",
      "    Not uninstalling nbconvert at /usr/local/lib/python3.4/dist-packages, outside environment /resources/common/.virtualenv/python3\n",
      "  Found existing installation: notebook 4.2.1\n",
      "    Not uninstalling notebook at /usr/local/lib/python3.4/dist-packages, outside environment /resources/common/.virtualenv/python3\n",
      "  Found existing installation: widgetsnbextension 1.2.3\n",
      "    Not uninstalling widgetsnbextension at /usr/local/lib/python3.4/dist-packages, outside environment /resources/common/.virtualenv/python3\n",
      "  Found existing installation: ipywidgets 5.1.5\n",
      "    Not uninstalling ipywidgets at /usr/local/lib/python3.4/dist-packages, outside environment /resources/common/.virtualenv/python3\n",
      "  Found existing installation: pyparsing 2.1.5\n",
      "    Not uninstalling pyparsing at /usr/local/lib/python3.4/dist-packages, outside environment /resources/common/.virtualenv/python3\n",
      "Successfully installed MarkupSafe-1.0 backports-abc-0.5 bleach-2.0.0 decorator-4.0.11 html5lib-0.999999999 ipykernel-4.6.0 ipython-5.3.0 ipython-genutils-0.2.0 ipywidgets-6.0.0 jinja2-2.9.6 jsonschema-2.6.0 jupyter-1.0.0 jupyter-client-5.0.1 jupyter-console-5.1.0 jupyter-core-4.3.0 jupyterthemes-0.15.3 lesscpy-0.12.0 mistune-0.7.4 nbconvert-5.1.1 nbformat-4.3.0 notebook-5.0.0 pandocfilters-1.4.1 pexpect-4.2.1 pickleshare-0.7.4 ply-3.10 prompt-toolkit-1.0.14 pygments-2.2.0 pyparsing-2.2.0 python-dateutil-2.6.0 pyzmq-16.0.2 qtconsole-4.3.0 setuptools-34.4.0 testpath-0.3 tornado-4.4.3 traitlets-4.3.2 webencodings-0.5.1 widgetsnbextension-2.0.0\n"
     ]
    }
   ],
   "source": [
    "!pip install --upgrade jupyterthemes"
   ]
  },
  {
   "cell_type": "code",
   "execution_count": 3,
   "metadata": {
    "collapsed": false
   },
   "outputs": [
    {
     "name": "stdout",
     "output_type": "stream",
     "text": [
      "Available Themes: \r\n",
      "   grade3\r\n",
      "   solarized-light\r\n",
      "   solarizedl\r\n",
      "   chesterish\r\n",
      "   monokai\r\n",
      "   onedork\r\n",
      "   oceans16\r\n",
      "   solarized-light\r\n"
     ]
    }
   ],
   "source": [
    "!jt -l"
   ]
  },
  {
   "cell_type": "code",
   "execution_count": 22,
   "metadata": {
    "collapsed": true
   },
   "outputs": [],
   "source": [
    "!jt -t chesterish -T -N -alt -altp"
   ]
  },
  {
   "cell_type": "code",
   "execution_count": 7,
   "metadata": {
    "collapsed": false
   },
   "outputs": [],
   "source": [
    "# import jtplot\n",
    "from jupyterthemes import jtplot"
   ]
  },
  {
   "cell_type": "code",
   "execution_count": 21,
   "metadata": {
    "collapsed": false
   },
   "outputs": [],
   "source": [
    "!jt -t onedork -T -N"
   ]
  },
  {
   "cell_type": "code",
   "execution_count": null,
   "metadata": {
    "collapsed": true
   },
   "outputs": [],
   "source": [
    "# uninstall any existing versions\n",
    "pip uninstall jupyterthemes\n",
    "# install from the github repo\n",
    "pip install --user git+https://github.com/dunovank/jupyter-themes.git"
   ]
  },
  {
   "cell_type": "code",
   "execution_count": null,
   "metadata": {
    "collapsed": true
   },
   "outputs": [],
   "source": [
    "# list available themes\n",
    "# oceans16 | grade3 | chesterish | onedork | monokai | solarizedl\n",
    "jt -l\n",
    "\n",
    "# select theme...\n",
    "jt -t chesterish\n",
    "\n",
    "# restore default theme\n",
    "# NOTE: Need to delete browser cache after running jt -r\n",
    "# If this doesn't work, try starting a new notebook session.\n",
    "jt -r\n",
    "\n",
    "# toggle toolbar ON and notebook name ON\n",
    "jt -t grade3 -T -N\n",
    "\n",
    "# set code font to 'Roboto Mono' 12pt\n",
    "# (see monospace font table below)\n",
    "jt -t oceans16 -f roboto -fs 12\n",
    "\n",
    "# set code font to Fira Mono, 11.5pt\n",
    "# 3digit font-size gets converted into float (115-->11.5)\n",
    "jt -t grade3 -f fira -fs 115\n",
    "\n",
    "# set text-cell/markdown and notebook fonts\n",
    "# (see sans-serif & serif font tables below)\n",
    "jt -t onedork -tf georgiaserif -nf droidsans\n",
    "\n",
    "# adjust cell width, line-height of codecells\n",
    "jt -t chesterish -cellw 900 -lineh 170\n",
    "\n",
    "# fix the container-margins on the intro page (defaults to 'auto')\n",
    "jt -t onedork -m 200\n",
    "\n",
    "# adjust cursor width (in px) and make cursor red (r)\n",
    "# options: b (blue), o (orange), r (red), p (purple), g (green), x (font color)\n",
    "jt -t grade3 -cursc r -cursw 5\n",
    "\n",
    "# toggle toolbar ON and notebook name ON\n",
    "jt -t grade3 -T -N\n",
    "\n",
    "# choose alternate txt/markdown layout (-alt)\n",
    "# and alternate cell prompt (narrow, no numbers)\n",
    "jt -t grade3 -alt -altp"
   ]
  },
  {
   "cell_type": "code",
   "execution_count": null,
   "metadata": {
    "collapsed": true
   },
   "outputs": [],
   "source": []
  },
  {
   "cell_type": "code",
   "execution_count": null,
   "metadata": {
    "collapsed": true
   },
   "outputs": [],
   "source": []
  },
  {
   "cell_type": "code",
   "execution_count": null,
   "metadata": {
    "collapsed": true
   },
   "outputs": [],
   "source": []
  },
  {
   "cell_type": "code",
   "execution_count": null,
   "metadata": {
    "collapsed": true
   },
   "outputs": [],
   "source": []
  }
 ],
 "metadata": {
  "kernelspec": {
   "display_name": "Python 3",
   "language": "python",
   "name": "python3"
  },
  "language_info": {
   "codemirror_mode": {
    "name": "ipython",
    "version": 3
   },
   "file_extension": ".py",
   "mimetype": "text/x-python",
   "name": "python",
   "nbconvert_exporter": "python",
   "pygments_lexer": "ipython3",
   "version": "3.4.3"
  },
  "widgets": {
   "state": {},
   "version": "1.1.2"
  }
 },
 "nbformat": 4,
 "nbformat_minor": 0
}
